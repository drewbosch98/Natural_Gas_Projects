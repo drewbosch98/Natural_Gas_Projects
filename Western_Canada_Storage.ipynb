{
 "cells": [
  {
   "cell_type": "code",
   "execution_count": 221,
   "metadata": {},
   "outputs": [],
   "source": [
    "import pandas as pd \n",
    "import numpy as np \n",
    "import seaborn as sns\n",
    "import chart_studio.plotly as py\n",
    "import plotly.express as px\n",
    "from datetime import datetime\n",
    "import os"
   ]
  },
  {
   "cell_type": "code",
   "execution_count": 222,
   "metadata": {},
   "outputs": [],
   "source": [
    "df = pd.read_csv(r'C:\\Users\\drewv\\OneDrive - University of Calgary\\Drew_HardDrive\\Documents\\Repositories\\Natural_Gas_Projects\\Canada Storagee Data\\25100057.csv')"
   ]
  },
  {
   "cell_type": "code",
   "execution_count": 223,
   "metadata": {},
   "outputs": [
    {
     "data": {
      "text/html": [
       "<div>\n",
       "<style scoped>\n",
       "    .dataframe tbody tr th:only-of-type {\n",
       "        vertical-align: middle;\n",
       "    }\n",
       "\n",
       "    .dataframe tbody tr th {\n",
       "        vertical-align: top;\n",
       "    }\n",
       "\n",
       "    .dataframe thead th {\n",
       "        text-align: right;\n",
       "    }\n",
       "</style>\n",
       "<table border=\"1\" class=\"dataframe\">\n",
       "  <thead>\n",
       "    <tr style=\"text-align: right;\">\n",
       "      <th></th>\n",
       "      <th>REF_DATE</th>\n",
       "      <th>GEO</th>\n",
       "      <th>DGUID</th>\n",
       "      <th>Storage</th>\n",
       "      <th>Statistics</th>\n",
       "      <th>UOM</th>\n",
       "      <th>UOM_ID</th>\n",
       "      <th>SCALAR_FACTOR</th>\n",
       "      <th>SCALAR_ID</th>\n",
       "      <th>VECTOR</th>\n",
       "      <th>COORDINATE</th>\n",
       "      <th>VALUE</th>\n",
       "      <th>STATUS</th>\n",
       "      <th>SYMBOL</th>\n",
       "      <th>TERMINATED</th>\n",
       "      <th>DECIMALS</th>\n",
       "    </tr>\n",
       "  </thead>\n",
       "  <tbody>\n",
       "    <tr>\n",
       "      <th>0</th>\n",
       "      <td>2016-01</td>\n",
       "      <td>Canada</td>\n",
       "      <td>2016A000011124</td>\n",
       "      <td>Opening inventory</td>\n",
       "      <td>Cubic metres</td>\n",
       "      <td>Cubic metres</td>\n",
       "      <td>72</td>\n",
       "      <td>thousands</td>\n",
       "      <td>3</td>\n",
       "      <td>v107028596</td>\n",
       "      <td>1.1.1</td>\n",
       "      <td>25095630.0</td>\n",
       "      <td>NaN</td>\n",
       "      <td>NaN</td>\n",
       "      <td>NaN</td>\n",
       "      <td>1</td>\n",
       "    </tr>\n",
       "    <tr>\n",
       "      <th>1</th>\n",
       "      <td>2016-01</td>\n",
       "      <td>Canada</td>\n",
       "      <td>2016A000011124</td>\n",
       "      <td>Opening inventory</td>\n",
       "      <td>Gigajoules</td>\n",
       "      <td>Gigajoules</td>\n",
       "      <td>143</td>\n",
       "      <td>thousands</td>\n",
       "      <td>3</td>\n",
       "      <td>v107028597</td>\n",
       "      <td>1.1.2</td>\n",
       "      <td>985574.5</td>\n",
       "      <td>NaN</td>\n",
       "      <td>NaN</td>\n",
       "      <td>NaN</td>\n",
       "      <td>1</td>\n",
       "    </tr>\n",
       "    <tr>\n",
       "      <th>2</th>\n",
       "      <td>2016-01</td>\n",
       "      <td>Canada</td>\n",
       "      <td>2016A000011124</td>\n",
       "      <td>Closing inventory</td>\n",
       "      <td>Cubic metres</td>\n",
       "      <td>Cubic metres</td>\n",
       "      <td>72</td>\n",
       "      <td>thousands</td>\n",
       "      <td>3</td>\n",
       "      <td>v107028598</td>\n",
       "      <td>1.2.1</td>\n",
       "      <td>22220401.0</td>\n",
       "      <td>NaN</td>\n",
       "      <td>NaN</td>\n",
       "      <td>NaN</td>\n",
       "      <td>1</td>\n",
       "    </tr>\n",
       "    <tr>\n",
       "      <th>3</th>\n",
       "      <td>2016-01</td>\n",
       "      <td>Canada</td>\n",
       "      <td>2016A000011124</td>\n",
       "      <td>Closing inventory</td>\n",
       "      <td>Gigajoules</td>\n",
       "      <td>Gigajoules</td>\n",
       "      <td>143</td>\n",
       "      <td>thousands</td>\n",
       "      <td>3</td>\n",
       "      <td>v107028599</td>\n",
       "      <td>1.2.2</td>\n",
       "      <td>868621.5</td>\n",
       "      <td>NaN</td>\n",
       "      <td>NaN</td>\n",
       "      <td>NaN</td>\n",
       "      <td>1</td>\n",
       "    </tr>\n",
       "    <tr>\n",
       "      <th>4</th>\n",
       "      <td>2016-01</td>\n",
       "      <td>Canada</td>\n",
       "      <td>2016A000011124</td>\n",
       "      <td>Inventory change</td>\n",
       "      <td>Cubic metres</td>\n",
       "      <td>Cubic metres</td>\n",
       "      <td>72</td>\n",
       "      <td>thousands</td>\n",
       "      <td>3</td>\n",
       "      <td>v107028600</td>\n",
       "      <td>1.3.1</td>\n",
       "      <td>-2875229.0</td>\n",
       "      <td>NaN</td>\n",
       "      <td>NaN</td>\n",
       "      <td>NaN</td>\n",
       "      <td>1</td>\n",
       "    </tr>\n",
       "  </tbody>\n",
       "</table>\n",
       "</div>"
      ],
      "text/plain": [
       "  REF_DATE     GEO           DGUID            Storage    Statistics  \\\n",
       "0  2016-01  Canada  2016A000011124  Opening inventory  Cubic metres   \n",
       "1  2016-01  Canada  2016A000011124  Opening inventory    Gigajoules   \n",
       "2  2016-01  Canada  2016A000011124  Closing inventory  Cubic metres   \n",
       "3  2016-01  Canada  2016A000011124  Closing inventory    Gigajoules   \n",
       "4  2016-01  Canada  2016A000011124   Inventory change  Cubic metres   \n",
       "\n",
       "            UOM  UOM_ID SCALAR_FACTOR  SCALAR_ID      VECTOR COORDINATE  \\\n",
       "0  Cubic metres      72     thousands          3  v107028596      1.1.1   \n",
       "1    Gigajoules     143     thousands          3  v107028597      1.1.2   \n",
       "2  Cubic metres      72     thousands          3  v107028598      1.2.1   \n",
       "3    Gigajoules     143     thousands          3  v107028599      1.2.2   \n",
       "4  Cubic metres      72     thousands          3  v107028600      1.3.1   \n",
       "\n",
       "        VALUE  STATUS  SYMBOL  TERMINATED  DECIMALS  \n",
       "0  25095630.0     NaN     NaN         NaN         1  \n",
       "1    985574.5     NaN     NaN         NaN         1  \n",
       "2  22220401.0     NaN     NaN         NaN         1  \n",
       "3    868621.5     NaN     NaN         NaN         1  \n",
       "4  -2875229.0     NaN     NaN         NaN         1  "
      ]
     },
     "execution_count": 223,
     "metadata": {},
     "output_type": "execute_result"
    }
   ],
   "source": [
    "df.head()"
   ]
  },
  {
   "cell_type": "code",
   "execution_count": 224,
   "metadata": {},
   "outputs": [
    {
     "data": {
      "text/html": [
       "<div>\n",
       "<style scoped>\n",
       "    .dataframe tbody tr th:only-of-type {\n",
       "        vertical-align: middle;\n",
       "    }\n",
       "\n",
       "    .dataframe tbody tr th {\n",
       "        vertical-align: top;\n",
       "    }\n",
       "\n",
       "    .dataframe thead th {\n",
       "        text-align: right;\n",
       "    }\n",
       "</style>\n",
       "<table border=\"1\" class=\"dataframe\">\n",
       "  <thead>\n",
       "    <tr style=\"text-align: right;\">\n",
       "      <th></th>\n",
       "      <th>REF_DATE</th>\n",
       "      <th>GEO</th>\n",
       "      <th>DGUID</th>\n",
       "      <th>Storage</th>\n",
       "      <th>Statistics</th>\n",
       "      <th>UOM</th>\n",
       "      <th>UOM_ID</th>\n",
       "      <th>SCALAR_FACTOR</th>\n",
       "      <th>SCALAR_ID</th>\n",
       "      <th>VECTOR</th>\n",
       "      <th>COORDINATE</th>\n",
       "      <th>VALUE</th>\n",
       "      <th>STATUS</th>\n",
       "      <th>SYMBOL</th>\n",
       "      <th>TERMINATED</th>\n",
       "      <th>DECIMALS</th>\n",
       "      <th>MMBtu</th>\n",
       "    </tr>\n",
       "  </thead>\n",
       "  <tbody>\n",
       "    <tr>\n",
       "      <th>49</th>\n",
       "      <td>2016-01</td>\n",
       "      <td>Alberta</td>\n",
       "      <td>2016A000248</td>\n",
       "      <td>Opening inventory</td>\n",
       "      <td>Gigajoules</td>\n",
       "      <td>Gigajoules</td>\n",
       "      <td>143</td>\n",
       "      <td>thousands</td>\n",
       "      <td>3</td>\n",
       "      <td>v107028645</td>\n",
       "      <td>5.1.2</td>\n",
       "      <td>564888.6</td>\n",
       "      <td>NaN</td>\n",
       "      <td>NaN</td>\n",
       "      <td>NaN</td>\n",
       "      <td>1</td>\n",
       "      <td>534998.247890</td>\n",
       "    </tr>\n",
       "    <tr>\n",
       "      <th>51</th>\n",
       "      <td>2016-01</td>\n",
       "      <td>Alberta</td>\n",
       "      <td>2016A000248</td>\n",
       "      <td>Closing inventory</td>\n",
       "      <td>Gigajoules</td>\n",
       "      <td>Gigajoules</td>\n",
       "      <td>143</td>\n",
       "      <td>thousands</td>\n",
       "      <td>3</td>\n",
       "      <td>v107028647</td>\n",
       "      <td>5.2.2</td>\n",
       "      <td>531036.8</td>\n",
       "      <td>NaN</td>\n",
       "      <td>NaN</td>\n",
       "      <td>NaN</td>\n",
       "      <td>1</td>\n",
       "      <td>502937.672251</td>\n",
       "    </tr>\n",
       "    <tr>\n",
       "      <th>53</th>\n",
       "      <td>2016-01</td>\n",
       "      <td>Alberta</td>\n",
       "      <td>2016A000248</td>\n",
       "      <td>Inventory change</td>\n",
       "      <td>Gigajoules</td>\n",
       "      <td>Gigajoules</td>\n",
       "      <td>143</td>\n",
       "      <td>thousands</td>\n",
       "      <td>3</td>\n",
       "      <td>v107028649</td>\n",
       "      <td>5.3.2</td>\n",
       "      <td>-24470.5</td>\n",
       "      <td>NaN</td>\n",
       "      <td>NaN</td>\n",
       "      <td>NaN</td>\n",
       "      <td>1</td>\n",
       "      <td>-23175.675036</td>\n",
       "    </tr>\n",
       "    <tr>\n",
       "      <th>61</th>\n",
       "      <td>2016-01</td>\n",
       "      <td>British Columbia</td>\n",
       "      <td>2016A000259</td>\n",
       "      <td>Opening inventory</td>\n",
       "      <td>Gigajoules</td>\n",
       "      <td>Gigajoules</td>\n",
       "      <td>143</td>\n",
       "      <td>thousands</td>\n",
       "      <td>3</td>\n",
       "      <td>v107028657</td>\n",
       "      <td>6.1.2</td>\n",
       "      <td>58352.4</td>\n",
       "      <td>NaN</td>\n",
       "      <td>NaN</td>\n",
       "      <td>NaN</td>\n",
       "      <td>1</td>\n",
       "      <td>55264.757972</td>\n",
       "    </tr>\n",
       "    <tr>\n",
       "      <th>63</th>\n",
       "      <td>2016-01</td>\n",
       "      <td>British Columbia</td>\n",
       "      <td>2016A000259</td>\n",
       "      <td>Closing inventory</td>\n",
       "      <td>Gigajoules</td>\n",
       "      <td>Gigajoules</td>\n",
       "      <td>143</td>\n",
       "      <td>thousands</td>\n",
       "      <td>3</td>\n",
       "      <td>v107028659</td>\n",
       "      <td>6.2.2</td>\n",
       "      <td>48562.0</td>\n",
       "      <td>NaN</td>\n",
       "      <td>NaN</td>\n",
       "      <td>NaN</td>\n",
       "      <td>1</td>\n",
       "      <td>45992.404368</td>\n",
       "    </tr>\n",
       "    <tr>\n",
       "      <th>...</th>\n",
       "      <td>...</td>\n",
       "      <td>...</td>\n",
       "      <td>...</td>\n",
       "      <td>...</td>\n",
       "      <td>...</td>\n",
       "      <td>...</td>\n",
       "      <td>...</td>\n",
       "      <td>...</td>\n",
       "      <td>...</td>\n",
       "      <td>...</td>\n",
       "      <td>...</td>\n",
       "      <td>...</td>\n",
       "      <td>...</td>\n",
       "      <td>...</td>\n",
       "      <td>...</td>\n",
       "      <td>...</td>\n",
       "      <td>...</td>\n",
       "    </tr>\n",
       "    <tr>\n",
       "      <th>6531</th>\n",
       "      <td>2023-07</td>\n",
       "      <td>Alberta</td>\n",
       "      <td>2016A000248</td>\n",
       "      <td>Closing inventory</td>\n",
       "      <td>Gigajoules</td>\n",
       "      <td>Gigajoules</td>\n",
       "      <td>143</td>\n",
       "      <td>thousands</td>\n",
       "      <td>3</td>\n",
       "      <td>v107028647</td>\n",
       "      <td>5.2.2</td>\n",
       "      <td>510614.3</td>\n",
       "      <td>NaN</td>\n",
       "      <td>NaN</td>\n",
       "      <td>NaN</td>\n",
       "      <td>1</td>\n",
       "      <td>483595.802514</td>\n",
       "    </tr>\n",
       "    <tr>\n",
       "      <th>6533</th>\n",
       "      <td>2023-07</td>\n",
       "      <td>Alberta</td>\n",
       "      <td>2016A000248</td>\n",
       "      <td>Inventory change</td>\n",
       "      <td>Gigajoules</td>\n",
       "      <td>Gigajoules</td>\n",
       "      <td>143</td>\n",
       "      <td>thousands</td>\n",
       "      <td>3</td>\n",
       "      <td>v107028649</td>\n",
       "      <td>5.3.2</td>\n",
       "      <td>37548.3</td>\n",
       "      <td>NaN</td>\n",
       "      <td>NaN</td>\n",
       "      <td>NaN</td>\n",
       "      <td>1</td>\n",
       "      <td>35561.480106</td>\n",
       "    </tr>\n",
       "    <tr>\n",
       "      <th>6541</th>\n",
       "      <td>2023-07</td>\n",
       "      <td>British Columbia</td>\n",
       "      <td>2016A000259</td>\n",
       "      <td>Opening inventory</td>\n",
       "      <td>Gigajoules</td>\n",
       "      <td>Gigajoules</td>\n",
       "      <td>143</td>\n",
       "      <td>thousands</td>\n",
       "      <td>3</td>\n",
       "      <td>v107028657</td>\n",
       "      <td>6.1.2</td>\n",
       "      <td>34318.0</td>\n",
       "      <td>NaN</td>\n",
       "      <td>NaN</td>\n",
       "      <td>NaN</td>\n",
       "      <td>1</td>\n",
       "      <td>32502.107267</td>\n",
       "    </tr>\n",
       "    <tr>\n",
       "      <th>6543</th>\n",
       "      <td>2023-07</td>\n",
       "      <td>British Columbia</td>\n",
       "      <td>2016A000259</td>\n",
       "      <td>Closing inventory</td>\n",
       "      <td>Gigajoules</td>\n",
       "      <td>Gigajoules</td>\n",
       "      <td>143</td>\n",
       "      <td>thousands</td>\n",
       "      <td>3</td>\n",
       "      <td>v107028659</td>\n",
       "      <td>6.2.2</td>\n",
       "      <td>48843.1</td>\n",
       "      <td>NaN</td>\n",
       "      <td>NaN</td>\n",
       "      <td>NaN</td>\n",
       "      <td>1</td>\n",
       "      <td>46258.630324</td>\n",
       "    </tr>\n",
       "    <tr>\n",
       "      <th>6545</th>\n",
       "      <td>2023-07</td>\n",
       "      <td>British Columbia</td>\n",
       "      <td>2016A000259</td>\n",
       "      <td>Inventory change</td>\n",
       "      <td>Gigajoules</td>\n",
       "      <td>Gigajoules</td>\n",
       "      <td>143</td>\n",
       "      <td>thousands</td>\n",
       "      <td>3</td>\n",
       "      <td>v107028661</td>\n",
       "      <td>6.3.2</td>\n",
       "      <td>14525.0</td>\n",
       "      <td>NaN</td>\n",
       "      <td>NaN</td>\n",
       "      <td>NaN</td>\n",
       "      <td>1</td>\n",
       "      <td>13756.428348</td>\n",
       "    </tr>\n",
       "  </tbody>\n",
       "</table>\n",
       "<p>546 rows × 17 columns</p>\n",
       "</div>"
      ],
      "text/plain": [
       "     REF_DATE               GEO        DGUID            Storage  Statistics  \\\n",
       "49    2016-01           Alberta  2016A000248  Opening inventory  Gigajoules   \n",
       "51    2016-01           Alberta  2016A000248  Closing inventory  Gigajoules   \n",
       "53    2016-01           Alberta  2016A000248   Inventory change  Gigajoules   \n",
       "61    2016-01  British Columbia  2016A000259  Opening inventory  Gigajoules   \n",
       "63    2016-01  British Columbia  2016A000259  Closing inventory  Gigajoules   \n",
       "...       ...               ...          ...                ...         ...   \n",
       "6531  2023-07           Alberta  2016A000248  Closing inventory  Gigajoules   \n",
       "6533  2023-07           Alberta  2016A000248   Inventory change  Gigajoules   \n",
       "6541  2023-07  British Columbia  2016A000259  Opening inventory  Gigajoules   \n",
       "6543  2023-07  British Columbia  2016A000259  Closing inventory  Gigajoules   \n",
       "6545  2023-07  British Columbia  2016A000259   Inventory change  Gigajoules   \n",
       "\n",
       "             UOM  UOM_ID SCALAR_FACTOR  SCALAR_ID      VECTOR COORDINATE  \\\n",
       "49    Gigajoules     143     thousands          3  v107028645      5.1.2   \n",
       "51    Gigajoules     143     thousands          3  v107028647      5.2.2   \n",
       "53    Gigajoules     143     thousands          3  v107028649      5.3.2   \n",
       "61    Gigajoules     143     thousands          3  v107028657      6.1.2   \n",
       "63    Gigajoules     143     thousands          3  v107028659      6.2.2   \n",
       "...          ...     ...           ...        ...         ...        ...   \n",
       "6531  Gigajoules     143     thousands          3  v107028647      5.2.2   \n",
       "6533  Gigajoules     143     thousands          3  v107028649      5.3.2   \n",
       "6541  Gigajoules     143     thousands          3  v107028657      6.1.2   \n",
       "6543  Gigajoules     143     thousands          3  v107028659      6.2.2   \n",
       "6545  Gigajoules     143     thousands          3  v107028661      6.3.2   \n",
       "\n",
       "         VALUE  STATUS  SYMBOL  TERMINATED  DECIMALS          MMBtu  \n",
       "49    564888.6     NaN     NaN         NaN         1  534998.247890  \n",
       "51    531036.8     NaN     NaN         NaN         1  502937.672251  \n",
       "53    -24470.5     NaN     NaN         NaN         1  -23175.675036  \n",
       "61     58352.4     NaN     NaN         NaN         1   55264.757972  \n",
       "63     48562.0     NaN     NaN         NaN         1   45992.404368  \n",
       "...        ...     ...     ...         ...       ...            ...  \n",
       "6531  510614.3     NaN     NaN         NaN         1  483595.802514  \n",
       "6533   37548.3     NaN     NaN         NaN         1   35561.480106  \n",
       "6541   34318.0     NaN     NaN         NaN         1   32502.107267  \n",
       "6543   48843.1     NaN     NaN         NaN         1   46258.630324  \n",
       "6545   14525.0     NaN     NaN         NaN         1   13756.428348  \n",
       "\n",
       "[546 rows x 17 columns]"
      ]
     },
     "execution_count": 224,
     "metadata": {},
     "output_type": "execute_result"
    }
   ],
   "source": [
    "#Grouping Data to just Alberta and BC\n",
    "df_copy = df.copy()\n",
    "df_copy = df_copy[(df_copy[\"GEO\"]==\"Alberta\") | (df_copy[\"GEO\"]==\"British Columbia\")]\n",
    "\n",
    "#Now just filter to just have it where its Gigajoules \n",
    "df_copy = df_copy[df_copy[\"UOM\"] == \"Gigajoules\"]\n",
    "\n",
    "#Coverting to MMBTU to Match AB Storage\n",
    "df_copy[\"MMBtu\"] = df_copy[\"VALUE\"] * 0.94708628903179 \n",
    "\n",
    "\n",
    "#Filtering out reduntant storage information \n",
    "df_copy = df_copy = df_copy[(df_copy[\"Storage\"]!=\"Other adjustments\") & (df_copy[\"Storage\"]!=\"Injections to storage\") & (df_copy[\"Storage\"]!=\"Withdrawals from storage\") ]\n",
    "df_copy"
   ]
  },
  {
   "cell_type": "code",
   "execution_count": 225,
   "metadata": {},
   "outputs": [],
   "source": [
    "#lets make this a facet graph to show \n",
    "df_alberta = df_copy[df_copy[\"GEO\"]==\"Alberta\"]\n",
    "df_bc = df_copy[df_copy[\"GEO\"]==\"British Columbia\"]"
   ]
  },
  {
   "cell_type": "code",
   "execution_count": 226,
   "metadata": {},
   "outputs": [
    {
     "data": {
      "text/html": [
       "<div>\n",
       "<style scoped>\n",
       "    .dataframe tbody tr th:only-of-type {\n",
       "        vertical-align: middle;\n",
       "    }\n",
       "\n",
       "    .dataframe tbody tr th {\n",
       "        vertical-align: top;\n",
       "    }\n",
       "\n",
       "    .dataframe thead th {\n",
       "        text-align: right;\n",
       "    }\n",
       "</style>\n",
       "<table border=\"1\" class=\"dataframe\">\n",
       "  <thead>\n",
       "    <tr style=\"text-align: right;\">\n",
       "      <th></th>\n",
       "      <th>REF_DATE</th>\n",
       "      <th>GEO</th>\n",
       "      <th>DGUID</th>\n",
       "      <th>Storage</th>\n",
       "      <th>Statistics</th>\n",
       "      <th>UOM</th>\n",
       "      <th>UOM_ID</th>\n",
       "      <th>SCALAR_FACTOR</th>\n",
       "      <th>SCALAR_ID</th>\n",
       "      <th>VECTOR</th>\n",
       "      <th>COORDINATE</th>\n",
       "      <th>VALUE</th>\n",
       "      <th>STATUS</th>\n",
       "      <th>SYMBOL</th>\n",
       "      <th>TERMINATED</th>\n",
       "      <th>DECIMALS</th>\n",
       "      <th>MMBtu</th>\n",
       "    </tr>\n",
       "  </thead>\n",
       "  <tbody>\n",
       "    <tr>\n",
       "      <th>49</th>\n",
       "      <td>2016-01</td>\n",
       "      <td>Alberta</td>\n",
       "      <td>2016A000248</td>\n",
       "      <td>Opening inventory</td>\n",
       "      <td>Gigajoules</td>\n",
       "      <td>Gigajoules</td>\n",
       "      <td>143</td>\n",
       "      <td>thousands</td>\n",
       "      <td>3</td>\n",
       "      <td>v107028645</td>\n",
       "      <td>5.1.2</td>\n",
       "      <td>564888.6</td>\n",
       "      <td>NaN</td>\n",
       "      <td>NaN</td>\n",
       "      <td>NaN</td>\n",
       "      <td>1</td>\n",
       "      <td>534998.247890</td>\n",
       "    </tr>\n",
       "    <tr>\n",
       "      <th>51</th>\n",
       "      <td>2016-01</td>\n",
       "      <td>Alberta</td>\n",
       "      <td>2016A000248</td>\n",
       "      <td>Closing inventory</td>\n",
       "      <td>Gigajoules</td>\n",
       "      <td>Gigajoules</td>\n",
       "      <td>143</td>\n",
       "      <td>thousands</td>\n",
       "      <td>3</td>\n",
       "      <td>v107028647</td>\n",
       "      <td>5.2.2</td>\n",
       "      <td>531036.8</td>\n",
       "      <td>NaN</td>\n",
       "      <td>NaN</td>\n",
       "      <td>NaN</td>\n",
       "      <td>1</td>\n",
       "      <td>502937.672251</td>\n",
       "    </tr>\n",
       "    <tr>\n",
       "      <th>53</th>\n",
       "      <td>2016-01</td>\n",
       "      <td>Alberta</td>\n",
       "      <td>2016A000248</td>\n",
       "      <td>Inventory change</td>\n",
       "      <td>Gigajoules</td>\n",
       "      <td>Gigajoules</td>\n",
       "      <td>143</td>\n",
       "      <td>thousands</td>\n",
       "      <td>3</td>\n",
       "      <td>v107028649</td>\n",
       "      <td>5.3.2</td>\n",
       "      <td>-24470.5</td>\n",
       "      <td>NaN</td>\n",
       "      <td>NaN</td>\n",
       "      <td>NaN</td>\n",
       "      <td>1</td>\n",
       "      <td>-23175.675036</td>\n",
       "    </tr>\n",
       "    <tr>\n",
       "      <th>61</th>\n",
       "      <td>2016-01</td>\n",
       "      <td>British Columbia</td>\n",
       "      <td>2016A000259</td>\n",
       "      <td>Opening inventory</td>\n",
       "      <td>Gigajoules</td>\n",
       "      <td>Gigajoules</td>\n",
       "      <td>143</td>\n",
       "      <td>thousands</td>\n",
       "      <td>3</td>\n",
       "      <td>v107028657</td>\n",
       "      <td>6.1.2</td>\n",
       "      <td>58352.4</td>\n",
       "      <td>NaN</td>\n",
       "      <td>NaN</td>\n",
       "      <td>NaN</td>\n",
       "      <td>1</td>\n",
       "      <td>55264.757972</td>\n",
       "    </tr>\n",
       "    <tr>\n",
       "      <th>63</th>\n",
       "      <td>2016-01</td>\n",
       "      <td>British Columbia</td>\n",
       "      <td>2016A000259</td>\n",
       "      <td>Closing inventory</td>\n",
       "      <td>Gigajoules</td>\n",
       "      <td>Gigajoules</td>\n",
       "      <td>143</td>\n",
       "      <td>thousands</td>\n",
       "      <td>3</td>\n",
       "      <td>v107028659</td>\n",
       "      <td>6.2.2</td>\n",
       "      <td>48562.0</td>\n",
       "      <td>NaN</td>\n",
       "      <td>NaN</td>\n",
       "      <td>NaN</td>\n",
       "      <td>1</td>\n",
       "      <td>45992.404368</td>\n",
       "    </tr>\n",
       "    <tr>\n",
       "      <th>...</th>\n",
       "      <td>...</td>\n",
       "      <td>...</td>\n",
       "      <td>...</td>\n",
       "      <td>...</td>\n",
       "      <td>...</td>\n",
       "      <td>...</td>\n",
       "      <td>...</td>\n",
       "      <td>...</td>\n",
       "      <td>...</td>\n",
       "      <td>...</td>\n",
       "      <td>...</td>\n",
       "      <td>...</td>\n",
       "      <td>...</td>\n",
       "      <td>...</td>\n",
       "      <td>...</td>\n",
       "      <td>...</td>\n",
       "      <td>...</td>\n",
       "    </tr>\n",
       "    <tr>\n",
       "      <th>6531</th>\n",
       "      <td>2023-07</td>\n",
       "      <td>Alberta</td>\n",
       "      <td>2016A000248</td>\n",
       "      <td>Closing inventory</td>\n",
       "      <td>Gigajoules</td>\n",
       "      <td>Gigajoules</td>\n",
       "      <td>143</td>\n",
       "      <td>thousands</td>\n",
       "      <td>3</td>\n",
       "      <td>v107028647</td>\n",
       "      <td>5.2.2</td>\n",
       "      <td>510614.3</td>\n",
       "      <td>NaN</td>\n",
       "      <td>NaN</td>\n",
       "      <td>NaN</td>\n",
       "      <td>1</td>\n",
       "      <td>483595.802514</td>\n",
       "    </tr>\n",
       "    <tr>\n",
       "      <th>6533</th>\n",
       "      <td>2023-07</td>\n",
       "      <td>Alberta</td>\n",
       "      <td>2016A000248</td>\n",
       "      <td>Inventory change</td>\n",
       "      <td>Gigajoules</td>\n",
       "      <td>Gigajoules</td>\n",
       "      <td>143</td>\n",
       "      <td>thousands</td>\n",
       "      <td>3</td>\n",
       "      <td>v107028649</td>\n",
       "      <td>5.3.2</td>\n",
       "      <td>37548.3</td>\n",
       "      <td>NaN</td>\n",
       "      <td>NaN</td>\n",
       "      <td>NaN</td>\n",
       "      <td>1</td>\n",
       "      <td>35561.480106</td>\n",
       "    </tr>\n",
       "    <tr>\n",
       "      <th>6541</th>\n",
       "      <td>2023-07</td>\n",
       "      <td>British Columbia</td>\n",
       "      <td>2016A000259</td>\n",
       "      <td>Opening inventory</td>\n",
       "      <td>Gigajoules</td>\n",
       "      <td>Gigajoules</td>\n",
       "      <td>143</td>\n",
       "      <td>thousands</td>\n",
       "      <td>3</td>\n",
       "      <td>v107028657</td>\n",
       "      <td>6.1.2</td>\n",
       "      <td>34318.0</td>\n",
       "      <td>NaN</td>\n",
       "      <td>NaN</td>\n",
       "      <td>NaN</td>\n",
       "      <td>1</td>\n",
       "      <td>32502.107267</td>\n",
       "    </tr>\n",
       "    <tr>\n",
       "      <th>6543</th>\n",
       "      <td>2023-07</td>\n",
       "      <td>British Columbia</td>\n",
       "      <td>2016A000259</td>\n",
       "      <td>Closing inventory</td>\n",
       "      <td>Gigajoules</td>\n",
       "      <td>Gigajoules</td>\n",
       "      <td>143</td>\n",
       "      <td>thousands</td>\n",
       "      <td>3</td>\n",
       "      <td>v107028659</td>\n",
       "      <td>6.2.2</td>\n",
       "      <td>48843.1</td>\n",
       "      <td>NaN</td>\n",
       "      <td>NaN</td>\n",
       "      <td>NaN</td>\n",
       "      <td>1</td>\n",
       "      <td>46258.630324</td>\n",
       "    </tr>\n",
       "    <tr>\n",
       "      <th>6545</th>\n",
       "      <td>2023-07</td>\n",
       "      <td>British Columbia</td>\n",
       "      <td>2016A000259</td>\n",
       "      <td>Inventory change</td>\n",
       "      <td>Gigajoules</td>\n",
       "      <td>Gigajoules</td>\n",
       "      <td>143</td>\n",
       "      <td>thousands</td>\n",
       "      <td>3</td>\n",
       "      <td>v107028661</td>\n",
       "      <td>6.3.2</td>\n",
       "      <td>14525.0</td>\n",
       "      <td>NaN</td>\n",
       "      <td>NaN</td>\n",
       "      <td>NaN</td>\n",
       "      <td>1</td>\n",
       "      <td>13756.428348</td>\n",
       "    </tr>\n",
       "  </tbody>\n",
       "</table>\n",
       "<p>546 rows × 17 columns</p>\n",
       "</div>"
      ],
      "text/plain": [
       "     REF_DATE               GEO        DGUID            Storage  Statistics  \\\n",
       "49    2016-01           Alberta  2016A000248  Opening inventory  Gigajoules   \n",
       "51    2016-01           Alberta  2016A000248  Closing inventory  Gigajoules   \n",
       "53    2016-01           Alberta  2016A000248   Inventory change  Gigajoules   \n",
       "61    2016-01  British Columbia  2016A000259  Opening inventory  Gigajoules   \n",
       "63    2016-01  British Columbia  2016A000259  Closing inventory  Gigajoules   \n",
       "...       ...               ...          ...                ...         ...   \n",
       "6531  2023-07           Alberta  2016A000248  Closing inventory  Gigajoules   \n",
       "6533  2023-07           Alberta  2016A000248   Inventory change  Gigajoules   \n",
       "6541  2023-07  British Columbia  2016A000259  Opening inventory  Gigajoules   \n",
       "6543  2023-07  British Columbia  2016A000259  Closing inventory  Gigajoules   \n",
       "6545  2023-07  British Columbia  2016A000259   Inventory change  Gigajoules   \n",
       "\n",
       "             UOM  UOM_ID SCALAR_FACTOR  SCALAR_ID      VECTOR COORDINATE  \\\n",
       "49    Gigajoules     143     thousands          3  v107028645      5.1.2   \n",
       "51    Gigajoules     143     thousands          3  v107028647      5.2.2   \n",
       "53    Gigajoules     143     thousands          3  v107028649      5.3.2   \n",
       "61    Gigajoules     143     thousands          3  v107028657      6.1.2   \n",
       "63    Gigajoules     143     thousands          3  v107028659      6.2.2   \n",
       "...          ...     ...           ...        ...         ...        ...   \n",
       "6531  Gigajoules     143     thousands          3  v107028647      5.2.2   \n",
       "6533  Gigajoules     143     thousands          3  v107028649      5.3.2   \n",
       "6541  Gigajoules     143     thousands          3  v107028657      6.1.2   \n",
       "6543  Gigajoules     143     thousands          3  v107028659      6.2.2   \n",
       "6545  Gigajoules     143     thousands          3  v107028661      6.3.2   \n",
       "\n",
       "         VALUE  STATUS  SYMBOL  TERMINATED  DECIMALS          MMBtu  \n",
       "49    564888.6     NaN     NaN         NaN         1  534998.247890  \n",
       "51    531036.8     NaN     NaN         NaN         1  502937.672251  \n",
       "53    -24470.5     NaN     NaN         NaN         1  -23175.675036  \n",
       "61     58352.4     NaN     NaN         NaN         1   55264.757972  \n",
       "63     48562.0     NaN     NaN         NaN         1   45992.404368  \n",
       "...        ...     ...     ...         ...       ...            ...  \n",
       "6531  510614.3     NaN     NaN         NaN         1  483595.802514  \n",
       "6533   37548.3     NaN     NaN         NaN         1   35561.480106  \n",
       "6541   34318.0     NaN     NaN         NaN         1   32502.107267  \n",
       "6543   48843.1     NaN     NaN         NaN         1   46258.630324  \n",
       "6545   14525.0     NaN     NaN         NaN         1   13756.428348  \n",
       "\n",
       "[546 rows x 17 columns]"
      ]
     },
     "execution_count": 226,
     "metadata": {},
     "output_type": "execute_result"
    }
   ],
   "source": [
    "western_df = df_copy.groupby(by=['REF_DATE', \"Storage\"])\n",
    "western_df.head()"
   ]
  },
  {
   "cell_type": "code",
   "execution_count": 227,
   "metadata": {},
   "outputs": [
    {
     "data": {
      "application/vnd.plotly.v1+json": {
       "config": {
        "plotlyServerURL": "https://plot.ly"
       },
       "data": [
        {
         "hovertemplate": "GEO=Alberta<br>Storage=Opening inventory<br>REF_DATE=%{x}<br>MMBtu=%{y}<extra></extra>",
         "legendgroup": "Alberta",
         "line": {
          "color": "#636efa",
          "dash": "solid"
         },
         "marker": {
          "symbol": "circle"
         },
         "mode": "lines",
         "name": "Alberta",
         "orientation": "v",
         "showlegend": false,
         "type": "scatter",
         "x": [
          "2016-01",
          "2016-02",
          "2016-03",
          "2016-04",
          "2016-05",
          "2016-06",
          "2016-07",
          "2016-08",
          "2016-09",
          "2016-10",
          "2016-11",
          "2016-12",
          "2017-01",
          "2017-02",
          "2017-03",
          "2017-04",
          "2017-05",
          "2017-06",
          "2017-07",
          "2017-08",
          "2017-09",
          "2017-10",
          "2017-11",
          "2017-12",
          "2018-01",
          "2018-02",
          "2018-03",
          "2018-04",
          "2018-05",
          "2018-06",
          "2018-07",
          "2018-08",
          "2018-09",
          "2018-10",
          "2018-11",
          "2018-12",
          "2019-01",
          "2019-02",
          "2019-03",
          "2019-04",
          "2019-05",
          "2019-06",
          "2019-07",
          "2019-08",
          "2019-09",
          "2019-10",
          "2019-11",
          "2019-12",
          "2020-01",
          "2020-02",
          "2020-03",
          "2020-04",
          "2020-05",
          "2020-06",
          "2020-07",
          "2020-08",
          "2020-09",
          "2020-10",
          "2020-11",
          "2020-12",
          "2021-01",
          "2021-02",
          "2021-03",
          "2021-04",
          "2021-05",
          "2021-06",
          "2021-07",
          "2021-08",
          "2021-09",
          "2021-10",
          "2021-11",
          "2021-12",
          "2022-01",
          "2022-02",
          "2022-03",
          "2022-04",
          "2022-05",
          "2022-06",
          "2022-07",
          "2022-08",
          "2022-09",
          "2022-10",
          "2022-11",
          "2022-12",
          "2023-01",
          "2023-02",
          "2023-03",
          "2023-04",
          "2023-05",
          "2023-06",
          "2023-07"
         ],
         "xaxis": "x3",
         "y": [
          534998.2478903632,
          502937.67225131695,
          497086.85728356516,
          519642.001382744,
          544008.8268442117,
          556741.3602053261,
          572222.243268582,
          576197.4485495351,
          590657.088467328,
          591397.9940712376,
          581425.1754477328,
          577395.6074137893,
          536272.0789491109,
          494238.0217261576,
          470212.2420373702,
          454605.68062355986,
          469594.0788165192,
          493989.6009925445,
          523073.9579683085,
          550194.8156496517,
          564523.947076816,
          580745.4516180947,
          575539.0341614003,
          551844.1664220005,
          519893.2633752241,
          474545.06710106175,
          427170.01145974244,
          401180.16422476096,
          402884.8248363893,
          412836.4287270197,
          428557.96641631855,
          444975.2336935401,
          465468.4762328678,
          472648.6215159045,
          478441.47480276745,
          471712.52142782544,
          457501.49166090344,
          412159.4514476198,
          351727.2012653059,
          330787.69166658644,
          344012.52048073965,
          356544.745091724,
          369346.6998778244,
          386303.0486707629,
          398267.40034284367,
          405496.60469565226,
          424584.27647342783,
          413991.8739996385,
          395354.1629177819,
          355299.32662164717,
          332765.87079848716,
          327081.55360034725,
          365335.2211920014,
          416633.1082424904,
          466235.33200109686,
          507403.56293861737,
          547976.1713089658,
          583841.6661141975,
          597802.0021404127,
          579393.8647750174,
          521177.70180040906,
          453412.162482122,
          372739.5417996519,
          356697.98365328927,
          373722.6173676669,
          394919.9238542608,
          415741.23708410916,
          431466.08957541955,
          456235.6161269836,
          481375.8322520746,
          481621.032892305,
          471014.518832809,
          413094.7938666676,
          347528.3889115124,
          294948.9994033345,
          268289.56216200755,
          266553.74241147004,
          293620.5214657096,
          322575.60116302076,
          365863.50592402334,
          406545.31334349717,
          433503.36689175584,
          455670.2056124316,
          443355.6214306669,
          377712.21836021333,
          348089.0639946192,
          326006.9894968118,
          322747.8761589956,
          372770.51152130327,
          411430.10029643646,
          448034.3224071128
         ],
         "yaxis": "y3"
        },
        {
         "hovertemplate": "GEO=Alberta<br>Storage=Closing inventory<br>REF_DATE=%{x}<br>MMBtu=%{y}<extra></extra>",
         "legendgroup": "Alberta",
         "line": {
          "color": "#636efa",
          "dash": "solid"
         },
         "marker": {
          "symbol": "circle"
         },
         "mode": "lines",
         "name": "Alberta",
         "orientation": "v",
         "showlegend": false,
         "type": "scatter",
         "x": [
          "2016-01",
          "2016-02",
          "2016-03",
          "2016-04",
          "2016-05",
          "2016-06",
          "2016-07",
          "2016-08",
          "2016-09",
          "2016-10",
          "2016-11",
          "2016-12",
          "2017-01",
          "2017-02",
          "2017-03",
          "2017-04",
          "2017-05",
          "2017-06",
          "2017-07",
          "2017-08",
          "2017-09",
          "2017-10",
          "2017-11",
          "2017-12",
          "2018-01",
          "2018-02",
          "2018-03",
          "2018-04",
          "2018-05",
          "2018-06",
          "2018-07",
          "2018-08",
          "2018-09",
          "2018-10",
          "2018-11",
          "2018-12",
          "2019-01",
          "2019-02",
          "2019-03",
          "2019-04",
          "2019-05",
          "2019-06",
          "2019-07",
          "2019-08",
          "2019-09",
          "2019-10",
          "2019-11",
          "2019-12",
          "2020-01",
          "2020-02",
          "2020-03",
          "2020-04",
          "2020-05",
          "2020-06",
          "2020-07",
          "2020-08",
          "2020-09",
          "2020-10",
          "2020-11",
          "2020-12",
          "2021-01",
          "2021-02",
          "2021-03",
          "2021-04",
          "2021-05",
          "2021-06",
          "2021-07",
          "2021-08",
          "2021-09",
          "2021-10",
          "2021-11",
          "2021-12",
          "2022-01",
          "2022-02",
          "2022-03",
          "2022-04",
          "2022-05",
          "2022-06",
          "2022-07",
          "2022-08",
          "2022-09",
          "2022-10",
          "2022-11",
          "2022-12",
          "2023-01",
          "2023-02",
          "2023-03",
          "2023-04",
          "2023-05",
          "2023-06",
          "2023-07"
         ],
         "xaxis": "x2",
         "y": [
          502937.67225131695,
          497086.85728356516,
          519642.001382744,
          544008.8268442117,
          556741.3602053261,
          572222.243268582,
          576197.4485495351,
          590657.088467328,
          591397.9940712376,
          581425.1754477328,
          577395.6074137893,
          536272.0789491109,
          494238.0217261576,
          470212.2420373702,
          454605.68062355986,
          469594.0788165192,
          493989.6009925445,
          523073.9579683085,
          550194.8156496517,
          564523.947076816,
          580745.4516180947,
          575539.0341614003,
          551844.1664220005,
          519893.2633752241,
          474545.06710106175,
          427170.01145974244,
          401180.16422476096,
          402884.8248363893,
          412836.4287270197,
          428557.96641631855,
          444975.2336935401,
          465468.4762328678,
          472648.6215159045,
          478441.47480276745,
          471712.52142782544,
          457501.49166090344,
          412159.4514476198,
          351727.2012653059,
          330787.69166658644,
          344012.52048073965,
          356544.745091724,
          369346.6998778244,
          386303.0486707629,
          398267.40034284367,
          405496.60469565226,
          424584.27647342783,
          413991.8739996385,
          395354.1629177819,
          355299.32662164717,
          332765.87079848716,
          327081.55360034725,
          365335.2211920014,
          416633.1082424904,
          466235.33200109686,
          507403.56293861737,
          547976.1713089658,
          583841.6661141975,
          597802.0021404127,
          579393.8647750174,
          521177.70180040906,
          453412.162482122,
          372739.5417996519,
          356697.98365328927,
          373722.6173676669,
          394919.9238542608,
          415741.23708410916,
          431466.08957541955,
          456235.6161269836,
          481375.8322520746,
          481621.032892305,
          471014.518832809,
          413094.7938666676,
          347528.3889115124,
          294948.9994033345,
          268289.56216200755,
          266553.74241147004,
          293620.5214657096,
          322575.60116302076,
          365863.50592402334,
          406545.31334349717,
          433503.36689175584,
          455670.2056124316,
          443355.6214306669,
          377712.21836021333,
          348089.0639946192,
          326006.9894968118,
          322747.8761589956,
          372770.51152130327,
          411430.10029643646,
          448034.3224071128,
          483595.8025135651
         ],
         "yaxis": "y2"
        },
        {
         "hovertemplate": "GEO=Alberta<br>Storage=Inventory change<br>REF_DATE=%{x}<br>MMBtu=%{y}<extra></extra>",
         "legendgroup": "Alberta",
         "line": {
          "color": "#636efa",
          "dash": "solid"
         },
         "marker": {
          "symbol": "circle"
         },
         "mode": "lines",
         "name": "Alberta",
         "orientation": "v",
         "showlegend": false,
         "type": "scatter",
         "x": [
          "2016-01",
          "2016-02",
          "2016-03",
          "2016-04",
          "2016-05",
          "2016-06",
          "2016-07",
          "2016-08",
          "2016-09",
          "2016-10",
          "2016-11",
          "2016-12",
          "2017-01",
          "2017-02",
          "2017-03",
          "2017-04",
          "2017-05",
          "2017-06",
          "2017-07",
          "2017-08",
          "2017-09",
          "2017-10",
          "2017-11",
          "2017-12",
          "2018-01",
          "2018-02",
          "2018-03",
          "2018-04",
          "2018-05",
          "2018-06",
          "2018-07",
          "2018-08",
          "2018-09",
          "2018-10",
          "2018-11",
          "2018-12",
          "2019-01",
          "2019-02",
          "2019-03",
          "2019-04",
          "2019-05",
          "2019-06",
          "2019-07",
          "2019-08",
          "2019-09",
          "2019-10",
          "2019-11",
          "2019-12",
          "2020-01",
          "2020-02",
          "2020-03",
          "2020-04",
          "2020-05",
          "2020-06",
          "2020-07",
          "2020-08",
          "2020-09",
          "2020-10",
          "2020-11",
          "2020-12",
          "2021-01",
          "2021-02",
          "2021-03",
          "2021-04",
          "2021-05",
          "2021-06",
          "2021-07",
          "2021-08",
          "2021-09",
          "2021-10",
          "2021-11",
          "2021-12",
          "2022-01",
          "2022-02",
          "2022-03",
          "2022-04",
          "2022-05",
          "2022-06",
          "2022-07",
          "2022-08",
          "2022-09",
          "2022-10",
          "2022-11",
          "2022-12",
          "2023-01",
          "2023-02",
          "2023-03",
          "2023-04",
          "2023-05",
          "2023-06",
          "2023-07"
         ],
         "xaxis": "x",
         "y": [
          -23175.675035752418,
          -5850.909676380593,
          22555.14409917879,
          24366.920170096604,
          12732.533361114482,
          15480.883063255833,
          3975.2052809531324,
          14459.54520916395,
          740.9056039095693,
          -9972.818623504749,
          -4029.568033943557,
          -41123.52846467826,
          -42033.96251432452,
          -24025.874397416257,
          -15606.561413810352,
          14988.398192959303,
          24395.522176025363,
          29084.35697576395,
          27120.85768134324,
          14329.131427164275,
          16221.599249907598,
          -5206.512165323362,
          -23694.867739399648,
          -31950.903046776468,
          -45348.196274162365,
          -47375.0556413193,
          -25989.84723498148,
          1704.660611628319,
          9951.603890630437,
          15721.537689298813,
          16417.17256859266,
          20493.33724795658,
          7180.14528303671,
          5792.853286862944,
          -6728.858666313062,
          -14211.029766922009,
          -45342.04021328366,
          -60432.250182313874,
          -20939.50959871946,
          13224.828814153207,
          12532.224610984258,
          12801.954786100512,
          16956.34879293846,
          11964.4463807097,
          7229.204352808557,
          19087.6717777756,
          -10592.402473789347,
          -18637.805790485498,
          -40054.83629613478,
          -22533.361114531057,
          -5684.3171981399,
          38253.66759165413,
          51297.88705048897,
          49602.22375860646,
          41168.23093752056,
          40572.60837034847,
          35865.49480523157,
          13960.336026215295,
          -18408.232074024196,
          -58216.16297460839,
          -67765.53931828703,
          -80672.62068247008,
          -16041.558146362653,
          17024.63371437765,
          21197.306486593912,
          20821.31322984829,
          15724.947199939326,
          24769.52655156402,
          25140.121416462156,
          245.29534885923363,
          -10606.51405949592,
          -57919.81967477035,
          -65566.40495515522,
          -52579.38950817789,
          -26659.437241326956,
          -1735.8197505374646,
          27066.779054239527,
          28955.07969731111,
          43287.90476100261,
          40681.80741947383,
          26957.958839629773,
          22166.838720675754,
          -12314.584181764754,
          -65643.4030704535,
          -29623.249074223037,
          -22081.97978917851,
          -3259.113337816196,
          50022.63536230767,
          38659.588775133154,
          36604.22211067637,
          35561.48010645236
         ],
         "yaxis": "y"
        },
        {
         "hovertemplate": "GEO=British Columbia<br>Storage=Opening inventory<br>REF_DATE=%{x}<br>MMBtu=%{y}<extra></extra>",
         "legendgroup": "British Columbia",
         "line": {
          "color": "#EF553B",
          "dash": "solid"
         },
         "marker": {
          "symbol": "circle"
         },
         "mode": "lines",
         "name": "British Columbia",
         "orientation": "v",
         "showlegend": false,
         "type": "scatter",
         "x": [
          "2016-01",
          "2016-02",
          "2016-03",
          "2016-04",
          "2016-05",
          "2016-06",
          "2016-07",
          "2016-08",
          "2016-09",
          "2016-10",
          "2016-11",
          "2016-12",
          "2017-01",
          "2017-02",
          "2017-03",
          "2017-04",
          "2017-05",
          "2017-06",
          "2017-07",
          "2017-08",
          "2017-09",
          "2017-10",
          "2017-11",
          "2017-12",
          "2018-01",
          "2018-02",
          "2018-03",
          "2018-04",
          "2018-05",
          "2018-06",
          "2018-07",
          "2018-08",
          "2018-09",
          "2018-10",
          "2018-11",
          "2018-12",
          "2019-01",
          "2019-02",
          "2019-03",
          "2019-04",
          "2019-05",
          "2019-06",
          "2019-07",
          "2019-08",
          "2019-09",
          "2019-10",
          "2019-11",
          "2019-12",
          "2020-01",
          "2020-02",
          "2020-03",
          "2020-04",
          "2020-05",
          "2020-06",
          "2020-07",
          "2020-08",
          "2020-09",
          "2020-10",
          "2020-11",
          "2020-12",
          "2021-01",
          "2021-02",
          "2021-03",
          "2021-04",
          "2021-05",
          "2021-06",
          "2021-07",
          "2021-08",
          "2021-09",
          "2021-10",
          "2021-11",
          "2021-12",
          "2022-01",
          "2022-02",
          "2022-03",
          "2022-04",
          "2022-05",
          "2022-06",
          "2022-07",
          "2022-08",
          "2022-09",
          "2022-10",
          "2022-11",
          "2022-12",
          "2023-01",
          "2023-02",
          "2023-03",
          "2023-04",
          "2023-05",
          "2023-06",
          "2023-07"
         ],
         "xaxis": "x3",
         "y": [
          55264.757972098625,
          45992.40436796179,
          37888.47111860348,
          31830.717796698333,
          23395.96730658121,
          27383.390000662854,
          29288.16994516359,
          37263.29945921358,
          59258.05260117227,
          64065.17847841092,
          66733.12055461347,
          62786.99082273361,
          53396.72497561232,
          42743.89839658275,
          33609.72468201565,
          23964.31378862919,
          23395.96730658121,
          27383.390000662854,
          29288.16994516359,
          37263.29945921358,
          48376.220557454806,
          57570.34483411762,
          62421.983766940764,
          62102.53156165034,
          56228.32356255957,
          44604.2599941279,
          33786.829818064594,
          22999.611694621406,
          22399.253696004158,
          33345.96115052029,
          43142.811141522936,
          49248.8658641687,
          56120.82926875446,
          60726.60460094496,
          65976.39860967707,
          67439.26809171558,
          63181.35755348646,
          54584.8447252027,
          48986.99650525141,
          43412.6360252681,
          44122.19307301071,
          52845.0472122513,
          59711.706933618494,
          65104.88980651002,
          69121.67217555165,
          73588.60465777009,
          76808.31920596256,
          68192.95936052706,
          58256.224724634434,
          47320.97701421558,
          37336.69864661355,
          26391.506530159862,
          29476.640116680916,
          38478.884711185885,
          47825.67929764062,
          55088.50521370981,
          62355.49830945073,
          68235.95707804912,
          71081.47783344514,
          65724.28423953682,
          54982.526257967154,
          44002.6707833349,
          34065.93614744226,
          23280.32807069043,
          22683.663708600405,
          27207.705494047455,
          31117.467112428494,
          37824.16395957821,
          54317.387557180125,
          64431.41674637951,
          66871.67927869882,
          57373.06676011229,
          44334.340401753834,
          31895.687916125913,
          20781.725022966762,
          12648.621515906265,
          9726.860314243193,
          19803.195469139115,
          29515.186528644514,
          40634.92664816676,
          56935.60760320851,
          66647.2198281983,
          73599.96969323847,
          67561.63164025849,
          53843.93912129313,
          41531.15440347754,
          31434.267476109628,
          22311.1746711242,
          22268.366370859963,
          28222.319035487213,
          32502.10726699297
         ],
         "yaxis": "y3"
        },
        {
         "hovertemplate": "GEO=British Columbia<br>Storage=Closing inventory<br>REF_DATE=%{x}<br>MMBtu=%{y}<extra></extra>",
         "legendgroup": "British Columbia",
         "line": {
          "color": "#EF553B",
          "dash": "solid"
         },
         "marker": {
          "symbol": "circle"
         },
         "mode": "lines",
         "name": "British Columbia",
         "orientation": "v",
         "showlegend": false,
         "type": "scatter",
         "x": [
          "2016-01",
          "2016-02",
          "2016-03",
          "2016-04",
          "2016-05",
          "2016-06",
          "2016-07",
          "2016-08",
          "2016-09",
          "2016-10",
          "2016-11",
          "2016-12",
          "2017-01",
          "2017-02",
          "2017-03",
          "2017-04",
          "2017-05",
          "2017-06",
          "2017-07",
          "2017-08",
          "2017-09",
          "2017-10",
          "2017-11",
          "2017-12",
          "2018-01",
          "2018-02",
          "2018-03",
          "2018-04",
          "2018-05",
          "2018-06",
          "2018-07",
          "2018-08",
          "2018-09",
          "2018-10",
          "2018-11",
          "2018-12",
          "2019-01",
          "2019-02",
          "2019-03",
          "2019-04",
          "2019-05",
          "2019-06",
          "2019-07",
          "2019-08",
          "2019-09",
          "2019-10",
          "2019-11",
          "2019-12",
          "2020-01",
          "2020-02",
          "2020-03",
          "2020-04",
          "2020-05",
          "2020-06",
          "2020-07",
          "2020-08",
          "2020-09",
          "2020-10",
          "2020-11",
          "2020-12",
          "2021-01",
          "2021-02",
          "2021-03",
          "2021-04",
          "2021-05",
          "2021-06",
          "2021-07",
          "2021-08",
          "2021-09",
          "2021-10",
          "2021-11",
          "2021-12",
          "2022-01",
          "2022-02",
          "2022-03",
          "2022-04",
          "2022-05",
          "2022-06",
          "2022-07",
          "2022-08",
          "2022-09",
          "2022-10",
          "2022-11",
          "2022-12",
          "2023-01",
          "2023-02",
          "2023-03",
          "2023-04",
          "2023-05",
          "2023-06",
          "2023-07"
         ],
         "xaxis": "x2",
         "y": [
          45992.40436796179,
          37888.47111860348,
          31830.717796698333,
          23395.96730658121,
          27383.390000662854,
          29288.16994516359,
          37263.29945921358,
          59258.05260117227,
          64065.17847841092,
          66733.12055461347,
          62786.99082273361,
          53396.72497561232,
          42743.89839658275,
          33609.72468201565,
          23964.31378862919,
          23395.96730658121,
          27383.390000662854,
          29288.16994516359,
          37263.29945921358,
          48376.220557454806,
          57570.34483411762,
          62421.983766940764,
          62102.53156165034,
          56228.32356255957,
          44604.2599941279,
          33786.829818064594,
          22999.611694621406,
          22399.253696004158,
          33345.96115052029,
          43142.811141522936,
          49248.8658641687,
          56120.82926875446,
          60726.60460094496,
          65976.39860967707,
          67439.26809171558,
          63181.35755348646,
          54584.8447252027,
          48986.99650525141,
          43412.6360252681,
          44122.19307301071,
          52845.0472122513,
          59711.706933618494,
          65104.88980651002,
          69121.67217555165,
          73588.60465777009,
          76808.31920596256,
          68192.95936052706,
          58256.224724634434,
          47320.97701421558,
          37336.69864661355,
          26391.506530159862,
          29476.640116680916,
          38478.884711185885,
          47825.67929764062,
          55088.50521370981,
          62355.49830945073,
          68235.95707804912,
          71081.47783344514,
          65724.28423953682,
          54982.526257967154,
          44002.6707833349,
          34065.93614744226,
          23280.32807069043,
          22683.663708600405,
          27207.705494047455,
          31117.467112428494,
          37824.16395957821,
          54317.387557180125,
          64431.41674637951,
          66871.67927869882,
          57373.06676011229,
          44334.340401753834,
          31895.687916125913,
          20781.725022966762,
          12648.621515906265,
          9726.860314243193,
          19803.195469139115,
          29515.186528644514,
          40634.92664816676,
          56935.60760320851,
          66647.2198281983,
          73599.96969323847,
          67561.63164025849,
          53843.93912129313,
          41531.15440347754,
          31434.267476109628,
          22311.1746711242,
          22268.366370859963,
          28222.319035487213,
          32502.10726699297,
          46258.630323808626
         ],
         "yaxis": "y2"
        },
        {
         "hovertemplate": "GEO=British Columbia<br>Storage=Inventory change<br>REF_DATE=%{x}<br>MMBtu=%{y}<extra></extra>",
         "legendgroup": "British Columbia",
         "line": {
          "color": "#EF553B",
          "dash": "solid"
         },
         "marker": {
          "symbol": "circle"
         },
         "mode": "lines",
         "name": "British Columbia",
         "orientation": "v",
         "showlegend": false,
         "type": "scatter",
         "x": [
          "2016-01",
          "2016-02",
          "2016-03",
          "2016-04",
          "2016-05",
          "2016-06",
          "2016-07",
          "2016-08",
          "2016-09",
          "2016-10",
          "2016-11",
          "2016-12",
          "2017-01",
          "2017-02",
          "2017-03",
          "2017-04",
          "2017-05",
          "2017-06",
          "2017-07",
          "2017-08",
          "2017-09",
          "2017-10",
          "2017-11",
          "2017-12",
          "2018-01",
          "2018-02",
          "2018-03",
          "2018-04",
          "2018-05",
          "2018-06",
          "2018-07",
          "2018-08",
          "2018-09",
          "2018-10",
          "2018-11",
          "2018-12",
          "2019-01",
          "2019-02",
          "2019-03",
          "2019-04",
          "2019-05",
          "2019-06",
          "2019-07",
          "2019-08",
          "2019-09",
          "2019-10",
          "2019-11",
          "2019-12",
          "2020-01",
          "2020-02",
          "2020-03",
          "2020-04",
          "2020-05",
          "2020-06",
          "2020-07",
          "2020-08",
          "2020-09",
          "2020-10",
          "2020-11",
          "2020-12",
          "2021-01",
          "2021-02",
          "2021-03",
          "2021-04",
          "2021-05",
          "2021-06",
          "2021-07",
          "2021-08",
          "2021-09",
          "2021-10",
          "2021-11",
          "2021-12",
          "2022-01",
          "2022-02",
          "2022-03",
          "2022-04",
          "2022-05",
          "2022-06",
          "2022-07",
          "2022-08",
          "2022-09",
          "2022-10",
          "2022-11",
          "2022-12",
          "2023-01",
          "2023-02",
          "2023-03",
          "2023-04",
          "2023-05",
          "2023-06",
          "2023-07"
         ],
         "xaxis": "x",
         "y": [
          -9272.353604136837,
          -8103.933249358319,
          -6057.753321905136,
          -8434.845198746025,
          3987.4226940816425,
          1904.8746531296392,
          7975.034805421092,
          21994.753141958678,
          4807.125877238656,
          2667.9420762025525,
          -3946.1297318798565,
          -9390.265847121294,
          -10652.826579029574,
          -9134.1737145671,
          -9645.410893386459,
          -568.3464820479772,
          3987.4226940816425,
          1904.8746531296392,
          7975.034805421092,
          11112.921098241217,
          9194.124276662811,
          4851.733641452054,
          -319.4522052904228,
          -5874.207999090774,
          -11624.063568431675,
          -10817.430176063299,
          -10787.218123443185,
          -600.3579986172517,
          10946.707454516138,
          9796.849991002644,
          6106.054722645757,
          6871.963404585765,
          4605.680623561595,
          5249.888717361018,
          1462.8694820385028,
          -4257.910538229122,
          -8596.51282828375,
          -5597.848219951298,
          -5574.36047998331,
          709.5570477426171,
          8722.854139240593,
          6866.659721367188,
          5393.182872891528,
          4016.7823690416276,
          4466.932482218438,
          3219.7145481924736,
          -8615.454554064387,
          -9936.734635892637,
          -10935.247710418855,
          -9984.278367602034,
          -10945.192116453689,
          3085.1335865210563,
          9002.244594504971,
          9346.699877825833,
          7262.825916069185,
          7266.993095740925,
          5880.458768598384,
          2845.520755396013,
          -5357.1935939083205,
          -10741.757981569659,
          -10979.950183261155,
          -9936.639927263734,
          -10785.608076751832,
          -596.6643620900277,
          4523.947076818151,
          3909.7616183810355,
          6706.6968471497175,
          16493.223597601915,
          10114.02918919939,
          2440.357240948213,
          -9498.612518586531,
          -13038.821066987362,
          -12438.652485627917,
          -11113.962893159152,
          -8133.1982156894,
          -2921.7612016630724,
          10076.429863524827,
          9711.991059505395,
          11119.740119522246,
          16300.680955041753,
          9711.612224989782,
          6952.655156411274,
          -6038.338052979983,
          -13717.69251896535,
          -12312.879426444495,
          -10096.886927367914,
          -9122.998096356525,
          -42.80830026423691,
          5953.952664627252,
          4279.788231505756,
          13756.42834818675
         ],
         "yaxis": "y"
        }
       ],
       "layout": {
        "annotations": [
         {
          "font": {},
          "showarrow": false,
          "text": "Inventory change",
          "textangle": 90,
          "x": 0.98,
          "xanchor": "left",
          "xref": "paper",
          "y": 0.08333333333333333,
          "yanchor": "middle",
          "yref": "paper"
         },
         {
          "font": {},
          "showarrow": false,
          "text": "Closing inventory",
          "textangle": 90,
          "x": 0.98,
          "xanchor": "left",
          "xref": "paper",
          "y": 0.49999999999999994,
          "yanchor": "middle",
          "yref": "paper"
         },
         {
          "font": {},
          "showarrow": false,
          "text": "Opening inventory",
          "textangle": 90,
          "x": 0.98,
          "xanchor": "left",
          "xref": "paper",
          "y": 0.9166666666666665,
          "yanchor": "middle",
          "yref": "paper"
         }
        ],
        "legend": {
         "title": {
          "text": "GEO"
         },
         "tracegroupgap": 0
        },
        "template": {
         "data": {
          "bar": [
           {
            "error_x": {
             "color": "#2a3f5f"
            },
            "error_y": {
             "color": "#2a3f5f"
            },
            "marker": {
             "line": {
              "color": "#E5ECF6",
              "width": 0.5
             },
             "pattern": {
              "fillmode": "overlay",
              "size": 10,
              "solidity": 0.2
             }
            },
            "type": "bar"
           }
          ],
          "barpolar": [
           {
            "marker": {
             "line": {
              "color": "#E5ECF6",
              "width": 0.5
             },
             "pattern": {
              "fillmode": "overlay",
              "size": 10,
              "solidity": 0.2
             }
            },
            "type": "barpolar"
           }
          ],
          "carpet": [
           {
            "aaxis": {
             "endlinecolor": "#2a3f5f",
             "gridcolor": "white",
             "linecolor": "white",
             "minorgridcolor": "white",
             "startlinecolor": "#2a3f5f"
            },
            "baxis": {
             "endlinecolor": "#2a3f5f",
             "gridcolor": "white",
             "linecolor": "white",
             "minorgridcolor": "white",
             "startlinecolor": "#2a3f5f"
            },
            "type": "carpet"
           }
          ],
          "choropleth": [
           {
            "colorbar": {
             "outlinewidth": 0,
             "ticks": ""
            },
            "type": "choropleth"
           }
          ],
          "contour": [
           {
            "colorbar": {
             "outlinewidth": 0,
             "ticks": ""
            },
            "colorscale": [
             [
              0,
              "#0d0887"
             ],
             [
              0.1111111111111111,
              "#46039f"
             ],
             [
              0.2222222222222222,
              "#7201a8"
             ],
             [
              0.3333333333333333,
              "#9c179e"
             ],
             [
              0.4444444444444444,
              "#bd3786"
             ],
             [
              0.5555555555555556,
              "#d8576b"
             ],
             [
              0.6666666666666666,
              "#ed7953"
             ],
             [
              0.7777777777777778,
              "#fb9f3a"
             ],
             [
              0.8888888888888888,
              "#fdca26"
             ],
             [
              1,
              "#f0f921"
             ]
            ],
            "type": "contour"
           }
          ],
          "contourcarpet": [
           {
            "colorbar": {
             "outlinewidth": 0,
             "ticks": ""
            },
            "type": "contourcarpet"
           }
          ],
          "heatmap": [
           {
            "colorbar": {
             "outlinewidth": 0,
             "ticks": ""
            },
            "colorscale": [
             [
              0,
              "#0d0887"
             ],
             [
              0.1111111111111111,
              "#46039f"
             ],
             [
              0.2222222222222222,
              "#7201a8"
             ],
             [
              0.3333333333333333,
              "#9c179e"
             ],
             [
              0.4444444444444444,
              "#bd3786"
             ],
             [
              0.5555555555555556,
              "#d8576b"
             ],
             [
              0.6666666666666666,
              "#ed7953"
             ],
             [
              0.7777777777777778,
              "#fb9f3a"
             ],
             [
              0.8888888888888888,
              "#fdca26"
             ],
             [
              1,
              "#f0f921"
             ]
            ],
            "type": "heatmap"
           }
          ],
          "heatmapgl": [
           {
            "colorbar": {
             "outlinewidth": 0,
             "ticks": ""
            },
            "colorscale": [
             [
              0,
              "#0d0887"
             ],
             [
              0.1111111111111111,
              "#46039f"
             ],
             [
              0.2222222222222222,
              "#7201a8"
             ],
             [
              0.3333333333333333,
              "#9c179e"
             ],
             [
              0.4444444444444444,
              "#bd3786"
             ],
             [
              0.5555555555555556,
              "#d8576b"
             ],
             [
              0.6666666666666666,
              "#ed7953"
             ],
             [
              0.7777777777777778,
              "#fb9f3a"
             ],
             [
              0.8888888888888888,
              "#fdca26"
             ],
             [
              1,
              "#f0f921"
             ]
            ],
            "type": "heatmapgl"
           }
          ],
          "histogram": [
           {
            "marker": {
             "pattern": {
              "fillmode": "overlay",
              "size": 10,
              "solidity": 0.2
             }
            },
            "type": "histogram"
           }
          ],
          "histogram2d": [
           {
            "colorbar": {
             "outlinewidth": 0,
             "ticks": ""
            },
            "colorscale": [
             [
              0,
              "#0d0887"
             ],
             [
              0.1111111111111111,
              "#46039f"
             ],
             [
              0.2222222222222222,
              "#7201a8"
             ],
             [
              0.3333333333333333,
              "#9c179e"
             ],
             [
              0.4444444444444444,
              "#bd3786"
             ],
             [
              0.5555555555555556,
              "#d8576b"
             ],
             [
              0.6666666666666666,
              "#ed7953"
             ],
             [
              0.7777777777777778,
              "#fb9f3a"
             ],
             [
              0.8888888888888888,
              "#fdca26"
             ],
             [
              1,
              "#f0f921"
             ]
            ],
            "type": "histogram2d"
           }
          ],
          "histogram2dcontour": [
           {
            "colorbar": {
             "outlinewidth": 0,
             "ticks": ""
            },
            "colorscale": [
             [
              0,
              "#0d0887"
             ],
             [
              0.1111111111111111,
              "#46039f"
             ],
             [
              0.2222222222222222,
              "#7201a8"
             ],
             [
              0.3333333333333333,
              "#9c179e"
             ],
             [
              0.4444444444444444,
              "#bd3786"
             ],
             [
              0.5555555555555556,
              "#d8576b"
             ],
             [
              0.6666666666666666,
              "#ed7953"
             ],
             [
              0.7777777777777778,
              "#fb9f3a"
             ],
             [
              0.8888888888888888,
              "#fdca26"
             ],
             [
              1,
              "#f0f921"
             ]
            ],
            "type": "histogram2dcontour"
           }
          ],
          "mesh3d": [
           {
            "colorbar": {
             "outlinewidth": 0,
             "ticks": ""
            },
            "type": "mesh3d"
           }
          ],
          "parcoords": [
           {
            "line": {
             "colorbar": {
              "outlinewidth": 0,
              "ticks": ""
             }
            },
            "type": "parcoords"
           }
          ],
          "pie": [
           {
            "automargin": true,
            "type": "pie"
           }
          ],
          "scatter": [
           {
            "fillpattern": {
             "fillmode": "overlay",
             "size": 10,
             "solidity": 0.2
            },
            "type": "scatter"
           }
          ],
          "scatter3d": [
           {
            "line": {
             "colorbar": {
              "outlinewidth": 0,
              "ticks": ""
             }
            },
            "marker": {
             "colorbar": {
              "outlinewidth": 0,
              "ticks": ""
             }
            },
            "type": "scatter3d"
           }
          ],
          "scattercarpet": [
           {
            "marker": {
             "colorbar": {
              "outlinewidth": 0,
              "ticks": ""
             }
            },
            "type": "scattercarpet"
           }
          ],
          "scattergeo": [
           {
            "marker": {
             "colorbar": {
              "outlinewidth": 0,
              "ticks": ""
             }
            },
            "type": "scattergeo"
           }
          ],
          "scattergl": [
           {
            "marker": {
             "colorbar": {
              "outlinewidth": 0,
              "ticks": ""
             }
            },
            "type": "scattergl"
           }
          ],
          "scattermapbox": [
           {
            "marker": {
             "colorbar": {
              "outlinewidth": 0,
              "ticks": ""
             }
            },
            "type": "scattermapbox"
           }
          ],
          "scatterpolar": [
           {
            "marker": {
             "colorbar": {
              "outlinewidth": 0,
              "ticks": ""
             }
            },
            "type": "scatterpolar"
           }
          ],
          "scatterpolargl": [
           {
            "marker": {
             "colorbar": {
              "outlinewidth": 0,
              "ticks": ""
             }
            },
            "type": "scatterpolargl"
           }
          ],
          "scatterternary": [
           {
            "marker": {
             "colorbar": {
              "outlinewidth": 0,
              "ticks": ""
             }
            },
            "type": "scatterternary"
           }
          ],
          "surface": [
           {
            "colorbar": {
             "outlinewidth": 0,
             "ticks": ""
            },
            "colorscale": [
             [
              0,
              "#0d0887"
             ],
             [
              0.1111111111111111,
              "#46039f"
             ],
             [
              0.2222222222222222,
              "#7201a8"
             ],
             [
              0.3333333333333333,
              "#9c179e"
             ],
             [
              0.4444444444444444,
              "#bd3786"
             ],
             [
              0.5555555555555556,
              "#d8576b"
             ],
             [
              0.6666666666666666,
              "#ed7953"
             ],
             [
              0.7777777777777778,
              "#fb9f3a"
             ],
             [
              0.8888888888888888,
              "#fdca26"
             ],
             [
              1,
              "#f0f921"
             ]
            ],
            "type": "surface"
           }
          ],
          "table": [
           {
            "cells": {
             "fill": {
              "color": "#EBF0F8"
             },
             "line": {
              "color": "white"
             }
            },
            "header": {
             "fill": {
              "color": "#C8D4E3"
             },
             "line": {
              "color": "white"
             }
            },
            "type": "table"
           }
          ]
         },
         "layout": {
          "annotationdefaults": {
           "arrowcolor": "#2a3f5f",
           "arrowhead": 0,
           "arrowwidth": 1
          },
          "autotypenumbers": "strict",
          "coloraxis": {
           "colorbar": {
            "outlinewidth": 0,
            "ticks": ""
           }
          },
          "colorscale": {
           "diverging": [
            [
             0,
             "#8e0152"
            ],
            [
             0.1,
             "#c51b7d"
            ],
            [
             0.2,
             "#de77ae"
            ],
            [
             0.3,
             "#f1b6da"
            ],
            [
             0.4,
             "#fde0ef"
            ],
            [
             0.5,
             "#f7f7f7"
            ],
            [
             0.6,
             "#e6f5d0"
            ],
            [
             0.7,
             "#b8e186"
            ],
            [
             0.8,
             "#7fbc41"
            ],
            [
             0.9,
             "#4d9221"
            ],
            [
             1,
             "#276419"
            ]
           ],
           "sequential": [
            [
             0,
             "#0d0887"
            ],
            [
             0.1111111111111111,
             "#46039f"
            ],
            [
             0.2222222222222222,
             "#7201a8"
            ],
            [
             0.3333333333333333,
             "#9c179e"
            ],
            [
             0.4444444444444444,
             "#bd3786"
            ],
            [
             0.5555555555555556,
             "#d8576b"
            ],
            [
             0.6666666666666666,
             "#ed7953"
            ],
            [
             0.7777777777777778,
             "#fb9f3a"
            ],
            [
             0.8888888888888888,
             "#fdca26"
            ],
            [
             1,
             "#f0f921"
            ]
           ],
           "sequentialminus": [
            [
             0,
             "#0d0887"
            ],
            [
             0.1111111111111111,
             "#46039f"
            ],
            [
             0.2222222222222222,
             "#7201a8"
            ],
            [
             0.3333333333333333,
             "#9c179e"
            ],
            [
             0.4444444444444444,
             "#bd3786"
            ],
            [
             0.5555555555555556,
             "#d8576b"
            ],
            [
             0.6666666666666666,
             "#ed7953"
            ],
            [
             0.7777777777777778,
             "#fb9f3a"
            ],
            [
             0.8888888888888888,
             "#fdca26"
            ],
            [
             1,
             "#f0f921"
            ]
           ]
          },
          "colorway": [
           "#636efa",
           "#EF553B",
           "#00cc96",
           "#ab63fa",
           "#FFA15A",
           "#19d3f3",
           "#FF6692",
           "#B6E880",
           "#FF97FF",
           "#FECB52"
          ],
          "font": {
           "color": "#2a3f5f"
          },
          "geo": {
           "bgcolor": "white",
           "lakecolor": "white",
           "landcolor": "#E5ECF6",
           "showlakes": true,
           "showland": true,
           "subunitcolor": "white"
          },
          "hoverlabel": {
           "align": "left"
          },
          "hovermode": "closest",
          "mapbox": {
           "style": "light"
          },
          "paper_bgcolor": "white",
          "plot_bgcolor": "#E5ECF6",
          "polar": {
           "angularaxis": {
            "gridcolor": "white",
            "linecolor": "white",
            "ticks": ""
           },
           "bgcolor": "#E5ECF6",
           "radialaxis": {
            "gridcolor": "white",
            "linecolor": "white",
            "ticks": ""
           }
          },
          "scene": {
           "xaxis": {
            "backgroundcolor": "#E5ECF6",
            "gridcolor": "white",
            "gridwidth": 2,
            "linecolor": "white",
            "showbackground": true,
            "ticks": "",
            "zerolinecolor": "white"
           },
           "yaxis": {
            "backgroundcolor": "#E5ECF6",
            "gridcolor": "white",
            "gridwidth": 2,
            "linecolor": "white",
            "showbackground": true,
            "ticks": "",
            "zerolinecolor": "white"
           },
           "zaxis": {
            "backgroundcolor": "#E5ECF6",
            "gridcolor": "white",
            "gridwidth": 2,
            "linecolor": "white",
            "showbackground": true,
            "ticks": "",
            "zerolinecolor": "white"
           }
          },
          "shapedefaults": {
           "line": {
            "color": "#2a3f5f"
           }
          },
          "ternary": {
           "aaxis": {
            "gridcolor": "white",
            "linecolor": "white",
            "ticks": ""
           },
           "baxis": {
            "gridcolor": "white",
            "linecolor": "white",
            "ticks": ""
           },
           "bgcolor": "#E5ECF6",
           "caxis": {
            "gridcolor": "white",
            "linecolor": "white",
            "ticks": ""
           }
          },
          "title": {
           "x": 0.05
          },
          "xaxis": {
           "automargin": true,
           "gridcolor": "white",
           "linecolor": "white",
           "ticks": "",
           "title": {
            "standoff": 15
           },
           "zerolinecolor": "white",
           "zerolinewidth": 2
          },
          "yaxis": {
           "automargin": true,
           "gridcolor": "white",
           "linecolor": "white",
           "ticks": "",
           "title": {
            "standoff": 15
           },
           "zerolinecolor": "white",
           "zerolinewidth": 2
          }
         }
        },
        "title": {
         "text": "Western Canada Natural Gas Storage"
        },
        "xaxis": {
         "anchor": "y",
         "domain": [
          0,
          0.98
         ],
         "title": {
          "text": "REF_DATE"
         }
        },
        "xaxis2": {
         "anchor": "y2",
         "domain": [
          0,
          0.98
         ],
         "matches": "x",
         "showticklabels": false
        },
        "xaxis3": {
         "anchor": "y3",
         "domain": [
          0,
          0.98
         ],
         "matches": "x",
         "showticklabels": false
        },
        "yaxis": {
         "anchor": "x",
         "domain": [
          0,
          0.16666666666666666
         ],
         "title": {
          "text": "MMBtu"
         }
        },
        "yaxis2": {
         "anchor": "x2",
         "domain": [
          0.41666666666666663,
          0.5833333333333333
         ],
         "title": {
          "text": "MMBtu"
         }
        },
        "yaxis3": {
         "anchor": "x3",
         "domain": [
          0.8333333333333333,
          0.9999999999999999
         ],
         "title": {
          "text": "MMBtu"
         }
        }
       }
      }
     },
     "metadata": {},
     "output_type": "display_data"
    }
   ],
   "source": [
    "import plotly.express as px\n",
    "fig = px.line(df_copy, x='REF_DATE', y='MMBtu', color='GEO', facet_row='Storage',\n",
    "              title=\"Western Canada Natural Gas Storage\",\n",
    "              facet_row_spacing=0.25, facet_col_spacing=0.10, facet_col_wrap=3)\n",
    "\n",
    "fig.for_each_annotation(lambda a: a.update(text=a.text.split(\"=\")[-1]))\n",
    "fig.update_yaxes(matches=None)\n",
    "\n",
    "\n",
    "# Remove the legend\n",
    "fig.update_traces(showlegend=False)\n",
    "\n",
    "fig.show()\n"
   ]
  },
  {
   "cell_type": "code",
   "execution_count": 228,
   "metadata": {},
   "outputs": [
    {
     "data": {
      "application/vnd.plotly.v1+json": {
       "config": {
        "plotlyServerURL": "https://plot.ly"
       },
       "data": [
        {
         "hovertemplate": "GEO=Alberta<br>Storage=Opening inventory<br>REF_DATE=%{x}<br>MMBtu=%{y}<extra></extra>",
         "legendgroup": "Alberta",
         "line": {
          "color": "#636efa",
          "dash": "solid"
         },
         "marker": {
          "symbol": "circle"
         },
         "mode": "lines",
         "name": "Alberta",
         "orientation": "v",
         "showlegend": false,
         "type": "scatter",
         "x": [
          "2016-01",
          "2016-02",
          "2016-03",
          "2016-04",
          "2016-05",
          "2016-06",
          "2016-07",
          "2016-08",
          "2016-09",
          "2016-10",
          "2016-11",
          "2016-12",
          "2017-01",
          "2017-02",
          "2017-03",
          "2017-04",
          "2017-05",
          "2017-06",
          "2017-07",
          "2017-08",
          "2017-09",
          "2017-10",
          "2017-11",
          "2017-12",
          "2018-01",
          "2018-02",
          "2018-03",
          "2018-04",
          "2018-05",
          "2018-06",
          "2018-07",
          "2018-08",
          "2018-09",
          "2018-10",
          "2018-11",
          "2018-12",
          "2019-01",
          "2019-02",
          "2019-03",
          "2019-04",
          "2019-05",
          "2019-06",
          "2019-07",
          "2019-08",
          "2019-09",
          "2019-10",
          "2019-11",
          "2019-12",
          "2020-01",
          "2020-02",
          "2020-03",
          "2020-04",
          "2020-05",
          "2020-06",
          "2020-07",
          "2020-08",
          "2020-09",
          "2020-10",
          "2020-11",
          "2020-12",
          "2021-01",
          "2021-02",
          "2021-03",
          "2021-04",
          "2021-05",
          "2021-06",
          "2021-07",
          "2021-08",
          "2021-09",
          "2021-10",
          "2021-11",
          "2021-12",
          "2022-01",
          "2022-02",
          "2022-03",
          "2022-04",
          "2022-05",
          "2022-06",
          "2022-07",
          "2022-08",
          "2022-09",
          "2022-10",
          "2022-11",
          "2022-12",
          "2023-01",
          "2023-02",
          "2023-03",
          "2023-04",
          "2023-05",
          "2023-06",
          "2023-07"
         ],
         "xaxis": "x3",
         "y": [
          534998.2478903632,
          502937.67225131695,
          497086.85728356516,
          519642.001382744,
          544008.8268442117,
          556741.3602053261,
          572222.243268582,
          576197.4485495351,
          590657.088467328,
          591397.9940712376,
          581425.1754477328,
          577395.6074137893,
          536272.0789491109,
          494238.0217261576,
          470212.2420373702,
          454605.68062355986,
          469594.0788165192,
          493989.6009925445,
          523073.9579683085,
          550194.8156496517,
          564523.947076816,
          580745.4516180947,
          575539.0341614003,
          551844.1664220005,
          519893.2633752241,
          474545.06710106175,
          427170.01145974244,
          401180.16422476096,
          402884.8248363893,
          412836.4287270197,
          428557.96641631855,
          444975.2336935401,
          465468.4762328678,
          472648.6215159045,
          478441.47480276745,
          471712.52142782544,
          457501.49166090344,
          412159.4514476198,
          351727.2012653059,
          330787.69166658644,
          344012.52048073965,
          356544.745091724,
          369346.6998778244,
          386303.0486707629,
          398267.40034284367,
          405496.60469565226,
          424584.27647342783,
          413991.8739996385,
          395354.1629177819,
          355299.32662164717,
          332765.87079848716,
          327081.55360034725,
          365335.2211920014,
          416633.1082424904,
          466235.33200109686,
          507403.56293861737,
          547976.1713089658,
          583841.6661141975,
          597802.0021404127,
          579393.8647750174,
          521177.70180040906,
          453412.162482122,
          372739.5417996519,
          356697.98365328927,
          373722.6173676669,
          394919.9238542608,
          415741.23708410916,
          431466.08957541955,
          456235.6161269836,
          481375.8322520746,
          481621.032892305,
          471014.518832809,
          413094.7938666676,
          347528.3889115124,
          294948.9994033345,
          268289.56216200755,
          266553.74241147004,
          293620.5214657096,
          322575.60116302076,
          365863.50592402334,
          406545.31334349717,
          433503.36689175584,
          455670.2056124316,
          443355.6214306669,
          377712.21836021333,
          348089.0639946192,
          326006.9894968118,
          322747.8761589956,
          372770.51152130327,
          411430.10029643646,
          448034.3224071128
         ],
         "yaxis": "y3"
        },
        {
         "hovertemplate": "GEO=Alberta<br>Storage=Closing inventory<br>REF_DATE=%{x}<br>MMBtu=%{y}<extra></extra>",
         "legendgroup": "Alberta",
         "line": {
          "color": "#636efa",
          "dash": "solid"
         },
         "marker": {
          "symbol": "circle"
         },
         "mode": "lines",
         "name": "Alberta",
         "orientation": "v",
         "showlegend": false,
         "type": "scatter",
         "x": [
          "2016-01",
          "2016-02",
          "2016-03",
          "2016-04",
          "2016-05",
          "2016-06",
          "2016-07",
          "2016-08",
          "2016-09",
          "2016-10",
          "2016-11",
          "2016-12",
          "2017-01",
          "2017-02",
          "2017-03",
          "2017-04",
          "2017-05",
          "2017-06",
          "2017-07",
          "2017-08",
          "2017-09",
          "2017-10",
          "2017-11",
          "2017-12",
          "2018-01",
          "2018-02",
          "2018-03",
          "2018-04",
          "2018-05",
          "2018-06",
          "2018-07",
          "2018-08",
          "2018-09",
          "2018-10",
          "2018-11",
          "2018-12",
          "2019-01",
          "2019-02",
          "2019-03",
          "2019-04",
          "2019-05",
          "2019-06",
          "2019-07",
          "2019-08",
          "2019-09",
          "2019-10",
          "2019-11",
          "2019-12",
          "2020-01",
          "2020-02",
          "2020-03",
          "2020-04",
          "2020-05",
          "2020-06",
          "2020-07",
          "2020-08",
          "2020-09",
          "2020-10",
          "2020-11",
          "2020-12",
          "2021-01",
          "2021-02",
          "2021-03",
          "2021-04",
          "2021-05",
          "2021-06",
          "2021-07",
          "2021-08",
          "2021-09",
          "2021-10",
          "2021-11",
          "2021-12",
          "2022-01",
          "2022-02",
          "2022-03",
          "2022-04",
          "2022-05",
          "2022-06",
          "2022-07",
          "2022-08",
          "2022-09",
          "2022-10",
          "2022-11",
          "2022-12",
          "2023-01",
          "2023-02",
          "2023-03",
          "2023-04",
          "2023-05",
          "2023-06",
          "2023-07"
         ],
         "xaxis": "x2",
         "y": [
          502937.67225131695,
          497086.85728356516,
          519642.001382744,
          544008.8268442117,
          556741.3602053261,
          572222.243268582,
          576197.4485495351,
          590657.088467328,
          591397.9940712376,
          581425.1754477328,
          577395.6074137893,
          536272.0789491109,
          494238.0217261576,
          470212.2420373702,
          454605.68062355986,
          469594.0788165192,
          493989.6009925445,
          523073.9579683085,
          550194.8156496517,
          564523.947076816,
          580745.4516180947,
          575539.0341614003,
          551844.1664220005,
          519893.2633752241,
          474545.06710106175,
          427170.01145974244,
          401180.16422476096,
          402884.8248363893,
          412836.4287270197,
          428557.96641631855,
          444975.2336935401,
          465468.4762328678,
          472648.6215159045,
          478441.47480276745,
          471712.52142782544,
          457501.49166090344,
          412159.4514476198,
          351727.2012653059,
          330787.69166658644,
          344012.52048073965,
          356544.745091724,
          369346.6998778244,
          386303.0486707629,
          398267.40034284367,
          405496.60469565226,
          424584.27647342783,
          413991.8739996385,
          395354.1629177819,
          355299.32662164717,
          332765.87079848716,
          327081.55360034725,
          365335.2211920014,
          416633.1082424904,
          466235.33200109686,
          507403.56293861737,
          547976.1713089658,
          583841.6661141975,
          597802.0021404127,
          579393.8647750174,
          521177.70180040906,
          453412.162482122,
          372739.5417996519,
          356697.98365328927,
          373722.6173676669,
          394919.9238542608,
          415741.23708410916,
          431466.08957541955,
          456235.6161269836,
          481375.8322520746,
          481621.032892305,
          471014.518832809,
          413094.7938666676,
          347528.3889115124,
          294948.9994033345,
          268289.56216200755,
          266553.74241147004,
          293620.5214657096,
          322575.60116302076,
          365863.50592402334,
          406545.31334349717,
          433503.36689175584,
          455670.2056124316,
          443355.6214306669,
          377712.21836021333,
          348089.0639946192,
          326006.9894968118,
          322747.8761589956,
          372770.51152130327,
          411430.10029643646,
          448034.3224071128,
          483595.8025135651
         ],
         "yaxis": "y2"
        },
        {
         "hovertemplate": "GEO=Alberta<br>Storage=Inventory change<br>REF_DATE=%{x}<br>MMBtu=%{y}<extra></extra>",
         "legendgroup": "Alberta",
         "line": {
          "color": "#636efa",
          "dash": "solid"
         },
         "marker": {
          "symbol": "circle"
         },
         "mode": "lines",
         "name": "Alberta",
         "orientation": "v",
         "showlegend": false,
         "type": "scatter",
         "x": [
          "2016-01",
          "2016-02",
          "2016-03",
          "2016-04",
          "2016-05",
          "2016-06",
          "2016-07",
          "2016-08",
          "2016-09",
          "2016-10",
          "2016-11",
          "2016-12",
          "2017-01",
          "2017-02",
          "2017-03",
          "2017-04",
          "2017-05",
          "2017-06",
          "2017-07",
          "2017-08",
          "2017-09",
          "2017-10",
          "2017-11",
          "2017-12",
          "2018-01",
          "2018-02",
          "2018-03",
          "2018-04",
          "2018-05",
          "2018-06",
          "2018-07",
          "2018-08",
          "2018-09",
          "2018-10",
          "2018-11",
          "2018-12",
          "2019-01",
          "2019-02",
          "2019-03",
          "2019-04",
          "2019-05",
          "2019-06",
          "2019-07",
          "2019-08",
          "2019-09",
          "2019-10",
          "2019-11",
          "2019-12",
          "2020-01",
          "2020-02",
          "2020-03",
          "2020-04",
          "2020-05",
          "2020-06",
          "2020-07",
          "2020-08",
          "2020-09",
          "2020-10",
          "2020-11",
          "2020-12",
          "2021-01",
          "2021-02",
          "2021-03",
          "2021-04",
          "2021-05",
          "2021-06",
          "2021-07",
          "2021-08",
          "2021-09",
          "2021-10",
          "2021-11",
          "2021-12",
          "2022-01",
          "2022-02",
          "2022-03",
          "2022-04",
          "2022-05",
          "2022-06",
          "2022-07",
          "2022-08",
          "2022-09",
          "2022-10",
          "2022-11",
          "2022-12",
          "2023-01",
          "2023-02",
          "2023-03",
          "2023-04",
          "2023-05",
          "2023-06",
          "2023-07"
         ],
         "xaxis": "x",
         "y": [
          -23175.675035752418,
          -5850.909676380593,
          22555.14409917879,
          24366.920170096604,
          12732.533361114482,
          15480.883063255833,
          3975.2052809531324,
          14459.54520916395,
          740.9056039095693,
          -9972.818623504749,
          -4029.568033943557,
          -41123.52846467826,
          -42033.96251432452,
          -24025.874397416257,
          -15606.561413810352,
          14988.398192959303,
          24395.522176025363,
          29084.35697576395,
          27120.85768134324,
          14329.131427164275,
          16221.599249907598,
          -5206.512165323362,
          -23694.867739399648,
          -31950.903046776468,
          -45348.196274162365,
          -47375.0556413193,
          -25989.84723498148,
          1704.660611628319,
          9951.603890630437,
          15721.537689298813,
          16417.17256859266,
          20493.33724795658,
          7180.14528303671,
          5792.853286862944,
          -6728.858666313062,
          -14211.029766922009,
          -45342.04021328366,
          -60432.250182313874,
          -20939.50959871946,
          13224.828814153207,
          12532.224610984258,
          12801.954786100512,
          16956.34879293846,
          11964.4463807097,
          7229.204352808557,
          19087.6717777756,
          -10592.402473789347,
          -18637.805790485498,
          -40054.83629613478,
          -22533.361114531057,
          -5684.3171981399,
          38253.66759165413,
          51297.88705048897,
          49602.22375860646,
          41168.23093752056,
          40572.60837034847,
          35865.49480523157,
          13960.336026215295,
          -18408.232074024196,
          -58216.16297460839,
          -67765.53931828703,
          -80672.62068247008,
          -16041.558146362653,
          17024.63371437765,
          21197.306486593912,
          20821.31322984829,
          15724.947199939326,
          24769.52655156402,
          25140.121416462156,
          245.29534885923363,
          -10606.51405949592,
          -57919.81967477035,
          -65566.40495515522,
          -52579.38950817789,
          -26659.437241326956,
          -1735.8197505374646,
          27066.779054239527,
          28955.07969731111,
          43287.90476100261,
          40681.80741947383,
          26957.958839629773,
          22166.838720675754,
          -12314.584181764754,
          -65643.4030704535,
          -29623.249074223037,
          -22081.97978917851,
          -3259.113337816196,
          50022.63536230767,
          38659.588775133154,
          36604.22211067637,
          35561.48010645236
         ],
         "yaxis": "y"
        }
       ],
       "layout": {
        "annotations": [
         {
          "font": {},
          "showarrow": false,
          "text": "Inventory change",
          "textangle": 90,
          "x": 0.98,
          "xanchor": "left",
          "xref": "paper",
          "y": 0.08333333333333333,
          "yanchor": "middle",
          "yref": "paper"
         },
         {
          "font": {},
          "showarrow": false,
          "text": "Closing inventory",
          "textangle": 90,
          "x": 0.98,
          "xanchor": "left",
          "xref": "paper",
          "y": 0.49999999999999994,
          "yanchor": "middle",
          "yref": "paper"
         },
         {
          "font": {},
          "showarrow": false,
          "text": "Opening inventory",
          "textangle": 90,
          "x": 0.98,
          "xanchor": "left",
          "xref": "paper",
          "y": 0.9166666666666665,
          "yanchor": "middle",
          "yref": "paper"
         }
        ],
        "legend": {
         "title": {
          "text": "GEO"
         },
         "tracegroupgap": 0
        },
        "template": {
         "data": {
          "bar": [
           {
            "error_x": {
             "color": "#2a3f5f"
            },
            "error_y": {
             "color": "#2a3f5f"
            },
            "marker": {
             "line": {
              "color": "#E5ECF6",
              "width": 0.5
             },
             "pattern": {
              "fillmode": "overlay",
              "size": 10,
              "solidity": 0.2
             }
            },
            "type": "bar"
           }
          ],
          "barpolar": [
           {
            "marker": {
             "line": {
              "color": "#E5ECF6",
              "width": 0.5
             },
             "pattern": {
              "fillmode": "overlay",
              "size": 10,
              "solidity": 0.2
             }
            },
            "type": "barpolar"
           }
          ],
          "carpet": [
           {
            "aaxis": {
             "endlinecolor": "#2a3f5f",
             "gridcolor": "white",
             "linecolor": "white",
             "minorgridcolor": "white",
             "startlinecolor": "#2a3f5f"
            },
            "baxis": {
             "endlinecolor": "#2a3f5f",
             "gridcolor": "white",
             "linecolor": "white",
             "minorgridcolor": "white",
             "startlinecolor": "#2a3f5f"
            },
            "type": "carpet"
           }
          ],
          "choropleth": [
           {
            "colorbar": {
             "outlinewidth": 0,
             "ticks": ""
            },
            "type": "choropleth"
           }
          ],
          "contour": [
           {
            "colorbar": {
             "outlinewidth": 0,
             "ticks": ""
            },
            "colorscale": [
             [
              0,
              "#0d0887"
             ],
             [
              0.1111111111111111,
              "#46039f"
             ],
             [
              0.2222222222222222,
              "#7201a8"
             ],
             [
              0.3333333333333333,
              "#9c179e"
             ],
             [
              0.4444444444444444,
              "#bd3786"
             ],
             [
              0.5555555555555556,
              "#d8576b"
             ],
             [
              0.6666666666666666,
              "#ed7953"
             ],
             [
              0.7777777777777778,
              "#fb9f3a"
             ],
             [
              0.8888888888888888,
              "#fdca26"
             ],
             [
              1,
              "#f0f921"
             ]
            ],
            "type": "contour"
           }
          ],
          "contourcarpet": [
           {
            "colorbar": {
             "outlinewidth": 0,
             "ticks": ""
            },
            "type": "contourcarpet"
           }
          ],
          "heatmap": [
           {
            "colorbar": {
             "outlinewidth": 0,
             "ticks": ""
            },
            "colorscale": [
             [
              0,
              "#0d0887"
             ],
             [
              0.1111111111111111,
              "#46039f"
             ],
             [
              0.2222222222222222,
              "#7201a8"
             ],
             [
              0.3333333333333333,
              "#9c179e"
             ],
             [
              0.4444444444444444,
              "#bd3786"
             ],
             [
              0.5555555555555556,
              "#d8576b"
             ],
             [
              0.6666666666666666,
              "#ed7953"
             ],
             [
              0.7777777777777778,
              "#fb9f3a"
             ],
             [
              0.8888888888888888,
              "#fdca26"
             ],
             [
              1,
              "#f0f921"
             ]
            ],
            "type": "heatmap"
           }
          ],
          "heatmapgl": [
           {
            "colorbar": {
             "outlinewidth": 0,
             "ticks": ""
            },
            "colorscale": [
             [
              0,
              "#0d0887"
             ],
             [
              0.1111111111111111,
              "#46039f"
             ],
             [
              0.2222222222222222,
              "#7201a8"
             ],
             [
              0.3333333333333333,
              "#9c179e"
             ],
             [
              0.4444444444444444,
              "#bd3786"
             ],
             [
              0.5555555555555556,
              "#d8576b"
             ],
             [
              0.6666666666666666,
              "#ed7953"
             ],
             [
              0.7777777777777778,
              "#fb9f3a"
             ],
             [
              0.8888888888888888,
              "#fdca26"
             ],
             [
              1,
              "#f0f921"
             ]
            ],
            "type": "heatmapgl"
           }
          ],
          "histogram": [
           {
            "marker": {
             "pattern": {
              "fillmode": "overlay",
              "size": 10,
              "solidity": 0.2
             }
            },
            "type": "histogram"
           }
          ],
          "histogram2d": [
           {
            "colorbar": {
             "outlinewidth": 0,
             "ticks": ""
            },
            "colorscale": [
             [
              0,
              "#0d0887"
             ],
             [
              0.1111111111111111,
              "#46039f"
             ],
             [
              0.2222222222222222,
              "#7201a8"
             ],
             [
              0.3333333333333333,
              "#9c179e"
             ],
             [
              0.4444444444444444,
              "#bd3786"
             ],
             [
              0.5555555555555556,
              "#d8576b"
             ],
             [
              0.6666666666666666,
              "#ed7953"
             ],
             [
              0.7777777777777778,
              "#fb9f3a"
             ],
             [
              0.8888888888888888,
              "#fdca26"
             ],
             [
              1,
              "#f0f921"
             ]
            ],
            "type": "histogram2d"
           }
          ],
          "histogram2dcontour": [
           {
            "colorbar": {
             "outlinewidth": 0,
             "ticks": ""
            },
            "colorscale": [
             [
              0,
              "#0d0887"
             ],
             [
              0.1111111111111111,
              "#46039f"
             ],
             [
              0.2222222222222222,
              "#7201a8"
             ],
             [
              0.3333333333333333,
              "#9c179e"
             ],
             [
              0.4444444444444444,
              "#bd3786"
             ],
             [
              0.5555555555555556,
              "#d8576b"
             ],
             [
              0.6666666666666666,
              "#ed7953"
             ],
             [
              0.7777777777777778,
              "#fb9f3a"
             ],
             [
              0.8888888888888888,
              "#fdca26"
             ],
             [
              1,
              "#f0f921"
             ]
            ],
            "type": "histogram2dcontour"
           }
          ],
          "mesh3d": [
           {
            "colorbar": {
             "outlinewidth": 0,
             "ticks": ""
            },
            "type": "mesh3d"
           }
          ],
          "parcoords": [
           {
            "line": {
             "colorbar": {
              "outlinewidth": 0,
              "ticks": ""
             }
            },
            "type": "parcoords"
           }
          ],
          "pie": [
           {
            "automargin": true,
            "type": "pie"
           }
          ],
          "scatter": [
           {
            "fillpattern": {
             "fillmode": "overlay",
             "size": 10,
             "solidity": 0.2
            },
            "type": "scatter"
           }
          ],
          "scatter3d": [
           {
            "line": {
             "colorbar": {
              "outlinewidth": 0,
              "ticks": ""
             }
            },
            "marker": {
             "colorbar": {
              "outlinewidth": 0,
              "ticks": ""
             }
            },
            "type": "scatter3d"
           }
          ],
          "scattercarpet": [
           {
            "marker": {
             "colorbar": {
              "outlinewidth": 0,
              "ticks": ""
             }
            },
            "type": "scattercarpet"
           }
          ],
          "scattergeo": [
           {
            "marker": {
             "colorbar": {
              "outlinewidth": 0,
              "ticks": ""
             }
            },
            "type": "scattergeo"
           }
          ],
          "scattergl": [
           {
            "marker": {
             "colorbar": {
              "outlinewidth": 0,
              "ticks": ""
             }
            },
            "type": "scattergl"
           }
          ],
          "scattermapbox": [
           {
            "marker": {
             "colorbar": {
              "outlinewidth": 0,
              "ticks": ""
             }
            },
            "type": "scattermapbox"
           }
          ],
          "scatterpolar": [
           {
            "marker": {
             "colorbar": {
              "outlinewidth": 0,
              "ticks": ""
             }
            },
            "type": "scatterpolar"
           }
          ],
          "scatterpolargl": [
           {
            "marker": {
             "colorbar": {
              "outlinewidth": 0,
              "ticks": ""
             }
            },
            "type": "scatterpolargl"
           }
          ],
          "scatterternary": [
           {
            "marker": {
             "colorbar": {
              "outlinewidth": 0,
              "ticks": ""
             }
            },
            "type": "scatterternary"
           }
          ],
          "surface": [
           {
            "colorbar": {
             "outlinewidth": 0,
             "ticks": ""
            },
            "colorscale": [
             [
              0,
              "#0d0887"
             ],
             [
              0.1111111111111111,
              "#46039f"
             ],
             [
              0.2222222222222222,
              "#7201a8"
             ],
             [
              0.3333333333333333,
              "#9c179e"
             ],
             [
              0.4444444444444444,
              "#bd3786"
             ],
             [
              0.5555555555555556,
              "#d8576b"
             ],
             [
              0.6666666666666666,
              "#ed7953"
             ],
             [
              0.7777777777777778,
              "#fb9f3a"
             ],
             [
              0.8888888888888888,
              "#fdca26"
             ],
             [
              1,
              "#f0f921"
             ]
            ],
            "type": "surface"
           }
          ],
          "table": [
           {
            "cells": {
             "fill": {
              "color": "#EBF0F8"
             },
             "line": {
              "color": "white"
             }
            },
            "header": {
             "fill": {
              "color": "#C8D4E3"
             },
             "line": {
              "color": "white"
             }
            },
            "type": "table"
           }
          ]
         },
         "layout": {
          "annotationdefaults": {
           "arrowcolor": "#2a3f5f",
           "arrowhead": 0,
           "arrowwidth": 1
          },
          "autotypenumbers": "strict",
          "coloraxis": {
           "colorbar": {
            "outlinewidth": 0,
            "ticks": ""
           }
          },
          "colorscale": {
           "diverging": [
            [
             0,
             "#8e0152"
            ],
            [
             0.1,
             "#c51b7d"
            ],
            [
             0.2,
             "#de77ae"
            ],
            [
             0.3,
             "#f1b6da"
            ],
            [
             0.4,
             "#fde0ef"
            ],
            [
             0.5,
             "#f7f7f7"
            ],
            [
             0.6,
             "#e6f5d0"
            ],
            [
             0.7,
             "#b8e186"
            ],
            [
             0.8,
             "#7fbc41"
            ],
            [
             0.9,
             "#4d9221"
            ],
            [
             1,
             "#276419"
            ]
           ],
           "sequential": [
            [
             0,
             "#0d0887"
            ],
            [
             0.1111111111111111,
             "#46039f"
            ],
            [
             0.2222222222222222,
             "#7201a8"
            ],
            [
             0.3333333333333333,
             "#9c179e"
            ],
            [
             0.4444444444444444,
             "#bd3786"
            ],
            [
             0.5555555555555556,
             "#d8576b"
            ],
            [
             0.6666666666666666,
             "#ed7953"
            ],
            [
             0.7777777777777778,
             "#fb9f3a"
            ],
            [
             0.8888888888888888,
             "#fdca26"
            ],
            [
             1,
             "#f0f921"
            ]
           ],
           "sequentialminus": [
            [
             0,
             "#0d0887"
            ],
            [
             0.1111111111111111,
             "#46039f"
            ],
            [
             0.2222222222222222,
             "#7201a8"
            ],
            [
             0.3333333333333333,
             "#9c179e"
            ],
            [
             0.4444444444444444,
             "#bd3786"
            ],
            [
             0.5555555555555556,
             "#d8576b"
            ],
            [
             0.6666666666666666,
             "#ed7953"
            ],
            [
             0.7777777777777778,
             "#fb9f3a"
            ],
            [
             0.8888888888888888,
             "#fdca26"
            ],
            [
             1,
             "#f0f921"
            ]
           ]
          },
          "colorway": [
           "#636efa",
           "#EF553B",
           "#00cc96",
           "#ab63fa",
           "#FFA15A",
           "#19d3f3",
           "#FF6692",
           "#B6E880",
           "#FF97FF",
           "#FECB52"
          ],
          "font": {
           "color": "#2a3f5f"
          },
          "geo": {
           "bgcolor": "white",
           "lakecolor": "white",
           "landcolor": "#E5ECF6",
           "showlakes": true,
           "showland": true,
           "subunitcolor": "white"
          },
          "hoverlabel": {
           "align": "left"
          },
          "hovermode": "closest",
          "mapbox": {
           "style": "light"
          },
          "paper_bgcolor": "white",
          "plot_bgcolor": "#E5ECF6",
          "polar": {
           "angularaxis": {
            "gridcolor": "white",
            "linecolor": "white",
            "ticks": ""
           },
           "bgcolor": "#E5ECF6",
           "radialaxis": {
            "gridcolor": "white",
            "linecolor": "white",
            "ticks": ""
           }
          },
          "scene": {
           "xaxis": {
            "backgroundcolor": "#E5ECF6",
            "gridcolor": "white",
            "gridwidth": 2,
            "linecolor": "white",
            "showbackground": true,
            "ticks": "",
            "zerolinecolor": "white"
           },
           "yaxis": {
            "backgroundcolor": "#E5ECF6",
            "gridcolor": "white",
            "gridwidth": 2,
            "linecolor": "white",
            "showbackground": true,
            "ticks": "",
            "zerolinecolor": "white"
           },
           "zaxis": {
            "backgroundcolor": "#E5ECF6",
            "gridcolor": "white",
            "gridwidth": 2,
            "linecolor": "white",
            "showbackground": true,
            "ticks": "",
            "zerolinecolor": "white"
           }
          },
          "shapedefaults": {
           "line": {
            "color": "#2a3f5f"
           }
          },
          "ternary": {
           "aaxis": {
            "gridcolor": "white",
            "linecolor": "white",
            "ticks": ""
           },
           "baxis": {
            "gridcolor": "white",
            "linecolor": "white",
            "ticks": ""
           },
           "bgcolor": "#E5ECF6",
           "caxis": {
            "gridcolor": "white",
            "linecolor": "white",
            "ticks": ""
           }
          },
          "title": {
           "x": 0.05
          },
          "xaxis": {
           "automargin": true,
           "gridcolor": "white",
           "linecolor": "white",
           "ticks": "",
           "title": {
            "standoff": 15
           },
           "zerolinecolor": "white",
           "zerolinewidth": 2
          },
          "yaxis": {
           "automargin": true,
           "gridcolor": "white",
           "linecolor": "white",
           "ticks": "",
           "title": {
            "standoff": 15
           },
           "zerolinecolor": "white",
           "zerolinewidth": 2
          }
         }
        },
        "title": {
         "text": "Alberta Natural Gas Storage"
        },
        "xaxis": {
         "anchor": "y",
         "domain": [
          0,
          0.98
         ],
         "title": {
          "text": "REF_DATE"
         }
        },
        "xaxis2": {
         "anchor": "y2",
         "domain": [
          0,
          0.98
         ],
         "matches": "x",
         "showticklabels": false
        },
        "xaxis3": {
         "anchor": "y3",
         "domain": [
          0,
          0.98
         ],
         "matches": "x",
         "showticklabels": false
        },
        "yaxis": {
         "anchor": "x",
         "domain": [
          0,
          0.16666666666666666
         ],
         "title": {
          "text": "MMBtu"
         }
        },
        "yaxis2": {
         "anchor": "x2",
         "domain": [
          0.41666666666666663,
          0.5833333333333333
         ],
         "title": {
          "text": "MMBtu"
         }
        },
        "yaxis3": {
         "anchor": "x3",
         "domain": [
          0.8333333333333333,
          0.9999999999999999
         ],
         "title": {
          "text": "MMBtu"
         }
        }
       }
      }
     },
     "metadata": {},
     "output_type": "display_data"
    }
   ],
   "source": [
    "import plotly.express as px\n",
    "\n",
    "fig = px.line(df_alberta, x='REF_DATE', y='MMBtu', color='GEO', facet_row='Storage',\n",
    "              title=\"Alberta Natural Gas Storage\",\n",
    "              facet_row_spacing=0.25, facet_col_spacing=0.10, facet_col_wrap=3)\n",
    "\n",
    "fig.for_each_annotation(lambda a: a.update(text=a.text.split(\"=\")[-1]))\n",
    "fig.update_yaxes(matches=None)\n",
    "\n",
    "\n",
    "# Remove the legend\n",
    "fig.update_traces(showlegend=False)\n",
    "\n",
    "fig.show()\n"
   ]
  },
  {
   "cell_type": "code",
   "execution_count": 229,
   "metadata": {},
   "outputs": [
    {
     "data": {
      "application/vnd.plotly.v1+json": {
       "config": {
        "plotlyServerURL": "https://plot.ly"
       },
       "data": [
        {
         "hovertemplate": "GEO=British Columbia<br>Storage=Opening inventory<br>REF_DATE=%{x}<br>MMBtu=%{y}<extra></extra>",
         "legendgroup": "British Columbia",
         "line": {
          "color": "#636efa",
          "dash": "solid"
         },
         "marker": {
          "symbol": "circle"
         },
         "mode": "lines",
         "name": "British Columbia",
         "orientation": "v",
         "showlegend": false,
         "type": "scatter",
         "x": [
          "2016-01",
          "2016-02",
          "2016-03",
          "2016-04",
          "2016-05",
          "2016-06",
          "2016-07",
          "2016-08",
          "2016-09",
          "2016-10",
          "2016-11",
          "2016-12",
          "2017-01",
          "2017-02",
          "2017-03",
          "2017-04",
          "2017-05",
          "2017-06",
          "2017-07",
          "2017-08",
          "2017-09",
          "2017-10",
          "2017-11",
          "2017-12",
          "2018-01",
          "2018-02",
          "2018-03",
          "2018-04",
          "2018-05",
          "2018-06",
          "2018-07",
          "2018-08",
          "2018-09",
          "2018-10",
          "2018-11",
          "2018-12",
          "2019-01",
          "2019-02",
          "2019-03",
          "2019-04",
          "2019-05",
          "2019-06",
          "2019-07",
          "2019-08",
          "2019-09",
          "2019-10",
          "2019-11",
          "2019-12",
          "2020-01",
          "2020-02",
          "2020-03",
          "2020-04",
          "2020-05",
          "2020-06",
          "2020-07",
          "2020-08",
          "2020-09",
          "2020-10",
          "2020-11",
          "2020-12",
          "2021-01",
          "2021-02",
          "2021-03",
          "2021-04",
          "2021-05",
          "2021-06",
          "2021-07",
          "2021-08",
          "2021-09",
          "2021-10",
          "2021-11",
          "2021-12",
          "2022-01",
          "2022-02",
          "2022-03",
          "2022-04",
          "2022-05",
          "2022-06",
          "2022-07",
          "2022-08",
          "2022-09",
          "2022-10",
          "2022-11",
          "2022-12",
          "2023-01",
          "2023-02",
          "2023-03",
          "2023-04",
          "2023-05",
          "2023-06",
          "2023-07"
         ],
         "xaxis": "x3",
         "y": [
          55264.757972098625,
          45992.40436796179,
          37888.47111860348,
          31830.717796698333,
          23395.96730658121,
          27383.390000662854,
          29288.16994516359,
          37263.29945921358,
          59258.05260117227,
          64065.17847841092,
          66733.12055461347,
          62786.99082273361,
          53396.72497561232,
          42743.89839658275,
          33609.72468201565,
          23964.31378862919,
          23395.96730658121,
          27383.390000662854,
          29288.16994516359,
          37263.29945921358,
          48376.220557454806,
          57570.34483411762,
          62421.983766940764,
          62102.53156165034,
          56228.32356255957,
          44604.2599941279,
          33786.829818064594,
          22999.611694621406,
          22399.253696004158,
          33345.96115052029,
          43142.811141522936,
          49248.8658641687,
          56120.82926875446,
          60726.60460094496,
          65976.39860967707,
          67439.26809171558,
          63181.35755348646,
          54584.8447252027,
          48986.99650525141,
          43412.6360252681,
          44122.19307301071,
          52845.0472122513,
          59711.706933618494,
          65104.88980651002,
          69121.67217555165,
          73588.60465777009,
          76808.31920596256,
          68192.95936052706,
          58256.224724634434,
          47320.97701421558,
          37336.69864661355,
          26391.506530159862,
          29476.640116680916,
          38478.884711185885,
          47825.67929764062,
          55088.50521370981,
          62355.49830945073,
          68235.95707804912,
          71081.47783344514,
          65724.28423953682,
          54982.526257967154,
          44002.6707833349,
          34065.93614744226,
          23280.32807069043,
          22683.663708600405,
          27207.705494047455,
          31117.467112428494,
          37824.16395957821,
          54317.387557180125,
          64431.41674637951,
          66871.67927869882,
          57373.06676011229,
          44334.340401753834,
          31895.687916125913,
          20781.725022966762,
          12648.621515906265,
          9726.860314243193,
          19803.195469139115,
          29515.186528644514,
          40634.92664816676,
          56935.60760320851,
          66647.2198281983,
          73599.96969323847,
          67561.63164025849,
          53843.93912129313,
          41531.15440347754,
          31434.267476109628,
          22311.1746711242,
          22268.366370859963,
          28222.319035487213,
          32502.10726699297
         ],
         "yaxis": "y3"
        },
        {
         "hovertemplate": "GEO=British Columbia<br>Storage=Closing inventory<br>REF_DATE=%{x}<br>MMBtu=%{y}<extra></extra>",
         "legendgroup": "British Columbia",
         "line": {
          "color": "#636efa",
          "dash": "solid"
         },
         "marker": {
          "symbol": "circle"
         },
         "mode": "lines",
         "name": "British Columbia",
         "orientation": "v",
         "showlegend": false,
         "type": "scatter",
         "x": [
          "2016-01",
          "2016-02",
          "2016-03",
          "2016-04",
          "2016-05",
          "2016-06",
          "2016-07",
          "2016-08",
          "2016-09",
          "2016-10",
          "2016-11",
          "2016-12",
          "2017-01",
          "2017-02",
          "2017-03",
          "2017-04",
          "2017-05",
          "2017-06",
          "2017-07",
          "2017-08",
          "2017-09",
          "2017-10",
          "2017-11",
          "2017-12",
          "2018-01",
          "2018-02",
          "2018-03",
          "2018-04",
          "2018-05",
          "2018-06",
          "2018-07",
          "2018-08",
          "2018-09",
          "2018-10",
          "2018-11",
          "2018-12",
          "2019-01",
          "2019-02",
          "2019-03",
          "2019-04",
          "2019-05",
          "2019-06",
          "2019-07",
          "2019-08",
          "2019-09",
          "2019-10",
          "2019-11",
          "2019-12",
          "2020-01",
          "2020-02",
          "2020-03",
          "2020-04",
          "2020-05",
          "2020-06",
          "2020-07",
          "2020-08",
          "2020-09",
          "2020-10",
          "2020-11",
          "2020-12",
          "2021-01",
          "2021-02",
          "2021-03",
          "2021-04",
          "2021-05",
          "2021-06",
          "2021-07",
          "2021-08",
          "2021-09",
          "2021-10",
          "2021-11",
          "2021-12",
          "2022-01",
          "2022-02",
          "2022-03",
          "2022-04",
          "2022-05",
          "2022-06",
          "2022-07",
          "2022-08",
          "2022-09",
          "2022-10",
          "2022-11",
          "2022-12",
          "2023-01",
          "2023-02",
          "2023-03",
          "2023-04",
          "2023-05",
          "2023-06",
          "2023-07"
         ],
         "xaxis": "x2",
         "y": [
          45992.40436796179,
          37888.47111860348,
          31830.717796698333,
          23395.96730658121,
          27383.390000662854,
          29288.16994516359,
          37263.29945921358,
          59258.05260117227,
          64065.17847841092,
          66733.12055461347,
          62786.99082273361,
          53396.72497561232,
          42743.89839658275,
          33609.72468201565,
          23964.31378862919,
          23395.96730658121,
          27383.390000662854,
          29288.16994516359,
          37263.29945921358,
          48376.220557454806,
          57570.34483411762,
          62421.983766940764,
          62102.53156165034,
          56228.32356255957,
          44604.2599941279,
          33786.829818064594,
          22999.611694621406,
          22399.253696004158,
          33345.96115052029,
          43142.811141522936,
          49248.8658641687,
          56120.82926875446,
          60726.60460094496,
          65976.39860967707,
          67439.26809171558,
          63181.35755348646,
          54584.8447252027,
          48986.99650525141,
          43412.6360252681,
          44122.19307301071,
          52845.0472122513,
          59711.706933618494,
          65104.88980651002,
          69121.67217555165,
          73588.60465777009,
          76808.31920596256,
          68192.95936052706,
          58256.224724634434,
          47320.97701421558,
          37336.69864661355,
          26391.506530159862,
          29476.640116680916,
          38478.884711185885,
          47825.67929764062,
          55088.50521370981,
          62355.49830945073,
          68235.95707804912,
          71081.47783344514,
          65724.28423953682,
          54982.526257967154,
          44002.6707833349,
          34065.93614744226,
          23280.32807069043,
          22683.663708600405,
          27207.705494047455,
          31117.467112428494,
          37824.16395957821,
          54317.387557180125,
          64431.41674637951,
          66871.67927869882,
          57373.06676011229,
          44334.340401753834,
          31895.687916125913,
          20781.725022966762,
          12648.621515906265,
          9726.860314243193,
          19803.195469139115,
          29515.186528644514,
          40634.92664816676,
          56935.60760320851,
          66647.2198281983,
          73599.96969323847,
          67561.63164025849,
          53843.93912129313,
          41531.15440347754,
          31434.267476109628,
          22311.1746711242,
          22268.366370859963,
          28222.319035487213,
          32502.10726699297,
          46258.630323808626
         ],
         "yaxis": "y2"
        },
        {
         "hovertemplate": "GEO=British Columbia<br>Storage=Inventory change<br>REF_DATE=%{x}<br>MMBtu=%{y}<extra></extra>",
         "legendgroup": "British Columbia",
         "line": {
          "color": "#636efa",
          "dash": "solid"
         },
         "marker": {
          "symbol": "circle"
         },
         "mode": "lines",
         "name": "British Columbia",
         "orientation": "v",
         "showlegend": false,
         "type": "scatter",
         "x": [
          "2016-01",
          "2016-02",
          "2016-03",
          "2016-04",
          "2016-05",
          "2016-06",
          "2016-07",
          "2016-08",
          "2016-09",
          "2016-10",
          "2016-11",
          "2016-12",
          "2017-01",
          "2017-02",
          "2017-03",
          "2017-04",
          "2017-05",
          "2017-06",
          "2017-07",
          "2017-08",
          "2017-09",
          "2017-10",
          "2017-11",
          "2017-12",
          "2018-01",
          "2018-02",
          "2018-03",
          "2018-04",
          "2018-05",
          "2018-06",
          "2018-07",
          "2018-08",
          "2018-09",
          "2018-10",
          "2018-11",
          "2018-12",
          "2019-01",
          "2019-02",
          "2019-03",
          "2019-04",
          "2019-05",
          "2019-06",
          "2019-07",
          "2019-08",
          "2019-09",
          "2019-10",
          "2019-11",
          "2019-12",
          "2020-01",
          "2020-02",
          "2020-03",
          "2020-04",
          "2020-05",
          "2020-06",
          "2020-07",
          "2020-08",
          "2020-09",
          "2020-10",
          "2020-11",
          "2020-12",
          "2021-01",
          "2021-02",
          "2021-03",
          "2021-04",
          "2021-05",
          "2021-06",
          "2021-07",
          "2021-08",
          "2021-09",
          "2021-10",
          "2021-11",
          "2021-12",
          "2022-01",
          "2022-02",
          "2022-03",
          "2022-04",
          "2022-05",
          "2022-06",
          "2022-07",
          "2022-08",
          "2022-09",
          "2022-10",
          "2022-11",
          "2022-12",
          "2023-01",
          "2023-02",
          "2023-03",
          "2023-04",
          "2023-05",
          "2023-06",
          "2023-07"
         ],
         "xaxis": "x",
         "y": [
          -9272.353604136837,
          -8103.933249358319,
          -6057.753321905136,
          -8434.845198746025,
          3987.4226940816425,
          1904.8746531296392,
          7975.034805421092,
          21994.753141958678,
          4807.125877238656,
          2667.9420762025525,
          -3946.1297318798565,
          -9390.265847121294,
          -10652.826579029574,
          -9134.1737145671,
          -9645.410893386459,
          -568.3464820479772,
          3987.4226940816425,
          1904.8746531296392,
          7975.034805421092,
          11112.921098241217,
          9194.124276662811,
          4851.733641452054,
          -319.4522052904228,
          -5874.207999090774,
          -11624.063568431675,
          -10817.430176063299,
          -10787.218123443185,
          -600.3579986172517,
          10946.707454516138,
          9796.849991002644,
          6106.054722645757,
          6871.963404585765,
          4605.680623561595,
          5249.888717361018,
          1462.8694820385028,
          -4257.910538229122,
          -8596.51282828375,
          -5597.848219951298,
          -5574.36047998331,
          709.5570477426171,
          8722.854139240593,
          6866.659721367188,
          5393.182872891528,
          4016.7823690416276,
          4466.932482218438,
          3219.7145481924736,
          -8615.454554064387,
          -9936.734635892637,
          -10935.247710418855,
          -9984.278367602034,
          -10945.192116453689,
          3085.1335865210563,
          9002.244594504971,
          9346.699877825833,
          7262.825916069185,
          7266.993095740925,
          5880.458768598384,
          2845.520755396013,
          -5357.1935939083205,
          -10741.757981569659,
          -10979.950183261155,
          -9936.639927263734,
          -10785.608076751832,
          -596.6643620900277,
          4523.947076818151,
          3909.7616183810355,
          6706.6968471497175,
          16493.223597601915,
          10114.02918919939,
          2440.357240948213,
          -9498.612518586531,
          -13038.821066987362,
          -12438.652485627917,
          -11113.962893159152,
          -8133.1982156894,
          -2921.7612016630724,
          10076.429863524827,
          9711.991059505395,
          11119.740119522246,
          16300.680955041753,
          9711.612224989782,
          6952.655156411274,
          -6038.338052979983,
          -13717.69251896535,
          -12312.879426444495,
          -10096.886927367914,
          -9122.998096356525,
          -42.80830026423691,
          5953.952664627252,
          4279.788231505756,
          13756.42834818675
         ],
         "yaxis": "y"
        }
       ],
       "layout": {
        "annotations": [
         {
          "font": {},
          "showarrow": false,
          "text": "Inventory change",
          "textangle": 90,
          "x": 0.98,
          "xanchor": "left",
          "xref": "paper",
          "y": 0.08333333333333333,
          "yanchor": "middle",
          "yref": "paper"
         },
         {
          "font": {},
          "showarrow": false,
          "text": "Closing inventory",
          "textangle": 90,
          "x": 0.98,
          "xanchor": "left",
          "xref": "paper",
          "y": 0.49999999999999994,
          "yanchor": "middle",
          "yref": "paper"
         },
         {
          "font": {},
          "showarrow": false,
          "text": "Opening inventory",
          "textangle": 90,
          "x": 0.98,
          "xanchor": "left",
          "xref": "paper",
          "y": 0.9166666666666665,
          "yanchor": "middle",
          "yref": "paper"
         }
        ],
        "legend": {
         "title": {
          "text": "GEO"
         },
         "tracegroupgap": 0
        },
        "template": {
         "data": {
          "bar": [
           {
            "error_x": {
             "color": "#2a3f5f"
            },
            "error_y": {
             "color": "#2a3f5f"
            },
            "marker": {
             "line": {
              "color": "#E5ECF6",
              "width": 0.5
             },
             "pattern": {
              "fillmode": "overlay",
              "size": 10,
              "solidity": 0.2
             }
            },
            "type": "bar"
           }
          ],
          "barpolar": [
           {
            "marker": {
             "line": {
              "color": "#E5ECF6",
              "width": 0.5
             },
             "pattern": {
              "fillmode": "overlay",
              "size": 10,
              "solidity": 0.2
             }
            },
            "type": "barpolar"
           }
          ],
          "carpet": [
           {
            "aaxis": {
             "endlinecolor": "#2a3f5f",
             "gridcolor": "white",
             "linecolor": "white",
             "minorgridcolor": "white",
             "startlinecolor": "#2a3f5f"
            },
            "baxis": {
             "endlinecolor": "#2a3f5f",
             "gridcolor": "white",
             "linecolor": "white",
             "minorgridcolor": "white",
             "startlinecolor": "#2a3f5f"
            },
            "type": "carpet"
           }
          ],
          "choropleth": [
           {
            "colorbar": {
             "outlinewidth": 0,
             "ticks": ""
            },
            "type": "choropleth"
           }
          ],
          "contour": [
           {
            "colorbar": {
             "outlinewidth": 0,
             "ticks": ""
            },
            "colorscale": [
             [
              0,
              "#0d0887"
             ],
             [
              0.1111111111111111,
              "#46039f"
             ],
             [
              0.2222222222222222,
              "#7201a8"
             ],
             [
              0.3333333333333333,
              "#9c179e"
             ],
             [
              0.4444444444444444,
              "#bd3786"
             ],
             [
              0.5555555555555556,
              "#d8576b"
             ],
             [
              0.6666666666666666,
              "#ed7953"
             ],
             [
              0.7777777777777778,
              "#fb9f3a"
             ],
             [
              0.8888888888888888,
              "#fdca26"
             ],
             [
              1,
              "#f0f921"
             ]
            ],
            "type": "contour"
           }
          ],
          "contourcarpet": [
           {
            "colorbar": {
             "outlinewidth": 0,
             "ticks": ""
            },
            "type": "contourcarpet"
           }
          ],
          "heatmap": [
           {
            "colorbar": {
             "outlinewidth": 0,
             "ticks": ""
            },
            "colorscale": [
             [
              0,
              "#0d0887"
             ],
             [
              0.1111111111111111,
              "#46039f"
             ],
             [
              0.2222222222222222,
              "#7201a8"
             ],
             [
              0.3333333333333333,
              "#9c179e"
             ],
             [
              0.4444444444444444,
              "#bd3786"
             ],
             [
              0.5555555555555556,
              "#d8576b"
             ],
             [
              0.6666666666666666,
              "#ed7953"
             ],
             [
              0.7777777777777778,
              "#fb9f3a"
             ],
             [
              0.8888888888888888,
              "#fdca26"
             ],
             [
              1,
              "#f0f921"
             ]
            ],
            "type": "heatmap"
           }
          ],
          "heatmapgl": [
           {
            "colorbar": {
             "outlinewidth": 0,
             "ticks": ""
            },
            "colorscale": [
             [
              0,
              "#0d0887"
             ],
             [
              0.1111111111111111,
              "#46039f"
             ],
             [
              0.2222222222222222,
              "#7201a8"
             ],
             [
              0.3333333333333333,
              "#9c179e"
             ],
             [
              0.4444444444444444,
              "#bd3786"
             ],
             [
              0.5555555555555556,
              "#d8576b"
             ],
             [
              0.6666666666666666,
              "#ed7953"
             ],
             [
              0.7777777777777778,
              "#fb9f3a"
             ],
             [
              0.8888888888888888,
              "#fdca26"
             ],
             [
              1,
              "#f0f921"
             ]
            ],
            "type": "heatmapgl"
           }
          ],
          "histogram": [
           {
            "marker": {
             "pattern": {
              "fillmode": "overlay",
              "size": 10,
              "solidity": 0.2
             }
            },
            "type": "histogram"
           }
          ],
          "histogram2d": [
           {
            "colorbar": {
             "outlinewidth": 0,
             "ticks": ""
            },
            "colorscale": [
             [
              0,
              "#0d0887"
             ],
             [
              0.1111111111111111,
              "#46039f"
             ],
             [
              0.2222222222222222,
              "#7201a8"
             ],
             [
              0.3333333333333333,
              "#9c179e"
             ],
             [
              0.4444444444444444,
              "#bd3786"
             ],
             [
              0.5555555555555556,
              "#d8576b"
             ],
             [
              0.6666666666666666,
              "#ed7953"
             ],
             [
              0.7777777777777778,
              "#fb9f3a"
             ],
             [
              0.8888888888888888,
              "#fdca26"
             ],
             [
              1,
              "#f0f921"
             ]
            ],
            "type": "histogram2d"
           }
          ],
          "histogram2dcontour": [
           {
            "colorbar": {
             "outlinewidth": 0,
             "ticks": ""
            },
            "colorscale": [
             [
              0,
              "#0d0887"
             ],
             [
              0.1111111111111111,
              "#46039f"
             ],
             [
              0.2222222222222222,
              "#7201a8"
             ],
             [
              0.3333333333333333,
              "#9c179e"
             ],
             [
              0.4444444444444444,
              "#bd3786"
             ],
             [
              0.5555555555555556,
              "#d8576b"
             ],
             [
              0.6666666666666666,
              "#ed7953"
             ],
             [
              0.7777777777777778,
              "#fb9f3a"
             ],
             [
              0.8888888888888888,
              "#fdca26"
             ],
             [
              1,
              "#f0f921"
             ]
            ],
            "type": "histogram2dcontour"
           }
          ],
          "mesh3d": [
           {
            "colorbar": {
             "outlinewidth": 0,
             "ticks": ""
            },
            "type": "mesh3d"
           }
          ],
          "parcoords": [
           {
            "line": {
             "colorbar": {
              "outlinewidth": 0,
              "ticks": ""
             }
            },
            "type": "parcoords"
           }
          ],
          "pie": [
           {
            "automargin": true,
            "type": "pie"
           }
          ],
          "scatter": [
           {
            "fillpattern": {
             "fillmode": "overlay",
             "size": 10,
             "solidity": 0.2
            },
            "type": "scatter"
           }
          ],
          "scatter3d": [
           {
            "line": {
             "colorbar": {
              "outlinewidth": 0,
              "ticks": ""
             }
            },
            "marker": {
             "colorbar": {
              "outlinewidth": 0,
              "ticks": ""
             }
            },
            "type": "scatter3d"
           }
          ],
          "scattercarpet": [
           {
            "marker": {
             "colorbar": {
              "outlinewidth": 0,
              "ticks": ""
             }
            },
            "type": "scattercarpet"
           }
          ],
          "scattergeo": [
           {
            "marker": {
             "colorbar": {
              "outlinewidth": 0,
              "ticks": ""
             }
            },
            "type": "scattergeo"
           }
          ],
          "scattergl": [
           {
            "marker": {
             "colorbar": {
              "outlinewidth": 0,
              "ticks": ""
             }
            },
            "type": "scattergl"
           }
          ],
          "scattermapbox": [
           {
            "marker": {
             "colorbar": {
              "outlinewidth": 0,
              "ticks": ""
             }
            },
            "type": "scattermapbox"
           }
          ],
          "scatterpolar": [
           {
            "marker": {
             "colorbar": {
              "outlinewidth": 0,
              "ticks": ""
             }
            },
            "type": "scatterpolar"
           }
          ],
          "scatterpolargl": [
           {
            "marker": {
             "colorbar": {
              "outlinewidth": 0,
              "ticks": ""
             }
            },
            "type": "scatterpolargl"
           }
          ],
          "scatterternary": [
           {
            "marker": {
             "colorbar": {
              "outlinewidth": 0,
              "ticks": ""
             }
            },
            "type": "scatterternary"
           }
          ],
          "surface": [
           {
            "colorbar": {
             "outlinewidth": 0,
             "ticks": ""
            },
            "colorscale": [
             [
              0,
              "#0d0887"
             ],
             [
              0.1111111111111111,
              "#46039f"
             ],
             [
              0.2222222222222222,
              "#7201a8"
             ],
             [
              0.3333333333333333,
              "#9c179e"
             ],
             [
              0.4444444444444444,
              "#bd3786"
             ],
             [
              0.5555555555555556,
              "#d8576b"
             ],
             [
              0.6666666666666666,
              "#ed7953"
             ],
             [
              0.7777777777777778,
              "#fb9f3a"
             ],
             [
              0.8888888888888888,
              "#fdca26"
             ],
             [
              1,
              "#f0f921"
             ]
            ],
            "type": "surface"
           }
          ],
          "table": [
           {
            "cells": {
             "fill": {
              "color": "#EBF0F8"
             },
             "line": {
              "color": "white"
             }
            },
            "header": {
             "fill": {
              "color": "#C8D4E3"
             },
             "line": {
              "color": "white"
             }
            },
            "type": "table"
           }
          ]
         },
         "layout": {
          "annotationdefaults": {
           "arrowcolor": "#2a3f5f",
           "arrowhead": 0,
           "arrowwidth": 1
          },
          "autotypenumbers": "strict",
          "coloraxis": {
           "colorbar": {
            "outlinewidth": 0,
            "ticks": ""
           }
          },
          "colorscale": {
           "diverging": [
            [
             0,
             "#8e0152"
            ],
            [
             0.1,
             "#c51b7d"
            ],
            [
             0.2,
             "#de77ae"
            ],
            [
             0.3,
             "#f1b6da"
            ],
            [
             0.4,
             "#fde0ef"
            ],
            [
             0.5,
             "#f7f7f7"
            ],
            [
             0.6,
             "#e6f5d0"
            ],
            [
             0.7,
             "#b8e186"
            ],
            [
             0.8,
             "#7fbc41"
            ],
            [
             0.9,
             "#4d9221"
            ],
            [
             1,
             "#276419"
            ]
           ],
           "sequential": [
            [
             0,
             "#0d0887"
            ],
            [
             0.1111111111111111,
             "#46039f"
            ],
            [
             0.2222222222222222,
             "#7201a8"
            ],
            [
             0.3333333333333333,
             "#9c179e"
            ],
            [
             0.4444444444444444,
             "#bd3786"
            ],
            [
             0.5555555555555556,
             "#d8576b"
            ],
            [
             0.6666666666666666,
             "#ed7953"
            ],
            [
             0.7777777777777778,
             "#fb9f3a"
            ],
            [
             0.8888888888888888,
             "#fdca26"
            ],
            [
             1,
             "#f0f921"
            ]
           ],
           "sequentialminus": [
            [
             0,
             "#0d0887"
            ],
            [
             0.1111111111111111,
             "#46039f"
            ],
            [
             0.2222222222222222,
             "#7201a8"
            ],
            [
             0.3333333333333333,
             "#9c179e"
            ],
            [
             0.4444444444444444,
             "#bd3786"
            ],
            [
             0.5555555555555556,
             "#d8576b"
            ],
            [
             0.6666666666666666,
             "#ed7953"
            ],
            [
             0.7777777777777778,
             "#fb9f3a"
            ],
            [
             0.8888888888888888,
             "#fdca26"
            ],
            [
             1,
             "#f0f921"
            ]
           ]
          },
          "colorway": [
           "#636efa",
           "#EF553B",
           "#00cc96",
           "#ab63fa",
           "#FFA15A",
           "#19d3f3",
           "#FF6692",
           "#B6E880",
           "#FF97FF",
           "#FECB52"
          ],
          "font": {
           "color": "#2a3f5f"
          },
          "geo": {
           "bgcolor": "white",
           "lakecolor": "white",
           "landcolor": "#E5ECF6",
           "showlakes": true,
           "showland": true,
           "subunitcolor": "white"
          },
          "hoverlabel": {
           "align": "left"
          },
          "hovermode": "closest",
          "mapbox": {
           "style": "light"
          },
          "paper_bgcolor": "white",
          "plot_bgcolor": "#E5ECF6",
          "polar": {
           "angularaxis": {
            "gridcolor": "white",
            "linecolor": "white",
            "ticks": ""
           },
           "bgcolor": "#E5ECF6",
           "radialaxis": {
            "gridcolor": "white",
            "linecolor": "white",
            "ticks": ""
           }
          },
          "scene": {
           "xaxis": {
            "backgroundcolor": "#E5ECF6",
            "gridcolor": "white",
            "gridwidth": 2,
            "linecolor": "white",
            "showbackground": true,
            "ticks": "",
            "zerolinecolor": "white"
           },
           "yaxis": {
            "backgroundcolor": "#E5ECF6",
            "gridcolor": "white",
            "gridwidth": 2,
            "linecolor": "white",
            "showbackground": true,
            "ticks": "",
            "zerolinecolor": "white"
           },
           "zaxis": {
            "backgroundcolor": "#E5ECF6",
            "gridcolor": "white",
            "gridwidth": 2,
            "linecolor": "white",
            "showbackground": true,
            "ticks": "",
            "zerolinecolor": "white"
           }
          },
          "shapedefaults": {
           "line": {
            "color": "#2a3f5f"
           }
          },
          "ternary": {
           "aaxis": {
            "gridcolor": "white",
            "linecolor": "white",
            "ticks": ""
           },
           "baxis": {
            "gridcolor": "white",
            "linecolor": "white",
            "ticks": ""
           },
           "bgcolor": "#E5ECF6",
           "caxis": {
            "gridcolor": "white",
            "linecolor": "white",
            "ticks": ""
           }
          },
          "title": {
           "x": 0.05
          },
          "xaxis": {
           "automargin": true,
           "gridcolor": "white",
           "linecolor": "white",
           "ticks": "",
           "title": {
            "standoff": 15
           },
           "zerolinecolor": "white",
           "zerolinewidth": 2
          },
          "yaxis": {
           "automargin": true,
           "gridcolor": "white",
           "linecolor": "white",
           "ticks": "",
           "title": {
            "standoff": 15
           },
           "zerolinecolor": "white",
           "zerolinewidth": 2
          }
         }
        },
        "title": {
         "text": "British Columbia Natural Gas Storage"
        },
        "xaxis": {
         "anchor": "y",
         "domain": [
          0,
          0.98
         ],
         "title": {
          "text": "REF_DATE"
         }
        },
        "xaxis2": {
         "anchor": "y2",
         "domain": [
          0,
          0.98
         ],
         "matches": "x",
         "showticklabels": false
        },
        "xaxis3": {
         "anchor": "y3",
         "domain": [
          0,
          0.98
         ],
         "matches": "x",
         "showticklabels": false
        },
        "yaxis": {
         "anchor": "x",
         "domain": [
          0,
          0.16666666666666666
         ],
         "title": {
          "text": "MMBtu"
         }
        },
        "yaxis2": {
         "anchor": "x2",
         "domain": [
          0.41666666666666663,
          0.5833333333333333
         ],
         "title": {
          "text": "MMBtu"
         }
        },
        "yaxis3": {
         "anchor": "x3",
         "domain": [
          0.8333333333333333,
          0.9999999999999999
         ],
         "title": {
          "text": "MMBtu"
         }
        }
       }
      }
     },
     "metadata": {},
     "output_type": "display_data"
    }
   ],
   "source": [
    "import plotly.express as px\n",
    "\n",
    "fig1 = px.line(df_bc , x='REF_DATE', y='MMBtu', color='GEO', facet_row='Storage',\n",
    "              title=\"British Columbia Natural Gas Storage\",\n",
    "              facet_row_spacing=0.25, facet_col_spacing=0.10, facet_col_wrap=3)\n",
    "\n",
    "fig1.for_each_annotation(lambda a: a.update(text=a.text.split(\"=\")[-1]))\n",
    "fig1.update_yaxes(matches=None)\n",
    "\n",
    "\n",
    "# Remove the legend\n",
    "fig1.update_traces(showlegend=False)\n",
    "\n",
    "fig1.show()"
   ]
  },
  {
   "cell_type": "code",
   "execution_count": 239,
   "metadata": {},
   "outputs": [
    {
     "data": {
      "text/html": [
       "<div>\n",
       "<style scoped>\n",
       "    .dataframe tbody tr th:only-of-type {\n",
       "        vertical-align: middle;\n",
       "    }\n",
       "\n",
       "    .dataframe tbody tr th {\n",
       "        vertical-align: top;\n",
       "    }\n",
       "\n",
       "    .dataframe thead th {\n",
       "        text-align: right;\n",
       "    }\n",
       "</style>\n",
       "<table border=\"1\" class=\"dataframe\">\n",
       "  <thead>\n",
       "    <tr style=\"text-align: right;\">\n",
       "      <th></th>\n",
       "      <th>REF_DATE</th>\n",
       "      <th>Storage</th>\n",
       "      <th>UOM</th>\n",
       "      <th>MMBtu</th>\n",
       "    </tr>\n",
       "  </thead>\n",
       "  <tbody>\n",
       "    <tr>\n",
       "      <th>0</th>\n",
       "      <td>2016-01</td>\n",
       "      <td>Opening inventory</td>\n",
       "      <td>Gigajoules</td>\n",
       "      <td>590263.005862</td>\n",
       "    </tr>\n",
       "    <tr>\n",
       "      <th>1</th>\n",
       "      <td>2016-01</td>\n",
       "      <td>Closing inventory</td>\n",
       "      <td>Gigajoules</td>\n",
       "      <td>548930.076619</td>\n",
       "    </tr>\n",
       "    <tr>\n",
       "      <th>2</th>\n",
       "      <td>2016-01</td>\n",
       "      <td>Inventory change</td>\n",
       "      <td>Gigajoules</td>\n",
       "      <td>-32448.028640</td>\n",
       "    </tr>\n",
       "    <tr>\n",
       "      <th>3</th>\n",
       "      <td>2016-02</td>\n",
       "      <td>Opening inventory</td>\n",
       "      <td>Gigajoules</td>\n",
       "      <td>548930.076619</td>\n",
       "    </tr>\n",
       "    <tr>\n",
       "      <th>4</th>\n",
       "      <td>2016-02</td>\n",
       "      <td>Closing inventory</td>\n",
       "      <td>Gigajoules</td>\n",
       "      <td>534975.328402</td>\n",
       "    </tr>\n",
       "    <tr>\n",
       "      <th>...</th>\n",
       "      <td>...</td>\n",
       "      <td>...</td>\n",
       "      <td>...</td>\n",
       "      <td>...</td>\n",
       "    </tr>\n",
       "    <tr>\n",
       "      <th>268</th>\n",
       "      <td>2023-06</td>\n",
       "      <td>Closing inventory</td>\n",
       "      <td>Gigajoules</td>\n",
       "      <td>480536.429674</td>\n",
       "    </tr>\n",
       "    <tr>\n",
       "      <th>269</th>\n",
       "      <td>2023-06</td>\n",
       "      <td>Inventory change</td>\n",
       "      <td>Gigajoules</td>\n",
       "      <td>40884.010342</td>\n",
       "    </tr>\n",
       "    <tr>\n",
       "      <th>270</th>\n",
       "      <td>2023-07</td>\n",
       "      <td>Opening inventory</td>\n",
       "      <td>Gigajoules</td>\n",
       "      <td>480536.429674</td>\n",
       "    </tr>\n",
       "    <tr>\n",
       "      <th>271</th>\n",
       "      <td>2023-07</td>\n",
       "      <td>Closing inventory</td>\n",
       "      <td>Gigajoules</td>\n",
       "      <td>529854.432837</td>\n",
       "    </tr>\n",
       "    <tr>\n",
       "      <th>272</th>\n",
       "      <td>2023-07</td>\n",
       "      <td>Inventory change</td>\n",
       "      <td>Gigajoules</td>\n",
       "      <td>49317.908455</td>\n",
       "    </tr>\n",
       "  </tbody>\n",
       "</table>\n",
       "<p>273 rows × 4 columns</p>\n",
       "</div>"
      ],
      "text/plain": [
       "    REF_DATE            Storage         UOM          MMBtu\n",
       "0    2016-01  Opening inventory  Gigajoules  590263.005862\n",
       "1    2016-01  Closing inventory  Gigajoules  548930.076619\n",
       "2    2016-01   Inventory change  Gigajoules  -32448.028640\n",
       "3    2016-02  Opening inventory  Gigajoules  548930.076619\n",
       "4    2016-02  Closing inventory  Gigajoules  534975.328402\n",
       "..       ...                ...         ...            ...\n",
       "268  2023-06  Closing inventory  Gigajoules  480536.429674\n",
       "269  2023-06   Inventory change  Gigajoules   40884.010342\n",
       "270  2023-07  Opening inventory  Gigajoules  480536.429674\n",
       "271  2023-07  Closing inventory  Gigajoules  529854.432837\n",
       "272  2023-07   Inventory change  Gigajoules   49317.908455\n",
       "\n",
       "[273 rows x 4 columns]"
      ]
     },
     "execution_count": 239,
     "metadata": {},
     "output_type": "execute_result"
    }
   ],
   "source": [
    "df_alberta.reset_index(drop=True, inplace=True)\n",
    "df_bc.reset_index(drop=True, inplace=True)\n",
    "\n",
    "df_western = df_alberta[\"MMBtu\"] + df_bc[\"MMBtu\"]\n",
    "\n",
    "df_copy1 = df_copy[df_copy[\"GEO\"]==\"Alberta\"].copy()\n",
    "df_copy1 = df_copy1[['REF_DATE','Storage','UOM']]\n",
    "df_copy1.reset_index(drop=True, inplace=True)\n",
    "\n",
    "\n",
    "df_western = pd.DataFrame(df_western)\n",
    "df_western = pd.concat([df_copy1,df_western], axis= 1)\n",
    "df_western"
   ]
  },
  {
   "cell_type": "code",
   "execution_count": 247,
   "metadata": {},
   "outputs": [
    {
     "data": {
      "application/vnd.plotly.v1+json": {
       "config": {
        "plotlyServerURL": "https://plot.ly"
       },
       "data": [
        {
         "hovertemplate": "Storage=Opening inventory<br>REF_DATE=%{x}<br>MMBtu=%{y}<extra></extra>",
         "legendgroup": "",
         "line": {
          "color": "#636efa",
          "dash": "solid"
         },
         "marker": {
          "symbol": "circle"
         },
         "mode": "lines",
         "name": "",
         "orientation": "v",
         "showlegend": false,
         "type": "scatter",
         "x": [
          "2016-01",
          "2016-02",
          "2016-03",
          "2016-04",
          "2016-05",
          "2016-06",
          "2016-07",
          "2016-08",
          "2016-09",
          "2016-10",
          "2016-11",
          "2016-12",
          "2017-01",
          "2017-02",
          "2017-03",
          "2017-04",
          "2017-05",
          "2017-06",
          "2017-07",
          "2017-08",
          "2017-09",
          "2017-10",
          "2017-11",
          "2017-12",
          "2018-01",
          "2018-02",
          "2018-03",
          "2018-04",
          "2018-05",
          "2018-06",
          "2018-07",
          "2018-08",
          "2018-09",
          "2018-10",
          "2018-11",
          "2018-12",
          "2019-01",
          "2019-02",
          "2019-03",
          "2019-04",
          "2019-05",
          "2019-06",
          "2019-07",
          "2019-08",
          "2019-09",
          "2019-10",
          "2019-11",
          "2019-12",
          "2020-01",
          "2020-02",
          "2020-03",
          "2020-04",
          "2020-05",
          "2020-06",
          "2020-07",
          "2020-08",
          "2020-09",
          "2020-10",
          "2020-11",
          "2020-12",
          "2021-01",
          "2021-02",
          "2021-03",
          "2021-04",
          "2021-05",
          "2021-06",
          "2021-07",
          "2021-08",
          "2021-09",
          "2021-10",
          "2021-11",
          "2021-12",
          "2022-01",
          "2022-02",
          "2022-03",
          "2022-04",
          "2022-05",
          "2022-06",
          "2022-07",
          "2022-08",
          "2022-09",
          "2022-10",
          "2022-11",
          "2022-12",
          "2023-01",
          "2023-02",
          "2023-03",
          "2023-04",
          "2023-05",
          "2023-06",
          "2023-07"
         ],
         "xaxis": "x3",
         "y": [
          590263.0058624619,
          548930.0766192788,
          534975.3284021686,
          551472.7191794424,
          567404.7941507929,
          584124.750205989,
          601510.4132137456,
          613460.7480087487,
          649915.1410685002,
          655463.1725496486,
          648158.2960023463,
          640182.5982365229,
          589668.8039247233,
          536981.9201227403,
          503821.9667193859,
          478569.99441218906,
          492990.0461231004,
          521372.9909932073,
          552362.127913472,
          587458.1151088653,
          612900.1676342709,
          638315.7964522123,
          637961.017928341,
          613946.6979836508,
          576121.5869377836,
          519149.32709518966,
          460956.841277807,
          424179.77591938234,
          425284.07853239344,
          446182.38987754,
          471700.7775578415,
          494224.0995577088,
          521589.30550162226,
          533375.2261168495,
          544417.8734124445,
          539151.789519541,
          520682.8492143899,
          466744.29617282253,
          400714.1977705573,
          374200.32769185456,
          388134.71355375036,
          409389.79230397526,
          429058.4068114429,
          451407.9384772729,
          467389.0725183953,
          479085.20935342234,
          501392.59567939036,
          482184.83336016553,
          453610.38764241635,
          402620.3036358628,
          370102.56944510073,
          353473.0601305071,
          394811.86130868236,
          455111.99295367626,
          514061.0112987375,
          562492.0681523272,
          610331.6696184165,
          652077.6231922465,
          668883.4799738579,
          645118.1490145542,
          576160.2280583762,
          497414.8332654569,
          406805.4779470942,
          379978.3117239797,
          396406.2810762673,
          422127.62934830826,
          446858.70419653767,
          469290.25353499776,
          510553.00368416373,
          545807.2489984541,
          548492.7121710038,
          528387.5855929212,
          457429.13426842145,
          379424.0768276383,
          315730.72442630125,
          280938.1836779138,
          276280.6027257132,
          313423.7169348487,
          352090.7876916653,
          406498.43257219007,
          463480.9209467057,
          500150.58671995415,
          529270.17530567,
          510917.25307092536,
          431556.15748150647,
          389620.21839809674,
          357441.25697292143,
          345059.0508301198,
          395038.87789216323,
          439652.41933192365,
          480536.4296741058
         ],
         "yaxis": "y3"
        },
        {
         "hovertemplate": "Storage=Closing inventory<br>REF_DATE=%{x}<br>MMBtu=%{y}<extra></extra>",
         "legendgroup": "",
         "line": {
          "color": "#636efa",
          "dash": "solid"
         },
         "marker": {
          "symbol": "circle"
         },
         "mode": "lines",
         "name": "",
         "orientation": "v",
         "showlegend": false,
         "type": "scatter",
         "x": [
          "2016-01",
          "2016-02",
          "2016-03",
          "2016-04",
          "2016-05",
          "2016-06",
          "2016-07",
          "2016-08",
          "2016-09",
          "2016-10",
          "2016-11",
          "2016-12",
          "2017-01",
          "2017-02",
          "2017-03",
          "2017-04",
          "2017-05",
          "2017-06",
          "2017-07",
          "2017-08",
          "2017-09",
          "2017-10",
          "2017-11",
          "2017-12",
          "2018-01",
          "2018-02",
          "2018-03",
          "2018-04",
          "2018-05",
          "2018-06",
          "2018-07",
          "2018-08",
          "2018-09",
          "2018-10",
          "2018-11",
          "2018-12",
          "2019-01",
          "2019-02",
          "2019-03",
          "2019-04",
          "2019-05",
          "2019-06",
          "2019-07",
          "2019-08",
          "2019-09",
          "2019-10",
          "2019-11",
          "2019-12",
          "2020-01",
          "2020-02",
          "2020-03",
          "2020-04",
          "2020-05",
          "2020-06",
          "2020-07",
          "2020-08",
          "2020-09",
          "2020-10",
          "2020-11",
          "2020-12",
          "2021-01",
          "2021-02",
          "2021-03",
          "2021-04",
          "2021-05",
          "2021-06",
          "2021-07",
          "2021-08",
          "2021-09",
          "2021-10",
          "2021-11",
          "2021-12",
          "2022-01",
          "2022-02",
          "2022-03",
          "2022-04",
          "2022-05",
          "2022-06",
          "2022-07",
          "2022-08",
          "2022-09",
          "2022-10",
          "2022-11",
          "2022-12",
          "2023-01",
          "2023-02",
          "2023-03",
          "2023-04",
          "2023-05",
          "2023-06",
          "2023-07"
         ],
         "xaxis": "x2",
         "y": [
          548930.0766192788,
          534975.3284021686,
          551472.7191794424,
          567404.7941507929,
          584124.750205989,
          601510.4132137456,
          613460.7480087487,
          649915.1410685002,
          655463.1725496486,
          648158.2960023463,
          640182.5982365229,
          589668.8039247233,
          536981.9201227403,
          503821.9667193859,
          478569.99441218906,
          492990.0461231004,
          521372.9909932073,
          552362.127913472,
          587458.1151088653,
          612900.1676342709,
          638315.7964522123,
          637961.017928341,
          613946.6979836508,
          576121.5869377836,
          519149.32709518966,
          460956.841277807,
          424179.77591938234,
          425284.07853239344,
          446182.38987754,
          471700.7775578415,
          494224.0995577088,
          521589.30550162226,
          533375.2261168495,
          544417.8734124445,
          539151.789519541,
          520682.8492143899,
          466744.29617282253,
          400714.1977705573,
          374200.32769185456,
          388134.71355375036,
          409389.79230397526,
          429058.4068114429,
          451407.9384772729,
          467389.0725183953,
          479085.20935342234,
          501392.59567939036,
          482184.83336016553,
          453610.38764241635,
          402620.3036358628,
          370102.56944510073,
          353473.0601305071,
          394811.86130868236,
          455111.99295367626,
          514061.0112987375,
          562492.0681523272,
          610331.6696184165,
          652077.6231922465,
          668883.4799738579,
          645118.1490145542,
          576160.2280583762,
          497414.8332654569,
          406805.4779470942,
          379978.3117239797,
          396406.2810762673,
          422127.62934830826,
          446858.70419653767,
          469290.25353499776,
          510553.00368416373,
          545807.2489984541,
          548492.7121710038,
          528387.5855929212,
          457429.13426842145,
          379424.0768276383,
          315730.72442630125,
          280938.1836779138,
          276280.6027257132,
          313423.7169348487,
          352090.7876916653,
          406498.43257219007,
          463480.9209467057,
          500150.58671995415,
          529270.17530567,
          510917.25307092536,
          431556.15748150647,
          389620.21839809674,
          357441.25697292143,
          345059.0508301198,
          395038.87789216323,
          439652.41933192365,
          480536.4296741058,
          529854.4328373737
         ],
         "yaxis": "y2"
        },
        {
         "hovertemplate": "Storage=Inventory change<br>REF_DATE=%{x}<br>MMBtu=%{y}<extra></extra>",
         "legendgroup": "",
         "line": {
          "color": "#636efa",
          "dash": "solid"
         },
         "marker": {
          "symbol": "circle"
         },
         "mode": "lines",
         "name": "",
         "orientation": "v",
         "showlegend": false,
         "type": "scatter",
         "x": [
          "2016-01",
          "2016-02",
          "2016-03",
          "2016-04",
          "2016-05",
          "2016-06",
          "2016-07",
          "2016-08",
          "2016-09",
          "2016-10",
          "2016-11",
          "2016-12",
          "2017-01",
          "2017-02",
          "2017-03",
          "2017-04",
          "2017-05",
          "2017-06",
          "2017-07",
          "2017-08",
          "2017-09",
          "2017-10",
          "2017-11",
          "2017-12",
          "2018-01",
          "2018-02",
          "2018-03",
          "2018-04",
          "2018-05",
          "2018-06",
          "2018-07",
          "2018-08",
          "2018-09",
          "2018-10",
          "2018-11",
          "2018-12",
          "2019-01",
          "2019-02",
          "2019-03",
          "2019-04",
          "2019-05",
          "2019-06",
          "2019-07",
          "2019-08",
          "2019-09",
          "2019-10",
          "2019-11",
          "2019-12",
          "2020-01",
          "2020-02",
          "2020-03",
          "2020-04",
          "2020-05",
          "2020-06",
          "2020-07",
          "2020-08",
          "2020-09",
          "2020-10",
          "2020-11",
          "2020-12",
          "2021-01",
          "2021-02",
          "2021-03",
          "2021-04",
          "2021-05",
          "2021-06",
          "2021-07",
          "2021-08",
          "2021-09",
          "2021-10",
          "2021-11",
          "2021-12",
          "2022-01",
          "2022-02",
          "2022-03",
          "2022-04",
          "2022-05",
          "2022-06",
          "2022-07",
          "2022-08",
          "2022-09",
          "2022-10",
          "2022-11",
          "2022-12",
          "2023-01",
          "2023-02",
          "2023-03",
          "2023-04",
          "2023-05",
          "2023-06",
          "2023-07"
         ],
         "xaxis": "x",
         "y": [
          -32448.028639889257,
          -13954.84292573891,
          16497.390777273653,
          15932.07497135058,
          16719.956055196126,
          17385.757716385473,
          11950.240086374224,
          36454.29835112263,
          5548.031481148226,
          -7304.876547302196,
          -7975.697765823414,
          -50513.79431179955,
          -52686.78909335409,
          -33160.04811198336,
          -25251.97230719681,
          14420.051710911326,
          28382.944870107007,
          30989.231628893587,
          35095.892486764336,
          25442.052525405492,
          25415.723526570408,
          -354.7785238713077,
          -24014.31994469007,
          -37825.11104586724,
          -56972.25984259404,
          -58192.48581738259,
          -36777.06535842466,
          1104.3026130110673,
          20898.311345146576,
          25518.387680301457,
          22523.227291238418,
          27365.300652542344,
          11785.825906598304,
          11042.742004223961,
          -5265.989184274559,
          -18468.940305151133,
          -53938.553041567415,
          -66030.09840226517,
          -26513.87007870277,
          13934.385861895824,
          21255.07875022485,
          19668.6145074677,
          22349.53166582999,
          15981.228749751328,
          11696.136835026995,
          22307.386325968073,
          -19207.857027853734,
          -28574.540426378135,
          -50990.08400655363,
          -32517.63948213309,
          -16629.50931459359,
          41338.801178175185,
          60300.13164499394,
          58948.92363643229,
          48431.05685358975,
          47839.60146608939,
          41745.95357382995,
          16805.856781611306,
          -23765.425667932515,
          -68957.92095617804,
          -78745.48950154819,
          -90609.26060973381,
          -26827.166223114487,
          16427.969352287622,
          25721.253563412065,
          24731.074848229324,
          22431.644047089045,
          41262.750149165935,
          35254.15060566155,
          2685.652589807447,
          -20105.12657808245,
          -70958.64074175771,
          -78005.05744078313,
          -63693.35240133704,
          -34792.63545701635,
          -4657.580952200537,
          37143.20891776435,
          38667.07075681651,
          54407.64488052486,
          56982.48837451558,
          36669.57106461955,
          29119.49387708703,
          -18352.922234744736,
          -79361.09558941885,
          -41936.12850066753,
          -32178.86671654642,
          -12382.11143417272,
          49979.827062043434,
          44613.5414397604,
          40884.010342182126,
          49317.90845463911
         ],
         "yaxis": "y"
        }
       ],
       "layout": {
        "annotations": [
         {
          "font": {},
          "showarrow": false,
          "text": "Inventory change",
          "textangle": 90,
          "x": 0.98,
          "xanchor": "left",
          "xref": "paper",
          "y": 0.08333333333333333,
          "yanchor": "middle",
          "yref": "paper"
         },
         {
          "font": {},
          "showarrow": false,
          "text": "Closing inventory",
          "textangle": 90,
          "x": 0.98,
          "xanchor": "left",
          "xref": "paper",
          "y": 0.49999999999999994,
          "yanchor": "middle",
          "yref": "paper"
         },
         {
          "font": {},
          "showarrow": false,
          "text": "Opening inventory",
          "textangle": 90,
          "x": 0.98,
          "xanchor": "left",
          "xref": "paper",
          "y": 0.9166666666666665,
          "yanchor": "middle",
          "yref": "paper"
         }
        ],
        "legend": {
         "tracegroupgap": 0
        },
        "template": {
         "data": {
          "bar": [
           {
            "error_x": {
             "color": "#2a3f5f"
            },
            "error_y": {
             "color": "#2a3f5f"
            },
            "marker": {
             "line": {
              "color": "#E5ECF6",
              "width": 0.5
             },
             "pattern": {
              "fillmode": "overlay",
              "size": 10,
              "solidity": 0.2
             }
            },
            "type": "bar"
           }
          ],
          "barpolar": [
           {
            "marker": {
             "line": {
              "color": "#E5ECF6",
              "width": 0.5
             },
             "pattern": {
              "fillmode": "overlay",
              "size": 10,
              "solidity": 0.2
             }
            },
            "type": "barpolar"
           }
          ],
          "carpet": [
           {
            "aaxis": {
             "endlinecolor": "#2a3f5f",
             "gridcolor": "white",
             "linecolor": "white",
             "minorgridcolor": "white",
             "startlinecolor": "#2a3f5f"
            },
            "baxis": {
             "endlinecolor": "#2a3f5f",
             "gridcolor": "white",
             "linecolor": "white",
             "minorgridcolor": "white",
             "startlinecolor": "#2a3f5f"
            },
            "type": "carpet"
           }
          ],
          "choropleth": [
           {
            "colorbar": {
             "outlinewidth": 0,
             "ticks": ""
            },
            "type": "choropleth"
           }
          ],
          "contour": [
           {
            "colorbar": {
             "outlinewidth": 0,
             "ticks": ""
            },
            "colorscale": [
             [
              0,
              "#0d0887"
             ],
             [
              0.1111111111111111,
              "#46039f"
             ],
             [
              0.2222222222222222,
              "#7201a8"
             ],
             [
              0.3333333333333333,
              "#9c179e"
             ],
             [
              0.4444444444444444,
              "#bd3786"
             ],
             [
              0.5555555555555556,
              "#d8576b"
             ],
             [
              0.6666666666666666,
              "#ed7953"
             ],
             [
              0.7777777777777778,
              "#fb9f3a"
             ],
             [
              0.8888888888888888,
              "#fdca26"
             ],
             [
              1,
              "#f0f921"
             ]
            ],
            "type": "contour"
           }
          ],
          "contourcarpet": [
           {
            "colorbar": {
             "outlinewidth": 0,
             "ticks": ""
            },
            "type": "contourcarpet"
           }
          ],
          "heatmap": [
           {
            "colorbar": {
             "outlinewidth": 0,
             "ticks": ""
            },
            "colorscale": [
             [
              0,
              "#0d0887"
             ],
             [
              0.1111111111111111,
              "#46039f"
             ],
             [
              0.2222222222222222,
              "#7201a8"
             ],
             [
              0.3333333333333333,
              "#9c179e"
             ],
             [
              0.4444444444444444,
              "#bd3786"
             ],
             [
              0.5555555555555556,
              "#d8576b"
             ],
             [
              0.6666666666666666,
              "#ed7953"
             ],
             [
              0.7777777777777778,
              "#fb9f3a"
             ],
             [
              0.8888888888888888,
              "#fdca26"
             ],
             [
              1,
              "#f0f921"
             ]
            ],
            "type": "heatmap"
           }
          ],
          "heatmapgl": [
           {
            "colorbar": {
             "outlinewidth": 0,
             "ticks": ""
            },
            "colorscale": [
             [
              0,
              "#0d0887"
             ],
             [
              0.1111111111111111,
              "#46039f"
             ],
             [
              0.2222222222222222,
              "#7201a8"
             ],
             [
              0.3333333333333333,
              "#9c179e"
             ],
             [
              0.4444444444444444,
              "#bd3786"
             ],
             [
              0.5555555555555556,
              "#d8576b"
             ],
             [
              0.6666666666666666,
              "#ed7953"
             ],
             [
              0.7777777777777778,
              "#fb9f3a"
             ],
             [
              0.8888888888888888,
              "#fdca26"
             ],
             [
              1,
              "#f0f921"
             ]
            ],
            "type": "heatmapgl"
           }
          ],
          "histogram": [
           {
            "marker": {
             "pattern": {
              "fillmode": "overlay",
              "size": 10,
              "solidity": 0.2
             }
            },
            "type": "histogram"
           }
          ],
          "histogram2d": [
           {
            "colorbar": {
             "outlinewidth": 0,
             "ticks": ""
            },
            "colorscale": [
             [
              0,
              "#0d0887"
             ],
             [
              0.1111111111111111,
              "#46039f"
             ],
             [
              0.2222222222222222,
              "#7201a8"
             ],
             [
              0.3333333333333333,
              "#9c179e"
             ],
             [
              0.4444444444444444,
              "#bd3786"
             ],
             [
              0.5555555555555556,
              "#d8576b"
             ],
             [
              0.6666666666666666,
              "#ed7953"
             ],
             [
              0.7777777777777778,
              "#fb9f3a"
             ],
             [
              0.8888888888888888,
              "#fdca26"
             ],
             [
              1,
              "#f0f921"
             ]
            ],
            "type": "histogram2d"
           }
          ],
          "histogram2dcontour": [
           {
            "colorbar": {
             "outlinewidth": 0,
             "ticks": ""
            },
            "colorscale": [
             [
              0,
              "#0d0887"
             ],
             [
              0.1111111111111111,
              "#46039f"
             ],
             [
              0.2222222222222222,
              "#7201a8"
             ],
             [
              0.3333333333333333,
              "#9c179e"
             ],
             [
              0.4444444444444444,
              "#bd3786"
             ],
             [
              0.5555555555555556,
              "#d8576b"
             ],
             [
              0.6666666666666666,
              "#ed7953"
             ],
             [
              0.7777777777777778,
              "#fb9f3a"
             ],
             [
              0.8888888888888888,
              "#fdca26"
             ],
             [
              1,
              "#f0f921"
             ]
            ],
            "type": "histogram2dcontour"
           }
          ],
          "mesh3d": [
           {
            "colorbar": {
             "outlinewidth": 0,
             "ticks": ""
            },
            "type": "mesh3d"
           }
          ],
          "parcoords": [
           {
            "line": {
             "colorbar": {
              "outlinewidth": 0,
              "ticks": ""
             }
            },
            "type": "parcoords"
           }
          ],
          "pie": [
           {
            "automargin": true,
            "type": "pie"
           }
          ],
          "scatter": [
           {
            "fillpattern": {
             "fillmode": "overlay",
             "size": 10,
             "solidity": 0.2
            },
            "type": "scatter"
           }
          ],
          "scatter3d": [
           {
            "line": {
             "colorbar": {
              "outlinewidth": 0,
              "ticks": ""
             }
            },
            "marker": {
             "colorbar": {
              "outlinewidth": 0,
              "ticks": ""
             }
            },
            "type": "scatter3d"
           }
          ],
          "scattercarpet": [
           {
            "marker": {
             "colorbar": {
              "outlinewidth": 0,
              "ticks": ""
             }
            },
            "type": "scattercarpet"
           }
          ],
          "scattergeo": [
           {
            "marker": {
             "colorbar": {
              "outlinewidth": 0,
              "ticks": ""
             }
            },
            "type": "scattergeo"
           }
          ],
          "scattergl": [
           {
            "marker": {
             "colorbar": {
              "outlinewidth": 0,
              "ticks": ""
             }
            },
            "type": "scattergl"
           }
          ],
          "scattermapbox": [
           {
            "marker": {
             "colorbar": {
              "outlinewidth": 0,
              "ticks": ""
             }
            },
            "type": "scattermapbox"
           }
          ],
          "scatterpolar": [
           {
            "marker": {
             "colorbar": {
              "outlinewidth": 0,
              "ticks": ""
             }
            },
            "type": "scatterpolar"
           }
          ],
          "scatterpolargl": [
           {
            "marker": {
             "colorbar": {
              "outlinewidth": 0,
              "ticks": ""
             }
            },
            "type": "scatterpolargl"
           }
          ],
          "scatterternary": [
           {
            "marker": {
             "colorbar": {
              "outlinewidth": 0,
              "ticks": ""
             }
            },
            "type": "scatterternary"
           }
          ],
          "surface": [
           {
            "colorbar": {
             "outlinewidth": 0,
             "ticks": ""
            },
            "colorscale": [
             [
              0,
              "#0d0887"
             ],
             [
              0.1111111111111111,
              "#46039f"
             ],
             [
              0.2222222222222222,
              "#7201a8"
             ],
             [
              0.3333333333333333,
              "#9c179e"
             ],
             [
              0.4444444444444444,
              "#bd3786"
             ],
             [
              0.5555555555555556,
              "#d8576b"
             ],
             [
              0.6666666666666666,
              "#ed7953"
             ],
             [
              0.7777777777777778,
              "#fb9f3a"
             ],
             [
              0.8888888888888888,
              "#fdca26"
             ],
             [
              1,
              "#f0f921"
             ]
            ],
            "type": "surface"
           }
          ],
          "table": [
           {
            "cells": {
             "fill": {
              "color": "#EBF0F8"
             },
             "line": {
              "color": "white"
             }
            },
            "header": {
             "fill": {
              "color": "#C8D4E3"
             },
             "line": {
              "color": "white"
             }
            },
            "type": "table"
           }
          ]
         },
         "layout": {
          "annotationdefaults": {
           "arrowcolor": "#2a3f5f",
           "arrowhead": 0,
           "arrowwidth": 1
          },
          "autotypenumbers": "strict",
          "coloraxis": {
           "colorbar": {
            "outlinewidth": 0,
            "ticks": ""
           }
          },
          "colorscale": {
           "diverging": [
            [
             0,
             "#8e0152"
            ],
            [
             0.1,
             "#c51b7d"
            ],
            [
             0.2,
             "#de77ae"
            ],
            [
             0.3,
             "#f1b6da"
            ],
            [
             0.4,
             "#fde0ef"
            ],
            [
             0.5,
             "#f7f7f7"
            ],
            [
             0.6,
             "#e6f5d0"
            ],
            [
             0.7,
             "#b8e186"
            ],
            [
             0.8,
             "#7fbc41"
            ],
            [
             0.9,
             "#4d9221"
            ],
            [
             1,
             "#276419"
            ]
           ],
           "sequential": [
            [
             0,
             "#0d0887"
            ],
            [
             0.1111111111111111,
             "#46039f"
            ],
            [
             0.2222222222222222,
             "#7201a8"
            ],
            [
             0.3333333333333333,
             "#9c179e"
            ],
            [
             0.4444444444444444,
             "#bd3786"
            ],
            [
             0.5555555555555556,
             "#d8576b"
            ],
            [
             0.6666666666666666,
             "#ed7953"
            ],
            [
             0.7777777777777778,
             "#fb9f3a"
            ],
            [
             0.8888888888888888,
             "#fdca26"
            ],
            [
             1,
             "#f0f921"
            ]
           ],
           "sequentialminus": [
            [
             0,
             "#0d0887"
            ],
            [
             0.1111111111111111,
             "#46039f"
            ],
            [
             0.2222222222222222,
             "#7201a8"
            ],
            [
             0.3333333333333333,
             "#9c179e"
            ],
            [
             0.4444444444444444,
             "#bd3786"
            ],
            [
             0.5555555555555556,
             "#d8576b"
            ],
            [
             0.6666666666666666,
             "#ed7953"
            ],
            [
             0.7777777777777778,
             "#fb9f3a"
            ],
            [
             0.8888888888888888,
             "#fdca26"
            ],
            [
             1,
             "#f0f921"
            ]
           ]
          },
          "colorway": [
           "#636efa",
           "#EF553B",
           "#00cc96",
           "#ab63fa",
           "#FFA15A",
           "#19d3f3",
           "#FF6692",
           "#B6E880",
           "#FF97FF",
           "#FECB52"
          ],
          "font": {
           "color": "#2a3f5f"
          },
          "geo": {
           "bgcolor": "white",
           "lakecolor": "white",
           "landcolor": "#E5ECF6",
           "showlakes": true,
           "showland": true,
           "subunitcolor": "white"
          },
          "hoverlabel": {
           "align": "left"
          },
          "hovermode": "closest",
          "mapbox": {
           "style": "light"
          },
          "paper_bgcolor": "white",
          "plot_bgcolor": "#E5ECF6",
          "polar": {
           "angularaxis": {
            "gridcolor": "white",
            "linecolor": "white",
            "ticks": ""
           },
           "bgcolor": "#E5ECF6",
           "radialaxis": {
            "gridcolor": "white",
            "linecolor": "white",
            "ticks": ""
           }
          },
          "scene": {
           "xaxis": {
            "backgroundcolor": "#E5ECF6",
            "gridcolor": "white",
            "gridwidth": 2,
            "linecolor": "white",
            "showbackground": true,
            "ticks": "",
            "zerolinecolor": "white"
           },
           "yaxis": {
            "backgroundcolor": "#E5ECF6",
            "gridcolor": "white",
            "gridwidth": 2,
            "linecolor": "white",
            "showbackground": true,
            "ticks": "",
            "zerolinecolor": "white"
           },
           "zaxis": {
            "backgroundcolor": "#E5ECF6",
            "gridcolor": "white",
            "gridwidth": 2,
            "linecolor": "white",
            "showbackground": true,
            "ticks": "",
            "zerolinecolor": "white"
           }
          },
          "shapedefaults": {
           "line": {
            "color": "#2a3f5f"
           }
          },
          "ternary": {
           "aaxis": {
            "gridcolor": "white",
            "linecolor": "white",
            "ticks": ""
           },
           "baxis": {
            "gridcolor": "white",
            "linecolor": "white",
            "ticks": ""
           },
           "bgcolor": "#E5ECF6",
           "caxis": {
            "gridcolor": "white",
            "linecolor": "white",
            "ticks": ""
           }
          },
          "title": {
           "x": 0.05
          },
          "xaxis": {
           "automargin": true,
           "gridcolor": "white",
           "linecolor": "white",
           "ticks": "",
           "title": {
            "standoff": 15
           },
           "zerolinecolor": "white",
           "zerolinewidth": 2
          },
          "yaxis": {
           "automargin": true,
           "gridcolor": "white",
           "linecolor": "white",
           "ticks": "",
           "title": {
            "standoff": 15
           },
           "zerolinecolor": "white",
           "zerolinewidth": 2
          }
         }
        },
        "title": {
         "text": "Western Canada Natural Gas Storage"
        },
        "xaxis": {
         "anchor": "y",
         "domain": [
          0,
          0.98
         ],
         "title": {
          "text": "REF_DATE"
         }
        },
        "xaxis2": {
         "anchor": "y2",
         "domain": [
          0,
          0.98
         ],
         "matches": "x",
         "showticklabels": false
        },
        "xaxis3": {
         "anchor": "y3",
         "domain": [
          0,
          0.98
         ],
         "matches": "x",
         "showticklabels": false
        },
        "yaxis": {
         "anchor": "x",
         "domain": [
          0,
          0.16666666666666666
         ],
         "title": {
          "text": "MMBtu"
         }
        },
        "yaxis2": {
         "anchor": "x2",
         "domain": [
          0.41666666666666663,
          0.5833333333333333
         ],
         "title": {
          "text": "MMBtu"
         }
        },
        "yaxis3": {
         "anchor": "x3",
         "domain": [
          0.8333333333333333,
          0.9999999999999999
         ],
         "title": {
          "text": "MMBtu"
         }
        }
       }
      }
     },
     "metadata": {},
     "output_type": "display_data"
    }
   ],
   "source": [
    "fig2 = px.line(df_western, x='REF_DATE', y='MMBtu', facet_row='Storage',\n",
    "               title=\"Western Canada Natural Gas Storage\",\n",
    "               facet_row_spacing=0.25, facet_col_spacing=0.10, facet_col_wrap=3)\n",
    "\n",
    "fig2.for_each_annotation(lambda a: a.update(text=a.text.split(\"=\")[-1]))\n",
    "fig2.update_yaxes(matches=None)\n",
    "\n",
    "# Remove the legend\n",
    "fig2.update_traces(showlegend=False)\n"
   ]
  },
  {
   "cell_type": "code",
   "execution_count": null,
   "metadata": {},
   "outputs": [],
   "source": []
  }
 ],
 "metadata": {
  "kernelspec": {
   "display_name": "base",
   "language": "python",
   "name": "python3"
  },
  "language_info": {
   "codemirror_mode": {
    "name": "ipython",
    "version": 3
   },
   "file_extension": ".py",
   "mimetype": "text/x-python",
   "name": "python",
   "nbconvert_exporter": "python",
   "pygments_lexer": "ipython3",
   "version": "3.11.5"
  },
  "orig_nbformat": 4
 },
 "nbformat": 4,
 "nbformat_minor": 2
}
