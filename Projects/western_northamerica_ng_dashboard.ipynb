{
 "cells": [
  {
   "cell_type": "code",
   "execution_count": 2,
   "metadata": {},
   "outputs": [],
   "source": [
    "import pandas as pd\n",
    "from datetime import datetime as dt\n",
    "\n",
    "file = r'C:\\Users\\drewv\\OneDrive - University of Calgary\\Drew_HardDrive\\Documents\\Repositories\\Natural_Gas_Projects\\Canada Storagee Data\\filtered_storage_data.xlsx'"
   ]
  },
  {
   "cell_type": "code",
   "execution_count": 3,
   "metadata": {},
   "outputs": [],
   "source": [
    "#Alberta dataframes\n",
    "ab_open_df = pd.read_excel(file, sheet_name=\"AB_opening_inv\")\n",
    "ab_open_df\n",
    "ab_close_df = pd.read_excel(file, sheet_name=\"AB_closing_inv\")\n",
    "ab_inv_chg_df = pd.read_excel(file, sheet_name=\"AB_inv_chg\")\n",
    "\n",
    "#BC dataframes\n",
    "bc_open_df = pd.read_excel(file, sheet_name=\"BC_opening_inv\")\n",
    "bc_close_df = pd.read_excel(file, sheet_name=\"BC_closing_inv\")\n",
    "bc_inv_chg_df = pd.read_excel(file, sheet_name=\"BC_inv_chg\")\n"
   ]
  },
  {
   "cell_type": "code",
   "execution_count": 4,
   "metadata": {},
   "outputs": [
    {
     "data": {
      "text/html": [
       "<div>\n",
       "<style scoped>\n",
       "    .dataframe tbody tr th:only-of-type {\n",
       "        vertical-align: middle;\n",
       "    }\n",
       "\n",
       "    .dataframe tbody tr th {\n",
       "        vertical-align: top;\n",
       "    }\n",
       "\n",
       "    .dataframe thead th {\n",
       "        text-align: right;\n",
       "    }\n",
       "</style>\n",
       "<table border=\"1\" class=\"dataframe\">\n",
       "  <thead>\n",
       "    <tr style=\"text-align: right;\">\n",
       "      <th></th>\n",
       "      <th>REF_DATE</th>\n",
       "      <th>GEO</th>\n",
       "      <th>DGUID</th>\n",
       "      <th>Storage</th>\n",
       "      <th>Statistics</th>\n",
       "      <th>UOM</th>\n",
       "      <th>UOM_ID</th>\n",
       "      <th>SCALAR_FACTOR</th>\n",
       "      <th>SCALAR_ID</th>\n",
       "      <th>VECTOR</th>\n",
       "      <th>COORDINATE</th>\n",
       "      <th>VALUE</th>\n",
       "      <th>Rolling_5_Year_Min</th>\n",
       "      <th>Rolling_5_Year_max</th>\n",
       "      <th>Avg_5_Year</th>\n",
       "      <th>DECIMALS</th>\n",
       "      <th>roling min</th>\n",
       "      <th>rolling max</th>\n",
       "    </tr>\n",
       "  </thead>\n",
       "  <tbody>\n",
       "    <tr>\n",
       "      <th>0</th>\n",
       "      <td>2016-01-01</td>\n",
       "      <td>Alberta</td>\n",
       "      <td>2016A000248</td>\n",
       "      <td>Opening inventory</td>\n",
       "      <td>Cubic metres</td>\n",
       "      <td>Cubic metres</td>\n",
       "      <td>72</td>\n",
       "      <td>thousands</td>\n",
       "      <td>3</td>\n",
       "      <td>v107028644</td>\n",
       "      <td>5.1.1</td>\n",
       "      <td>14246876.0</td>\n",
       "      <td>NaN</td>\n",
       "      <td>NaN</td>\n",
       "      <td>NaN</td>\n",
       "      <td>1</td>\n",
       "      <td>NaN</td>\n",
       "      <td>NaN</td>\n",
       "    </tr>\n",
       "    <tr>\n",
       "      <th>1</th>\n",
       "      <td>2016-01-01</td>\n",
       "      <td>Alberta</td>\n",
       "      <td>2016A000248</td>\n",
       "      <td>Opening inventory</td>\n",
       "      <td>Gigajoules</td>\n",
       "      <td>Gigajoules</td>\n",
       "      <td>143</td>\n",
       "      <td>thousands</td>\n",
       "      <td>3</td>\n",
       "      <td>v107028645</td>\n",
       "      <td>5.1.2</td>\n",
       "      <td>564888.6</td>\n",
       "      <td>NaN</td>\n",
       "      <td>NaN</td>\n",
       "      <td>NaN</td>\n",
       "      <td>1</td>\n",
       "      <td>NaN</td>\n",
       "      <td>NaN</td>\n",
       "    </tr>\n",
       "    <tr>\n",
       "      <th>2</th>\n",
       "      <td>2016-02-01</td>\n",
       "      <td>Alberta</td>\n",
       "      <td>2016A000248</td>\n",
       "      <td>Opening inventory</td>\n",
       "      <td>Cubic metres</td>\n",
       "      <td>Cubic metres</td>\n",
       "      <td>72</td>\n",
       "      <td>thousands</td>\n",
       "      <td>3</td>\n",
       "      <td>v107028644</td>\n",
       "      <td>5.1.1</td>\n",
       "      <td>13397616.0</td>\n",
       "      <td>NaN</td>\n",
       "      <td>NaN</td>\n",
       "      <td>NaN</td>\n",
       "      <td>1</td>\n",
       "      <td>NaN</td>\n",
       "      <td>NaN</td>\n",
       "    </tr>\n",
       "    <tr>\n",
       "      <th>3</th>\n",
       "      <td>2016-02-01</td>\n",
       "      <td>Alberta</td>\n",
       "      <td>2016A000248</td>\n",
       "      <td>Opening inventory</td>\n",
       "      <td>Gigajoules</td>\n",
       "      <td>Gigajoules</td>\n",
       "      <td>143</td>\n",
       "      <td>thousands</td>\n",
       "      <td>3</td>\n",
       "      <td>v107028645</td>\n",
       "      <td>5.1.2</td>\n",
       "      <td>531036.8</td>\n",
       "      <td>NaN</td>\n",
       "      <td>NaN</td>\n",
       "      <td>NaN</td>\n",
       "      <td>1</td>\n",
       "      <td>NaN</td>\n",
       "      <td>NaN</td>\n",
       "    </tr>\n",
       "    <tr>\n",
       "      <th>4</th>\n",
       "      <td>2016-03-01</td>\n",
       "      <td>Alberta</td>\n",
       "      <td>2016A000248</td>\n",
       "      <td>Opening inventory</td>\n",
       "      <td>Cubic metres</td>\n",
       "      <td>Cubic metres</td>\n",
       "      <td>72</td>\n",
       "      <td>thousands</td>\n",
       "      <td>3</td>\n",
       "      <td>v107028644</td>\n",
       "      <td>5.1.1</td>\n",
       "      <td>13264903.0</td>\n",
       "      <td>NaN</td>\n",
       "      <td>NaN</td>\n",
       "      <td>NaN</td>\n",
       "      <td>1</td>\n",
       "      <td>NaN</td>\n",
       "      <td>NaN</td>\n",
       "    </tr>\n",
       "    <tr>\n",
       "      <th>...</th>\n",
       "      <td>...</td>\n",
       "      <td>...</td>\n",
       "      <td>...</td>\n",
       "      <td>...</td>\n",
       "      <td>...</td>\n",
       "      <td>...</td>\n",
       "      <td>...</td>\n",
       "      <td>...</td>\n",
       "      <td>...</td>\n",
       "      <td>...</td>\n",
       "      <td>...</td>\n",
       "      <td>...</td>\n",
       "      <td>...</td>\n",
       "      <td>...</td>\n",
       "      <td>...</td>\n",
       "      <td>...</td>\n",
       "      <td>...</td>\n",
       "      <td>...</td>\n",
       "    </tr>\n",
       "    <tr>\n",
       "      <th>181</th>\n",
       "      <td>2023-07-01</td>\n",
       "      <td>Alberta</td>\n",
       "      <td>2016A000248</td>\n",
       "      <td>Opening inventory</td>\n",
       "      <td>Gigajoules</td>\n",
       "      <td>Gigajoules</td>\n",
       "      <td>143</td>\n",
       "      <td>thousands</td>\n",
       "      <td>3</td>\n",
       "      <td>v107028645</td>\n",
       "      <td>5.1.2</td>\n",
       "      <td>473066.0</td>\n",
       "      <td>340597.9</td>\n",
       "      <td>492283.9</td>\n",
       "      <td>422866.82</td>\n",
       "      <td>1</td>\n",
       "      <td>NaN</td>\n",
       "      <td>NaN</td>\n",
       "    </tr>\n",
       "    <tr>\n",
       "      <th>182</th>\n",
       "      <td>2023-08-01</td>\n",
       "      <td>Alberta</td>\n",
       "      <td>2016A000259</td>\n",
       "      <td>Opening inventory</td>\n",
       "      <td>Cubic metres</td>\n",
       "      <td>Cubic metres</td>\n",
       "      <td>214</td>\n",
       "      <td>thousands</td>\n",
       "      <td>3</td>\n",
       "      <td>v107028662</td>\n",
       "      <td>6.3.3</td>\n",
       "      <td>NaN</td>\n",
       "      <td>9615540.0</td>\n",
       "      <td>13424850.0</td>\n",
       "      <td>11316051.00</td>\n",
       "      <td>1</td>\n",
       "      <td>NaN</td>\n",
       "      <td>NaN</td>\n",
       "    </tr>\n",
       "    <tr>\n",
       "      <th>183</th>\n",
       "      <td>2023-08-01</td>\n",
       "      <td>Alberta</td>\n",
       "      <td>2016A000259</td>\n",
       "      <td>Opening inventory</td>\n",
       "      <td>Gigajoules</td>\n",
       "      <td>Gigajoules</td>\n",
       "      <td>285</td>\n",
       "      <td>thousands</td>\n",
       "      <td>3</td>\n",
       "      <td>v107028663</td>\n",
       "      <td>6.3.4</td>\n",
       "      <td>NaN</td>\n",
       "      <td>386304.3</td>\n",
       "      <td>535752.2</td>\n",
       "      <td>451070.08</td>\n",
       "      <td>1</td>\n",
       "      <td>NaN</td>\n",
       "      <td>NaN</td>\n",
       "    </tr>\n",
       "    <tr>\n",
       "      <th>184</th>\n",
       "      <td>2023-09-01</td>\n",
       "      <td>Alberta</td>\n",
       "      <td>2016A000259</td>\n",
       "      <td>Opening inventory</td>\n",
       "      <td>Cubic metres</td>\n",
       "      <td>Cubic metres</td>\n",
       "      <td>356</td>\n",
       "      <td>thousands</td>\n",
       "      <td>3</td>\n",
       "      <td>v107028664</td>\n",
       "      <td>6.3.5</td>\n",
       "      <td>NaN</td>\n",
       "      <td>10596079.0</td>\n",
       "      <td>14493323.0</td>\n",
       "      <td>12043721.40</td>\n",
       "      <td>1</td>\n",
       "      <td>NaN</td>\n",
       "      <td>NaN</td>\n",
       "    </tr>\n",
       "    <tr>\n",
       "      <th>185</th>\n",
       "      <td>2023-09-01</td>\n",
       "      <td>Alberta</td>\n",
       "      <td>2016A000259</td>\n",
       "      <td>Opening inventory</td>\n",
       "      <td>Gigajoules</td>\n",
       "      <td>Gigajoules</td>\n",
       "      <td>427</td>\n",
       "      <td>thousands</td>\n",
       "      <td>3</td>\n",
       "      <td>v107028665</td>\n",
       "      <td>6.3.6</td>\n",
       "      <td>NaN</td>\n",
       "      <td>420518.6</td>\n",
       "      <td>578591.6</td>\n",
       "      <td>480313.78</td>\n",
       "      <td>1</td>\n",
       "      <td>NaN</td>\n",
       "      <td>NaN</td>\n",
       "    </tr>\n",
       "  </tbody>\n",
       "</table>\n",
       "<p>186 rows × 18 columns</p>\n",
       "</div>"
      ],
      "text/plain": [
       "      REF_DATE      GEO        DGUID            Storage    Statistics  \\\n",
       "0   2016-01-01  Alberta  2016A000248  Opening inventory  Cubic metres   \n",
       "1   2016-01-01  Alberta  2016A000248  Opening inventory    Gigajoules   \n",
       "2   2016-02-01  Alberta  2016A000248  Opening inventory  Cubic metres   \n",
       "3   2016-02-01  Alberta  2016A000248  Opening inventory    Gigajoules   \n",
       "4   2016-03-01  Alberta  2016A000248  Opening inventory  Cubic metres   \n",
       "..         ...      ...          ...                ...           ...   \n",
       "181 2023-07-01  Alberta  2016A000248  Opening inventory    Gigajoules   \n",
       "182 2023-08-01  Alberta  2016A000259  Opening inventory  Cubic metres   \n",
       "183 2023-08-01  Alberta  2016A000259  Opening inventory    Gigajoules   \n",
       "184 2023-09-01  Alberta  2016A000259  Opening inventory  Cubic metres   \n",
       "185 2023-09-01  Alberta  2016A000259  Opening inventory    Gigajoules   \n",
       "\n",
       "              UOM  UOM_ID SCALAR_FACTOR  SCALAR_ID      VECTOR COORDINATE  \\\n",
       "0    Cubic metres      72     thousands          3  v107028644      5.1.1   \n",
       "1      Gigajoules     143     thousands          3  v107028645      5.1.2   \n",
       "2    Cubic metres      72     thousands          3  v107028644      5.1.1   \n",
       "3      Gigajoules     143     thousands          3  v107028645      5.1.2   \n",
       "4    Cubic metres      72     thousands          3  v107028644      5.1.1   \n",
       "..            ...     ...           ...        ...         ...        ...   \n",
       "181    Gigajoules     143     thousands          3  v107028645      5.1.2   \n",
       "182  Cubic metres     214     thousands          3  v107028662      6.3.3   \n",
       "183    Gigajoules     285     thousands          3  v107028663      6.3.4   \n",
       "184  Cubic metres     356     thousands          3  v107028664      6.3.5   \n",
       "185    Gigajoules     427     thousands          3  v107028665      6.3.6   \n",
       "\n",
       "          VALUE  Rolling_5_Year_Min  Rolling_5_Year_max   Avg_5_Year  \\\n",
       "0    14246876.0                 NaN                 NaN          NaN   \n",
       "1      564888.6                 NaN                 NaN          NaN   \n",
       "2    13397616.0                 NaN                 NaN          NaN   \n",
       "3      531036.8                 NaN                 NaN          NaN   \n",
       "4    13264903.0                 NaN                 NaN          NaN   \n",
       "..          ...                 ...                 ...          ...   \n",
       "181    473066.0            340597.9            492283.9    422866.82   \n",
       "182         NaN           9615540.0          13424850.0  11316051.00   \n",
       "183         NaN            386304.3            535752.2    451070.08   \n",
       "184         NaN          10596079.0          14493323.0  12043721.40   \n",
       "185         NaN            420518.6            578591.6    480313.78   \n",
       "\n",
       "     DECIMALS  roling min   rolling max   \n",
       "0           1          NaN           NaN  \n",
       "1           1          NaN           NaN  \n",
       "2           1          NaN           NaN  \n",
       "3           1          NaN           NaN  \n",
       "4           1          NaN           NaN  \n",
       "..        ...          ...           ...  \n",
       "181         1          NaN           NaN  \n",
       "182         1          NaN           NaN  \n",
       "183         1          NaN           NaN  \n",
       "184         1          NaN           NaN  \n",
       "185         1          NaN           NaN  \n",
       "\n",
       "[186 rows x 18 columns]"
      ]
     },
     "execution_count": 4,
     "metadata": {},
     "output_type": "execute_result"
    }
   ],
   "source": [
    "ab_open_df"
   ]
  },
  {
   "cell_type": "code",
   "execution_count": null,
   "metadata": {},
   "outputs": [],
   "source": []
  },
  {
   "cell_type": "code",
   "execution_count": 5,
   "metadata": {},
   "outputs": [],
   "source": [
    "import pandas as pd\n",
    "from datetime import datetime\n",
    "\n",
    "# Combining all the sheets together for 'ab'\n",
    "ab_df_names = [ab_open_df, ab_close_df, ab_inv_chg_df]\n",
    "ab_df = pd.concat(ab_df_names, ignore_index=True)\n",
    "\n",
    "# Renaming some columns\n",
    "ab_df.rename(columns={'REF_DATE': \"Date\", 'VALUE': 'GJ'}, inplace=True)\n",
    "\n",
    "# Filtering out rows where \"UOM\" is \"Gigajoules\" and the \"Date\" is after January 1, 2021\n",
    "ab_df = ab_df[(ab_df[\"UOM\"] == \"Gigajoules\") & (ab_df[\"Date\"] >= datetime(2021, 1, 1))]\n",
    "\n",
    "# Combining all the sheets together for 'bc'\n",
    "bc_df_names = [bc_open_df, bc_close_df, bc_inv_chg_df]\n",
    "bc_df = pd.concat(bc_df_names, ignore_index=True)\n",
    "\n",
    "# Renaming some columns\n",
    "bc_df.rename(columns={'REF_DATE': \"Date\", 'VALUE': 'GJ'}, inplace=True)\n",
    "\n",
    "# Filtering out rows where \"UOM\" is \"Gigajoules\"\n",
    "bc_df = bc_df[(bc_df[\"UOM\"] == \"Gigajoules\") & (bc_df[\"Date\"] >= datetime(2021, 1, 1))]\n"
   ]
  },
  {
   "cell_type": "code",
   "execution_count": 6,
   "metadata": {},
   "outputs": [
    {
     "data": {
      "text/plain": [
       "Date                  datetime64[ns]\n",
       "GEO                           object\n",
       "DGUID                         object\n",
       "Storage                       object\n",
       "Statistics                    object\n",
       "UOM                           object\n",
       "UOM_ID                         int64\n",
       "SCALAR_FACTOR                 object\n",
       "SCALAR_ID                      int64\n",
       "VECTOR                        object\n",
       "COORDINATE                    object\n",
       "GJ                           float64\n",
       "Rolling_5_Year_Min           float64\n",
       "Rolling_5_Year_max           float64\n",
       "Avg_5_Year                   float64\n",
       "DECIMALS                     float64\n",
       "roling min                   float64\n",
       "rolling max                  float64\n",
       "Unnamed: 15                  float64\n",
       "dtype: object"
      ]
     },
     "execution_count": 6,
     "metadata": {},
     "output_type": "execute_result"
    }
   ],
   "source": [
    "ab_df.dtypes"
   ]
  },
  {
   "cell_type": "code",
   "execution_count": 7,
   "metadata": {},
   "outputs": [
    {
     "data": {
      "application/vnd.plotly.v1+json": {
       "config": {
        "plotlyServerURL": "https://plot.ly"
       },
       "data": [
        {
         "hovertemplate": "<b>Date</b>: %{x}<br><b>Value (GJ)</b>: %{y}<br>",
         "legendgroup": "GJ",
         "line": {
          "color": "#636efa",
          "dash": "solid"
         },
         "marker": {
          "symbol": "circle"
         },
         "mode": "lines",
         "name": "Current Period",
         "orientation": "v",
         "showlegend": true,
         "type": "scatter",
         "x": [
          "2021-01-01T00:00:00",
          "2021-02-01T00:00:00",
          "2021-03-01T00:00:00",
          "2021-04-01T00:00:00",
          "2021-05-01T00:00:00",
          "2021-06-01T00:00:00",
          "2021-07-01T00:00:00",
          "2021-08-01T00:00:00",
          "2021-09-01T00:00:00",
          "2021-10-01T00:00:00",
          "2021-11-01T00:00:00",
          "2021-12-01T00:00:00",
          "2022-01-01T00:00:00",
          "2022-02-01T00:00:00",
          "2022-03-01T00:00:00",
          "2022-04-01T00:00:00",
          "2022-05-01T00:00:00",
          "2022-06-01T00:00:00",
          "2022-07-01T00:00:00",
          "2022-08-01T00:00:00",
          "2022-09-01T00:00:00",
          "2022-10-01T00:00:00",
          "2022-11-01T00:00:00",
          "2022-12-01T00:00:00",
          "2023-01-01T00:00:00",
          "2023-02-01T00:00:00",
          "2023-03-01T00:00:00",
          "2023-04-01T00:00:00",
          "2023-05-01T00:00:00",
          "2023-06-01T00:00:00",
          "2023-07-01T00:00:00",
          "2023-08-01T00:00:00",
          "2023-09-01T00:00:00"
         ],
         "xaxis": "x3",
         "y": [
          550295.9,
          478744.3,
          393564.5,
          376626.7,
          394602.5,
          416984.1,
          438968.7,
          455572.1,
          481725.5,
          508270.3,
          508529.2,
          497330.1,
          436174.4,
          366944.8,
          311427.8,
          283278.9,
          281446.1,
          310025.1,
          340597.9,
          386304.3,
          429259,
          457723.2,
          481128.5,
          468125.9,
          398815,
          367536.8,
          344221,
          340779.8,
          393597.2,
          434416.7,
          473066,
          null,
          null
         ],
         "yaxis": "y3"
        },
        {
         "hovertemplate": "<b>Date</b>: %{x}<br><b>Value (GJ)</b>: %{y}<br>",
         "legendgroup": "GJ",
         "line": {
          "color": "#636efa",
          "dash": "solid"
         },
         "marker": {
          "symbol": "circle"
         },
         "mode": "lines",
         "name": "Current Period",
         "orientation": "v",
         "showlegend": false,
         "type": "scatter",
         "x": [
          "2021-01-01T00:00:00",
          "2021-02-01T00:00:00",
          "2021-03-01T00:00:00",
          "2021-04-01T00:00:00",
          "2021-05-01T00:00:00",
          "2021-06-01T00:00:00",
          "2021-07-01T00:00:00",
          "2021-08-01T00:00:00",
          "2021-09-01T00:00:00",
          "2021-10-01T00:00:00",
          "2021-11-01T00:00:00",
          "2021-12-01T00:00:00",
          "2022-01-01T00:00:00",
          "2022-02-01T00:00:00",
          "2022-03-01T00:00:00",
          "2022-04-01T00:00:00",
          "2022-05-01T00:00:00",
          "2022-06-01T00:00:00",
          "2022-07-01T00:00:00",
          "2022-08-01T00:00:00",
          "2022-09-01T00:00:00",
          "2022-10-01T00:00:00",
          "2022-11-01T00:00:00",
          "2022-12-01T00:00:00",
          "2023-01-01T00:00:00",
          "2023-02-01T00:00:00",
          "2023-03-01T00:00:00",
          "2023-04-01T00:00:00",
          "2023-05-01T00:00:00",
          "2023-06-01T00:00:00",
          "2023-07-01T00:00:00",
          "2023-08-01T00:00:00",
          "2023-09-01T00:00:00"
         ],
         "xaxis": "x2",
         "y": [
          478744.3,
          393564.5,
          376626.7,
          394602.5,
          416984.1,
          438968.7,
          455572.1,
          481725.5,
          508270.3,
          508529.2,
          497330.1,
          436174.4,
          366944.8,
          311427.8,
          283278.9,
          281446.1,
          310025.1,
          340597.9,
          386304.3,
          429259,
          457723.2,
          481128.5,
          468125.9,
          398815,
          367536.8,
          344221,
          340779.8,
          393597.2,
          434416.7,
          473066,
          510614.3,
          null,
          null
         ],
         "yaxis": "y2"
        },
        {
         "hovertemplate": "<b>Date</b>: %{x}<br><b>Value (GJ)</b>: %{y}<br>",
         "legendgroup": "GJ",
         "line": {
          "color": "#636efa",
          "dash": "solid"
         },
         "marker": {
          "symbol": "circle"
         },
         "mode": "lines",
         "name": "Current Period",
         "orientation": "v",
         "showlegend": false,
         "type": "scatter",
         "x": [
          "2021-01-01T00:00:00",
          "2021-02-01T00:00:00",
          "2021-03-01T00:00:00",
          "2021-04-01T00:00:00",
          "2021-05-01T00:00:00",
          "2021-06-01T00:00:00",
          "2021-07-01T00:00:00",
          "2021-08-01T00:00:00",
          "2021-09-01T00:00:00",
          "2021-10-01T00:00:00",
          "2021-11-01T00:00:00",
          "2021-12-01T00:00:00",
          "2022-01-01T00:00:00",
          "2022-02-01T00:00:00",
          "2022-03-01T00:00:00",
          "2022-04-01T00:00:00",
          "2022-05-01T00:00:00",
          "2022-06-01T00:00:00",
          "2022-07-01T00:00:00",
          "2022-08-01T00:00:00",
          "2022-09-01T00:00:00",
          "2022-10-01T00:00:00",
          "2022-11-01T00:00:00",
          "2022-12-01T00:00:00",
          "2023-01-01T00:00:00",
          "2023-02-01T00:00:00",
          "2023-03-01T00:00:00",
          "2023-04-01T00:00:00",
          "2023-05-01T00:00:00",
          "2023-06-01T00:00:00",
          "2023-07-01T00:00:00",
          "2023-08-01T00:00:00",
          "2023-09-01T00:00:00"
         ],
         "xaxis": "x",
         "y": [
          -71551.6,
          -85179.8,
          -16937.8,
          17975.8,
          22381.6,
          21984.6,
          16603.5,
          26153.4,
          26544.7,
          259,
          -11199.1,
          -61155.8,
          -69229.6,
          -55517,
          -28148.9,
          -1832.8,
          28579,
          30572.8,
          45706.4,
          42954.7,
          28464.1,
          23405.3,
          -13002.6,
          -69310.9,
          -31278.3,
          -23315.7,
          -3441.2,
          52817.4,
          40819.5,
          38649.3,
          37548.3,
          null,
          null
         ],
         "yaxis": "y"
        },
        {
         "hovertemplate": "<b>Date</b>: %{x}<br><b>Value (GJ)</b>: %{y}<br>",
         "legendgroup": "Rolling_5_Year_Min",
         "line": {
          "color": "red",
          "dash": "solid"
         },
         "marker": {
          "symbol": "circle"
         },
         "mode": "lines",
         "name": "5 Year Minimum",
         "orientation": "v",
         "showlegend": true,
         "type": "scatter",
         "x": [
          "2021-01-01T00:00:00",
          "2021-02-01T00:00:00",
          "2021-03-01T00:00:00",
          "2021-04-01T00:00:00",
          "2021-05-01T00:00:00",
          "2021-06-01T00:00:00",
          "2021-07-01T00:00:00",
          "2021-08-01T00:00:00",
          "2021-09-01T00:00:00",
          "2021-10-01T00:00:00",
          "2021-11-01T00:00:00",
          "2021-12-01T00:00:00",
          "2022-01-01T00:00:00",
          "2022-02-01T00:00:00",
          "2022-03-01T00:00:00",
          "2022-04-01T00:00:00",
          "2022-05-01T00:00:00",
          "2022-06-01T00:00:00",
          "2022-07-01T00:00:00",
          "2022-08-01T00:00:00",
          "2022-09-01T00:00:00",
          "2022-10-01T00:00:00",
          "2022-11-01T00:00:00",
          "2022-12-01T00:00:00",
          "2023-01-01T00:00:00",
          "2023-02-01T00:00:00",
          "2023-03-01T00:00:00",
          "2023-04-01T00:00:00",
          "2023-05-01T00:00:00",
          "2023-06-01T00:00:00",
          "2023-07-01T00:00:00",
          "2023-08-01T00:00:00",
          "2023-09-01T00:00:00"
         ],
         "xaxis": "x3",
         "y": [
          417442.6,
          375149.9,
          351357.5,
          345355.6,
          363232.5,
          376464.9,
          389982.1,
          407885.8,
          420518.6,
          428151.7,
          448305.8,
          437121.6,
          417442.6,
          375149.9,
          351357.5,
          345355.6,
          363232.5,
          376464.9,
          389982.1,
          407885.8,
          420518.6,
          428151.7,
          448305.8,
          437121.6,
          417442.6,
          366944.8,
          311427.8,
          283278.9,
          281446.1,
          310025.1,
          340597.9,
          386304.3,
          420518.6
         ],
         "yaxis": "y3"
        },
        {
         "hovertemplate": "<b>Date</b>: %{x}<br><b>Value (GJ)</b>: %{y}<br>",
         "legendgroup": "Rolling_5_Year_Min",
         "line": {
          "color": "red",
          "dash": "solid"
         },
         "marker": {
          "symbol": "circle"
         },
         "mode": "lines",
         "name": "5 Year Minimum",
         "orientation": "v",
         "showlegend": false,
         "type": "scatter",
         "x": [
          "2021-01-01T00:00:00",
          "2021-02-01T00:00:00",
          "2021-03-01T00:00:00",
          "2021-04-01T00:00:00",
          "2021-05-01T00:00:00",
          "2021-06-01T00:00:00",
          "2021-07-01T00:00:00",
          "2021-08-01T00:00:00",
          "2021-09-01T00:00:00",
          "2021-10-01T00:00:00",
          "2021-11-01T00:00:00",
          "2021-12-01T00:00:00",
          "2022-01-01T00:00:00",
          "2022-02-01T00:00:00",
          "2022-03-01T00:00:00",
          "2022-04-01T00:00:00",
          "2022-05-01T00:00:00",
          "2022-06-01T00:00:00",
          "2022-07-01T00:00:00",
          "2022-08-01T00:00:00",
          "2022-09-01T00:00:00",
          "2022-10-01T00:00:00",
          "2022-11-01T00:00:00",
          "2022-12-01T00:00:00",
          "2023-01-01T00:00:00",
          "2023-02-01T00:00:00",
          "2023-03-01T00:00:00",
          "2023-04-01T00:00:00",
          "2023-05-01T00:00:00",
          "2023-06-01T00:00:00",
          "2023-07-01T00:00:00",
          "2023-08-01T00:00:00",
          "2023-09-01T00:00:00"
         ],
         "xaxis": "x2",
         "y": [
          375149.9,
          351357.5,
          345355.6,
          363232.5,
          376464.9,
          389982.1,
          407885.8,
          420518.6,
          428151.7,
          448305.8,
          437121.6,
          417442.6,
          375149.9,
          351357.5,
          345355.6,
          363232.5,
          376464.9,
          389982.1,
          407885.8,
          420518.6,
          428151.7,
          448305.8,
          437121.6,
          417442.6,
          366944.8,
          311427.8,
          283278.9,
          281446.1,
          310025.1,
          340597.9,
          386304.3,
          420518.6,
          428151.7
         ],
         "yaxis": "y2"
        },
        {
         "hovertemplate": "<b>Date</b>: %{x}<br><b>Value (GJ)</b>: %{y}<br>",
         "legendgroup": "Rolling_5_Year_Min",
         "line": {
          "color": "red",
          "dash": "solid"
         },
         "marker": {
          "symbol": "circle"
         },
         "mode": "lines",
         "name": "5 Year Minimum",
         "orientation": "v",
         "showlegend": false,
         "type": "scatter",
         "x": [
          "2021-01-01T00:00:00",
          "2021-02-01T00:00:00",
          "2021-03-01T00:00:00",
          "2021-04-01T00:00:00",
          "2021-05-01T00:00:00",
          "2021-06-01T00:00:00",
          "2021-07-01T00:00:00",
          "2021-08-01T00:00:00",
          "2021-09-01T00:00:00",
          "2021-10-01T00:00:00",
          "2021-11-01T00:00:00",
          "2021-12-01T00:00:00",
          "2022-01-01T00:00:00",
          "2022-02-01T00:00:00",
          "2022-03-01T00:00:00",
          "2022-04-01T00:00:00",
          "2022-05-01T00:00:00",
          "2022-06-01T00:00:00",
          "2022-07-01T00:00:00",
          "2022-08-01T00:00:00",
          "2022-09-01T00:00:00",
          "2022-10-01T00:00:00",
          "2022-11-01T00:00:00",
          "2022-12-01T00:00:00",
          "2023-01-01T00:00:00",
          "2023-02-01T00:00:00",
          "2023-03-01T00:00:00",
          "2023-04-01T00:00:00",
          "2023-05-01T00:00:00",
          "2023-06-01T00:00:00",
          "2023-07-01T00:00:00",
          "2023-08-01T00:00:00",
          "2023-09-01T00:00:00"
         ],
         "xaxis": "x",
         "y": [
          -47881.8,
          -63808.6,
          -27441.9,
          1799.9,
          10507.6,
          13517.2,
          4197.3,
          12632.9,
          782.3,
          -10530,
          -25018.7,
          -61468.7,
          -71551.6,
          -85179.8,
          -27441.9,
          1799.9,
          10507.6,
          13517.2,
          16603.5,
          12632.9,
          7581.3,
          -5497.4,
          -25018.7,
          -61468.7,
          -71551.6,
          -85179.8,
          -28148.9,
          -1832.8,
          10507.6,
          13517.2,
          16603.5,
          12632.9,
          7581.3
         ],
         "yaxis": "y"
        },
        {
         "hovertemplate": "<b>Date</b>: %{x}<br><b>Value (GJ)</b>: %{y}<br>",
         "legendgroup": "Rolling_5_Year_max",
         "line": {
          "color": "green",
          "dash": "solid"
         },
         "marker": {
          "symbol": "circle"
         },
         "mode": "lines",
         "name": "5 Year Maximum",
         "orientation": "v",
         "showlegend": true,
         "type": "scatter",
         "x": [
          "2021-01-01T00:00:00",
          "2021-02-01T00:00:00",
          "2021-03-01T00:00:00",
          "2021-04-01T00:00:00",
          "2021-05-01T00:00:00",
          "2021-06-01T00:00:00",
          "2021-07-01T00:00:00",
          "2021-08-01T00:00:00",
          "2021-09-01T00:00:00",
          "2021-10-01T00:00:00",
          "2021-11-01T00:00:00",
          "2021-12-01T00:00:00",
          "2022-01-01T00:00:00",
          "2022-02-01T00:00:00",
          "2022-03-01T00:00:00",
          "2022-04-01T00:00:00",
          "2022-05-01T00:00:00",
          "2022-06-01T00:00:00",
          "2022-07-01T00:00:00",
          "2022-08-01T00:00:00",
          "2022-09-01T00:00:00",
          "2022-10-01T00:00:00",
          "2022-11-01T00:00:00",
          "2022-12-01T00:00:00",
          "2023-01-01T00:00:00",
          "2023-02-01T00:00:00",
          "2023-03-01T00:00:00",
          "2023-04-01T00:00:00",
          "2023-05-01T00:00:00",
          "2023-06-01T00:00:00",
          "2023-07-01T00:00:00",
          "2023-08-01T00:00:00",
          "2023-09-01T00:00:00"
         ],
         "xaxis": "x3",
         "y": [
          566233.6,
          531036.8,
          524859.1,
          548674.4,
          574402.6,
          587846.5,
          604192.3,
          608389.6,
          623657.1,
          624439.4,
          631201.2,
          611764.6,
          566233.6,
          521851.1,
          496483,
          480004.5,
          495830.3,
          521588.8,
          552298.1,
          580934.2,
          596063.9,
          616460.9,
          631201.2,
          611764.6,
          550295.9,
          501057.9,
          451036,
          423594.1,
          425394,
          439910.4,
          492283.9,
          535752.2,
          578591.6
         ],
         "yaxis": "y3"
        },
        {
         "hovertemplate": "<b>Date</b>: %{x}<br><b>Value (GJ)</b>: %{y}<br>",
         "legendgroup": "Rolling_5_Year_max",
         "line": {
          "color": "green",
          "dash": "solid"
         },
         "marker": {
          "symbol": "circle"
         },
         "mode": "lines",
         "name": "5 Year Maximum",
         "orientation": "v",
         "showlegend": false,
         "type": "scatter",
         "x": [
          "2021-01-01T00:00:00",
          "2021-02-01T00:00:00",
          "2021-03-01T00:00:00",
          "2021-04-01T00:00:00",
          "2021-05-01T00:00:00",
          "2021-06-01T00:00:00",
          "2021-07-01T00:00:00",
          "2021-08-01T00:00:00",
          "2021-09-01T00:00:00",
          "2021-10-01T00:00:00",
          "2021-11-01T00:00:00",
          "2021-12-01T00:00:00",
          "2022-01-01T00:00:00",
          "2022-02-01T00:00:00",
          "2022-03-01T00:00:00",
          "2022-04-01T00:00:00",
          "2022-05-01T00:00:00",
          "2022-06-01T00:00:00",
          "2022-07-01T00:00:00",
          "2022-08-01T00:00:00",
          "2022-09-01T00:00:00",
          "2022-10-01T00:00:00",
          "2022-11-01T00:00:00",
          "2022-12-01T00:00:00",
          "2023-01-01T00:00:00",
          "2023-02-01T00:00:00",
          "2023-03-01T00:00:00",
          "2023-04-01T00:00:00",
          "2023-05-01T00:00:00",
          "2023-06-01T00:00:00",
          "2023-07-01T00:00:00",
          "2023-08-01T00:00:00",
          "2023-09-01T00:00:00"
         ],
         "xaxis": "x2",
         "y": [
          531036.8,
          524859.1,
          548674.4,
          574402.6,
          587846.5,
          604192.3,
          608389.6,
          623657.1,
          624439.4,
          631201.2,
          611764.6,
          566233.6,
          521851.1,
          496483,
          480004.5,
          495830.3,
          521588.8,
          552298.1,
          580934.2,
          596063.9,
          616460.9,
          631201.2,
          611764.6,
          550295.9,
          501057.9,
          451036,
          423594.1,
          425394,
          439910.4,
          492283.9,
          535752.2,
          578591.6,
          616460.9
         ],
         "yaxis": "y2"
        },
        {
         "hovertemplate": "<b>Date</b>: %{x}<br><b>Value (GJ)</b>: %{y}<br>",
         "legendgroup": "Rolling_5_Year_max",
         "line": {
          "color": "green",
          "dash": "solid"
         },
         "marker": {
          "symbol": "circle"
         },
         "mode": "lines",
         "name": "5 Year Maximum",
         "orientation": "v",
         "showlegend": false,
         "type": "scatter",
         "x": [
          "2021-01-01T00:00:00",
          "2021-02-01T00:00:00",
          "2021-03-01T00:00:00",
          "2021-04-01T00:00:00",
          "2021-05-01T00:00:00",
          "2021-06-01T00:00:00",
          "2021-07-01T00:00:00",
          "2021-08-01T00:00:00",
          "2021-09-01T00:00:00",
          "2021-10-01T00:00:00",
          "2021-11-01T00:00:00",
          "2021-12-01T00:00:00",
          "2022-01-01T00:00:00",
          "2022-02-01T00:00:00",
          "2022-03-01T00:00:00",
          "2022-04-01T00:00:00",
          "2022-05-01T00:00:00",
          "2022-06-01T00:00:00",
          "2022-07-01T00:00:00",
          "2022-08-01T00:00:00",
          "2022-09-01T00:00:00",
          "2022-10-01T00:00:00",
          "2022-11-01T00:00:00",
          "2022-12-01T00:00:00",
          "2023-01-01T00:00:00",
          "2023-02-01T00:00:00",
          "2023-03-01T00:00:00",
          "2023-04-01T00:00:00",
          "2023-05-01T00:00:00",
          "2023-06-01T00:00:00",
          "2023-07-01T00:00:00",
          "2023-08-01T00:00:00",
          "2023-09-01T00:00:00"
         ],
         "xaxis": "x",
         "y": [
          -24470.5,
          -6177.8,
          23815.3,
          40390.9,
          54163.9,
          52373.5,
          43468.3,
          42839.4,
          37869.3,
          20154.1,
          -4254.7,
          -15005,
          -42292.7,
          -23792.3,
          -6001.9,
          40390.9,
          54163.9,
          52373.5,
          43468.3,
          42839.4,
          37869.3,
          20154.1,
          -7104.8,
          -15005,
          -42292.7,
          -23792.3,
          -6001.9,
          40390.9,
          54163.9,
          52373.5,
          45706.4,
          42954.7,
          37869.3
         ],
         "yaxis": "y"
        },
        {
         "hovertemplate": "<b>Date</b>: %{x}<br><b>Value (GJ)</b>: %{y}<br>",
         "legendgroup": "Avg_5_Year",
         "line": {
          "color": "navy",
          "dash": "solid"
         },
         "marker": {
          "symbol": "circle"
         },
         "mode": "lines",
         "name": "5 Year Average",
         "orientation": "v",
         "showlegend": true,
         "type": "scatter",
         "x": [
          "2021-01-01T00:00:00",
          "2021-02-01T00:00:00",
          "2021-03-01T00:00:00",
          "2021-04-01T00:00:00",
          "2021-05-01T00:00:00",
          "2021-06-01T00:00:00",
          "2021-07-01T00:00:00",
          "2021-08-01T00:00:00",
          "2021-09-01T00:00:00",
          "2021-10-01T00:00:00",
          "2021-11-01T00:00:00",
          "2021-12-01T00:00:00",
          "2022-01-01T00:00:00",
          "2022-02-01T00:00:00",
          "2022-03-01T00:00:00",
          "2022-04-01T00:00:00",
          "2022-05-01T00:00:00",
          "2022-06-01T00:00:00",
          "2022-07-01T00:00:00",
          "2022-08-01T00:00:00",
          "2022-09-01T00:00:00",
          "2022-10-01T00:00:00",
          "2022-11-01T00:00:00",
          "2022-12-01T00:00:00",
          "2023-01-01T00:00:00",
          "2023-02-01T00:00:00",
          "2023-03-01T00:00:00",
          "2023-04-01T00:00:00",
          "2023-05-01T00:00:00",
          "2023-06-01T00:00:00",
          "2023-07-01T00:00:00",
          "2023-08-01T00:00:00",
          "2023-09-01T00:00:00"
         ],
         "xaxis": "x3",
         "y": [
          516113.32,
          472856.5,
          439022.75999999995,
          429379.48,
          448921.18,
          472342.44000000006,
          498251.5800000001,
          520559.55999999994,
          542061.08,
          556259.84,
          561256.5599999999,
          547856.74,
          513194.77999999997,
          462398,
          412763.83999999997,
          394969.94000000006,
          412961.16000000003,
          438169.95999999996,
          465206.86000000004,
          489996.05999999994,
          513674.76000000007,
          533026.0199999999,
          540180.52,
          525391.82,
          487182.94000000006,
          431416.74000000005,
          375752.8,
          355624.82,
          370084.32,
          395857.22000000003,
          422866.82,
          451070.07999999996,
          480313.7800000001
         ],
         "yaxis": "y3"
        },
        {
         "hovertemplate": "<b>Date</b>: %{x}<br><b>Value (GJ)</b>: %{y}<br>",
         "legendgroup": "Avg_5_Year",
         "line": {
          "color": "navy",
          "dash": "solid"
         },
         "marker": {
          "symbol": "circle"
         },
         "mode": "lines",
         "name": "5 Year Average",
         "orientation": "v",
         "showlegend": false,
         "type": "scatter",
         "x": [
          "2021-01-01T00:00:00",
          "2021-02-01T00:00:00",
          "2021-03-01T00:00:00",
          "2021-04-01T00:00:00",
          "2021-05-01T00:00:00",
          "2021-06-01T00:00:00",
          "2021-07-01T00:00:00",
          "2021-08-01T00:00:00",
          "2021-09-01T00:00:00",
          "2021-10-01T00:00:00",
          "2021-11-01T00:00:00",
          "2021-12-01T00:00:00",
          "2022-01-01T00:00:00",
          "2022-02-01T00:00:00",
          "2022-03-01T00:00:00",
          "2022-04-01T00:00:00",
          "2022-05-01T00:00:00",
          "2022-06-01T00:00:00",
          "2022-07-01T00:00:00",
          "2022-08-01T00:00:00",
          "2022-09-01T00:00:00",
          "2022-10-01T00:00:00",
          "2022-11-01T00:00:00",
          "2022-12-01T00:00:00",
          "2023-01-01T00:00:00",
          "2023-02-01T00:00:00",
          "2023-03-01T00:00:00",
          "2023-04-01T00:00:00",
          "2023-05-01T00:00:00",
          "2023-06-01T00:00:00",
          "2023-07-01T00:00:00",
          "2023-08-01T00:00:00",
          "2023-09-01T00:00:00"
         ],
         "xaxis": "x2",
         "y": [
          472856.5,
          439022.75999999995,
          429379.48,
          448921.18,
          472342.44000000006,
          498251.5800000001,
          520559.55999999994,
          542061.08,
          556259.84,
          561256.5599999999,
          547856.74,
          513194.77999999997,
          462398,
          412763.83999999997,
          394969.94000000006,
          412961.16000000003,
          438169.95999999996,
          465206.86000000004,
          489996.05999999994,
          513674.76000000007,
          533026.0199999999,
          540180.52,
          525391.82,
          487182.94000000006,
          431416.74000000005,
          375752.8,
          355624.82,
          370084.32,
          395857.22000000003,
          422866.82,
          451070.07999999996,
          480313.7800000001,
          501932.31999999995
         ],
         "yaxis": "y2"
        },
        {
         "hovertemplate": "<b>Date</b>: %{x}<br><b>Value (GJ)</b>: %{y}<br>",
         "legendgroup": "Avg_5_Year",
         "line": {
          "color": "navy",
          "dash": "solid"
         },
         "marker": {
          "symbol": "circle"
         },
         "mode": "lines",
         "name": "5 Year Average",
         "orientation": "v",
         "showlegend": false,
         "type": "scatter",
         "x": [
          "2021-01-01T00:00:00",
          "2021-02-01T00:00:00",
          "2021-03-01T00:00:00",
          "2021-04-01T00:00:00",
          "2021-05-01T00:00:00",
          "2021-06-01T00:00:00",
          "2021-07-01T00:00:00",
          "2021-08-01T00:00:00",
          "2021-09-01T00:00:00",
          "2021-10-01T00:00:00",
          "2021-11-01T00:00:00",
          "2021-12-01T00:00:00",
          "2022-01-01T00:00:00",
          "2022-02-01T00:00:00",
          "2022-03-01T00:00:00",
          "2022-04-01T00:00:00",
          "2022-05-01T00:00:00",
          "2022-06-01T00:00:00",
          "2022-07-01T00:00:00",
          "2022-08-01T00:00:00",
          "2022-09-01T00:00:00",
          "2022-10-01T00:00:00",
          "2022-11-01T00:00:00",
          "2022-12-01T00:00:00",
          "2023-01-01T00:00:00",
          "2023-02-01T00:00:00",
          "2023-03-01T00:00:00",
          "2023-04-01T00:00:00",
          "2023-05-01T00:00:00",
          "2023-06-01T00:00:00",
          "2023-07-01T00:00:00",
          "2023-08-01T00:00:00",
          "2023-09-01T00:00:00"
         ],
         "xaxis": "x",
         "y": [
          -41380.53999999999,
          -33833.759999999995,
          -9643.280000000002,
          19541.72,
          23421.260000000002,
          25909.140000000003,
          22307.96,
          21501.54,
          14198.780000000002,
          4996.699999999999,
          -13399.820000000002,
          -34661.979999999996,
          -50796.76,
          -49634.16,
          -17793.9,
          17991.219999999998,
          25208.8,
          27036.9,
          24789.2,
          23678.739999999998,
          19351.260000000002,
          7154.499999999998,
          -14788.7,
          -38208.92,
          -55766.2,
          -55663.92,
          -20127.98,
          14459.5,
          25772.9,
          27009.6,
          28203.260000000002,
          29243.739999999998,
          21618.500000000004
         ],
         "yaxis": "y"
        }
       ],
       "layout": {
        "annotations": [
         {
          "font": {},
          "showarrow": false,
          "text": "Inventory change",
          "textangle": 90,
          "x": 0.98,
          "xanchor": "left",
          "xref": "paper",
          "y": 0.15666666666666665,
          "yanchor": "middle",
          "yref": "paper"
         },
         {
          "font": {},
          "showarrow": false,
          "text": "Closing inventory",
          "textangle": 90,
          "x": 0.98,
          "xanchor": "left",
          "xref": "paper",
          "y": 0.4999999999999999,
          "yanchor": "middle",
          "yref": "paper"
         },
         {
          "font": {},
          "showarrow": false,
          "text": "Opening inventory",
          "textangle": 90,
          "x": 0.98,
          "xanchor": "left",
          "xref": "paper",
          "y": 0.8433333333333332,
          "yanchor": "middle",
          "yref": "paper"
         }
        ],
        "height": 600,
        "legend": {
         "orientation": "h",
         "title": {
          "text": ""
         },
         "tracegroupgap": 0,
         "x": 0,
         "y": -0.2
        },
        "template": {
         "data": {
          "bar": [
           {
            "error_x": {
             "color": "#f2f5fa"
            },
            "error_y": {
             "color": "#f2f5fa"
            },
            "marker": {
             "line": {
              "color": "rgb(17,17,17)",
              "width": 0.5
             },
             "pattern": {
              "fillmode": "overlay",
              "size": 10,
              "solidity": 0.2
             }
            },
            "type": "bar"
           }
          ],
          "barpolar": [
           {
            "marker": {
             "line": {
              "color": "rgb(17,17,17)",
              "width": 0.5
             },
             "pattern": {
              "fillmode": "overlay",
              "size": 10,
              "solidity": 0.2
             }
            },
            "type": "barpolar"
           }
          ],
          "carpet": [
           {
            "aaxis": {
             "endlinecolor": "#A2B1C6",
             "gridcolor": "#506784",
             "linecolor": "#506784",
             "minorgridcolor": "#506784",
             "startlinecolor": "#A2B1C6"
            },
            "baxis": {
             "endlinecolor": "#A2B1C6",
             "gridcolor": "#506784",
             "linecolor": "#506784",
             "minorgridcolor": "#506784",
             "startlinecolor": "#A2B1C6"
            },
            "type": "carpet"
           }
          ],
          "choropleth": [
           {
            "colorbar": {
             "outlinewidth": 0,
             "ticks": ""
            },
            "type": "choropleth"
           }
          ],
          "contour": [
           {
            "colorbar": {
             "outlinewidth": 0,
             "ticks": ""
            },
            "colorscale": [
             [
              0,
              "#0d0887"
             ],
             [
              0.1111111111111111,
              "#46039f"
             ],
             [
              0.2222222222222222,
              "#7201a8"
             ],
             [
              0.3333333333333333,
              "#9c179e"
             ],
             [
              0.4444444444444444,
              "#bd3786"
             ],
             [
              0.5555555555555556,
              "#d8576b"
             ],
             [
              0.6666666666666666,
              "#ed7953"
             ],
             [
              0.7777777777777778,
              "#fb9f3a"
             ],
             [
              0.8888888888888888,
              "#fdca26"
             ],
             [
              1,
              "#f0f921"
             ]
            ],
            "type": "contour"
           }
          ],
          "contourcarpet": [
           {
            "colorbar": {
             "outlinewidth": 0,
             "ticks": ""
            },
            "type": "contourcarpet"
           }
          ],
          "heatmap": [
           {
            "colorbar": {
             "outlinewidth": 0,
             "ticks": ""
            },
            "colorscale": [
             [
              0,
              "#0d0887"
             ],
             [
              0.1111111111111111,
              "#46039f"
             ],
             [
              0.2222222222222222,
              "#7201a8"
             ],
             [
              0.3333333333333333,
              "#9c179e"
             ],
             [
              0.4444444444444444,
              "#bd3786"
             ],
             [
              0.5555555555555556,
              "#d8576b"
             ],
             [
              0.6666666666666666,
              "#ed7953"
             ],
             [
              0.7777777777777778,
              "#fb9f3a"
             ],
             [
              0.8888888888888888,
              "#fdca26"
             ],
             [
              1,
              "#f0f921"
             ]
            ],
            "type": "heatmap"
           }
          ],
          "heatmapgl": [
           {
            "colorbar": {
             "outlinewidth": 0,
             "ticks": ""
            },
            "colorscale": [
             [
              0,
              "#0d0887"
             ],
             [
              0.1111111111111111,
              "#46039f"
             ],
             [
              0.2222222222222222,
              "#7201a8"
             ],
             [
              0.3333333333333333,
              "#9c179e"
             ],
             [
              0.4444444444444444,
              "#bd3786"
             ],
             [
              0.5555555555555556,
              "#d8576b"
             ],
             [
              0.6666666666666666,
              "#ed7953"
             ],
             [
              0.7777777777777778,
              "#fb9f3a"
             ],
             [
              0.8888888888888888,
              "#fdca26"
             ],
             [
              1,
              "#f0f921"
             ]
            ],
            "type": "heatmapgl"
           }
          ],
          "histogram": [
           {
            "marker": {
             "pattern": {
              "fillmode": "overlay",
              "size": 10,
              "solidity": 0.2
             }
            },
            "type": "histogram"
           }
          ],
          "histogram2d": [
           {
            "colorbar": {
             "outlinewidth": 0,
             "ticks": ""
            },
            "colorscale": [
             [
              0,
              "#0d0887"
             ],
             [
              0.1111111111111111,
              "#46039f"
             ],
             [
              0.2222222222222222,
              "#7201a8"
             ],
             [
              0.3333333333333333,
              "#9c179e"
             ],
             [
              0.4444444444444444,
              "#bd3786"
             ],
             [
              0.5555555555555556,
              "#d8576b"
             ],
             [
              0.6666666666666666,
              "#ed7953"
             ],
             [
              0.7777777777777778,
              "#fb9f3a"
             ],
             [
              0.8888888888888888,
              "#fdca26"
             ],
             [
              1,
              "#f0f921"
             ]
            ],
            "type": "histogram2d"
           }
          ],
          "histogram2dcontour": [
           {
            "colorbar": {
             "outlinewidth": 0,
             "ticks": ""
            },
            "colorscale": [
             [
              0,
              "#0d0887"
             ],
             [
              0.1111111111111111,
              "#46039f"
             ],
             [
              0.2222222222222222,
              "#7201a8"
             ],
             [
              0.3333333333333333,
              "#9c179e"
             ],
             [
              0.4444444444444444,
              "#bd3786"
             ],
             [
              0.5555555555555556,
              "#d8576b"
             ],
             [
              0.6666666666666666,
              "#ed7953"
             ],
             [
              0.7777777777777778,
              "#fb9f3a"
             ],
             [
              0.8888888888888888,
              "#fdca26"
             ],
             [
              1,
              "#f0f921"
             ]
            ],
            "type": "histogram2dcontour"
           }
          ],
          "mesh3d": [
           {
            "colorbar": {
             "outlinewidth": 0,
             "ticks": ""
            },
            "type": "mesh3d"
           }
          ],
          "parcoords": [
           {
            "line": {
             "colorbar": {
              "outlinewidth": 0,
              "ticks": ""
             }
            },
            "type": "parcoords"
           }
          ],
          "pie": [
           {
            "automargin": true,
            "type": "pie"
           }
          ],
          "scatter": [
           {
            "marker": {
             "line": {
              "color": "#283442"
             }
            },
            "type": "scatter"
           }
          ],
          "scatter3d": [
           {
            "line": {
             "colorbar": {
              "outlinewidth": 0,
              "ticks": ""
             }
            },
            "marker": {
             "colorbar": {
              "outlinewidth": 0,
              "ticks": ""
             }
            },
            "type": "scatter3d"
           }
          ],
          "scattercarpet": [
           {
            "marker": {
             "colorbar": {
              "outlinewidth": 0,
              "ticks": ""
             }
            },
            "type": "scattercarpet"
           }
          ],
          "scattergeo": [
           {
            "marker": {
             "colorbar": {
              "outlinewidth": 0,
              "ticks": ""
             }
            },
            "type": "scattergeo"
           }
          ],
          "scattergl": [
           {
            "marker": {
             "line": {
              "color": "#283442"
             }
            },
            "type": "scattergl"
           }
          ],
          "scattermapbox": [
           {
            "marker": {
             "colorbar": {
              "outlinewidth": 0,
              "ticks": ""
             }
            },
            "type": "scattermapbox"
           }
          ],
          "scatterpolar": [
           {
            "marker": {
             "colorbar": {
              "outlinewidth": 0,
              "ticks": ""
             }
            },
            "type": "scatterpolar"
           }
          ],
          "scatterpolargl": [
           {
            "marker": {
             "colorbar": {
              "outlinewidth": 0,
              "ticks": ""
             }
            },
            "type": "scatterpolargl"
           }
          ],
          "scatterternary": [
           {
            "marker": {
             "colorbar": {
              "outlinewidth": 0,
              "ticks": ""
             }
            },
            "type": "scatterternary"
           }
          ],
          "surface": [
           {
            "colorbar": {
             "outlinewidth": 0,
             "ticks": ""
            },
            "colorscale": [
             [
              0,
              "#0d0887"
             ],
             [
              0.1111111111111111,
              "#46039f"
             ],
             [
              0.2222222222222222,
              "#7201a8"
             ],
             [
              0.3333333333333333,
              "#9c179e"
             ],
             [
              0.4444444444444444,
              "#bd3786"
             ],
             [
              0.5555555555555556,
              "#d8576b"
             ],
             [
              0.6666666666666666,
              "#ed7953"
             ],
             [
              0.7777777777777778,
              "#fb9f3a"
             ],
             [
              0.8888888888888888,
              "#fdca26"
             ],
             [
              1,
              "#f0f921"
             ]
            ],
            "type": "surface"
           }
          ],
          "table": [
           {
            "cells": {
             "fill": {
              "color": "#506784"
             },
             "line": {
              "color": "rgb(17,17,17)"
             }
            },
            "header": {
             "fill": {
              "color": "#2a3f5f"
             },
             "line": {
              "color": "rgb(17,17,17)"
             }
            },
            "type": "table"
           }
          ]
         },
         "layout": {
          "annotationdefaults": {
           "arrowcolor": "#f2f5fa",
           "arrowhead": 0,
           "arrowwidth": 1
          },
          "autotypenumbers": "strict",
          "coloraxis": {
           "colorbar": {
            "outlinewidth": 0,
            "ticks": ""
           }
          },
          "colorscale": {
           "diverging": [
            [
             0,
             "#8e0152"
            ],
            [
             0.1,
             "#c51b7d"
            ],
            [
             0.2,
             "#de77ae"
            ],
            [
             0.3,
             "#f1b6da"
            ],
            [
             0.4,
             "#fde0ef"
            ],
            [
             0.5,
             "#f7f7f7"
            ],
            [
             0.6,
             "#e6f5d0"
            ],
            [
             0.7,
             "#b8e186"
            ],
            [
             0.8,
             "#7fbc41"
            ],
            [
             0.9,
             "#4d9221"
            ],
            [
             1,
             "#276419"
            ]
           ],
           "sequential": [
            [
             0,
             "#0d0887"
            ],
            [
             0.1111111111111111,
             "#46039f"
            ],
            [
             0.2222222222222222,
             "#7201a8"
            ],
            [
             0.3333333333333333,
             "#9c179e"
            ],
            [
             0.4444444444444444,
             "#bd3786"
            ],
            [
             0.5555555555555556,
             "#d8576b"
            ],
            [
             0.6666666666666666,
             "#ed7953"
            ],
            [
             0.7777777777777778,
             "#fb9f3a"
            ],
            [
             0.8888888888888888,
             "#fdca26"
            ],
            [
             1,
             "#f0f921"
            ]
           ],
           "sequentialminus": [
            [
             0,
             "#0d0887"
            ],
            [
             0.1111111111111111,
             "#46039f"
            ],
            [
             0.2222222222222222,
             "#7201a8"
            ],
            [
             0.3333333333333333,
             "#9c179e"
            ],
            [
             0.4444444444444444,
             "#bd3786"
            ],
            [
             0.5555555555555556,
             "#d8576b"
            ],
            [
             0.6666666666666666,
             "#ed7953"
            ],
            [
             0.7777777777777778,
             "#fb9f3a"
            ],
            [
             0.8888888888888888,
             "#fdca26"
            ],
            [
             1,
             "#f0f921"
            ]
           ]
          },
          "colorway": [
           "#636efa",
           "#EF553B",
           "#00cc96",
           "#ab63fa",
           "#FFA15A",
           "#19d3f3",
           "#FF6692",
           "#B6E880",
           "#FF97FF",
           "#FECB52"
          ],
          "font": {
           "color": "#f2f5fa"
          },
          "geo": {
           "bgcolor": "rgb(17,17,17)",
           "lakecolor": "rgb(17,17,17)",
           "landcolor": "rgb(17,17,17)",
           "showlakes": true,
           "showland": true,
           "subunitcolor": "#506784"
          },
          "hoverlabel": {
           "align": "left"
          },
          "hovermode": "closest",
          "mapbox": {
           "style": "dark"
          },
          "paper_bgcolor": "rgb(17,17,17)",
          "plot_bgcolor": "rgb(17,17,17)",
          "polar": {
           "angularaxis": {
            "gridcolor": "#506784",
            "linecolor": "#506784",
            "ticks": ""
           },
           "bgcolor": "rgb(17,17,17)",
           "radialaxis": {
            "gridcolor": "#506784",
            "linecolor": "#506784",
            "ticks": ""
           }
          },
          "scene": {
           "xaxis": {
            "backgroundcolor": "rgb(17,17,17)",
            "gridcolor": "#506784",
            "gridwidth": 2,
            "linecolor": "#506784",
            "showbackground": true,
            "ticks": "",
            "zerolinecolor": "#C8D4E3"
           },
           "yaxis": {
            "backgroundcolor": "rgb(17,17,17)",
            "gridcolor": "#506784",
            "gridwidth": 2,
            "linecolor": "#506784",
            "showbackground": true,
            "ticks": "",
            "zerolinecolor": "#C8D4E3"
           },
           "zaxis": {
            "backgroundcolor": "rgb(17,17,17)",
            "gridcolor": "#506784",
            "gridwidth": 2,
            "linecolor": "#506784",
            "showbackground": true,
            "ticks": "",
            "zerolinecolor": "#C8D4E3"
           }
          },
          "shapedefaults": {
           "line": {
            "color": "#f2f5fa"
           }
          },
          "sliderdefaults": {
           "bgcolor": "#C8D4E3",
           "bordercolor": "rgb(17,17,17)",
           "borderwidth": 1,
           "tickwidth": 0
          },
          "ternary": {
           "aaxis": {
            "gridcolor": "#506784",
            "linecolor": "#506784",
            "ticks": ""
           },
           "baxis": {
            "gridcolor": "#506784",
            "linecolor": "#506784",
            "ticks": ""
           },
           "bgcolor": "rgb(17,17,17)",
           "caxis": {
            "gridcolor": "#506784",
            "linecolor": "#506784",
            "ticks": ""
           }
          },
          "title": {
           "x": 0.05
          },
          "updatemenudefaults": {
           "bgcolor": "#506784",
           "borderwidth": 0
          },
          "xaxis": {
           "automargin": true,
           "gridcolor": "#283442",
           "linecolor": "#506784",
           "ticks": "",
           "title": {
            "standoff": 15
           },
           "zerolinecolor": "#283442",
           "zerolinewidth": 2
          },
          "yaxis": {
           "automargin": true,
           "gridcolor": "#283442",
           "linecolor": "#506784",
           "ticks": "",
           "title": {
            "standoff": 15
           },
           "zerolinecolor": "#283442",
           "zerolinewidth": 2
          }
         }
        },
        "title": {
         "text": "Alberta Natural Gas Storage",
         "x": 0.5
        },
        "width": 600,
        "xaxis": {
         "anchor": "y",
         "domain": [
          0,
          0.98
         ],
         "title": {
          "text": "Date"
         }
        },
        "xaxis2": {
         "anchor": "y2",
         "domain": [
          0,
          0.98
         ],
         "matches": "x",
         "showticklabels": false
        },
        "xaxis3": {
         "anchor": "y3",
         "domain": [
          0,
          0.98
         ],
         "matches": "x",
         "showticklabels": false
        },
        "yaxis": {
         "anchor": "x",
         "domain": [
          0,
          0.3133333333333333
         ],
         "title": {
          "text": "GJ"
         }
        },
        "yaxis2": {
         "anchor": "x2",
         "domain": [
          0.34333333333333327,
          0.6566666666666665
         ],
         "title": {
          "text": "GJ"
         }
        },
        "yaxis3": {
         "anchor": "x3",
         "domain": [
          0.6866666666666665,
          0.9999999999999998
         ],
         "title": {
          "text": "GJ"
         }
        }
       }
      }
     },
     "metadata": {},
     "output_type": "display_data"
    }
   ],
   "source": [
    "import plotly.express as px\n",
    "import plotly.graph_objects as go\n",
    "\n",
    "# Create custom legend names\n",
    "legend_names = {\n",
    "    'GJ': 'Current Period',\n",
    "    'Rolling_5_Year_Min': '5 Year Minimum',\n",
    "    'Rolling_5_Year_max': '5 Year Maximum',\n",
    "    'Avg_5_Year': '5 Year Average'    \n",
    "}\n",
    "\n",
    "# Create the figure\n",
    "fig2 = px.line(ab_df, x='Date', y=['GJ', 'Rolling_5_Year_Min', 'Rolling_5_Year_max','Avg_5_Year'], facet_row='Storage',\n",
    "               title=\"Alberta Natural Gas Storage\",\n",
    "               facet_row_spacing=0.0, facet_col_spacing=0.0, facet_col_wrap=3)\n",
    "\n",
    "# Update annotations to remove unwanted text\n",
    "fig2.for_each_annotation(lambda a: a.update(text=a.text.split(\"=\")[-1]))\n",
    "\n",
    "# Update y-axes to not have any shared scales\n",
    "fig2.update_yaxes(matches=None)\n",
    "\n",
    "# Update the layout with the dark template and center-aligned title\n",
    "fig2.update_layout(\n",
    "    template=\"plotly_dark\",\n",
    "    title_x=0.5,\n",
    "    height=600,\n",
    "    width=600,\n",
    "    legend_title_text=\"\"  # Change the legend title to \"Legend\"\n",
    ")\n",
    "\n",
    "# Customize hovertemplate to show only the 'value'\n",
    "fig2.update_traces(hovertemplate='<b>Date</b>: %{x}<br>'\n",
    "                                '<b>Value (GJ)</b>: %{y}<br>')\n",
    "\n",
    "# Update trace names with custom legend names\n",
    "for trace in fig2.data:\n",
    "    trace.name = legend_names.get(trace.name, '')\n",
    "\n",
    "# Update x-axis and y-axis titles\n",
    "# fig2.update_xaxes(title_text=\"Date\")\n",
    "fig2.update_yaxes(title_text=\"GJ\")\n",
    "\n",
    "# Move the legend to the bottom\n",
    "fig2.update_layout(legend=dict(x=0, y=-0.2, orientation=\"h\"))\n",
    "\n",
    "# Change the color of the \"5 Year Average\" line to pink\n",
    "\n",
    "fig2.update_traces(selector=dict(name='5 Year Average'), line=dict(color='navy'))\n",
    "fig2.update_traces(selector=dict(name='5 Year Minimum'), line=dict(color='red'))\n",
    "fig2.update_traces(selector=dict(name='GJ'), line=dict(color='blue'))\n",
    "fig2.update_traces(selector=dict(name='5 Year Maximum'), line=dict(color='green'))\n",
    "\n",
    "\n",
    "# Show the plot\n",
    "fig2.show()\n"
   ]
  },
  {
   "cell_type": "code",
   "execution_count": 8,
   "metadata": {},
   "outputs": [
    {
     "data": {
      "application/vnd.plotly.v1+json": {
       "config": {
        "plotlyServerURL": "https://plot.ly"
       },
       "data": [
        {
         "hovertemplate": "<b>Date</b>: %{x}<br><b>Value (GJ)</b>: %{y}<br>",
         "legendgroup": "GJ",
         "line": {
          "color": "#636efa",
          "dash": "solid"
         },
         "marker": {
          "symbol": "circle"
         },
         "mode": "lines",
         "name": "Current Period",
         "orientation": "v",
         "showlegend": true,
         "type": "scatter",
         "x": [
          "2021-01-01T00:00:00",
          "2021-02-01T00:00:00",
          "2021-03-01T00:00:00",
          "2021-04-01T00:00:00",
          "2021-05-01T00:00:00",
          "2021-06-01T00:00:00",
          "2021-07-01T00:00:00",
          "2021-08-01T00:00:00",
          "2021-09-01T00:00:00",
          "2021-10-01T00:00:00",
          "2021-11-01T00:00:00",
          "2021-12-01T00:00:00",
          "2022-01-01T00:00:00",
          "2022-02-01T00:00:00",
          "2022-03-01T00:00:00",
          "2022-04-01T00:00:00",
          "2022-05-01T00:00:00",
          "2022-06-01T00:00:00",
          "2022-07-01T00:00:00",
          "2022-08-01T00:00:00",
          "2022-09-01T00:00:00",
          "2022-10-01T00:00:00",
          "2022-11-01T00:00:00",
          "2022-12-01T00:00:00",
          "2023-01-01T00:00:00",
          "2023-02-01T00:00:00",
          "2023-03-01T00:00:00",
          "2023-04-01T00:00:00",
          "2023-05-01T00:00:00",
          "2023-06-01T00:00:00",
          "2023-07-01T00:00:00",
          "2023-08-01T00:00:00",
          "2023-09-01T00:00:00"
         ],
         "xaxis": "x3",
         "y": [
          58054.4,
          46461.1,
          35969.2,
          24581,
          23951,
          28727.8,
          32856,
          39937.4,
          57352.1,
          68031.2,
          70607.8,
          60578.5,
          46811.3,
          33677.7,
          21942.8,
          13355.3,
          10270.3,
          20909.6,
          31164.2,
          42905.2,
          60116.6,
          70370.8,
          77712,
          71336.3,
          56852.2,
          43851.5,
          33190.5,
          23557.7,
          23512.5,
          29799.1,
          34318,
          null,
          null
         ],
         "yaxis": "y3"
        },
        {
         "hovertemplate": "<b>Date</b>: %{x}<br><b>Value (GJ)</b>: %{y}<br>",
         "legendgroup": "GJ",
         "line": {
          "color": "#636efa",
          "dash": "solid"
         },
         "marker": {
          "symbol": "circle"
         },
         "mode": "lines",
         "name": "Current Period",
         "orientation": "v",
         "showlegend": false,
         "type": "scatter",
         "x": [
          "2021-01-01T00:00:00",
          "2021-02-01T00:00:00",
          "2021-03-01T00:00:00",
          "2021-04-01T00:00:00",
          "2021-05-01T00:00:00",
          "2021-06-01T00:00:00",
          "2021-07-01T00:00:00",
          "2021-08-01T00:00:00",
          "2021-09-01T00:00:00",
          "2021-10-01T00:00:00",
          "2021-11-01T00:00:00",
          "2021-12-01T00:00:00",
          "2022-01-01T00:00:00",
          "2022-02-01T00:00:00",
          "2022-03-01T00:00:00",
          "2022-04-01T00:00:00",
          "2022-05-01T00:00:00",
          "2022-06-01T00:00:00",
          "2022-07-01T00:00:00",
          "2022-08-01T00:00:00",
          "2022-09-01T00:00:00",
          "2022-10-01T00:00:00",
          "2022-11-01T00:00:00",
          "2022-12-01T00:00:00",
          "2023-01-01T00:00:00",
          "2023-02-01T00:00:00",
          "2023-03-01T00:00:00",
          "2023-04-01T00:00:00",
          "2023-05-01T00:00:00",
          "2023-06-01T00:00:00",
          "2023-07-01T00:00:00",
          "2023-08-01T00:00:00",
          "2023-09-01T00:00:00"
         ],
         "xaxis": "x2",
         "y": [
          46461.1,
          35969.2,
          24581,
          23951,
          28727.8,
          32856,
          39937.4,
          57352.1,
          68031.2,
          70607.8,
          60578.5,
          46811.3,
          33677.7,
          21942.8,
          13355.3,
          10270.3,
          20909.6,
          31164.2,
          42905.2,
          60116.6,
          70370.8,
          77712,
          71336.3,
          56852.2,
          43851.5,
          33190.5,
          23557.7,
          23512.5,
          29799.1,
          34318,
          48843.1,
          null,
          null
         ],
         "yaxis": "y2"
        },
        {
         "hovertemplate": "<b>Date</b>: %{x}<br><b>Value (GJ)</b>: %{y}<br>",
         "legendgroup": "GJ",
         "line": {
          "color": "#636efa",
          "dash": "solid"
         },
         "marker": {
          "symbol": "circle"
         },
         "mode": "lines",
         "name": "Current Period",
         "orientation": "v",
         "showlegend": false,
         "type": "scatter",
         "x": [
          "2021-01-01T00:00:00",
          "2021-02-01T00:00:00",
          "2021-03-01T00:00:00",
          "2021-04-01T00:00:00",
          "2021-05-01T00:00:00",
          "2021-06-01T00:00:00",
          "2021-07-01T00:00:00",
          "2021-08-01T00:00:00",
          "2021-09-01T00:00:00",
          "2021-10-01T00:00:00",
          "2021-11-01T00:00:00",
          "2021-12-01T00:00:00",
          "2022-01-01T00:00:00",
          "2022-02-01T00:00:00",
          "2022-03-01T00:00:00",
          "2022-04-01T00:00:00",
          "2022-05-01T00:00:00",
          "2022-06-01T00:00:00",
          "2022-07-01T00:00:00",
          "2022-08-01T00:00:00",
          "2022-09-01T00:00:00",
          "2022-10-01T00:00:00",
          "2022-11-01T00:00:00",
          "2022-12-01T00:00:00",
          "2023-01-01T00:00:00",
          "2023-02-01T00:00:00",
          "2023-03-01T00:00:00",
          "2023-04-01T00:00:00",
          "2023-05-01T00:00:00",
          "2023-06-01T00:00:00",
          "2023-07-01T00:00:00",
          "2023-08-01T00:00:00",
          "2023-09-01T00:00:00"
         ],
         "xaxis": "x",
         "y": [
          -11593.4,
          -10491.8,
          -11388.2,
          -630,
          4776.7,
          4128.2,
          7081.4,
          17414.7,
          10679.1,
          2576.7,
          -10029.3,
          -13767.3,
          -13133.6,
          -11734.9,
          -8587.6,
          -3085,
          10639.4,
          10254.6,
          11741,
          17211.4,
          10254.2,
          7341.1,
          -6375.7,
          -14484.1,
          -13000.8,
          -10661,
          -9632.7,
          -45.2,
          6286.6,
          4518.9,
          14525,
          null,
          null
         ],
         "yaxis": "y"
        },
        {
         "hovertemplate": "<b>Date</b>: %{x}<br><b>Value (GJ)</b>: %{y}<br>",
         "legendgroup": "Rolling_5_Year_Min",
         "line": {
          "color": "red",
          "dash": "solid"
         },
         "marker": {
          "symbol": "circle"
         },
         "mode": "lines",
         "name": "5 Year Minimum",
         "orientation": "v",
         "showlegend": true,
         "type": "scatter",
         "x": [
          "2021-01-01T00:00:00",
          "2021-02-01T00:00:00",
          "2021-03-01T00:00:00",
          "2021-04-01T00:00:00",
          "2021-05-01T00:00:00",
          "2021-06-01T00:00:00",
          "2021-07-01T00:00:00",
          "2021-08-01T00:00:00",
          "2021-09-01T00:00:00",
          "2021-10-01T00:00:00",
          "2021-11-01T00:00:00",
          "2021-12-01T00:00:00",
          "2022-01-01T00:00:00",
          "2022-02-01T00:00:00",
          "2022-03-01T00:00:00",
          "2022-04-01T00:00:00",
          "2022-05-01T00:00:00",
          "2022-06-01T00:00:00",
          "2022-07-01T00:00:00",
          "2022-08-01T00:00:00",
          "2022-09-01T00:00:00",
          "2022-10-01T00:00:00",
          "2022-11-01T00:00:00",
          "2022-12-01T00:00:00",
          "2023-01-01T00:00:00",
          "2023-02-01T00:00:00",
          "2023-03-01T00:00:00",
          "2023-04-01T00:00:00",
          "2023-05-01T00:00:00",
          "2023-06-01T00:00:00",
          "2023-07-01T00:00:00",
          "2023-08-01T00:00:00",
          "2023-09-01T00:00:00"
         ],
         "xaxis": "x3",
         "y": [
          56380,
          45132,
          35487.5,
          24284.6,
          23650.7,
          28913.3,
          30924.5,
          39345.2,
          51079,
          60786.8,
          65909.5,
          65572.2,
          56380,
          45132,
          35487.5,
          24284.6,
          23650.7,
          28727.8,
          30924.5,
          39345.2,
          51079,
          60786.8,
          65909.5,
          60578.5,
          46811.3,
          33677.7,
          21942.8,
          13355.3,
          10270.3,
          20909.6,
          31164.2,
          39937.4,
          57352.1
         ],
         "yaxis": "y3"
        },
        {
         "hovertemplate": "<b>Date</b>: %{x}<br><b>Value (GJ)</b>: %{y}<br>",
         "legendgroup": "Rolling_5_Year_Min",
         "line": {
          "color": "red",
          "dash": "solid"
         },
         "marker": {
          "symbol": "circle"
         },
         "mode": "lines",
         "name": "5 Year Minimum",
         "orientation": "v",
         "showlegend": false,
         "type": "scatter",
         "x": [
          "2021-01-01T00:00:00",
          "2021-02-01T00:00:00",
          "2021-03-01T00:00:00",
          "2021-04-01T00:00:00",
          "2021-05-01T00:00:00",
          "2021-06-01T00:00:00",
          "2021-07-01T00:00:00",
          "2021-08-01T00:00:00",
          "2021-09-01T00:00:00",
          "2021-10-01T00:00:00",
          "2021-11-01T00:00:00",
          "2021-12-01T00:00:00",
          "2022-01-01T00:00:00",
          "2022-02-01T00:00:00",
          "2022-03-01T00:00:00",
          "2022-04-01T00:00:00",
          "2022-05-01T00:00:00",
          "2022-06-01T00:00:00",
          "2022-07-01T00:00:00",
          "2022-08-01T00:00:00",
          "2022-09-01T00:00:00",
          "2022-10-01T00:00:00",
          "2022-11-01T00:00:00",
          "2022-12-01T00:00:00",
          "2023-01-01T00:00:00",
          "2023-02-01T00:00:00",
          "2023-03-01T00:00:00",
          "2023-04-01T00:00:00",
          "2023-05-01T00:00:00",
          "2023-06-01T00:00:00",
          "2023-07-01T00:00:00",
          "2023-08-01T00:00:00",
          "2023-09-01T00:00:00"
         ],
         "xaxis": "x2",
         "y": [
          45132,
          35487.5,
          24284.6,
          23650.7,
          28913.3,
          30924.5,
          39345.2,
          51079,
          60786.8,
          65909.5,
          65572.2,
          56380,
          45132,
          35487.5,
          24284.6,
          23650.7,
          28727.8,
          30924.5,
          39345.2,
          51079,
          60786.8,
          65909.5,
          60578.5,
          46811.3,
          33677.7,
          21942.8,
          13355.3,
          10270.3,
          20909.6,
          31164.2,
          39937.4,
          57352.1,
          64119.4
         ],
         "yaxis": "y2"
        },
        {
         "hovertemplate": "<b>Date</b>: %{x}<br><b>Value (GJ)</b>: %{y}<br>",
         "legendgroup": "Rolling_5_Year_Min",
         "line": {
          "color": "red",
          "dash": "solid"
         },
         "marker": {
          "symbol": "circle"
         },
         "mode": "lines",
         "name": "5 Year Minimum",
         "orientation": "v",
         "showlegend": false,
         "type": "scatter",
         "x": [
          "2021-01-01T00:00:00",
          "2021-02-01T00:00:00",
          "2021-03-01T00:00:00",
          "2021-04-01T00:00:00",
          "2021-05-01T00:00:00",
          "2021-06-01T00:00:00",
          "2021-07-01T00:00:00",
          "2021-08-01T00:00:00",
          "2021-09-01T00:00:00",
          "2021-10-01T00:00:00",
          "2021-11-01T00:00:00",
          "2021-12-01T00:00:00",
          "2022-01-01T00:00:00",
          "2022-02-01T00:00:00",
          "2022-03-01T00:00:00",
          "2022-04-01T00:00:00",
          "2022-05-01T00:00:00",
          "2022-06-01T00:00:00",
          "2022-07-01T00:00:00",
          "2022-08-01T00:00:00",
          "2022-09-01T00:00:00",
          "2022-10-01T00:00:00",
          "2022-11-01T00:00:00",
          "2022-12-01T00:00:00",
          "2023-01-01T00:00:00",
          "2023-02-01T00:00:00",
          "2023-03-01T00:00:00",
          "2023-04-01T00:00:00",
          "2023-05-01T00:00:00",
          "2023-06-01T00:00:00",
          "2023-07-01T00:00:00",
          "2023-08-01T00:00:00",
          "2023-09-01T00:00:00"
         ],
         "xaxis": "x",
         "y": [
          -12273.5,
          -11421.8,
          -11556.7,
          -8906.1,
          4210.2,
          2011.3,
          5694.5,
          4241.2,
          4716.5,
          2817,
          -9096.8,
          -11341.9,
          -12273.5,
          -11421.8,
          -11556.7,
          -633.9,
          4210.2,
          2011.3,
          5694.5,
          4241.2,
          4716.5,
          2576.7,
          -10029.3,
          -13767.3,
          -13133.6,
          -11734.9,
          -11556.7,
          -3085,
          4776.7,
          4128.2,
          5694.5,
          4241.2,
          4716.5
         ],
         "yaxis": "y"
        },
        {
         "hovertemplate": "<b>Date</b>: %{x}<br><b>Value (GJ)</b>: %{y}<br>",
         "legendgroup": "Rolling_5_Year_max",
         "line": {
          "color": "green",
          "dash": "solid"
         },
         "marker": {
          "symbol": "circle"
         },
         "mode": "lines",
         "name": "5 Year Maximum",
         "orientation": "v",
         "showlegend": true,
         "type": "scatter",
         "x": [
          "2021-01-01T00:00:00",
          "2021-02-01T00:00:00",
          "2021-03-01T00:00:00",
          "2021-04-01T00:00:00",
          "2021-05-01T00:00:00",
          "2021-06-01T00:00:00",
          "2021-07-01T00:00:00",
          "2021-08-01T00:00:00",
          "2021-09-01T00:00:00",
          "2021-10-01T00:00:00",
          "2021-11-01T00:00:00",
          "2021-12-01T00:00:00",
          "2022-01-01T00:00:00",
          "2022-02-01T00:00:00",
          "2022-03-01T00:00:00",
          "2022-04-01T00:00:00",
          "2022-05-01T00:00:00",
          "2022-06-01T00:00:00",
          "2022-07-01T00:00:00",
          "2022-08-01T00:00:00",
          "2022-09-01T00:00:00",
          "2022-10-01T00:00:00",
          "2022-11-01T00:00:00",
          "2022-12-01T00:00:00",
          "2023-01-01T00:00:00",
          "2023-02-01T00:00:00",
          "2023-03-01T00:00:00",
          "2023-04-01T00:00:00",
          "2023-05-01T00:00:00",
          "2023-06-01T00:00:00",
          "2023-07-01T00:00:00",
          "2023-08-01T00:00:00",
          "2023-09-01T00:00:00"
         ],
         "xaxis": "x3",
         "y": [
          66711.3,
          57634.5,
          51723.9,
          45838.1,
          46587.3,
          55797.5,
          63047.8,
          68742.3,
          72983.5,
          77700,
          81099.6,
          72002.9,
          66711.3,
          57634.5,
          51723.9,
          45838.1,
          46587.3,
          55797.5,
          63047.8,
          68742.3,
          72983.5,
          77700,
          81099.6,
          72002.9,
          66711.3,
          57634.5,
          51723.9,
          45838.1,
          46587.3,
          55797.5,
          63047.8,
          68742.3,
          72983.5
         ],
         "yaxis": "y3"
        },
        {
         "hovertemplate": "<b>Date</b>: %{x}<br><b>Value (GJ)</b>: %{y}<br>",
         "legendgroup": "Rolling_5_Year_max",
         "line": {
          "color": "green",
          "dash": "solid"
         },
         "marker": {
          "symbol": "circle"
         },
         "mode": "lines",
         "name": "5 Year Maximum",
         "orientation": "v",
         "showlegend": false,
         "type": "scatter",
         "x": [
          "2021-01-01T00:00:00",
          "2021-02-01T00:00:00",
          "2021-03-01T00:00:00",
          "2021-04-01T00:00:00",
          "2021-05-01T00:00:00",
          "2021-06-01T00:00:00",
          "2021-07-01T00:00:00",
          "2021-08-01T00:00:00",
          "2021-09-01T00:00:00",
          "2021-10-01T00:00:00",
          "2021-11-01T00:00:00",
          "2021-12-01T00:00:00",
          "2022-01-01T00:00:00",
          "2022-02-01T00:00:00",
          "2022-03-01T00:00:00",
          "2022-04-01T00:00:00",
          "2022-05-01T00:00:00",
          "2022-06-01T00:00:00",
          "2022-07-01T00:00:00",
          "2022-08-01T00:00:00",
          "2022-09-01T00:00:00",
          "2022-10-01T00:00:00",
          "2022-11-01T00:00:00",
          "2022-12-01T00:00:00",
          "2023-01-01T00:00:00",
          "2023-02-01T00:00:00",
          "2023-03-01T00:00:00",
          "2023-04-01T00:00:00",
          "2023-05-01T00:00:00",
          "2023-06-01T00:00:00",
          "2023-07-01T00:00:00",
          "2023-08-01T00:00:00",
          "2023-09-01T00:00:00"
         ],
         "xaxis": "x2",
         "y": [
          57634.5,
          51723.9,
          45838.1,
          46587.3,
          55797.5,
          63047.8,
          68742.3,
          72983.5,
          77700,
          81099.6,
          72002.9,
          66711.3,
          57634.5,
          51723.9,
          45838.1,
          46587.3,
          55797.5,
          63047.8,
          68742.3,
          72983.5,
          77700,
          81099.6,
          72002.9,
          66711.3,
          57634.5,
          51723.9,
          45838.1,
          46587.3,
          55797.5,
          63047.8,
          68742.3,
          72983.5,
          77700
         ],
         "yaxis": "y2"
        },
        {
         "hovertemplate": "<b>Date</b>: %{x}<br><b>Value (GJ)</b>: %{y}<br>",
         "legendgroup": "Rolling_5_Year_max",
         "line": {
          "color": "green",
          "dash": "solid"
         },
         "marker": {
          "symbol": "circle"
         },
         "mode": "lines",
         "name": "5 Year Maximum",
         "orientation": "v",
         "showlegend": false,
         "type": "scatter",
         "x": [
          "2021-01-01T00:00:00",
          "2021-02-01T00:00:00",
          "2021-03-01T00:00:00",
          "2021-04-01T00:00:00",
          "2021-05-01T00:00:00",
          "2021-06-01T00:00:00",
          "2021-07-01T00:00:00",
          "2021-08-01T00:00:00",
          "2021-09-01T00:00:00",
          "2021-10-01T00:00:00",
          "2021-11-01T00:00:00",
          "2021-12-01T00:00:00",
          "2022-01-01T00:00:00",
          "2022-02-01T00:00:00",
          "2022-03-01T00:00:00",
          "2022-04-01T00:00:00",
          "2022-05-01T00:00:00",
          "2022-06-01T00:00:00",
          "2022-07-01T00:00:00",
          "2022-08-01T00:00:00",
          "2022-09-01T00:00:00",
          "2022-10-01T00:00:00",
          "2022-11-01T00:00:00",
          "2022-12-01T00:00:00",
          "2023-01-01T00:00:00",
          "2023-02-01T00:00:00",
          "2023-03-01T00:00:00",
          "2023-04-01T00:00:00",
          "2023-05-01T00:00:00",
          "2023-06-01T00:00:00",
          "2023-07-01T00:00:00",
          "2023-08-01T00:00:00",
          "2023-09-01T00:00:00"
         ],
         "xaxis": "x",
         "y": [
          -9076.8,
          -5910.6,
          -5885.8,
          3257.5,
          11558.3,
          10344.2,
          8420.6,
          23223.6,
          9707.8,
          5543.2,
          1544.6,
          -4495.8,
          -9076.8,
          -5910.6,
          -5885.8,
          3257.5,
          11558.3,
          10344.2,
          8420.6,
          17414.7,
          10679.1,
          5543.2,
          1544.6,
          -4495.8,
          -9076.8,
          -5910.6,
          -5885.8,
          3257.5,
          11558.3,
          10344.2,
          11741,
          17414.7,
          10679.1
         ],
         "yaxis": "y"
        },
        {
         "hovertemplate": "<b>Date</b>: %{x}<br><b>Value (GJ)</b>: %{y}<br>",
         "legendgroup": "Avg_5_Year",
         "line": {
          "color": "navy",
          "dash": "solid"
         },
         "marker": {
          "symbol": "circle"
         },
         "mode": "lines",
         "name": "5 Year Average",
         "orientation": "v",
         "showlegend": true,
         "type": "scatter",
         "x": [
          "2021-01-01T00:00:00",
          "2021-02-01T00:00:00",
          "2021-03-01T00:00:00",
          "2021-04-01T00:00:00",
          "2021-05-01T00:00:00",
          "2021-06-01T00:00:00",
          "2021-07-01T00:00:00",
          "2021-08-01T00:00:00",
          "2021-09-01T00:00:00",
          "2021-10-01T00:00:00",
          "2021-11-01T00:00:00",
          "2021-12-01T00:00:00",
          "2022-01-01T00:00:00",
          "2022-02-01T00:00:00",
          "2022-03-01T00:00:00",
          "2022-04-01T00:00:00",
          "2022-05-01T00:00:00",
          "2022-06-01T00:00:00",
          "2022-07-01T00:00:00",
          "2022-08-01T00:00:00",
          "2022-09-01T00:00:00",
          "2022-10-01T00:00:00",
          "2022-11-01T00:00:00",
          "2022-12-01T00:00:00",
          "2023-01-01T00:00:00",
          "2023-02-01T00:00:00",
          "2023-03-01T00:00:00",
          "2023-04-01T00:00:00",
          "2023-05-01T00:00:00",
          "2023-06-01T00:00:00",
          "2023-07-01T00:00:00",
          "2023-08-01T00:00:00",
          "2023-09-01T00:00:00"
         ],
         "xaxis": "x3",
         "y": [
          60464.9,
          49677.92,
          40462.780000000006,
          31380.2,
          30153.54,
          37892.36,
          44189.54,
          51519.880000000005,
          62345.37999999999,
          68459.8,
          72437.18000000001,
          68894.68000000001,
          60405.3,
          49257.740000000005,
          39655.56,
          29574.580000000005,
          30003.120000000003,
          37855.259999999995,
          44575.840000000004,
          51638.31999999999,
          61302.04,
          68537.14,
          72466.44,
          67751.40000000001,
          58491.56,
          46966.87999999999,
          36946.62,
          27185,
          27116.560000000005,
          36254.52,
          44623.780000000006,
          52350.32,
          63109.56
         ],
         "yaxis": "y3"
        },
        {
         "hovertemplate": "<b>Date</b>: %{x}<br><b>Value (GJ)</b>: %{y}<br>",
         "legendgroup": "Avg_5_Year",
         "line": {
          "color": "navy",
          "dash": "solid"
         },
         "marker": {
          "symbol": "circle"
         },
         "mode": "lines",
         "name": "5 Year Average",
         "orientation": "v",
         "showlegend": false,
         "type": "scatter",
         "x": [
          "2021-01-01T00:00:00",
          "2021-02-01T00:00:00",
          "2021-03-01T00:00:00",
          "2021-04-01T00:00:00",
          "2021-05-01T00:00:00",
          "2021-06-01T00:00:00",
          "2021-07-01T00:00:00",
          "2021-08-01T00:00:00",
          "2021-09-01T00:00:00",
          "2021-10-01T00:00:00",
          "2021-11-01T00:00:00",
          "2021-12-01T00:00:00",
          "2022-01-01T00:00:00",
          "2022-02-01T00:00:00",
          "2022-03-01T00:00:00",
          "2022-04-01T00:00:00",
          "2022-05-01T00:00:00",
          "2022-06-01T00:00:00",
          "2022-07-01T00:00:00",
          "2022-08-01T00:00:00",
          "2022-09-01T00:00:00",
          "2022-10-01T00:00:00",
          "2022-11-01T00:00:00",
          "2022-12-01T00:00:00",
          "2023-01-01T00:00:00",
          "2023-02-01T00:00:00",
          "2023-03-01T00:00:00",
          "2023-04-01T00:00:00",
          "2023-05-01T00:00:00",
          "2023-06-01T00:00:00",
          "2023-07-01T00:00:00",
          "2023-08-01T00:00:00",
          "2023-09-01T00:00:00"
         ],
         "xaxis": "x2",
         "y": [
          49677.92,
          40462.780000000006,
          31380.2,
          30153.54,
          37892.36,
          44189.54,
          51519.880000000005,
          62345.37999999999,
          68459.8,
          72437.18000000001,
          68894.68000000001,
          60405.3,
          49257.740000000005,
          39655.56,
          29574.580000000005,
          30003.120000000003,
          37855.259999999995,
          44575.840000000004,
          51638.31999999999,
          61302.04,
          68537.14,
          72466.44,
          67751.40000000001,
          58491.56,
          46966.87999999999,
          36946.62,
          27185,
          27116.560000000005,
          36254.52,
          44623.780000000006,
          52350.32,
          63109.56,
          70453.94
         ],
         "yaxis": "y2"
        },
        {
         "hovertemplate": "<b>Date</b>: %{x}<br><b>Value (GJ)</b>: %{y}<br>",
         "legendgroup": "Avg_5_Year",
         "line": {
          "color": "navy",
          "dash": "solid"
         },
         "marker": {
          "symbol": "circle"
         },
         "mode": "lines",
         "name": "5 Year Average",
         "orientation": "v",
         "showlegend": false,
         "type": "scatter",
         "x": [
          "2021-01-01T00:00:00",
          "2021-02-01T00:00:00",
          "2021-03-01T00:00:00",
          "2021-04-01T00:00:00",
          "2021-05-01T00:00:00",
          "2021-06-01T00:00:00",
          "2021-07-01T00:00:00",
          "2021-08-01T00:00:00",
          "2021-09-01T00:00:00",
          "2021-10-01T00:00:00",
          "2021-11-01T00:00:00",
          "2021-12-01T00:00:00",
          "2022-01-01T00:00:00",
          "2022-02-01T00:00:00",
          "2022-03-01T00:00:00",
          "2022-04-01T00:00:00",
          "2022-05-01T00:00:00",
          "2022-06-01T00:00:00",
          "2022-07-01T00:00:00",
          "2022-08-01T00:00:00",
          "2022-09-01T00:00:00",
          "2022-10-01T00:00:00",
          "2022-11-01T00:00:00",
          "2022-12-01T00:00:00",
          "2023-01-01T00:00:00",
          "2023-02-01T00:00:00",
          "2023-03-01T00:00:00",
          "2023-04-01T00:00:00",
          "2023-05-01T00:00:00",
          "2023-06-01T00:00:00",
          "2023-07-01T00:00:00",
          "2023-08-01T00:00:00",
          "2023-09-01T00:00:00"
         ],
         "xaxis": "x",
         "y": [
          -10786.98,
          -9215.14,
          -9082.579999999998,
          -1226.68,
          7738.82,
          6297.2,
          7330.3,
          10825.5,
          6114.4,
          3977.4199999999996,
          -3542.5199999999995,
          -8489.380000000001,
          -11147.579999999998,
          -9602.16,
          -10080.98,
          428.53999999999996,
          7852.12,
          6720.58,
          7062.460000000001,
          9663.720000000001,
          7235.079999999999,
          3929.3599999999997,
          -4715.0599999999995,
          -9259.86,
          -11524.7,
          -10020.24,
          -9761.640000000001,
          -68.43999999999998,
          9137.960000000001,
          8369.24,
          7726.539999999999,
          10759.240000000002,
          7344.360000000001
         ],
         "yaxis": "y"
        }
       ],
       "layout": {
        "annotations": [
         {
          "font": {},
          "showarrow": false,
          "text": "Inventory change",
          "textangle": 90,
          "x": 0.98,
          "xanchor": "left",
          "xref": "paper",
          "y": 0.15666666666666665,
          "yanchor": "middle",
          "yref": "paper"
         },
         {
          "font": {},
          "showarrow": false,
          "text": "Closing inventory",
          "textangle": 90,
          "x": 0.98,
          "xanchor": "left",
          "xref": "paper",
          "y": 0.4999999999999999,
          "yanchor": "middle",
          "yref": "paper"
         },
         {
          "font": {},
          "showarrow": false,
          "text": "Opening inventory",
          "textangle": 90,
          "x": 0.98,
          "xanchor": "left",
          "xref": "paper",
          "y": 0.8433333333333332,
          "yanchor": "middle",
          "yref": "paper"
         }
        ],
        "height": 600,
        "legend": {
         "orientation": "h",
         "title": {
          "text": ""
         },
         "tracegroupgap": 0,
         "x": 0,
         "y": -0.2
        },
        "template": {
         "data": {
          "bar": [
           {
            "error_x": {
             "color": "#f2f5fa"
            },
            "error_y": {
             "color": "#f2f5fa"
            },
            "marker": {
             "line": {
              "color": "rgb(17,17,17)",
              "width": 0.5
             },
             "pattern": {
              "fillmode": "overlay",
              "size": 10,
              "solidity": 0.2
             }
            },
            "type": "bar"
           }
          ],
          "barpolar": [
           {
            "marker": {
             "line": {
              "color": "rgb(17,17,17)",
              "width": 0.5
             },
             "pattern": {
              "fillmode": "overlay",
              "size": 10,
              "solidity": 0.2
             }
            },
            "type": "barpolar"
           }
          ],
          "carpet": [
           {
            "aaxis": {
             "endlinecolor": "#A2B1C6",
             "gridcolor": "#506784",
             "linecolor": "#506784",
             "minorgridcolor": "#506784",
             "startlinecolor": "#A2B1C6"
            },
            "baxis": {
             "endlinecolor": "#A2B1C6",
             "gridcolor": "#506784",
             "linecolor": "#506784",
             "minorgridcolor": "#506784",
             "startlinecolor": "#A2B1C6"
            },
            "type": "carpet"
           }
          ],
          "choropleth": [
           {
            "colorbar": {
             "outlinewidth": 0,
             "ticks": ""
            },
            "type": "choropleth"
           }
          ],
          "contour": [
           {
            "colorbar": {
             "outlinewidth": 0,
             "ticks": ""
            },
            "colorscale": [
             [
              0,
              "#0d0887"
             ],
             [
              0.1111111111111111,
              "#46039f"
             ],
             [
              0.2222222222222222,
              "#7201a8"
             ],
             [
              0.3333333333333333,
              "#9c179e"
             ],
             [
              0.4444444444444444,
              "#bd3786"
             ],
             [
              0.5555555555555556,
              "#d8576b"
             ],
             [
              0.6666666666666666,
              "#ed7953"
             ],
             [
              0.7777777777777778,
              "#fb9f3a"
             ],
             [
              0.8888888888888888,
              "#fdca26"
             ],
             [
              1,
              "#f0f921"
             ]
            ],
            "type": "contour"
           }
          ],
          "contourcarpet": [
           {
            "colorbar": {
             "outlinewidth": 0,
             "ticks": ""
            },
            "type": "contourcarpet"
           }
          ],
          "heatmap": [
           {
            "colorbar": {
             "outlinewidth": 0,
             "ticks": ""
            },
            "colorscale": [
             [
              0,
              "#0d0887"
             ],
             [
              0.1111111111111111,
              "#46039f"
             ],
             [
              0.2222222222222222,
              "#7201a8"
             ],
             [
              0.3333333333333333,
              "#9c179e"
             ],
             [
              0.4444444444444444,
              "#bd3786"
             ],
             [
              0.5555555555555556,
              "#d8576b"
             ],
             [
              0.6666666666666666,
              "#ed7953"
             ],
             [
              0.7777777777777778,
              "#fb9f3a"
             ],
             [
              0.8888888888888888,
              "#fdca26"
             ],
             [
              1,
              "#f0f921"
             ]
            ],
            "type": "heatmap"
           }
          ],
          "heatmapgl": [
           {
            "colorbar": {
             "outlinewidth": 0,
             "ticks": ""
            },
            "colorscale": [
             [
              0,
              "#0d0887"
             ],
             [
              0.1111111111111111,
              "#46039f"
             ],
             [
              0.2222222222222222,
              "#7201a8"
             ],
             [
              0.3333333333333333,
              "#9c179e"
             ],
             [
              0.4444444444444444,
              "#bd3786"
             ],
             [
              0.5555555555555556,
              "#d8576b"
             ],
             [
              0.6666666666666666,
              "#ed7953"
             ],
             [
              0.7777777777777778,
              "#fb9f3a"
             ],
             [
              0.8888888888888888,
              "#fdca26"
             ],
             [
              1,
              "#f0f921"
             ]
            ],
            "type": "heatmapgl"
           }
          ],
          "histogram": [
           {
            "marker": {
             "pattern": {
              "fillmode": "overlay",
              "size": 10,
              "solidity": 0.2
             }
            },
            "type": "histogram"
           }
          ],
          "histogram2d": [
           {
            "colorbar": {
             "outlinewidth": 0,
             "ticks": ""
            },
            "colorscale": [
             [
              0,
              "#0d0887"
             ],
             [
              0.1111111111111111,
              "#46039f"
             ],
             [
              0.2222222222222222,
              "#7201a8"
             ],
             [
              0.3333333333333333,
              "#9c179e"
             ],
             [
              0.4444444444444444,
              "#bd3786"
             ],
             [
              0.5555555555555556,
              "#d8576b"
             ],
             [
              0.6666666666666666,
              "#ed7953"
             ],
             [
              0.7777777777777778,
              "#fb9f3a"
             ],
             [
              0.8888888888888888,
              "#fdca26"
             ],
             [
              1,
              "#f0f921"
             ]
            ],
            "type": "histogram2d"
           }
          ],
          "histogram2dcontour": [
           {
            "colorbar": {
             "outlinewidth": 0,
             "ticks": ""
            },
            "colorscale": [
             [
              0,
              "#0d0887"
             ],
             [
              0.1111111111111111,
              "#46039f"
             ],
             [
              0.2222222222222222,
              "#7201a8"
             ],
             [
              0.3333333333333333,
              "#9c179e"
             ],
             [
              0.4444444444444444,
              "#bd3786"
             ],
             [
              0.5555555555555556,
              "#d8576b"
             ],
             [
              0.6666666666666666,
              "#ed7953"
             ],
             [
              0.7777777777777778,
              "#fb9f3a"
             ],
             [
              0.8888888888888888,
              "#fdca26"
             ],
             [
              1,
              "#f0f921"
             ]
            ],
            "type": "histogram2dcontour"
           }
          ],
          "mesh3d": [
           {
            "colorbar": {
             "outlinewidth": 0,
             "ticks": ""
            },
            "type": "mesh3d"
           }
          ],
          "parcoords": [
           {
            "line": {
             "colorbar": {
              "outlinewidth": 0,
              "ticks": ""
             }
            },
            "type": "parcoords"
           }
          ],
          "pie": [
           {
            "automargin": true,
            "type": "pie"
           }
          ],
          "scatter": [
           {
            "marker": {
             "line": {
              "color": "#283442"
             }
            },
            "type": "scatter"
           }
          ],
          "scatter3d": [
           {
            "line": {
             "colorbar": {
              "outlinewidth": 0,
              "ticks": ""
             }
            },
            "marker": {
             "colorbar": {
              "outlinewidth": 0,
              "ticks": ""
             }
            },
            "type": "scatter3d"
           }
          ],
          "scattercarpet": [
           {
            "marker": {
             "colorbar": {
              "outlinewidth": 0,
              "ticks": ""
             }
            },
            "type": "scattercarpet"
           }
          ],
          "scattergeo": [
           {
            "marker": {
             "colorbar": {
              "outlinewidth": 0,
              "ticks": ""
             }
            },
            "type": "scattergeo"
           }
          ],
          "scattergl": [
           {
            "marker": {
             "line": {
              "color": "#283442"
             }
            },
            "type": "scattergl"
           }
          ],
          "scattermapbox": [
           {
            "marker": {
             "colorbar": {
              "outlinewidth": 0,
              "ticks": ""
             }
            },
            "type": "scattermapbox"
           }
          ],
          "scatterpolar": [
           {
            "marker": {
             "colorbar": {
              "outlinewidth": 0,
              "ticks": ""
             }
            },
            "type": "scatterpolar"
           }
          ],
          "scatterpolargl": [
           {
            "marker": {
             "colorbar": {
              "outlinewidth": 0,
              "ticks": ""
             }
            },
            "type": "scatterpolargl"
           }
          ],
          "scatterternary": [
           {
            "marker": {
             "colorbar": {
              "outlinewidth": 0,
              "ticks": ""
             }
            },
            "type": "scatterternary"
           }
          ],
          "surface": [
           {
            "colorbar": {
             "outlinewidth": 0,
             "ticks": ""
            },
            "colorscale": [
             [
              0,
              "#0d0887"
             ],
             [
              0.1111111111111111,
              "#46039f"
             ],
             [
              0.2222222222222222,
              "#7201a8"
             ],
             [
              0.3333333333333333,
              "#9c179e"
             ],
             [
              0.4444444444444444,
              "#bd3786"
             ],
             [
              0.5555555555555556,
              "#d8576b"
             ],
             [
              0.6666666666666666,
              "#ed7953"
             ],
             [
              0.7777777777777778,
              "#fb9f3a"
             ],
             [
              0.8888888888888888,
              "#fdca26"
             ],
             [
              1,
              "#f0f921"
             ]
            ],
            "type": "surface"
           }
          ],
          "table": [
           {
            "cells": {
             "fill": {
              "color": "#506784"
             },
             "line": {
              "color": "rgb(17,17,17)"
             }
            },
            "header": {
             "fill": {
              "color": "#2a3f5f"
             },
             "line": {
              "color": "rgb(17,17,17)"
             }
            },
            "type": "table"
           }
          ]
         },
         "layout": {
          "annotationdefaults": {
           "arrowcolor": "#f2f5fa",
           "arrowhead": 0,
           "arrowwidth": 1
          },
          "autotypenumbers": "strict",
          "coloraxis": {
           "colorbar": {
            "outlinewidth": 0,
            "ticks": ""
           }
          },
          "colorscale": {
           "diverging": [
            [
             0,
             "#8e0152"
            ],
            [
             0.1,
             "#c51b7d"
            ],
            [
             0.2,
             "#de77ae"
            ],
            [
             0.3,
             "#f1b6da"
            ],
            [
             0.4,
             "#fde0ef"
            ],
            [
             0.5,
             "#f7f7f7"
            ],
            [
             0.6,
             "#e6f5d0"
            ],
            [
             0.7,
             "#b8e186"
            ],
            [
             0.8,
             "#7fbc41"
            ],
            [
             0.9,
             "#4d9221"
            ],
            [
             1,
             "#276419"
            ]
           ],
           "sequential": [
            [
             0,
             "#0d0887"
            ],
            [
             0.1111111111111111,
             "#46039f"
            ],
            [
             0.2222222222222222,
             "#7201a8"
            ],
            [
             0.3333333333333333,
             "#9c179e"
            ],
            [
             0.4444444444444444,
             "#bd3786"
            ],
            [
             0.5555555555555556,
             "#d8576b"
            ],
            [
             0.6666666666666666,
             "#ed7953"
            ],
            [
             0.7777777777777778,
             "#fb9f3a"
            ],
            [
             0.8888888888888888,
             "#fdca26"
            ],
            [
             1,
             "#f0f921"
            ]
           ],
           "sequentialminus": [
            [
             0,
             "#0d0887"
            ],
            [
             0.1111111111111111,
             "#46039f"
            ],
            [
             0.2222222222222222,
             "#7201a8"
            ],
            [
             0.3333333333333333,
             "#9c179e"
            ],
            [
             0.4444444444444444,
             "#bd3786"
            ],
            [
             0.5555555555555556,
             "#d8576b"
            ],
            [
             0.6666666666666666,
             "#ed7953"
            ],
            [
             0.7777777777777778,
             "#fb9f3a"
            ],
            [
             0.8888888888888888,
             "#fdca26"
            ],
            [
             1,
             "#f0f921"
            ]
           ]
          },
          "colorway": [
           "#636efa",
           "#EF553B",
           "#00cc96",
           "#ab63fa",
           "#FFA15A",
           "#19d3f3",
           "#FF6692",
           "#B6E880",
           "#FF97FF",
           "#FECB52"
          ],
          "font": {
           "color": "#f2f5fa"
          },
          "geo": {
           "bgcolor": "rgb(17,17,17)",
           "lakecolor": "rgb(17,17,17)",
           "landcolor": "rgb(17,17,17)",
           "showlakes": true,
           "showland": true,
           "subunitcolor": "#506784"
          },
          "hoverlabel": {
           "align": "left"
          },
          "hovermode": "closest",
          "mapbox": {
           "style": "dark"
          },
          "paper_bgcolor": "rgb(17,17,17)",
          "plot_bgcolor": "rgb(17,17,17)",
          "polar": {
           "angularaxis": {
            "gridcolor": "#506784",
            "linecolor": "#506784",
            "ticks": ""
           },
           "bgcolor": "rgb(17,17,17)",
           "radialaxis": {
            "gridcolor": "#506784",
            "linecolor": "#506784",
            "ticks": ""
           }
          },
          "scene": {
           "xaxis": {
            "backgroundcolor": "rgb(17,17,17)",
            "gridcolor": "#506784",
            "gridwidth": 2,
            "linecolor": "#506784",
            "showbackground": true,
            "ticks": "",
            "zerolinecolor": "#C8D4E3"
           },
           "yaxis": {
            "backgroundcolor": "rgb(17,17,17)",
            "gridcolor": "#506784",
            "gridwidth": 2,
            "linecolor": "#506784",
            "showbackground": true,
            "ticks": "",
            "zerolinecolor": "#C8D4E3"
           },
           "zaxis": {
            "backgroundcolor": "rgb(17,17,17)",
            "gridcolor": "#506784",
            "gridwidth": 2,
            "linecolor": "#506784",
            "showbackground": true,
            "ticks": "",
            "zerolinecolor": "#C8D4E3"
           }
          },
          "shapedefaults": {
           "line": {
            "color": "#f2f5fa"
           }
          },
          "sliderdefaults": {
           "bgcolor": "#C8D4E3",
           "bordercolor": "rgb(17,17,17)",
           "borderwidth": 1,
           "tickwidth": 0
          },
          "ternary": {
           "aaxis": {
            "gridcolor": "#506784",
            "linecolor": "#506784",
            "ticks": ""
           },
           "baxis": {
            "gridcolor": "#506784",
            "linecolor": "#506784",
            "ticks": ""
           },
           "bgcolor": "rgb(17,17,17)",
           "caxis": {
            "gridcolor": "#506784",
            "linecolor": "#506784",
            "ticks": ""
           }
          },
          "title": {
           "x": 0.05
          },
          "updatemenudefaults": {
           "bgcolor": "#506784",
           "borderwidth": 0
          },
          "xaxis": {
           "automargin": true,
           "gridcolor": "#283442",
           "linecolor": "#506784",
           "ticks": "",
           "title": {
            "standoff": 15
           },
           "zerolinecolor": "#283442",
           "zerolinewidth": 2
          },
          "yaxis": {
           "automargin": true,
           "gridcolor": "#283442",
           "linecolor": "#506784",
           "ticks": "",
           "title": {
            "standoff": 15
           },
           "zerolinecolor": "#283442",
           "zerolinewidth": 2
          }
         }
        },
        "title": {
         "text": "British Columbia Natural Gas Storage",
         "x": 0.5
        },
        "width": 600,
        "xaxis": {
         "anchor": "y",
         "domain": [
          0,
          0.98
         ],
         "title": {
          "text": "Date"
         }
        },
        "xaxis2": {
         "anchor": "y2",
         "domain": [
          0,
          0.98
         ],
         "matches": "x",
         "showticklabels": false
        },
        "xaxis3": {
         "anchor": "y3",
         "domain": [
          0,
          0.98
         ],
         "matches": "x",
         "showticklabels": false
        },
        "yaxis": {
         "anchor": "x",
         "domain": [
          0,
          0.3133333333333333
         ],
         "title": {
          "text": "GJ"
         }
        },
        "yaxis2": {
         "anchor": "x2",
         "domain": [
          0.34333333333333327,
          0.6566666666666665
         ],
         "title": {
          "text": "GJ"
         }
        },
        "yaxis3": {
         "anchor": "x3",
         "domain": [
          0.6866666666666665,
          0.9999999999999998
         ],
         "title": {
          "text": "GJ"
         }
        }
       }
      }
     },
     "metadata": {},
     "output_type": "display_data"
    }
   ],
   "source": [
    "import plotly.express as px\n",
    "import plotly.graph_objects as go\n",
    "\n",
    "# Create custom legend names\n",
    "legend_names = {\n",
    "    'GJ': 'Current Period',\n",
    "    'Rolling_5_Year_Min': '5 Year Minimum',\n",
    "    'Rolling_5_Year_max': '5 Year Maximum',\n",
    "    'Avg_5_Year': '5 Year Average'    \n",
    "}\n",
    "\n",
    "# Create the figure\n",
    "fig3 = px.line(bc_df, x='Date', y=['GJ', 'Rolling_5_Year_Min', 'Rolling_5_Year_max','Avg_5_Year'], facet_row='Storage',\n",
    "               title=\"British Columbia Natural Gas Storage\",\n",
    "               facet_row_spacing=0.0, facet_col_spacing=0.0, facet_col_wrap=3)\n",
    "\n",
    "# Update annotations to remove unwanted text\n",
    "fig3.for_each_annotation(lambda a: a.update(text=a.text.split(\"=\")[-1]))\n",
    "\n",
    "# Update y-axes to not have any shared scales\n",
    "fig3.update_yaxes(matches=None)\n",
    "\n",
    "# Update the layout with the dark template and center-aligned title\n",
    "fig3.update_layout(\n",
    "    template=\"plotly_dark\",\n",
    "    title_x=0.5,\n",
    "    height=600,\n",
    "    width=600,\n",
    "    legend_title_text=\"\"  # Change the legend title to \"Legend\"\n",
    ")\n",
    "\n",
    "# Customize hovertemplate to show only the 'value'\n",
    "fig3.update_traces(hovertemplate='<b>Date</b>: %{x}<br>'\n",
    "                                '<b>Value (GJ)</b>: %{y}<br>')\n",
    "\n",
    "# Update trace names with custom legend names\n",
    "for trace in fig3.data:\n",
    "    trace.name = legend_names.get(trace.name, '')\n",
    "\n",
    "# Update x-axis and y-axis titles\n",
    "# fig2.update_xaxes(title_text=\"Date\")\n",
    "fig3.update_yaxes(title_text=\"GJ\")\n",
    "\n",
    "# Move the legend to the bottom\n",
    "fig3.update_layout(legend=dict(x=0, y=-0.2, orientation=\"h\"))\n",
    "\n",
    "# Change the color of the \"5 Year Average\" line to pink\n",
    "\n",
    "fig3.update_traces(selector=dict(name='5 Year Average'), line=dict(color='navy'))\n",
    "fig3.update_traces(selector=dict(name='5 Year Minimum'), line=dict(color='red'))\n",
    "fig3.update_traces(selector=dict(name='GJ'), line=dict(color='blue'))\n",
    "fig3.update_traces(selector=dict(name='5 Year Maximum'), line=dict(color='green'))\n",
    "\n",
    "\n",
    "# Show the plot\n",
    "fig3.show()\n"
   ]
  },
  {
   "cell_type": "code",
   "execution_count": 9,
   "metadata": {},
   "outputs": [
    {
     "data": {
      "text/html": [
       "<div>\n",
       "<style scoped>\n",
       "    .dataframe tbody tr th:only-of-type {\n",
       "        vertical-align: middle;\n",
       "    }\n",
       "\n",
       "    .dataframe tbody tr th {\n",
       "        vertical-align: top;\n",
       "    }\n",
       "\n",
       "    .dataframe thead th {\n",
       "        text-align: right;\n",
       "    }\n",
       "</style>\n",
       "<table border=\"1\" class=\"dataframe\">\n",
       "  <thead>\n",
       "    <tr style=\"text-align: right;\">\n",
       "      <th></th>\n",
       "      <th>Date</th>\n",
       "      <th>Storage</th>\n",
       "      <th>UOM</th>\n",
       "      <th>GJ</th>\n",
       "      <th>Rolling_5_Year_Min</th>\n",
       "      <th>Rolling_5_Year_max</th>\n",
       "      <th>Avg_5_Year</th>\n",
       "    </tr>\n",
       "  </thead>\n",
       "  <tbody>\n",
       "    <tr>\n",
       "      <th>0</th>\n",
       "      <td>2021-01-01</td>\n",
       "      <td>Opening inventory</td>\n",
       "      <td>Gigajoules</td>\n",
       "      <td>608350.3</td>\n",
       "      <td>473822.6</td>\n",
       "      <td>632944.9</td>\n",
       "      <td>576578.22</td>\n",
       "    </tr>\n",
       "    <tr>\n",
       "      <th>1</th>\n",
       "      <td>2021-02-01</td>\n",
       "      <td>Opening inventory</td>\n",
       "      <td>Gigajoules</td>\n",
       "      <td>525205.4</td>\n",
       "      <td>420281.9</td>\n",
       "      <td>588671.3</td>\n",
       "      <td>522534.42</td>\n",
       "    </tr>\n",
       "    <tr>\n",
       "      <th>2</th>\n",
       "      <td>2021-03-01</td>\n",
       "      <td>Opening inventory</td>\n",
       "      <td>Gigajoules</td>\n",
       "      <td>429533.7</td>\n",
       "      <td>386845.0</td>\n",
       "      <td>576583.0</td>\n",
       "      <td>479485.54</td>\n",
       "    </tr>\n",
       "    <tr>\n",
       "      <th>3</th>\n",
       "      <td>2021-04-01</td>\n",
       "      <td>Opening inventory</td>\n",
       "      <td>Gigajoules</td>\n",
       "      <td>401207.7</td>\n",
       "      <td>369640.2</td>\n",
       "      <td>594512.5</td>\n",
       "      <td>460759.68</td>\n",
       "    </tr>\n",
       "    <tr>\n",
       "      <th>4</th>\n",
       "      <td>2021-05-01</td>\n",
       "      <td>Opening inventory</td>\n",
       "      <td>Gigajoules</td>\n",
       "      <td>418553.5</td>\n",
       "      <td>386883.2</td>\n",
       "      <td>620989.9</td>\n",
       "      <td>479074.72</td>\n",
       "    </tr>\n",
       "    <tr>\n",
       "      <th>...</th>\n",
       "      <td>...</td>\n",
       "      <td>...</td>\n",
       "      <td>...</td>\n",
       "      <td>...</td>\n",
       "      <td>...</td>\n",
       "      <td>...</td>\n",
       "      <td>...</td>\n",
       "    </tr>\n",
       "    <tr>\n",
       "      <th>94</th>\n",
       "      <td>2023-05-01</td>\n",
       "      <td>Inventory change</td>\n",
       "      <td>Gigajoules</td>\n",
       "      <td>47106.1</td>\n",
       "      <td>15284.3</td>\n",
       "      <td>65722.2</td>\n",
       "      <td>34910.86</td>\n",
       "    </tr>\n",
       "    <tr>\n",
       "      <th>95</th>\n",
       "      <td>2023-06-01</td>\n",
       "      <td>Inventory change</td>\n",
       "      <td>Gigajoules</td>\n",
       "      <td>43168.2</td>\n",
       "      <td>17645.4</td>\n",
       "      <td>62717.7</td>\n",
       "      <td>35378.84</td>\n",
       "    </tr>\n",
       "    <tr>\n",
       "      <th>96</th>\n",
       "      <td>2023-07-01</td>\n",
       "      <td>Inventory change</td>\n",
       "      <td>Gigajoules</td>\n",
       "      <td>52073.3</td>\n",
       "      <td>22298.0</td>\n",
       "      <td>57447.4</td>\n",
       "      <td>35929.80</td>\n",
       "    </tr>\n",
       "    <tr>\n",
       "      <th>97</th>\n",
       "      <td>2023-08-01</td>\n",
       "      <td>Inventory change</td>\n",
       "      <td>Gigajoules</td>\n",
       "      <td>NaN</td>\n",
       "      <td>16874.1</td>\n",
       "      <td>60369.4</td>\n",
       "      <td>40002.98</td>\n",
       "    </tr>\n",
       "    <tr>\n",
       "      <th>98</th>\n",
       "      <td>2023-09-01</td>\n",
       "      <td>Inventory change</td>\n",
       "      <td>Gigajoules</td>\n",
       "      <td>NaN</td>\n",
       "      <td>12297.8</td>\n",
       "      <td>48548.4</td>\n",
       "      <td>28962.86</td>\n",
       "    </tr>\n",
       "  </tbody>\n",
       "</table>\n",
       "<p>99 rows × 7 columns</p>\n",
       "</div>"
      ],
      "text/plain": [
       "         Date            Storage         UOM        GJ  Rolling_5_Year_Min  \\\n",
       "0  2021-01-01  Opening inventory  Gigajoules  608350.3            473822.6   \n",
       "1  2021-02-01  Opening inventory  Gigajoules  525205.4            420281.9   \n",
       "2  2021-03-01  Opening inventory  Gigajoules  429533.7            386845.0   \n",
       "3  2021-04-01  Opening inventory  Gigajoules  401207.7            369640.2   \n",
       "4  2021-05-01  Opening inventory  Gigajoules  418553.5            386883.2   \n",
       "..        ...                ...         ...       ...                 ...   \n",
       "94 2023-05-01   Inventory change  Gigajoules   47106.1             15284.3   \n",
       "95 2023-06-01   Inventory change  Gigajoules   43168.2             17645.4   \n",
       "96 2023-07-01   Inventory change  Gigajoules   52073.3             22298.0   \n",
       "97 2023-08-01   Inventory change  Gigajoules       NaN             16874.1   \n",
       "98 2023-09-01   Inventory change  Gigajoules       NaN             12297.8   \n",
       "\n",
       "    Rolling_5_Year_max  Avg_5_Year  \n",
       "0             632944.9   576578.22  \n",
       "1             588671.3   522534.42  \n",
       "2             576583.0   479485.54  \n",
       "3             594512.5   460759.68  \n",
       "4             620989.9   479074.72  \n",
       "..                 ...         ...  \n",
       "94             65722.2    34910.86  \n",
       "95             62717.7    35378.84  \n",
       "96             57447.4    35929.80  \n",
       "97             60369.4    40002.98  \n",
       "98             48548.4    28962.86  \n",
       "\n",
       "[99 rows x 7 columns]"
      ]
     },
     "execution_count": 9,
     "metadata": {},
     "output_type": "execute_result"
    }
   ],
   "source": [
    "ab_df.reset_index(drop=True, inplace=True)\n",
    "bc_df.reset_index(drop=True, inplace=True)\n",
    "# 'Rolling_5_Year_Min', 'Rolling_5_Year_max','Avg_5_Year']\n",
    "GJ_df = ab_df[\"GJ\"] + bc_df[\"GJ\"]\n",
    "Rolling_5_Year_Min_df = pd.DataFrame(ab_df[\"Rolling_5_Year_Min\"] + bc_df[\"Rolling_5_Year_Min\"])\n",
    "Rolling_5_Year_max_df = pd.DataFrame(ab_df[\"Rolling_5_Year_max\"] + bc_df[\"Rolling_5_Year_max\"])\n",
    "Avg_5_Year_df = pd.DataFrame(ab_df[\"Avg_5_Year\"] + bc_df[\"Avg_5_Year\"])\n",
    "\n",
    "df_copy1 = ab_df.copy()\n",
    "df_copy1 = df_copy1[['Date','Storage','UOM']]\n",
    "df_copy1.reset_index(drop=True, inplace=True)\n",
    "\n",
    "\n",
    "df_western = pd.concat([df_copy1,GJ_df,Rolling_5_Year_Min_df,Rolling_5_Year_max_df,Avg_5_Year_df], axis= 1)\n",
    "df_western"
   ]
  },
  {
   "cell_type": "code",
   "execution_count": 10,
   "metadata": {},
   "outputs": [
    {
     "data": {
      "application/vnd.plotly.v1+json": {
       "config": {
        "plotlyServerURL": "https://plot.ly"
       },
       "data": [
        {
         "hovertemplate": "<b>Date</b>: %{x}<br><b>Value (GJ)</b>: %{y}<br>",
         "legendgroup": "GJ",
         "line": {
          "color": "#636efa",
          "dash": "solid"
         },
         "marker": {
          "symbol": "circle"
         },
         "mode": "lines",
         "name": "Current Period",
         "orientation": "v",
         "showlegend": true,
         "type": "scatter",
         "x": [
          "2021-01-01T00:00:00",
          "2021-02-01T00:00:00",
          "2021-03-01T00:00:00",
          "2021-04-01T00:00:00",
          "2021-05-01T00:00:00",
          "2021-06-01T00:00:00",
          "2021-07-01T00:00:00",
          "2021-08-01T00:00:00",
          "2021-09-01T00:00:00",
          "2021-10-01T00:00:00",
          "2021-11-01T00:00:00",
          "2021-12-01T00:00:00",
          "2022-01-01T00:00:00",
          "2022-02-01T00:00:00",
          "2022-03-01T00:00:00",
          "2022-04-01T00:00:00",
          "2022-05-01T00:00:00",
          "2022-06-01T00:00:00",
          "2022-07-01T00:00:00",
          "2022-08-01T00:00:00",
          "2022-09-01T00:00:00",
          "2022-10-01T00:00:00",
          "2022-11-01T00:00:00",
          "2022-12-01T00:00:00",
          "2023-01-01T00:00:00",
          "2023-02-01T00:00:00",
          "2023-03-01T00:00:00",
          "2023-04-01T00:00:00",
          "2023-05-01T00:00:00",
          "2023-06-01T00:00:00",
          "2023-07-01T00:00:00",
          "2023-08-01T00:00:00",
          "2023-09-01T00:00:00"
         ],
         "xaxis": "x3",
         "y": [
          608350.3,
          525205.4,
          429533.7,
          401207.7,
          418553.5,
          445711.89999999997,
          471824.7,
          495509.5,
          539077.6,
          576301.5,
          579137,
          557908.6,
          482985.7,
          400622.5,
          333370.6,
          296634.2,
          291716.39999999997,
          330934.69999999995,
          371762.10000000003,
          429209.5,
          489375.6,
          528094,
          558840.5,
          539462.2000000001,
          455667.2,
          411388.3,
          377411.5,
          364337.5,
          417109.7,
          464215.8,
          507384,
          null,
          null
         ],
         "yaxis": "y3"
        },
        {
         "hovertemplate": "<b>Date</b>: %{x}<br><b>Value (GJ)</b>: %{y}<br>",
         "legendgroup": "GJ",
         "line": {
          "color": "#636efa",
          "dash": "solid"
         },
         "marker": {
          "symbol": "circle"
         },
         "mode": "lines",
         "name": "Current Period",
         "orientation": "v",
         "showlegend": false,
         "type": "scatter",
         "x": [
          "2021-01-01T00:00:00",
          "2021-02-01T00:00:00",
          "2021-03-01T00:00:00",
          "2021-04-01T00:00:00",
          "2021-05-01T00:00:00",
          "2021-06-01T00:00:00",
          "2021-07-01T00:00:00",
          "2021-08-01T00:00:00",
          "2021-09-01T00:00:00",
          "2021-10-01T00:00:00",
          "2021-11-01T00:00:00",
          "2021-12-01T00:00:00",
          "2022-01-01T00:00:00",
          "2022-02-01T00:00:00",
          "2022-03-01T00:00:00",
          "2022-04-01T00:00:00",
          "2022-05-01T00:00:00",
          "2022-06-01T00:00:00",
          "2022-07-01T00:00:00",
          "2022-08-01T00:00:00",
          "2022-09-01T00:00:00",
          "2022-10-01T00:00:00",
          "2022-11-01T00:00:00",
          "2022-12-01T00:00:00",
          "2023-01-01T00:00:00",
          "2023-02-01T00:00:00",
          "2023-03-01T00:00:00",
          "2023-04-01T00:00:00",
          "2023-05-01T00:00:00",
          "2023-06-01T00:00:00",
          "2023-07-01T00:00:00",
          "2023-08-01T00:00:00",
          "2023-09-01T00:00:00"
         ],
         "xaxis": "x2",
         "y": [
          525205.4,
          429533.7,
          401207.7,
          418553.5,
          445711.89999999997,
          471824.7,
          495509.5,
          539077.6,
          576301.5,
          579137,
          557908.6,
          482985.7,
          400622.5,
          333370.6,
          296634.2,
          291716.39999999997,
          330934.69999999995,
          371762.10000000003,
          429209.5,
          489375.6,
          528094,
          558840.5,
          539462.2000000001,
          455667.2,
          411388.3,
          377411.5,
          364337.5,
          417109.7,
          464215.8,
          507384,
          559457.4,
          null,
          null
         ],
         "yaxis": "y2"
        },
        {
         "hovertemplate": "<b>Date</b>: %{x}<br><b>Value (GJ)</b>: %{y}<br>",
         "legendgroup": "GJ",
         "line": {
          "color": "#636efa",
          "dash": "solid"
         },
         "marker": {
          "symbol": "circle"
         },
         "mode": "lines",
         "name": "Current Period",
         "orientation": "v",
         "showlegend": false,
         "type": "scatter",
         "x": [
          "2021-01-01T00:00:00",
          "2021-02-01T00:00:00",
          "2021-03-01T00:00:00",
          "2021-04-01T00:00:00",
          "2021-05-01T00:00:00",
          "2021-06-01T00:00:00",
          "2021-07-01T00:00:00",
          "2021-08-01T00:00:00",
          "2021-09-01T00:00:00",
          "2021-10-01T00:00:00",
          "2021-11-01T00:00:00",
          "2021-12-01T00:00:00",
          "2022-01-01T00:00:00",
          "2022-02-01T00:00:00",
          "2022-03-01T00:00:00",
          "2022-04-01T00:00:00",
          "2022-05-01T00:00:00",
          "2022-06-01T00:00:00",
          "2022-07-01T00:00:00",
          "2022-08-01T00:00:00",
          "2022-09-01T00:00:00",
          "2022-10-01T00:00:00",
          "2022-11-01T00:00:00",
          "2022-12-01T00:00:00",
          "2023-01-01T00:00:00",
          "2023-02-01T00:00:00",
          "2023-03-01T00:00:00",
          "2023-04-01T00:00:00",
          "2023-05-01T00:00:00",
          "2023-06-01T00:00:00",
          "2023-07-01T00:00:00",
          "2023-08-01T00:00:00",
          "2023-09-01T00:00:00"
         ],
         "xaxis": "x",
         "y": [
          -83145,
          -95671.6,
          -28326,
          17345.8,
          27158.3,
          26112.8,
          23684.9,
          43568.100000000006,
          37223.8,
          2835.7,
          -21228.4,
          -74923.1,
          -82363.20000000001,
          -67251.9,
          -36736.5,
          -4917.8,
          39218.4,
          40827.4,
          57447.4,
          60166.1,
          38718.3,
          30746.4,
          -19378.3,
          -83795,
          -44279.1,
          -33976.7,
          -13073.900000000001,
          52772.200000000004,
          47106.1,
          43168.200000000004,
          52073.3,
          null,
          null
         ],
         "yaxis": "y"
        },
        {
         "hovertemplate": "<b>Date</b>: %{x}<br><b>Value (GJ)</b>: %{y}<br>",
         "legendgroup": "Rolling_5_Year_Min",
         "line": {
          "color": "red",
          "dash": "solid"
         },
         "marker": {
          "symbol": "circle"
         },
         "mode": "lines",
         "name": "5 Year Minimum",
         "orientation": "v",
         "showlegend": true,
         "type": "scatter",
         "x": [
          "2021-01-01T00:00:00",
          "2021-02-01T00:00:00",
          "2021-03-01T00:00:00",
          "2021-04-01T00:00:00",
          "2021-05-01T00:00:00",
          "2021-06-01T00:00:00",
          "2021-07-01T00:00:00",
          "2021-08-01T00:00:00",
          "2021-09-01T00:00:00",
          "2021-10-01T00:00:00",
          "2021-11-01T00:00:00",
          "2021-12-01T00:00:00",
          "2022-01-01T00:00:00",
          "2022-02-01T00:00:00",
          "2022-03-01T00:00:00",
          "2022-04-01T00:00:00",
          "2022-05-01T00:00:00",
          "2022-06-01T00:00:00",
          "2022-07-01T00:00:00",
          "2022-08-01T00:00:00",
          "2022-09-01T00:00:00",
          "2022-10-01T00:00:00",
          "2022-11-01T00:00:00",
          "2022-12-01T00:00:00",
          "2023-01-01T00:00:00",
          "2023-02-01T00:00:00",
          "2023-03-01T00:00:00",
          "2023-04-01T00:00:00",
          "2023-05-01T00:00:00",
          "2023-06-01T00:00:00",
          "2023-07-01T00:00:00",
          "2023-08-01T00:00:00",
          "2023-09-01T00:00:00"
         ],
         "xaxis": "x3",
         "y": [
          473822.6,
          420281.9,
          386845,
          369640.19999999995,
          386883.2,
          405378.2,
          420906.6,
          447231,
          471597.6,
          488938.5,
          514215.3,
          502693.8,
          473822.6,
          420281.9,
          386845,
          369640.19999999995,
          386883.2,
          405192.7,
          420906.6,
          447231,
          471597.6,
          488938.5,
          514215.3,
          497700.1,
          464253.89999999997,
          400622.5,
          333370.6,
          296634.2,
          291716.39999999997,
          330934.69999999995,
          371762.10000000003,
          426241.7,
          477870.69999999995
         ],
         "yaxis": "y3"
        },
        {
         "hovertemplate": "<b>Date</b>: %{x}<br><b>Value (GJ)</b>: %{y}<br>",
         "legendgroup": "Rolling_5_Year_Min",
         "line": {
          "color": "red",
          "dash": "solid"
         },
         "marker": {
          "symbol": "circle"
         },
         "mode": "lines",
         "name": "5 Year Minimum",
         "orientation": "v",
         "showlegend": false,
         "type": "scatter",
         "x": [
          "2021-01-01T00:00:00",
          "2021-02-01T00:00:00",
          "2021-03-01T00:00:00",
          "2021-04-01T00:00:00",
          "2021-05-01T00:00:00",
          "2021-06-01T00:00:00",
          "2021-07-01T00:00:00",
          "2021-08-01T00:00:00",
          "2021-09-01T00:00:00",
          "2021-10-01T00:00:00",
          "2021-11-01T00:00:00",
          "2021-12-01T00:00:00",
          "2022-01-01T00:00:00",
          "2022-02-01T00:00:00",
          "2022-03-01T00:00:00",
          "2022-04-01T00:00:00",
          "2022-05-01T00:00:00",
          "2022-06-01T00:00:00",
          "2022-07-01T00:00:00",
          "2022-08-01T00:00:00",
          "2022-09-01T00:00:00",
          "2022-10-01T00:00:00",
          "2022-11-01T00:00:00",
          "2022-12-01T00:00:00",
          "2023-01-01T00:00:00",
          "2023-02-01T00:00:00",
          "2023-03-01T00:00:00",
          "2023-04-01T00:00:00",
          "2023-05-01T00:00:00",
          "2023-06-01T00:00:00",
          "2023-07-01T00:00:00",
          "2023-08-01T00:00:00",
          "2023-09-01T00:00:00"
         ],
         "xaxis": "x2",
         "y": [
          420281.9,
          386845,
          369640.19999999995,
          386883.2,
          405378.2,
          420906.6,
          447231,
          471597.6,
          488938.5,
          514215.3,
          502693.8,
          473822.6,
          420281.9,
          386845,
          369640.19999999995,
          386883.2,
          405192.7,
          420906.6,
          447231,
          471597.6,
          488938.5,
          514215.3,
          497700.1,
          464253.89999999997,
          400622.5,
          333370.6,
          296634.2,
          291716.39999999997,
          330934.69999999995,
          371762.10000000003,
          426241.7,
          477870.69999999995,
          492271.10000000003
         ],
         "yaxis": "y2"
        },
        {
         "hovertemplate": "<b>Date</b>: %{x}<br><b>Value (GJ)</b>: %{y}<br>",
         "legendgroup": "Rolling_5_Year_Min",
         "line": {
          "color": "red",
          "dash": "solid"
         },
         "marker": {
          "symbol": "circle"
         },
         "mode": "lines",
         "name": "5 Year Minimum",
         "orientation": "v",
         "showlegend": false,
         "type": "scatter",
         "x": [
          "2021-01-01T00:00:00",
          "2021-02-01T00:00:00",
          "2021-03-01T00:00:00",
          "2021-04-01T00:00:00",
          "2021-05-01T00:00:00",
          "2021-06-01T00:00:00",
          "2021-07-01T00:00:00",
          "2021-08-01T00:00:00",
          "2021-09-01T00:00:00",
          "2021-10-01T00:00:00",
          "2021-11-01T00:00:00",
          "2021-12-01T00:00:00",
          "2022-01-01T00:00:00",
          "2022-02-01T00:00:00",
          "2022-03-01T00:00:00",
          "2022-04-01T00:00:00",
          "2022-05-01T00:00:00",
          "2022-06-01T00:00:00",
          "2022-07-01T00:00:00",
          "2022-08-01T00:00:00",
          "2022-09-01T00:00:00",
          "2022-10-01T00:00:00",
          "2022-11-01T00:00:00",
          "2022-12-01T00:00:00",
          "2023-01-01T00:00:00",
          "2023-02-01T00:00:00",
          "2023-03-01T00:00:00",
          "2023-04-01T00:00:00",
          "2023-05-01T00:00:00",
          "2023-06-01T00:00:00",
          "2023-07-01T00:00:00",
          "2023-08-01T00:00:00",
          "2023-09-01T00:00:00"
         ],
         "xaxis": "x",
         "y": [
          -60155.3,
          -75230.4,
          -38998.600000000006,
          -7106.200000000001,
          14717.8,
          15528.5,
          9891.8,
          16874.1,
          5498.8,
          -7713,
          -34115.5,
          -72810.59999999999,
          -83825.1,
          -96601.6,
          -38998.600000000006,
          1166,
          14717.8,
          15528.5,
          22298,
          16874.1,
          12297.8,
          -2920.7,
          -35048,
          -75236,
          -84685.20000000001,
          -96914.7,
          -39705.600000000006,
          -4917.8,
          15284.3,
          17645.4,
          22298,
          16874.1,
          12297.8
         ],
         "yaxis": "y"
        },
        {
         "hovertemplate": "<b>Date</b>: %{x}<br><b>Value (GJ)</b>: %{y}<br>",
         "legendgroup": "Rolling_5_Year_max",
         "line": {
          "color": "green",
          "dash": "solid"
         },
         "marker": {
          "symbol": "circle"
         },
         "mode": "lines",
         "name": "5 Year Maximum",
         "orientation": "v",
         "showlegend": true,
         "type": "scatter",
         "x": [
          "2021-01-01T00:00:00",
          "2021-02-01T00:00:00",
          "2021-03-01T00:00:00",
          "2021-04-01T00:00:00",
          "2021-05-01T00:00:00",
          "2021-06-01T00:00:00",
          "2021-07-01T00:00:00",
          "2021-08-01T00:00:00",
          "2021-09-01T00:00:00",
          "2021-10-01T00:00:00",
          "2021-11-01T00:00:00",
          "2021-12-01T00:00:00",
          "2022-01-01T00:00:00",
          "2022-02-01T00:00:00",
          "2022-03-01T00:00:00",
          "2022-04-01T00:00:00",
          "2022-05-01T00:00:00",
          "2022-06-01T00:00:00",
          "2022-07-01T00:00:00",
          "2022-08-01T00:00:00",
          "2022-09-01T00:00:00",
          "2022-10-01T00:00:00",
          "2022-11-01T00:00:00",
          "2022-12-01T00:00:00",
          "2023-01-01T00:00:00",
          "2023-02-01T00:00:00",
          "2023-03-01T00:00:00",
          "2023-04-01T00:00:00",
          "2023-05-01T00:00:00",
          "2023-06-01T00:00:00",
          "2023-07-01T00:00:00",
          "2023-08-01T00:00:00",
          "2023-09-01T00:00:00"
         ],
         "xaxis": "x3",
         "y": [
          632944.9,
          588671.3,
          576583,
          594512.5,
          620989.9,
          643644,
          667240.1000000001,
          677131.9,
          696640.6,
          702139.4,
          712300.7999999999,
          683767.5,
          632944.9,
          579485.6,
          548206.9,
          525842.6,
          542417.6,
          577386.3,
          615345.9,
          649676.5,
          669047.4,
          694160.9,
          712300.7999999999,
          683767.5,
          617007.2000000001,
          558692.4,
          502759.9,
          469432.19999999995,
          471981.3,
          495707.9,
          555331.7000000001,
          604494.5,
          651575.1
         ],
         "yaxis": "y3"
        },
        {
         "hovertemplate": "<b>Date</b>: %{x}<br><b>Value (GJ)</b>: %{y}<br>",
         "legendgroup": "Rolling_5_Year_max",
         "line": {
          "color": "green",
          "dash": "solid"
         },
         "marker": {
          "symbol": "circle"
         },
         "mode": "lines",
         "name": "5 Year Maximum",
         "orientation": "v",
         "showlegend": false,
         "type": "scatter",
         "x": [
          "2021-01-01T00:00:00",
          "2021-02-01T00:00:00",
          "2021-03-01T00:00:00",
          "2021-04-01T00:00:00",
          "2021-05-01T00:00:00",
          "2021-06-01T00:00:00",
          "2021-07-01T00:00:00",
          "2021-08-01T00:00:00",
          "2021-09-01T00:00:00",
          "2021-10-01T00:00:00",
          "2021-11-01T00:00:00",
          "2021-12-01T00:00:00",
          "2022-01-01T00:00:00",
          "2022-02-01T00:00:00",
          "2022-03-01T00:00:00",
          "2022-04-01T00:00:00",
          "2022-05-01T00:00:00",
          "2022-06-01T00:00:00",
          "2022-07-01T00:00:00",
          "2022-08-01T00:00:00",
          "2022-09-01T00:00:00",
          "2022-10-01T00:00:00",
          "2022-11-01T00:00:00",
          "2022-12-01T00:00:00",
          "2023-01-01T00:00:00",
          "2023-02-01T00:00:00",
          "2023-03-01T00:00:00",
          "2023-04-01T00:00:00",
          "2023-05-01T00:00:00",
          "2023-06-01T00:00:00",
          "2023-07-01T00:00:00",
          "2023-08-01T00:00:00",
          "2023-09-01T00:00:00"
         ],
         "xaxis": "x2",
         "y": [
          588671.3,
          576583,
          594512.5,
          620989.9,
          643644,
          667240.1000000001,
          677131.9,
          696640.6,
          702139.4,
          712300.7999999999,
          683767.5,
          632944.9,
          579485.6,
          548206.9,
          525842.6,
          542417.6,
          577386.3,
          615345.9,
          649676.5,
          669047.4,
          694160.9,
          712300.7999999999,
          683767.5,
          617007.2000000001,
          558692.4,
          502759.9,
          469432.19999999995,
          471981.3,
          495707.9,
          555331.7000000001,
          604494.5,
          651575.1,
          694160.9
         ],
         "yaxis": "y2"
        },
        {
         "hovertemplate": "<b>Date</b>: %{x}<br><b>Value (GJ)</b>: %{y}<br>",
         "legendgroup": "Rolling_5_Year_max",
         "line": {
          "color": "green",
          "dash": "solid"
         },
         "marker": {
          "symbol": "circle"
         },
         "mode": "lines",
         "name": "5 Year Maximum",
         "orientation": "v",
         "showlegend": false,
         "type": "scatter",
         "x": [
          "2021-01-01T00:00:00",
          "2021-02-01T00:00:00",
          "2021-03-01T00:00:00",
          "2021-04-01T00:00:00",
          "2021-05-01T00:00:00",
          "2021-06-01T00:00:00",
          "2021-07-01T00:00:00",
          "2021-08-01T00:00:00",
          "2021-09-01T00:00:00",
          "2021-10-01T00:00:00",
          "2021-11-01T00:00:00",
          "2021-12-01T00:00:00",
          "2022-01-01T00:00:00",
          "2022-02-01T00:00:00",
          "2022-03-01T00:00:00",
          "2022-04-01T00:00:00",
          "2022-05-01T00:00:00",
          "2022-06-01T00:00:00",
          "2022-07-01T00:00:00",
          "2022-08-01T00:00:00",
          "2022-09-01T00:00:00",
          "2022-10-01T00:00:00",
          "2022-11-01T00:00:00",
          "2022-12-01T00:00:00",
          "2023-01-01T00:00:00",
          "2023-02-01T00:00:00",
          "2023-03-01T00:00:00",
          "2023-04-01T00:00:00",
          "2023-05-01T00:00:00",
          "2023-06-01T00:00:00",
          "2023-07-01T00:00:00",
          "2023-08-01T00:00:00",
          "2023-09-01T00:00:00"
         ],
         "xaxis": "x",
         "y": [
          -33547.3,
          -12088.400000000001,
          17929.5,
          43648.4,
          65722.2,
          62717.7,
          51888.9,
          66063,
          47577.100000000006,
          25697.3,
          -2710.1,
          -19500.8,
          -51369.5,
          -29702.9,
          -11887.7,
          43648.4,
          65722.2,
          62717.7,
          51888.9,
          60254.100000000006,
          48548.4,
          25697.3,
          -5560.200000000001,
          -19500.8,
          -51369.5,
          -29702.9,
          -11887.7,
          43648.4,
          65722.2,
          62717.7,
          57447.4,
          60369.399999999994,
          48548.4
         ],
         "yaxis": "y"
        },
        {
         "hovertemplate": "<b>Date</b>: %{x}<br><b>Value (GJ)</b>: %{y}<br>",
         "legendgroup": "Avg_5_Year",
         "line": {
          "color": "navy",
          "dash": "solid"
         },
         "marker": {
          "symbol": "circle"
         },
         "mode": "lines",
         "name": "5 Year Average",
         "orientation": "v",
         "showlegend": true,
         "type": "scatter",
         "x": [
          "2021-01-01T00:00:00",
          "2021-02-01T00:00:00",
          "2021-03-01T00:00:00",
          "2021-04-01T00:00:00",
          "2021-05-01T00:00:00",
          "2021-06-01T00:00:00",
          "2021-07-01T00:00:00",
          "2021-08-01T00:00:00",
          "2021-09-01T00:00:00",
          "2021-10-01T00:00:00",
          "2021-11-01T00:00:00",
          "2021-12-01T00:00:00",
          "2022-01-01T00:00:00",
          "2022-02-01T00:00:00",
          "2022-03-01T00:00:00",
          "2022-04-01T00:00:00",
          "2022-05-01T00:00:00",
          "2022-06-01T00:00:00",
          "2022-07-01T00:00:00",
          "2022-08-01T00:00:00",
          "2022-09-01T00:00:00",
          "2022-10-01T00:00:00",
          "2022-11-01T00:00:00",
          "2022-12-01T00:00:00",
          "2023-01-01T00:00:00",
          "2023-02-01T00:00:00",
          "2023-03-01T00:00:00",
          "2023-04-01T00:00:00",
          "2023-05-01T00:00:00",
          "2023-06-01T00:00:00",
          "2023-07-01T00:00:00",
          "2023-08-01T00:00:00",
          "2023-09-01T00:00:00"
         ],
         "xaxis": "x3",
         "y": [
          576578.22,
          522534.42,
          479485.54,
          460759.68,
          479074.72,
          510234.80000000005,
          542441.1200000001,
          572079.44,
          604406.46,
          624719.64,
          633693.74,
          616751.42,
          573600.08,
          511655.74,
          452419.39999999997,
          424544.5200000001,
          442964.28,
          476025.22,
          509782.70000000007,
          541634.3799999999,
          574976.8,
          601563.1599999999,
          612646.96,
          593143.22,
          545674.5,
          478383.62000000005,
          412699.42,
          382809.82,
          397200.88,
          432111.74000000005,
          467490.60000000003,
          503420.39999999997,
          543423.3400000001
         ],
         "yaxis": "y3"
        },
        {
         "hovertemplate": "<b>Date</b>: %{x}<br><b>Value (GJ)</b>: %{y}<br>",
         "legendgroup": "Avg_5_Year",
         "line": {
          "color": "navy",
          "dash": "solid"
         },
         "marker": {
          "symbol": "circle"
         },
         "mode": "lines",
         "name": "5 Year Average",
         "orientation": "v",
         "showlegend": false,
         "type": "scatter",
         "x": [
          "2021-01-01T00:00:00",
          "2021-02-01T00:00:00",
          "2021-03-01T00:00:00",
          "2021-04-01T00:00:00",
          "2021-05-01T00:00:00",
          "2021-06-01T00:00:00",
          "2021-07-01T00:00:00",
          "2021-08-01T00:00:00",
          "2021-09-01T00:00:00",
          "2021-10-01T00:00:00",
          "2021-11-01T00:00:00",
          "2021-12-01T00:00:00",
          "2022-01-01T00:00:00",
          "2022-02-01T00:00:00",
          "2022-03-01T00:00:00",
          "2022-04-01T00:00:00",
          "2022-05-01T00:00:00",
          "2022-06-01T00:00:00",
          "2022-07-01T00:00:00",
          "2022-08-01T00:00:00",
          "2022-09-01T00:00:00",
          "2022-10-01T00:00:00",
          "2022-11-01T00:00:00",
          "2022-12-01T00:00:00",
          "2023-01-01T00:00:00",
          "2023-02-01T00:00:00",
          "2023-03-01T00:00:00",
          "2023-04-01T00:00:00",
          "2023-05-01T00:00:00",
          "2023-06-01T00:00:00",
          "2023-07-01T00:00:00",
          "2023-08-01T00:00:00",
          "2023-09-01T00:00:00"
         ],
         "xaxis": "x2",
         "y": [
          522534.42,
          479485.54,
          460759.68,
          479074.72,
          510234.80000000005,
          542441.1200000001,
          572079.44,
          604406.46,
          624719.64,
          633693.74,
          616751.42,
          573600.08,
          511655.74,
          452419.39999999997,
          424544.5200000001,
          442964.28,
          476025.22,
          509782.70000000007,
          541634.3799999999,
          574976.8,
          601563.1599999999,
          612646.96,
          593143.22,
          545674.5,
          478383.62000000005,
          412699.42,
          382809.82,
          397200.88,
          432111.74000000005,
          467490.60000000003,
          503420.39999999997,
          543423.3400000001,
          572386.26
         ],
         "yaxis": "y2"
        },
        {
         "hovertemplate": "<b>Date</b>: %{x}<br><b>Value (GJ)</b>: %{y}<br>",
         "legendgroup": "Avg_5_Year",
         "line": {
          "color": "navy",
          "dash": "solid"
         },
         "marker": {
          "symbol": "circle"
         },
         "mode": "lines",
         "name": "5 Year Average",
         "orientation": "v",
         "showlegend": false,
         "type": "scatter",
         "x": [
          "2021-01-01T00:00:00",
          "2021-02-01T00:00:00",
          "2021-03-01T00:00:00",
          "2021-04-01T00:00:00",
          "2021-05-01T00:00:00",
          "2021-06-01T00:00:00",
          "2021-07-01T00:00:00",
          "2021-08-01T00:00:00",
          "2021-09-01T00:00:00",
          "2021-10-01T00:00:00",
          "2021-11-01T00:00:00",
          "2021-12-01T00:00:00",
          "2022-01-01T00:00:00",
          "2022-02-01T00:00:00",
          "2022-03-01T00:00:00",
          "2022-04-01T00:00:00",
          "2022-05-01T00:00:00",
          "2022-06-01T00:00:00",
          "2022-07-01T00:00:00",
          "2022-08-01T00:00:00",
          "2022-09-01T00:00:00",
          "2022-10-01T00:00:00",
          "2022-11-01T00:00:00",
          "2022-12-01T00:00:00",
          "2023-01-01T00:00:00",
          "2023-02-01T00:00:00",
          "2023-03-01T00:00:00",
          "2023-04-01T00:00:00",
          "2023-05-01T00:00:00",
          "2023-06-01T00:00:00",
          "2023-07-01T00:00:00",
          "2023-08-01T00:00:00",
          "2023-09-01T00:00:00"
         ],
         "xaxis": "x",
         "y": [
          -52167.51999999999,
          -43048.899999999994,
          -18725.86,
          18315.04,
          31160.08,
          32206.340000000004,
          29638.26,
          32327.04,
          20313.18,
          8974.119999999999,
          -16942.34,
          -43151.36,
          -61944.34,
          -59236.32000000001,
          -27874.88,
          18419.76,
          33060.92,
          33757.48,
          31851.660000000003,
          33342.46,
          26586.34,
          11083.859999999997,
          -19503.760000000002,
          -47468.78,
          -67290.9,
          -65684.16,
          -29889.620000000003,
          14391.06,
          34910.86,
          35378.84,
          35929.8,
          40002.979999999996,
          28962.860000000004
         ],
         "yaxis": "y"
        }
       ],
       "layout": {
        "annotations": [
         {
          "font": {},
          "showarrow": false,
          "text": "Inventory change",
          "textangle": 90,
          "x": 0.98,
          "xanchor": "left",
          "xref": "paper",
          "y": 0.15666666666666665,
          "yanchor": "middle",
          "yref": "paper"
         },
         {
          "font": {},
          "showarrow": false,
          "text": "Closing inventory",
          "textangle": 90,
          "x": 0.98,
          "xanchor": "left",
          "xref": "paper",
          "y": 0.4999999999999999,
          "yanchor": "middle",
          "yref": "paper"
         },
         {
          "font": {},
          "showarrow": false,
          "text": "Opening inventory",
          "textangle": 90,
          "x": 0.98,
          "xanchor": "left",
          "xref": "paper",
          "y": 0.8433333333333332,
          "yanchor": "middle",
          "yref": "paper"
         }
        ],
        "height": 600,
        "legend": {
         "orientation": "h",
         "title": {
          "text": ""
         },
         "tracegroupgap": 0,
         "x": 0,
         "y": -0.2
        },
        "template": {
         "data": {
          "bar": [
           {
            "error_x": {
             "color": "#f2f5fa"
            },
            "error_y": {
             "color": "#f2f5fa"
            },
            "marker": {
             "line": {
              "color": "rgb(17,17,17)",
              "width": 0.5
             },
             "pattern": {
              "fillmode": "overlay",
              "size": 10,
              "solidity": 0.2
             }
            },
            "type": "bar"
           }
          ],
          "barpolar": [
           {
            "marker": {
             "line": {
              "color": "rgb(17,17,17)",
              "width": 0.5
             },
             "pattern": {
              "fillmode": "overlay",
              "size": 10,
              "solidity": 0.2
             }
            },
            "type": "barpolar"
           }
          ],
          "carpet": [
           {
            "aaxis": {
             "endlinecolor": "#A2B1C6",
             "gridcolor": "#506784",
             "linecolor": "#506784",
             "minorgridcolor": "#506784",
             "startlinecolor": "#A2B1C6"
            },
            "baxis": {
             "endlinecolor": "#A2B1C6",
             "gridcolor": "#506784",
             "linecolor": "#506784",
             "minorgridcolor": "#506784",
             "startlinecolor": "#A2B1C6"
            },
            "type": "carpet"
           }
          ],
          "choropleth": [
           {
            "colorbar": {
             "outlinewidth": 0,
             "ticks": ""
            },
            "type": "choropleth"
           }
          ],
          "contour": [
           {
            "colorbar": {
             "outlinewidth": 0,
             "ticks": ""
            },
            "colorscale": [
             [
              0,
              "#0d0887"
             ],
             [
              0.1111111111111111,
              "#46039f"
             ],
             [
              0.2222222222222222,
              "#7201a8"
             ],
             [
              0.3333333333333333,
              "#9c179e"
             ],
             [
              0.4444444444444444,
              "#bd3786"
             ],
             [
              0.5555555555555556,
              "#d8576b"
             ],
             [
              0.6666666666666666,
              "#ed7953"
             ],
             [
              0.7777777777777778,
              "#fb9f3a"
             ],
             [
              0.8888888888888888,
              "#fdca26"
             ],
             [
              1,
              "#f0f921"
             ]
            ],
            "type": "contour"
           }
          ],
          "contourcarpet": [
           {
            "colorbar": {
             "outlinewidth": 0,
             "ticks": ""
            },
            "type": "contourcarpet"
           }
          ],
          "heatmap": [
           {
            "colorbar": {
             "outlinewidth": 0,
             "ticks": ""
            },
            "colorscale": [
             [
              0,
              "#0d0887"
             ],
             [
              0.1111111111111111,
              "#46039f"
             ],
             [
              0.2222222222222222,
              "#7201a8"
             ],
             [
              0.3333333333333333,
              "#9c179e"
             ],
             [
              0.4444444444444444,
              "#bd3786"
             ],
             [
              0.5555555555555556,
              "#d8576b"
             ],
             [
              0.6666666666666666,
              "#ed7953"
             ],
             [
              0.7777777777777778,
              "#fb9f3a"
             ],
             [
              0.8888888888888888,
              "#fdca26"
             ],
             [
              1,
              "#f0f921"
             ]
            ],
            "type": "heatmap"
           }
          ],
          "heatmapgl": [
           {
            "colorbar": {
             "outlinewidth": 0,
             "ticks": ""
            },
            "colorscale": [
             [
              0,
              "#0d0887"
             ],
             [
              0.1111111111111111,
              "#46039f"
             ],
             [
              0.2222222222222222,
              "#7201a8"
             ],
             [
              0.3333333333333333,
              "#9c179e"
             ],
             [
              0.4444444444444444,
              "#bd3786"
             ],
             [
              0.5555555555555556,
              "#d8576b"
             ],
             [
              0.6666666666666666,
              "#ed7953"
             ],
             [
              0.7777777777777778,
              "#fb9f3a"
             ],
             [
              0.8888888888888888,
              "#fdca26"
             ],
             [
              1,
              "#f0f921"
             ]
            ],
            "type": "heatmapgl"
           }
          ],
          "histogram": [
           {
            "marker": {
             "pattern": {
              "fillmode": "overlay",
              "size": 10,
              "solidity": 0.2
             }
            },
            "type": "histogram"
           }
          ],
          "histogram2d": [
           {
            "colorbar": {
             "outlinewidth": 0,
             "ticks": ""
            },
            "colorscale": [
             [
              0,
              "#0d0887"
             ],
             [
              0.1111111111111111,
              "#46039f"
             ],
             [
              0.2222222222222222,
              "#7201a8"
             ],
             [
              0.3333333333333333,
              "#9c179e"
             ],
             [
              0.4444444444444444,
              "#bd3786"
             ],
             [
              0.5555555555555556,
              "#d8576b"
             ],
             [
              0.6666666666666666,
              "#ed7953"
             ],
             [
              0.7777777777777778,
              "#fb9f3a"
             ],
             [
              0.8888888888888888,
              "#fdca26"
             ],
             [
              1,
              "#f0f921"
             ]
            ],
            "type": "histogram2d"
           }
          ],
          "histogram2dcontour": [
           {
            "colorbar": {
             "outlinewidth": 0,
             "ticks": ""
            },
            "colorscale": [
             [
              0,
              "#0d0887"
             ],
             [
              0.1111111111111111,
              "#46039f"
             ],
             [
              0.2222222222222222,
              "#7201a8"
             ],
             [
              0.3333333333333333,
              "#9c179e"
             ],
             [
              0.4444444444444444,
              "#bd3786"
             ],
             [
              0.5555555555555556,
              "#d8576b"
             ],
             [
              0.6666666666666666,
              "#ed7953"
             ],
             [
              0.7777777777777778,
              "#fb9f3a"
             ],
             [
              0.8888888888888888,
              "#fdca26"
             ],
             [
              1,
              "#f0f921"
             ]
            ],
            "type": "histogram2dcontour"
           }
          ],
          "mesh3d": [
           {
            "colorbar": {
             "outlinewidth": 0,
             "ticks": ""
            },
            "type": "mesh3d"
           }
          ],
          "parcoords": [
           {
            "line": {
             "colorbar": {
              "outlinewidth": 0,
              "ticks": ""
             }
            },
            "type": "parcoords"
           }
          ],
          "pie": [
           {
            "automargin": true,
            "type": "pie"
           }
          ],
          "scatter": [
           {
            "marker": {
             "line": {
              "color": "#283442"
             }
            },
            "type": "scatter"
           }
          ],
          "scatter3d": [
           {
            "line": {
             "colorbar": {
              "outlinewidth": 0,
              "ticks": ""
             }
            },
            "marker": {
             "colorbar": {
              "outlinewidth": 0,
              "ticks": ""
             }
            },
            "type": "scatter3d"
           }
          ],
          "scattercarpet": [
           {
            "marker": {
             "colorbar": {
              "outlinewidth": 0,
              "ticks": ""
             }
            },
            "type": "scattercarpet"
           }
          ],
          "scattergeo": [
           {
            "marker": {
             "colorbar": {
              "outlinewidth": 0,
              "ticks": ""
             }
            },
            "type": "scattergeo"
           }
          ],
          "scattergl": [
           {
            "marker": {
             "line": {
              "color": "#283442"
             }
            },
            "type": "scattergl"
           }
          ],
          "scattermapbox": [
           {
            "marker": {
             "colorbar": {
              "outlinewidth": 0,
              "ticks": ""
             }
            },
            "type": "scattermapbox"
           }
          ],
          "scatterpolar": [
           {
            "marker": {
             "colorbar": {
              "outlinewidth": 0,
              "ticks": ""
             }
            },
            "type": "scatterpolar"
           }
          ],
          "scatterpolargl": [
           {
            "marker": {
             "colorbar": {
              "outlinewidth": 0,
              "ticks": ""
             }
            },
            "type": "scatterpolargl"
           }
          ],
          "scatterternary": [
           {
            "marker": {
             "colorbar": {
              "outlinewidth": 0,
              "ticks": ""
             }
            },
            "type": "scatterternary"
           }
          ],
          "surface": [
           {
            "colorbar": {
             "outlinewidth": 0,
             "ticks": ""
            },
            "colorscale": [
             [
              0,
              "#0d0887"
             ],
             [
              0.1111111111111111,
              "#46039f"
             ],
             [
              0.2222222222222222,
              "#7201a8"
             ],
             [
              0.3333333333333333,
              "#9c179e"
             ],
             [
              0.4444444444444444,
              "#bd3786"
             ],
             [
              0.5555555555555556,
              "#d8576b"
             ],
             [
              0.6666666666666666,
              "#ed7953"
             ],
             [
              0.7777777777777778,
              "#fb9f3a"
             ],
             [
              0.8888888888888888,
              "#fdca26"
             ],
             [
              1,
              "#f0f921"
             ]
            ],
            "type": "surface"
           }
          ],
          "table": [
           {
            "cells": {
             "fill": {
              "color": "#506784"
             },
             "line": {
              "color": "rgb(17,17,17)"
             }
            },
            "header": {
             "fill": {
              "color": "#2a3f5f"
             },
             "line": {
              "color": "rgb(17,17,17)"
             }
            },
            "type": "table"
           }
          ]
         },
         "layout": {
          "annotationdefaults": {
           "arrowcolor": "#f2f5fa",
           "arrowhead": 0,
           "arrowwidth": 1
          },
          "autotypenumbers": "strict",
          "coloraxis": {
           "colorbar": {
            "outlinewidth": 0,
            "ticks": ""
           }
          },
          "colorscale": {
           "diverging": [
            [
             0,
             "#8e0152"
            ],
            [
             0.1,
             "#c51b7d"
            ],
            [
             0.2,
             "#de77ae"
            ],
            [
             0.3,
             "#f1b6da"
            ],
            [
             0.4,
             "#fde0ef"
            ],
            [
             0.5,
             "#f7f7f7"
            ],
            [
             0.6,
             "#e6f5d0"
            ],
            [
             0.7,
             "#b8e186"
            ],
            [
             0.8,
             "#7fbc41"
            ],
            [
             0.9,
             "#4d9221"
            ],
            [
             1,
             "#276419"
            ]
           ],
           "sequential": [
            [
             0,
             "#0d0887"
            ],
            [
             0.1111111111111111,
             "#46039f"
            ],
            [
             0.2222222222222222,
             "#7201a8"
            ],
            [
             0.3333333333333333,
             "#9c179e"
            ],
            [
             0.4444444444444444,
             "#bd3786"
            ],
            [
             0.5555555555555556,
             "#d8576b"
            ],
            [
             0.6666666666666666,
             "#ed7953"
            ],
            [
             0.7777777777777778,
             "#fb9f3a"
            ],
            [
             0.8888888888888888,
             "#fdca26"
            ],
            [
             1,
             "#f0f921"
            ]
           ],
           "sequentialminus": [
            [
             0,
             "#0d0887"
            ],
            [
             0.1111111111111111,
             "#46039f"
            ],
            [
             0.2222222222222222,
             "#7201a8"
            ],
            [
             0.3333333333333333,
             "#9c179e"
            ],
            [
             0.4444444444444444,
             "#bd3786"
            ],
            [
             0.5555555555555556,
             "#d8576b"
            ],
            [
             0.6666666666666666,
             "#ed7953"
            ],
            [
             0.7777777777777778,
             "#fb9f3a"
            ],
            [
             0.8888888888888888,
             "#fdca26"
            ],
            [
             1,
             "#f0f921"
            ]
           ]
          },
          "colorway": [
           "#636efa",
           "#EF553B",
           "#00cc96",
           "#ab63fa",
           "#FFA15A",
           "#19d3f3",
           "#FF6692",
           "#B6E880",
           "#FF97FF",
           "#FECB52"
          ],
          "font": {
           "color": "#f2f5fa"
          },
          "geo": {
           "bgcolor": "rgb(17,17,17)",
           "lakecolor": "rgb(17,17,17)",
           "landcolor": "rgb(17,17,17)",
           "showlakes": true,
           "showland": true,
           "subunitcolor": "#506784"
          },
          "hoverlabel": {
           "align": "left"
          },
          "hovermode": "closest",
          "mapbox": {
           "style": "dark"
          },
          "paper_bgcolor": "rgb(17,17,17)",
          "plot_bgcolor": "rgb(17,17,17)",
          "polar": {
           "angularaxis": {
            "gridcolor": "#506784",
            "linecolor": "#506784",
            "ticks": ""
           },
           "bgcolor": "rgb(17,17,17)",
           "radialaxis": {
            "gridcolor": "#506784",
            "linecolor": "#506784",
            "ticks": ""
           }
          },
          "scene": {
           "xaxis": {
            "backgroundcolor": "rgb(17,17,17)",
            "gridcolor": "#506784",
            "gridwidth": 2,
            "linecolor": "#506784",
            "showbackground": true,
            "ticks": "",
            "zerolinecolor": "#C8D4E3"
           },
           "yaxis": {
            "backgroundcolor": "rgb(17,17,17)",
            "gridcolor": "#506784",
            "gridwidth": 2,
            "linecolor": "#506784",
            "showbackground": true,
            "ticks": "",
            "zerolinecolor": "#C8D4E3"
           },
           "zaxis": {
            "backgroundcolor": "rgb(17,17,17)",
            "gridcolor": "#506784",
            "gridwidth": 2,
            "linecolor": "#506784",
            "showbackground": true,
            "ticks": "",
            "zerolinecolor": "#C8D4E3"
           }
          },
          "shapedefaults": {
           "line": {
            "color": "#f2f5fa"
           }
          },
          "sliderdefaults": {
           "bgcolor": "#C8D4E3",
           "bordercolor": "rgb(17,17,17)",
           "borderwidth": 1,
           "tickwidth": 0
          },
          "ternary": {
           "aaxis": {
            "gridcolor": "#506784",
            "linecolor": "#506784",
            "ticks": ""
           },
           "baxis": {
            "gridcolor": "#506784",
            "linecolor": "#506784",
            "ticks": ""
           },
           "bgcolor": "rgb(17,17,17)",
           "caxis": {
            "gridcolor": "#506784",
            "linecolor": "#506784",
            "ticks": ""
           }
          },
          "title": {
           "x": 0.05
          },
          "updatemenudefaults": {
           "bgcolor": "#506784",
           "borderwidth": 0
          },
          "xaxis": {
           "automargin": true,
           "gridcolor": "#283442",
           "linecolor": "#506784",
           "ticks": "",
           "title": {
            "standoff": 15
           },
           "zerolinecolor": "#283442",
           "zerolinewidth": 2
          },
          "yaxis": {
           "automargin": true,
           "gridcolor": "#283442",
           "linecolor": "#506784",
           "ticks": "",
           "title": {
            "standoff": 15
           },
           "zerolinecolor": "#283442",
           "zerolinewidth": 2
          }
         }
        },
        "title": {
         "text": "Western Canada Natural Gas Storage",
         "x": 0.5
        },
        "width": 600,
        "xaxis": {
         "anchor": "y",
         "domain": [
          0,
          0.98
         ],
         "title": {
          "text": "Date"
         }
        },
        "xaxis2": {
         "anchor": "y2",
         "domain": [
          0,
          0.98
         ],
         "matches": "x",
         "showticklabels": false
        },
        "xaxis3": {
         "anchor": "y3",
         "domain": [
          0,
          0.98
         ],
         "matches": "x",
         "showticklabels": false
        },
        "yaxis": {
         "anchor": "x",
         "domain": [
          0,
          0.3133333333333333
         ],
         "title": {
          "text": "GJ"
         }
        },
        "yaxis2": {
         "anchor": "x2",
         "domain": [
          0.34333333333333327,
          0.6566666666666665
         ],
         "title": {
          "text": "GJ"
         }
        },
        "yaxis3": {
         "anchor": "x3",
         "domain": [
          0.6866666666666665,
          0.9999999999999998
         ],
         "title": {
          "text": "GJ"
         }
        }
       }
      }
     },
     "metadata": {},
     "output_type": "display_data"
    }
   ],
   "source": [
    "import plotly.express as px\n",
    "import plotly.graph_objects as go\n",
    "\n",
    "# Create custom legend names\n",
    "legend_names = {\n",
    "    'GJ': 'Current Period',\n",
    "    'Rolling_5_Year_Min': '5 Year Minimum',\n",
    "    'Rolling_5_Year_max': '5 Year Maximum',\n",
    "    'Avg_5_Year': '5 Year Average'    \n",
    "}\n",
    "\n",
    "# Create the figure\n",
    "fig4 = px.line(df_western, x='Date', y=['GJ', 'Rolling_5_Year_Min', 'Rolling_5_Year_max','Avg_5_Year'], facet_row='Storage',\n",
    "               title=\"Western Canada Natural Gas Storage\",\n",
    "               facet_row_spacing=0.0, facet_col_spacing=0.0, facet_col_wrap=3)\n",
    "\n",
    "# Update annotations to remove unwanted text\n",
    "fig4.for_each_annotation(lambda a: a.update(text=a.text.split(\"=\")[-1]))\n",
    "\n",
    "# Update y-axes to not have any shared scales\n",
    "fig4.update_yaxes(matches=None)\n",
    "\n",
    "# Update the layout with the dark template and center-aligned title\n",
    "fig4.update_layout(\n",
    "    template=\"plotly_dark\",\n",
    "    title_x=0.5,\n",
    "    height=600,\n",
    "    width=600,\n",
    "    legend_title_text=\"\"  # Change the legend title to \"Legend\"\n",
    ")\n",
    "\n",
    "# Customize hovertemplate to show only the 'value'\n",
    "fig4.update_traces(hovertemplate='<b>Date</b>: %{x}<br>'\n",
    "                                '<b>Value (GJ)</b>: %{y}<br>')\n",
    "\n",
    "# Update trace names with custom legend names\n",
    "for trace in fig4.data:\n",
    "    trace.name = legend_names.get(trace.name, '')\n",
    "\n",
    "# Update x-axis and y-axis titles\n",
    "# fig2.update_xaxes(title_text=\"Date\")\n",
    "fig4.update_yaxes(title_text=\"GJ\")\n",
    "\n",
    "# Move the legend to the bottom\n",
    "fig4.update_layout(legend=dict(x=0, y=-0.2, orientation=\"h\"))\n",
    "\n",
    "# Change the color of the \"5 Year Average\" line to pink\n",
    "\n",
    "fig4.update_traces(selector=dict(name='5 Year Average'), line=dict(color='navy'))\n",
    "fig4.update_traces(selector=dict(name='5 Year Minimum'), line=dict(color='red'))\n",
    "fig4.update_traces(selector=dict(name='GJ'), line=dict(color='blue'))\n",
    "fig4.update_traces(selector=dict(name='5 Year Maximum'), line=dict(color='green'))\n",
    "\n",
    "\n",
    "# Show the plot\n",
    "fig4.show()\n"
   ]
  },
  {
   "cell_type": "code",
   "execution_count": 11,
   "metadata": {},
   "outputs": [
    {
     "name": "stdout",
     "output_type": "stream",
     "text": [
      "API Token: pk.eyJ1IjoiZHJld2Jvc2NoOTgiLCJhIjoiY2xtd2NtaTl6MGVncTJucDY5cnZwemNoYyJ9.wcN-HMzuzjiLEoOltrjipQ\n"
     ]
    },
    {
     "ename": "DriverError",
     "evalue": "ShapeFiles/Natural_Gas_Underground_Storage.geojson: No such file or directory",
     "output_type": "error",
     "traceback": [
      "\u001b[1;31m---------------------------------------------------------------------------\u001b[0m",
      "\u001b[1;31mCPLE_OpenFailedError\u001b[0m                      Traceback (most recent call last)",
      "File \u001b[1;32mfiona\\ogrext.pyx:136\u001b[0m, in \u001b[0;36mfiona.ogrext.gdal_open_vector\u001b[1;34m()\u001b[0m\n",
      "File \u001b[1;32mfiona\\_err.pyx:291\u001b[0m, in \u001b[0;36mfiona._err.exc_wrap_pointer\u001b[1;34m()\u001b[0m\n",
      "\u001b[1;31mCPLE_OpenFailedError\u001b[0m: ShapeFiles/Natural_Gas_Underground_Storage.geojson: No such file or directory",
      "\nDuring handling of the above exception, another exception occurred:\n",
      "\u001b[1;31mDriverError\u001b[0m                               Traceback (most recent call last)",
      "\u001b[1;32mc:\\Users\\drewv\\OneDrive - University of Calgary\\Drew_HardDrive\\Documents\\Repositories\\Natural_Gas_Projects\\Projects\\western_northamerica_ng_dashboard.ipynb Cell 11\u001b[0m line \u001b[0;36m2\n\u001b[0;32m     <a href='vscode-notebook-cell:/c%3A/Users/drewv/OneDrive%20-%20University%20of%20Calgary/Drew_HardDrive/Documents/Repositories/Natural_Gas_Projects/Projects/western_northamerica_ng_dashboard.ipynb#X13sZmlsZQ%3D%3D?line=22'>23</a>\u001b[0m     \u001b[39mprint\u001b[39m(\u001b[39m\"\u001b[39m\u001b[39mAPI Token not found. Please check the variable name.\u001b[39m\u001b[39m\"\u001b[39m)\n\u001b[0;32m     <a href='vscode-notebook-cell:/c%3A/Users/drewv/OneDrive%20-%20University%20of%20Calgary/Drew_HardDrive/Documents/Repositories/Natural_Gas_Projects/Projects/western_northamerica_ng_dashboard.ipynb#X13sZmlsZQ%3D%3D?line=23'>24</a>\u001b[0m hubs_df \u001b[39m=\u001b[39m pd\u001b[39m.\u001b[39mread_excel(\u001b[39mr\u001b[39m\u001b[39m'\u001b[39m\u001b[39mNatural_Gas_Trading_Hubs.xlsx\u001b[39m\u001b[39m'\u001b[39m)\n\u001b[1;32m---> <a href='vscode-notebook-cell:/c%3A/Users/drewv/OneDrive%20-%20University%20of%20Calgary/Drew_HardDrive/Documents/Repositories/Natural_Gas_Projects/Projects/western_northamerica_ng_dashboard.ipynb#X13sZmlsZQ%3D%3D?line=24'>25</a>\u001b[0m eia_storage_df \u001b[39m=\u001b[39m gpd\u001b[39m.\u001b[39mread_file(\u001b[39mr\u001b[39m\u001b[39m'\u001b[39m\u001b[39mShapeFiles/Natural_Gas_Underground_Storage.geojson\u001b[39m\u001b[39m'\u001b[39m)\n\u001b[0;32m     <a href='vscode-notebook-cell:/c%3A/Users/drewv/OneDrive%20-%20University%20of%20Calgary/Drew_HardDrive/Documents/Repositories/Natural_Gas_Projects/Projects/western_northamerica_ng_dashboard.ipynb#X13sZmlsZQ%3D%3D?line=26'>27</a>\u001b[0m \u001b[39m# fig1 = px.scatter_mapbox(hubs_df, lat ='Latitude', lon ='Longitude', color='HubName')\u001b[39;00m\n\u001b[0;32m     <a href='vscode-notebook-cell:/c%3A/Users/drewv/OneDrive%20-%20University%20of%20Calgary/Drew_HardDrive/Documents/Repositories/Natural_Gas_Projects/Projects/western_northamerica_ng_dashboard.ipynb#X13sZmlsZQ%3D%3D?line=27'>28</a>\u001b[0m \u001b[39m# fig1.update_layout(\u001b[39;00m\n\u001b[0;32m     <a href='vscode-notebook-cell:/c%3A/Users/drewv/OneDrive%20-%20University%20of%20Calgary/Drew_HardDrive/Documents/Repositories/Natural_Gas_Projects/Projects/western_northamerica_ng_dashboard.ipynb#X13sZmlsZQ%3D%3D?line=28'>29</a>\u001b[0m \u001b[39m#     mapbox_style=\"dark\",\u001b[39;00m\n\u001b[1;32m   (...)\u001b[0m\n\u001b[0;32m     <a href='vscode-notebook-cell:/c%3A/Users/drewv/OneDrive%20-%20University%20of%20Calgary/Drew_HardDrive/Documents/Repositories/Natural_Gas_Projects/Projects/western_northamerica_ng_dashboard.ipynb#X13sZmlsZQ%3D%3D?line=38'>39</a>\u001b[0m \u001b[39m# fig1.update_traces(marker={'size': 10})\u001b[39;00m\n\u001b[0;32m     <a href='vscode-notebook-cell:/c%3A/Users/drewv/OneDrive%20-%20University%20of%20Calgary/Drew_HardDrive/Documents/Repositories/Natural_Gas_Projects/Projects/western_northamerica_ng_dashboard.ipynb#X13sZmlsZQ%3D%3D?line=39'>40</a>\u001b[0m \u001b[39m# fig1.show()\u001b[39;00m\n\u001b[0;32m     <a href='vscode-notebook-cell:/c%3A/Users/drewv/OneDrive%20-%20University%20of%20Calgary/Drew_HardDrive/Documents/Repositories/Natural_Gas_Projects/Projects/western_northamerica_ng_dashboard.ipynb#X13sZmlsZQ%3D%3D?line=42'>43</a>\u001b[0m eia_storage_df\n",
      "File \u001b[1;32mc:\\Users\\drewv\\anaconda3\\Lib\\site-packages\\geopandas\\io\\file.py:297\u001b[0m, in \u001b[0;36m_read_file\u001b[1;34m(filename, bbox, mask, rows, engine, **kwargs)\u001b[0m\n\u001b[0;32m    294\u001b[0m     \u001b[39melse\u001b[39;00m:\n\u001b[0;32m    295\u001b[0m         path_or_bytes \u001b[39m=\u001b[39m filename\n\u001b[1;32m--> 297\u001b[0m     \u001b[39mreturn\u001b[39;00m _read_file_fiona(\n\u001b[0;32m    298\u001b[0m         path_or_bytes, from_bytes, bbox\u001b[39m=\u001b[39mbbox, mask\u001b[39m=\u001b[39mmask, rows\u001b[39m=\u001b[39mrows, \u001b[39m*\u001b[39m\u001b[39m*\u001b[39mkwargs\n\u001b[0;32m    299\u001b[0m     )\n\u001b[0;32m    301\u001b[0m \u001b[39melse\u001b[39;00m:\n\u001b[0;32m    302\u001b[0m     \u001b[39mraise\u001b[39;00m \u001b[39mValueError\u001b[39;00m(\u001b[39mf\u001b[39m\u001b[39m\"\u001b[39m\u001b[39munknown engine \u001b[39m\u001b[39m'\u001b[39m\u001b[39m{\u001b[39;00mengine\u001b[39m}\u001b[39;00m\u001b[39m'\u001b[39m\u001b[39m\"\u001b[39m)\n",
      "File \u001b[1;32mc:\\Users\\drewv\\anaconda3\\Lib\\site-packages\\geopandas\\io\\file.py:338\u001b[0m, in \u001b[0;36m_read_file_fiona\u001b[1;34m(path_or_bytes, from_bytes, bbox, mask, rows, where, **kwargs)\u001b[0m\n\u001b[0;32m    335\u001b[0m     reader \u001b[39m=\u001b[39m fiona\u001b[39m.\u001b[39mopen\n\u001b[0;32m    337\u001b[0m \u001b[39mwith\u001b[39;00m fiona_env():\n\u001b[1;32m--> 338\u001b[0m     \u001b[39mwith\u001b[39;00m reader(path_or_bytes, \u001b[39m*\u001b[39m\u001b[39m*\u001b[39mkwargs) \u001b[39mas\u001b[39;00m features:\n\u001b[0;32m    339\u001b[0m         crs \u001b[39m=\u001b[39m features\u001b[39m.\u001b[39mcrs_wkt\n\u001b[0;32m    340\u001b[0m         \u001b[39m# attempt to get EPSG code\u001b[39;00m\n",
      "File \u001b[1;32mc:\\Users\\drewv\\anaconda3\\Lib\\site-packages\\fiona\\env.py:457\u001b[0m, in \u001b[0;36mensure_env_with_credentials.<locals>.wrapper\u001b[1;34m(*args, **kwds)\u001b[0m\n\u001b[0;32m    454\u001b[0m     session \u001b[39m=\u001b[39m DummySession()\n\u001b[0;32m    456\u001b[0m \u001b[39mwith\u001b[39;00m env_ctor(session\u001b[39m=\u001b[39msession):\n\u001b[1;32m--> 457\u001b[0m     \u001b[39mreturn\u001b[39;00m f(\u001b[39m*\u001b[39margs, \u001b[39m*\u001b[39m\u001b[39m*\u001b[39mkwds)\n",
      "File \u001b[1;32mc:\\Users\\drewv\\anaconda3\\Lib\\site-packages\\fiona\\__init__.py:308\u001b[0m, in \u001b[0;36mopen\u001b[1;34m(fp, mode, driver, schema, crs, encoding, layer, vfs, enabled_drivers, crs_wkt, allow_unsupported_drivers, **kwargs)\u001b[0m\n\u001b[0;32m    305\u001b[0m     path \u001b[39m=\u001b[39m parse_path(fp)\n\u001b[0;32m    307\u001b[0m \u001b[39mif\u001b[39;00m mode \u001b[39min\u001b[39;00m (\u001b[39m\"\u001b[39m\u001b[39ma\u001b[39m\u001b[39m\"\u001b[39m, \u001b[39m\"\u001b[39m\u001b[39mr\u001b[39m\u001b[39m\"\u001b[39m):\n\u001b[1;32m--> 308\u001b[0m     colxn \u001b[39m=\u001b[39m Collection(\n\u001b[0;32m    309\u001b[0m         path,\n\u001b[0;32m    310\u001b[0m         mode,\n\u001b[0;32m    311\u001b[0m         driver\u001b[39m=\u001b[39mdriver,\n\u001b[0;32m    312\u001b[0m         encoding\u001b[39m=\u001b[39mencoding,\n\u001b[0;32m    313\u001b[0m         layer\u001b[39m=\u001b[39mlayer,\n\u001b[0;32m    314\u001b[0m         enabled_drivers\u001b[39m=\u001b[39menabled_drivers,\n\u001b[0;32m    315\u001b[0m         allow_unsupported_drivers\u001b[39m=\u001b[39mallow_unsupported_drivers,\n\u001b[0;32m    316\u001b[0m         \u001b[39m*\u001b[39m\u001b[39m*\u001b[39mkwargs\n\u001b[0;32m    317\u001b[0m     )\n\u001b[0;32m    318\u001b[0m \u001b[39melif\u001b[39;00m mode \u001b[39m==\u001b[39m \u001b[39m\"\u001b[39m\u001b[39mw\u001b[39m\u001b[39m\"\u001b[39m:\n\u001b[0;32m    319\u001b[0m     colxn \u001b[39m=\u001b[39m Collection(\n\u001b[0;32m    320\u001b[0m         path,\n\u001b[0;32m    321\u001b[0m         mode,\n\u001b[1;32m   (...)\u001b[0m\n\u001b[0;32m    330\u001b[0m         \u001b[39m*\u001b[39m\u001b[39m*\u001b[39mkwargs\n\u001b[0;32m    331\u001b[0m     )\n",
      "File \u001b[1;32mc:\\Users\\drewv\\anaconda3\\Lib\\site-packages\\fiona\\collection.py:243\u001b[0m, in \u001b[0;36mCollection.__init__\u001b[1;34m(self, path, mode, driver, schema, crs, encoding, layer, vsi, archive, enabled_drivers, crs_wkt, ignore_fields, ignore_geometry, include_fields, wkt_version, allow_unsupported_drivers, **kwargs)\u001b[0m\n\u001b[0;32m    241\u001b[0m \u001b[39mif\u001b[39;00m \u001b[39mself\u001b[39m\u001b[39m.\u001b[39mmode \u001b[39m==\u001b[39m \u001b[39m\"\u001b[39m\u001b[39mr\u001b[39m\u001b[39m\"\u001b[39m:\n\u001b[0;32m    242\u001b[0m     \u001b[39mself\u001b[39m\u001b[39m.\u001b[39msession \u001b[39m=\u001b[39m Session()\n\u001b[1;32m--> 243\u001b[0m     \u001b[39mself\u001b[39m\u001b[39m.\u001b[39msession\u001b[39m.\u001b[39mstart(\u001b[39mself\u001b[39m, \u001b[39m*\u001b[39m\u001b[39m*\u001b[39mkwargs)\n\u001b[0;32m    244\u001b[0m \u001b[39melif\u001b[39;00m \u001b[39mself\u001b[39m\u001b[39m.\u001b[39mmode \u001b[39min\u001b[39;00m (\u001b[39m\"\u001b[39m\u001b[39ma\u001b[39m\u001b[39m\"\u001b[39m, \u001b[39m\"\u001b[39m\u001b[39mw\u001b[39m\u001b[39m\"\u001b[39m):\n\u001b[0;32m    245\u001b[0m     \u001b[39mself\u001b[39m\u001b[39m.\u001b[39msession \u001b[39m=\u001b[39m WritingSession()\n",
      "File \u001b[1;32mfiona\\ogrext.pyx:588\u001b[0m, in \u001b[0;36mfiona.ogrext.Session.start\u001b[1;34m()\u001b[0m\n",
      "File \u001b[1;32mfiona\\ogrext.pyx:143\u001b[0m, in \u001b[0;36mfiona.ogrext.gdal_open_vector\u001b[1;34m()\u001b[0m\n",
      "\u001b[1;31mDriverError\u001b[0m: ShapeFiles/Natural_Gas_Underground_Storage.geojson: No such file or directory"
     ]
    }
   ],
   "source": [
    "#imports\n",
    "import pandas as pd \n",
    "import numpy as np \n",
    "import seaborn as sns\n",
    "import chart_studio.plotly as py\n",
    "import plotly.express as px\n",
    "from datetime import datetime\n",
    "import os\n",
    "import geopandas as gpd\n",
    "from dash import Dash, html, dcc\n",
    "import dash_bootstrap_components as dbc\n",
    "from dash_bootstrap_templates import load_figure_template\n",
    "app = Dash(__name__)\n",
    "\n",
    "\n",
    "# Retrieve the API token from the environment variable\n",
    "api_token = os.environ.get(\"Mapbox_API_Token\")\n",
    "\n",
    "# Check if the API token is available\n",
    "if api_token:\n",
    "    print(\"API Token:\", api_token)\n",
    "else:\n",
    "    print(\"API Token not found. Please check the variable name.\")\n",
    "hubs_df = pd.read_excel(r'Natural_Gas_Trading_Hubs.xlsx')\n",
    "eia_storage_df = gpd.read_file(r'ShapeFiles/Natural_Gas_Underground_Storage.geojson')\n",
    "\n",
    "# fig1 = px.scatter_mapbox(hubs_df, lat ='Latitude', lon ='Longitude', color='HubName')\n",
    "# fig1.update_layout(\n",
    "#     mapbox_style=\"dark\",\n",
    "#     mapbox_accesstoken=api_token,\n",
    "#     margin={\"r\": 0, \"t\": 0, \"l\": 0, \"b\": 0},\n",
    "#     mapbox_center={\"lat\": 51.5461, \"lon\": -113.4937},  \n",
    "#     mapbox_zoom=4,\n",
    "    \n",
    "    \n",
    "    \n",
    "# )\n",
    "# #updating the size of the keypoint markers\n",
    "# fig1.update_traces(marker={'size': 10})\n",
    "# fig1.show()\n",
    "\n",
    "\n",
    "eia_storage_df\n",
    "import plotly.express as px\n",
    "import geopandas as gpd\n",
    "import shapely.geometry\n",
    "import numpy as np\n",
    "import wget\n",
    "\n",
    "# download a zipped shapefile\n",
    "eia_storage_df = gpd.read_file(r'ShapeFiles/Natural_Gas_Underground_Storage.geojson')\n",
    "eia_storage_df.columns\n",
    "\n",
    "\n",
    "#filtering the eia df \n",
    "eia_storage_df = eia_storage_df[['Company','base_gas','work_cap','fld_cap','maxdeliv','Field_Type','Longitude','Latitude']]\n",
    "eia_storage_df = eia_storage_df[(eia_storage_df['Longitude'] < -100)]\n",
    "\n",
    "\n",
    "# Select the columns you want to format\n",
    "columns_to_format = ['base_gas', 'work_cap', 'fld_cap', 'maxdeliv']\n",
    "\n",
    "# Apply formatting to the selected columns\n",
    "formatted_df = eia_storage_df.copy()  # Create a copy to avoid modifying the original DataFrame\n",
    "formatted_df[columns_to_format] = formatted_df[columns_to_format].applymap('{:,.0f}'.format)\n",
    "\n",
    "# Display the formatted DataFrame\n",
    "formatted_df\n",
    "\n",
    "# download a zipped shapefile\n",
    "eia_df = gpd.read_file(r'C:\\Users\\drewv\\OneDrive - University of Calgary\\Drew_HardDrive\\Documents\\Repositories\\Natural_Gas_Projects\\ShapeFiles\\Natural_Gas_Interstate_and_Intrastate_Pipelines.geojson')\n",
    "\n",
    "\n",
    "\n",
    "\n",
    "lats = []\n",
    "lons = []\n",
    "names = []\n",
    "\n",
    "for feature, name in zip(eia_df.geometry, eia_df.Operator):\n",
    "    if isinstance(feature, shapely.geometry.linestring.LineString):\n",
    "        linestrings = [feature]\n",
    "    elif isinstance(feature, shapely.geometry.multilinestring.MultiLineString):\n",
    "        linestrings = feature.geoms\n",
    "    else:\n",
    "        continue\n",
    "    for linestring in linestrings:\n",
    "        x, y = linestring.xy\n",
    "        lats = np.append(lats, y)\n",
    "        lons = np.append(lons, x)\n",
    "        names = np.append(names, [name]*len(y))\n",
    "        lats = np.append(lats, None)\n",
    "        lons = np.append(lons, None)\n",
    "        names = np.append(names, None)\n",
    "\n",
    "eia_filter_df = pd.DataFrame({'Names':names,'lats':lats, 'lons':lons})\n",
    "\n",
    "filtered_df = eia_filter_df[(eia_filter_df['lons'] < -100.00 ) | (eia_filter_df['lons'].isna())]\n",
    "filtered_df\n",
    "#need to reload the data in \n",
    "df4 = pd.read_excel(r'C:\\Users\\drewv\\OneDrive - University of Calgary\\Drew_HardDrive\\Documents\\Repositories\\Natural_Gas_Projects\\ShapeFiles\\NaturalGasUndergroundStorage_BC_AB.xlsx')\n",
    "df4\n",
    "df4_copy = df4.copy()\n",
    "df4_copy['Working Gas Capacity (MMcf)'] = df4_copy['Working Gas Capacity (MMcf)'].apply('{:,.0f}'.format)\n",
    "df4_copy.rename(columns={'Owner Name (Company)':'Company'}, inplace=True)\n",
    "df4_copy\n",
    "\n",
    "import plotly.express as px\n",
    "\n",
    "# Create the line_mapbox figure\n",
    "fig1 = px.line_mapbox(\n",
    "    filtered_df,\n",
    "    lat=\"lats\",  # Replace with the actual column name for latitude\n",
    "    lon=\"lons\",  # Replace with the actual column name for longitude\n",
    "    hover_name=\"Names\",  # Replace with the actual column name for hover labels\n",
    "    mapbox_style=\"stamen-terrain\",\n",
    "    zoom=1,\n",
    "    hover_data=[\"Names\"]\n",
    ")\n",
    "\n",
    "custom_hover_fig1 = \"<b>Name:</b> %{customdata[0]}<br>\" \n",
    "# Set the custom hover template for the scatter_mapbox trace in fig3\n",
    "fig1.update_traces(\n",
    "    hovertemplate=custom_hover_fig1,\n",
    ")\n",
    "\n",
    "# Create the scatter_mapbox trace\n",
    "fig2 = px.scatter_mapbox(\n",
    "    hubs_df,\n",
    "    lat='Latitude',\n",
    "    lon='Longitude',\n",
    "    color='HubName',\n",
    "    hover_name=\"HubName\",\n",
    "    hover_data=[\"HubName\"]\n",
    ")\n",
    "custom_hover_fig2 = \"<b>Hub:</b>\" \n",
    "fig2.update_traces(\n",
    "    marker={'size': 10},\n",
    "    hovertemplate=custom_hover_fig2,\n",
    ")\n",
    "\n",
    "# USA Storage\n",
    "fig3 = px.scatter_mapbox(\n",
    "    formatted_df,\n",
    "    lat='Latitude',\n",
    "    lon='Longitude',\n",
    "    color='Field_Type',\n",
    "    hover_name='Company',\n",
    "    hover_data=['Company', 'base_gas', 'work_cap', 'fld_cap', 'maxdeliv'],\n",
    "    color_discrete_sequence=[\"navy\", \"red\", \"green\"]\n",
    ")\n",
    "\n",
    "# Define a custom hover template \n",
    "custom_hover_template = \"<b>Company:</b> %{customdata[0]}<br>\" \\\n",
    "                        \"<b>Base Gas:</b> %{customdata[1]}<br>\" \\\n",
    "                        \"<b>Working Gas Capacity:</b> %{customdata[2]}<br>\" \\\n",
    "                        \"<b>Field Capacity:</b> %{customdata[3]}<br>\" \\\n",
    "                        \"<b>Max Delivery:</b> %{customdata[4]}<br>\"\n",
    "\n",
    "# Set the custom hover template for the scatter_mapbox trace in fig3\n",
    "fig3.update_traces(\n",
    "    marker={'size': 7,},\n",
    "    hovertemplate=custom_hover_template,\n",
    ")\n",
    "\n",
    "# Manually modify the legend to group \"Depleted Field\" together\n",
    "fig3.update_traces(\n",
    "    showlegend=True,  \n",
    "    selector=dict(name='Depleted Field'),  \n",
    "    legendgroup='Depleted Field', \n",
    ")\n",
    "\n",
    "# Canada Storage\n",
    "fig4 = px.scatter_mapbox(\n",
    "    df4_copy,\n",
    "    lat='Latitude',\n",
    "    lon='Longitude',\n",
    "    color='Field Type',\n",
    "    hover_name='Company',\n",
    "    hover_data=['Field Type', 'Working Gas Capacity (MMcf)'],\n",
    "    color_discrete_sequence=[\"navy\", \"red\", \"green\"]\n",
    ")\n",
    "\n",
    "# Define a custom hover template using %{...} placeholders for fig4\n",
    "custom_hover_template_fig4 = \"<b>Company:</b> %{hovertext}<br>\" \\\n",
    "                             \"<b>Working Gas Capacity (MMcf):</b> %{customdata[1]}<br>\"\n",
    "\n",
    "# Set the custom hover template for the scatter_mapbox trace in fig4\n",
    "fig4.update_traces(\n",
    "    marker={'size': 7,},\n",
    "    hovertemplate=custom_hover_template_fig4,\n",
    ")\n",
    "\n",
    "# Add the scatter_mapbox trace to the line_mapbox figure\n",
    "for trace in fig2.data:\n",
    "    fig1.add_trace(trace)\n",
    "\n",
    "for trace in fig3.data:\n",
    "    fig1.add_trace(trace)\n",
    "\n",
    "for trace in fig4.data:\n",
    "    fig1.add_trace(trace)\n",
    "\n",
    "# Update the layout of the combined figure\n",
    "fig1.update_layout(\n",
    "    mapbox_style=\"dark\",\n",
    "    mapbox_accesstoken=api_token,  # Replace with your Mapbox API token\n",
    "    margin={\"r\": 0, \"t\": 0, \"l\": 0, \"b\": 0},\n",
    "    mapbox_center={\"lat\": 51.5461, \"lon\": -113.4937},\n",
    "    mapbox_zoom=4,\n",
    "    paper_bgcolor='black',  # Set the background color of the entire plot\n",
    "    plot_bgcolor='black'   # Set the background color of the plot area\n",
    ")\n",
    "\n",
    "\n",
    "# Set the background color for the legend\n",
    "fig1.update_layout(legend=dict(\n",
    "        bgcolor='black',\n",
    "        title_font_color='white',  # Change the title font color to white\n",
    "        title_font_size=12  # Adjust the title font size as needed\n",
    "    ))\n",
    "\n",
    "# Show the combined figure\n",
    "fig1.show()\n"
   ]
  },
  {
   "cell_type": "code",
   "execution_count": null,
   "metadata": {},
   "outputs": [],
   "source": [
    "import dash\n",
    "import dash_core_components as dcc\n",
    "import dash_html_components as html\n",
    "import dash_bootstrap_components as dbc\n",
    "from dash.dependencies import Input, Output\n",
    "from datetime import date\n",
    "\n",
    "\n",
    "# Define your Dash app\n",
    "app = dash.Dash(__name__, external_stylesheets=[dbc.themes.CYBORG])\n",
    "\n",
    "# Define your layout\n",
    "app.layout = dbc.Container([\n",
    "    dbc.Row([\n",
    "        dbc.Col([html.H1(\"Natural Gas Fundamental Dashboard\", style={'textAlign': 'center'})], width=12)]),\n",
    "    \n",
    "    dbc.Row([\n",
    "        dbc.Col([dcc.Graph(id=\"map\", figure=fig1)], width=12),\n",
    "        dbc.Col([\n",
    "            dcc.RadioItems(\n",
    "                id=\"figure-selector\",\n",
    "                options=[\n",
    "                    {'label': 'Western Canada Storage', 'value': 'fig4'},\n",
    "                    {'label': 'Alberta Storage', 'value': 'fig2'},\n",
    "                    {'label': 'BC Storage', 'value': 'fig3'}\n",
    "                    \n",
    "                ],\n",
    "                value='fig4'  # Default value when the app starts\n",
    "            ),\n",
    "            dcc.Graph(id=\"selected_figure\")\n",
    "        ], width=6)\n",
    "    ]),\n",
    "], \n",
    "                           style={'backgroundColor': 'black'})  # Set the background color to black\n",
    "\n",
    "# Define the callback to update the selected figure\n",
    "@app.callback(\n",
    "    Output(\"selected_figure\", \"figure\"),\n",
    "    Input(\"figure-selector\", \"value\")\n",
    ")\n",
    "def update_selected_figure(selected_value):\n",
    "    # You should define fig2, fig3, and fig4 here or import them from elsewhere\n",
    "    # For demonstration purposes, let's assume you have predefined these figures.\n",
    "    if selected_value == 'fig2':\n",
    "        return fig2\n",
    "    elif selected_value == 'fig3':\n",
    "        return fig3\n",
    "    elif selected_value == 'fig4':\n",
    "        return fig4\n",
    "    else:\n",
    "        # Return a default figure or an empty one if none of the options match\n",
    "        return {}\n",
    "\n",
    "if __name__ == '__main__':\n",
    "    app.run_server(debug=True)\n"
   ]
  },
  {
   "cell_type": "code",
   "execution_count": null,
   "metadata": {},
   "outputs": [],
   "source": [
    "file_2 = r'C:\\Users\\drewv\\OneDrive - University of Calgary\\Drew_HardDrive\\Documents\\Repositories\\Natural_Gas_Projects\\EIA S&D Data\\ngsstats.xlsx'\n",
    "eia_storage_data = pd.read_excel(file_2, sheet_name=\"ngsstats 2023 (2018-2022)\", skiprows=2)\n",
    "eia_storage_data.columns\n",
    "\n",
    "eia_storage_df = eia_storage_data.copy()\n",
    "\n",
    "eia_storage_data.rename(columns={'Report Date':'date',\n",
    "                                 'Mountain':'Mountain 5 Year Average',\n",
    "                                 'Pacific': 'Pacific 5 Year Average',\n",
    "                                 'Mountain.1':'Mountain 5 Year Max',\n",
    "                                 'Pacific.1':'Pacific 5 Year Max',\n",
    "                                 'Mountain.2': 'Mountain 5 Year Min',\n",
    "                                 'Pacific.2': 'Pacific 5 Year Min',\n",
    "                                 'Mountain.3': 'Mountain Working Gas Last Year',\n",
    "                                 'Pacific.3': 'Pacific Working Gas Last Year'}, inplace= True)\n",
    "eia_storage_data = eia_storage_data[['date','Mountain 5 Year Average','Pacific 5 Year Average',\n",
    "                  'Mountain 5 Year Max','Pacific 5 Year Max',\n",
    "                  'Mountain 5 Year Min','Pacific 5 Year Min',\n",
    "                  'Mountain Working Gas Last Year','Pacific Working Gas Last Year']]\n"
   ]
  },
  {
   "cell_type": "code",
   "execution_count": null,
   "metadata": {},
   "outputs": [],
   "source": [
    "eia_storage_data.tail()"
   ]
  },
  {
   "cell_type": "code",
   "execution_count": null,
   "metadata": {},
   "outputs": [],
   "source": [
    "file_3 = r'C:\\Users\\drewv\\OneDrive - University of Calgary\\Drew_HardDrive\\Documents\\Repositories\\Natural_Gas_Projects\\EIA S&D Data\\EIA_NG_Storage_Current.xlsx'\n",
    "import pandas as pd\n",
    "import datetime as dt\n",
    "eia_current_df = pd.read_excel(file_3, skiprows=6)\n",
    "eia_current_df = eia_current_df.copy()\n",
    "eia_current_df.columns\n",
    "eia_current_df.rename(columns={'Week ending':'Date'}, inplace= True)\n",
    "eia_current_df = eia_current_df[[\"Date\",'Mountain Region','Pacific Region']]\n"
   ]
  },
  {
   "cell_type": "code",
   "execution_count": null,
   "metadata": {},
   "outputs": [],
   "source": [
    "eia_current_df.head()"
   ]
  },
  {
   "cell_type": "code",
   "execution_count": null,
   "metadata": {},
   "outputs": [],
   "source": [
    "import pandas as pd\n",
    "import datetime as dt\n",
    "\n",
    "# Assuming your DataFrame is named eia_current_df\n",
    "\n",
    "# Convert 'Date' column to datetime format\n",
    "eia_current_df['Date'] = pd.to_datetime(eia_current_df['Date'], errors='coerce')\n",
    "\n",
    "# Filter the DataFrame for dates greater than or equal to '2023-01-06'\n",
    "eia_current_df = eia_current_df[eia_current_df[\"Date\"] >= dt.datetime(2023, 1, 6)]\n",
    "\n",
    "# Format the 'Date' column to 'year-month-day'\n",
    "eia_current_df['Date'] = eia_current_df['Date'].dt.strftime('%Y-%m-%d')\n",
    "\n",
    "# Now, assuming you have another DataFrame named eia_storage_data\n",
    "\n",
    "# Convert 'Date' column in eia_storage_data to datetime format\n",
    "eia_storage_data['date'] = pd.to_datetime(eia_storage_data['date'], errors='coerce')\n",
    "\n",
    "# Filter eia_storage_data based on the same date condition\n",
    "eia_storage_data = eia_storage_data[(eia_storage_data[\"date\"] >= dt.datetime(2023, 1, 6)) & (eia_storage_data[\"date\"] <= dt.datetime(2023, 12, 1)) ]\n",
    "\n",
    "# Display the updated DataFrames\n",
    "eia_storage_data\n"
   ]
  },
  {
   "cell_type": "code",
   "execution_count": null,
   "metadata": {},
   "outputs": [],
   "source": [
    "eia_current_df.tail(10)"
   ]
  },
  {
   "cell_type": "code",
   "execution_count": null,
   "metadata": {},
   "outputs": [],
   "source": [
    "eia_storage_data.tail()"
   ]
  },
  {
   "cell_type": "code",
   "execution_count": null,
   "metadata": {},
   "outputs": [],
   "source": [
    "eia_storage_data.dtypes"
   ]
  },
  {
   "cell_type": "code",
   "execution_count": null,
   "metadata": {},
   "outputs": [],
   "source": [
    "eia_current_df.dtypes"
   ]
  },
  {
   "cell_type": "code",
   "execution_count": null,
   "metadata": {},
   "outputs": [],
   "source": [
    "eia_current_df.reset_index(drop=True, inplace=True)\n",
    "eia_storage_data.reset_index(drop=True, inplace=True)\n",
    "us_df = pd.concat([eia_storage_data, eia_current_df], axis=1)\n",
    "us_df.columns"
   ]
  },
  {
   "cell_type": "code",
   "execution_count": null,
   "metadata": {},
   "outputs": [],
   "source": [
    "mountain_df = us_df[['date','Mountain 5 Year Average','Mountain 5 Year Max','Mountain 5 Year Min','Mountain Working Gas Last Year','Mountain Region']]\n",
    "mountain_df\n",
    "\n",
    "pacific_df = us_df[[\"date\",'Pacific 5 Year Average','Pacific 5 Year Max','Pacific 5 Year Min','Pacific Working Gas Last Year','Pacific Region']]\n",
    "pacific_df"
   ]
  },
  {
   "cell_type": "code",
   "execution_count": null,
   "metadata": {},
   "outputs": [],
   "source": [
    "import plotly.express as px\n",
    "import plotly.graph_objects as go\n",
    "\n",
    "# Create custom legend names\n",
    "legend_names = {\n",
    "    'Mountain 5 Year Average': '5 Year Average',\n",
    "    'Mountain 5 Year Max': '5 Year Maximum',\n",
    "    'Mountain 5 Year Min': '5 Year Minimum',\n",
    "    'Mountain Region': 'Current Period'\n",
    "}\n",
    "\n",
    "# Create the figure\n",
    "fig5 = px.line(mountain_df, x='date', y=['Mountain 5 Year Average', 'Mountain 5 Year Max', 'Mountain 5 Year Min', 'Mountain Region'],\n",
    "               title=\"Mountain Natural Gas Storage\",\n",
    "               facet_row_spacing=0.0, facet_col_spacing=0.0)\n",
    "\n",
    "# Update annotations to remove unwanted text\n",
    "fig5.for_each_annotation(lambda a: a.update(text=a.text.split(\"=\")[-1]))\n",
    "\n",
    "# Update y-axes to not have any shared scales\n",
    "fig5.update_yaxes(matches=None)\n",
    "\n",
    "# Update the layout with the dark template and center-aligned title\n",
    "fig5.update_layout(\n",
    "    template=\"plotly_dark\",\n",
    "    title_x=0.5,\n",
    "    height=600,\n",
    "    width=600,\n",
    "    legend_title_text=\"Legend\"\n",
    ")\n",
    "\n",
    "# Customize hovertemplate to show only the 'value'\n",
    "fig5.update_traces(hovertemplate='<b>Date</b>: %{x}<br>'\n",
    "                                '<b>Value </b>: %{y}<br>')\n",
    "\n",
    "# Update trace names with custom legend names\n",
    "for trace in fig5.data:\n",
    "    trace.name = legend_names.get(trace.name, '')\n",
    "\n",
    "# Update x-axis and y-axis titles\n",
    "fig5.update_xaxes(title_text=\"Date\")\n",
    "fig5.update_yaxes(title_text=\"BCF\")\n",
    "\n",
    "# Move the legend to the bottom\n",
    "fig5.update_layout(legend=dict(x=0, y=-0.2, orientation=\"h\"))\n",
    "\n",
    "# Change the color of the lines\n",
    "fig5.update_traces(selector=dict(name='5 Year Average'), line=dict(color='navy'))\n",
    "fig5.update_traces(selector=dict(name='5 Year Minimum'), line=dict(color='red'))\n",
    "fig5.update_traces(selector=dict(name='Current Period'), line=dict(color='blue'))\n",
    "fig5.update_traces(selector=dict(name='5 Year Maximum'), line=dict(color='green'))\n",
    "\n",
    "# # Show the plot\n",
    "fig5.show()\n"
   ]
  },
  {
   "cell_type": "code",
   "execution_count": null,
   "metadata": {},
   "outputs": [],
   "source": [
    "import plotly.express as px\n",
    "import plotly.graph_objects as go\n",
    "\n",
    "# Create custom legend names\n",
    "legend_names = {\n",
    "    'Pacific 5 Year Average': '5 Year Average',\n",
    "    'Pacific 5 Year Max': '5 Year Maximum',\n",
    "    'Pacific 5 Year Min': '5 Year Minimum',\n",
    "    'Pacific Region': 'Current Period'\n",
    "}\n",
    "\n",
    "# Create the figure\n",
    "fig6 = px.line(pacific_df, x='date', y=['Pacific 5 Year Average', 'Pacific 5 Year Max', 'Pacific 5 Year Min', 'Pacific Region'],\n",
    "               title=\"Pacific Natural Gas Storage\",\n",
    "               facet_row_spacing=0.0, facet_col_spacing=0.0)\n",
    "\n",
    "# Update annotations to remove unwanted text\n",
    "fig6.for_each_annotation(lambda a: a.update(text=a.text.split(\"=\")[-1]))\n",
    "\n",
    "# Update y-axes to not have any shared scales\n",
    "fig6.update_yaxes(matches=None)\n",
    "\n",
    "# Update the layout with the dark template and center-aligned title\n",
    "fig6.update_layout(\n",
    "    template=\"plotly_dark\",\n",
    "    title_x=0.5,\n",
    "    height=600,\n",
    "    width=600,\n",
    "    legend_title_text=\"Legend\"\n",
    ")\n",
    "\n",
    "# Customize hovertemplate to show only the 'value'\n",
    "fig6.update_traces(hovertemplate='<b>Date</b>: %{x}<br>'\n",
    "                                '<b>Value </b>: %{y}<br>')\n",
    "\n",
    "# Update trace names with custom legend names\n",
    "for trace in fig6.data:\n",
    "    trace.name = legend_names.get(trace.name, '')\n",
    "\n",
    "# Update x-axis and y-axis titles\n",
    "fig6.update_xaxes(title_text=\"Date\")\n",
    "fig6.update_yaxes(title_text=\"BCF\")\n",
    "\n",
    "# Move the legend to the bottom\n",
    "fig6.update_layout(legend=dict(x=0, y=-0.2, orientation=\"h\"))\n",
    "\n",
    "# Change the color of the lines\n",
    "fig6.update_traces(selector=dict(name='5 Year Average'), line=dict(color='navy'))\n",
    "fig6.update_traces(selector=dict(name='5 Year Minimum'), line=dict(color='red'))\n",
    "fig6.update_traces(selector=dict(name='Current Period'), line=dict(color='blue'))\n",
    "fig6.update_traces(selector=dict(name='5 Year Maximum'), line=dict(color='green'))\n",
    "\n",
    "# # Show the plot\n",
    "fig6.show()\n"
   ]
  },
  {
   "cell_type": "code",
   "execution_count": null,
   "metadata": {},
   "outputs": [],
   "source": [
    "import dash\n",
    "import dash_core_components as dcc\n",
    "import dash_html_components as html\n",
    "import dash_bootstrap_components as dbc\n",
    "from dash.dependencies import Input, Output\n",
    "from datetime import date\n",
    "\n",
    "\n",
    "# Define your Dash app\n",
    "app = dash.Dash(__name__, external_stylesheets=[dbc.themes.CYBORG])\n",
    "\n",
    "# Define your layout\n",
    "app.layout = dbc.Container([\n",
    "    dbc.Row([\n",
    "        dbc.Col([html.H1(\"Natural Gas Fundamental Dashboard\", style={'textAlign': 'center'})], width=12)]),\n",
    "    \n",
    "    dbc.Row([\n",
    "        dbc.Col([dcc.Graph(id=\"map\", figure=fig1)], width=12),\n",
    "        dbc.Col([\n",
    "            dcc.RadioItems(\n",
    "                id=\"figure-selector\",\n",
    "                options=[\n",
    "                    {'label': 'Western Canada Storage', 'value': 'fig4'},\n",
    "                    {'label': 'Alberta Storage', 'value': 'fig2'},\n",
    "                    {'label': 'BC Storage', 'value': 'fig3'},\n",
    "                    {'label': 'Pacific Storage', 'value': 'fig5'},\n",
    "                    {'label': 'Mountain Storage', 'value': 'fig6'},\n",
    "                    \n",
    "                    \n",
    "                ],\n",
    "                value='fig4'  # Default value when the app starts\n",
    "            ),\n",
    "            dcc.Graph(id=\"selected_figure\")\n",
    "        ], width=6)\n",
    "    ],\n",
    "            ),\n",
    "], \n",
    "                           style={'backgroundColor': 'black'})  # Set the background color to black\n",
    "\n",
    "# Define the callback to update the selected figure\n",
    "@app.callback(\n",
    "    Output(\"selected_figure\", \"figure\"),\n",
    "    Input(\"figure-selector\", \"value\")\n",
    ")\n",
    "def update_selected_figure(selected_value):\n",
    "    # You should define fig2, fig3, and fig4 here or import them from elsewhere\n",
    "    # For demonstration purposes, let's assume you have predefined these figures.\n",
    "    if selected_value == 'fig2':\n",
    "        return fig2\n",
    "    elif selected_value == 'fig3':\n",
    "        return fig3\n",
    "    elif selected_value == 'fig4':\n",
    "        return fig4\n",
    "    elif selected_value == 'fig5':\n",
    "        return fig5\n",
    "    elif selected_value == 'fig6':\n",
    "        return fig6\n",
    "    \n",
    "    else:\n",
    "        # Return a default figure or an empty one if none of the options match\n",
    "        return {}\n",
    "\n",
    "if __name__ == '__main__':\n",
    "    app.run_server(debug=True)\n"
   ]
  },
  {
   "cell_type": "code",
   "execution_count": null,
   "metadata": {},
   "outputs": [],
   "source": [
    "import plotly.express as px\n",
    "import plotly.graph_objects as go\n",
    "\n",
    "# Create custom legend names\n",
    "legend_names = {\n",
    "    'GJ': 'Current Period',\n",
    "    'Rolling_5_Year_Min': '5 Year Minimum',\n",
    "    'Rolling_5_Year_max': '5 Year Maximum',\n",
    "    'Avg_5_Year': '5 Year Average'    \n",
    "}\n",
    "\n",
    "# Create the figure\n",
    "fig2 = px.line(ab_df, x='Date', y=['GJ', 'Rolling_5_Year_Min', 'Rolling_5_Year_max','Avg_5_Year'], facet_row='Storage',\n",
    "               title=\"Alberta Natural Gas Storage\",\n",
    "               facet_row_spacing=0.0, facet_col_spacing=0.0, facet_col_wrap=3)\n",
    "\n",
    "# Update annotations to remove unwanted text\n",
    "fig2.for_each_annotation(lambda a: a.update(text=a.text.split(\"=\")[-1]))\n",
    "\n",
    "# Update y-axes to not have any shared scales\n",
    "fig2.update_yaxes(matches=None)\n",
    "\n",
    "# Update the layout with the dark template and center-aligned title\n",
    "fig2.update_layout(\n",
    "    template=\"plotly_dark\",\n",
    "    title_x=0.5,\n",
    "    height=600,\n",
    "    width=600,\n",
    "    legend_title_text=\"\"  # Change the legend title to \"Legend\"\n",
    ")\n",
    "\n",
    "# Customize hovertemplate to show only the 'value'\n",
    "fig2.update_traces(hovertemplate='<b>Date</b>: %{x}<br>'\n",
    "                                '<b>Value (GJ)</b>: %{y}<br>')\n",
    "\n",
    "# Update trace names with custom legend names\n",
    "for trace in fig2.data:\n",
    "    trace.name = legend_names.get(trace.name, '')\n",
    "\n",
    "# Update x-axis and y-axis titles\n",
    "# fig2.update_xaxes(title_text=\"Date\")\n",
    "fig2.update_yaxes(title_text=\"GJ\")\n",
    "\n",
    "# Move the legend to the bottom\n",
    "fig2.update_layout(legend=dict(x=0, y=-0.2, orientation=\"h\"))\n",
    "\n",
    "# Change the color of the \"5 Year Average\" line to pink\n",
    "\n",
    "fig2.update_traces(selector=dict(name='5 Year Average'), line=dict(color='navy'))\n",
    "fig2.update_traces(selector=dict(name='5 Year Minimum'), line=dict(color='red'))\n",
    "fig2.update_traces(selector=dict(name='GJ'), line=dict(color='blue'))\n",
    "fig2.update_traces(selector=dict(name='5 Year Maximum'), line=dict(color='green'))\n",
    "\n",
    "\n",
    "# Show the plot\n",
    "fig2.show()\n"
   ]
  },
  {
   "cell_type": "code",
   "execution_count": null,
   "metadata": {},
   "outputs": [],
   "source": [
    "import plotly.express as px\n",
    "import plotly.graph_objects as go\n",
    "\n",
    "# Create custom legend names\n",
    "legend_names = {\n",
    "    'GJ': 'Current Period',\n",
    "    'Rolling_5_Year_Min': '5 Year Minimum',\n",
    "    'Rolling_5_Year_max': '5 Year Maximum',\n",
    "    'Avg_5_Year': '5 Year Average'    \n",
    "}\n",
    "\n",
    "# Create the figure\n",
    "fig3 = px.line(bc_df, x='Date', y=['GJ', 'Rolling_5_Year_Min', 'Rolling_5_Year_max','Avg_5_Year'], facet_row='Storage',\n",
    "               title=\"British Columbia Natural Gas Storage\",\n",
    "               facet_row_spacing=0.0, facet_col_spacing=0.0, facet_col_wrap=3)\n",
    "\n",
    "# Update annotations to remove unwanted text\n",
    "fig3.for_each_annotation(lambda a: a.update(text=a.text.split(\"=\")[-1]))\n",
    "\n",
    "# Update y-axes to not have any shared scales\n",
    "fig3.update_yaxes(matches=None)\n",
    "\n",
    "# Update the layout with the dark template and center-aligned title\n",
    "fig3.update_layout(\n",
    "    template=\"plotly_dark\",\n",
    "    title_x=0.5,\n",
    "    height=600,\n",
    "    width=600,\n",
    "    legend_title_text=\"\"  # Change the legend title to \"Legend\"\n",
    ")\n",
    "\n",
    "# Customize hovertemplate to show only the 'value'\n",
    "fig3.update_traces(hovertemplate='<b>Date</b>: %{x}<br>'\n",
    "                                '<b>Value (GJ)</b>: %{y}<br>')\n",
    "\n",
    "# Update trace names with custom legend names\n",
    "for trace in fig3.data:\n",
    "    trace.name = legend_names.get(trace.name, '')\n",
    "\n",
    "# Update x-axis and y-axis titles\n",
    "# fig2.update_xaxes(title_text=\"Date\")\n",
    "fig3.update_yaxes(title_text=\"GJ\")\n",
    "\n",
    "# Move the legend to the bottom\n",
    "fig3.update_layout(legend=dict(x=0, y=-0.2, orientation=\"h\"))\n",
    "\n",
    "# Change the color of the \"5 Year Average\" line to pink\n",
    "\n",
    "fig3.update_traces(selector=dict(name='5 Year Average'), line=dict(color='navy'))\n",
    "fig3.update_traces(selector=dict(name='5 Year Minimum'), line=dict(color='red'))\n",
    "fig3.update_traces(selector=dict(name='GJ'), line=dict(color='blue'))\n",
    "fig3.update_traces(selector=dict(name='5 Year Maximum'), line=dict(color='green'))\n",
    "\n",
    "\n",
    "# Show the plot\n",
    "fig3.show()\n"
   ]
  },
  {
   "cell_type": "code",
   "execution_count": null,
   "metadata": {},
   "outputs": [],
   "source": [
    "import plotly.express as px\n",
    "import plotly.graph_objects as go\n",
    "\n",
    "# Create custom legend names\n",
    "legend_names = {\n",
    "    'GJ': 'Current Period',\n",
    "    'Rolling_5_Year_Min': '5 Year Minimum',\n",
    "    'Rolling_5_Year_max': '5 Year Maximum',\n",
    "    'Avg_5_Year': '5 Year Average'    \n",
    "}\n",
    "\n",
    "# Create the figure\n",
    "fig4 = px.line(df_western, x='Date', y=['GJ', 'Rolling_5_Year_Min', 'Rolling_5_Year_max','Avg_5_Year'], facet_row='Storage',\n",
    "               title=\"Western Canada Natural Gas Storage\",\n",
    "               facet_row_spacing=0.0, facet_col_spacing=0.0, facet_col_wrap=3)\n",
    "\n",
    "# Update annotations to remove unwanted text\n",
    "fig4.for_each_annotation(lambda a: a.update(text=a.text.split(\"=\")[-1]))\n",
    "\n",
    "# Update y-axes to not have any shared scales\n",
    "fig4.update_yaxes(matches=None)\n",
    "\n",
    "# Update the layout with the dark template and center-aligned title\n",
    "fig4.update_layout(\n",
    "    template=\"plotly_dark\",\n",
    "    title_x=0.5,\n",
    "    height=600,\n",
    "    width=600,\n",
    "    legend_title_text=\"\"  # Change the legend title to \"Legend\"\n",
    ")\n",
    "\n",
    "# Customize hovertemplate to show only the 'value'\n",
    "fig4.update_traces(hovertemplate='<b>Date</b>: %{x}<br>'\n",
    "                                '<b>Value (GJ)</b>: %{y}<br>')\n",
    "\n",
    "# Update trace names with custom legend names\n",
    "for trace in fig4.data:\n",
    "    trace.name = legend_names.get(trace.name, '')\n",
    "\n",
    "# Update x-axis and y-axis titles\n",
    "# fig2.update_xaxes(title_text=\"Date\")\n",
    "fig4.update_yaxes(title_text=\"GJ\")\n",
    "\n",
    "# Move the legend to the bottom\n",
    "fig4.update_layout(legend=dict(x=0, y=-0.2, orientation=\"h\"))\n",
    "\n",
    "# Change the color of the \"5 Year Average\" line to pink\n",
    "\n",
    "fig4.update_traces(selector=dict(name='5 Year Average'), line=dict(color='navy'))\n",
    "fig4.update_traces(selector=dict(name='5 Year Minimum'), line=dict(color='red'))\n",
    "fig4.update_traces(selector=dict(name='GJ'), line=dict(color='blue'))\n",
    "fig4.update_traces(selector=dict(name='5 Year Maximum'), line=dict(color='green'))\n",
    "\n",
    "\n",
    "# Show the plot\n",
    "fig4.show()\n"
   ]
  },
  {
   "cell_type": "code",
   "execution_count": null,
   "metadata": {},
   "outputs": [],
   "source": [
    "import plotly.express as px\n",
    "import plotly.graph_objects as go\n",
    "\n",
    "# Create custom legend names\n",
    "legend_names = {\n",
    "    'Mountain 5 Year Average': '5 Year Average',\n",
    "    'Mountain 5 Year Max': '5 Year Maximum',\n",
    "    'Mountain 5 Year Min': '5 Year Minimum',\n",
    "    'Mountain Region': 'Current Period'\n",
    "}\n",
    "\n",
    "# Create the figure\n",
    "fig5 = px.line(mountain_df, x='date', y=['Mountain 5 Year Average', 'Mountain 5 Year Max', 'Mountain 5 Year Min', 'Mountain Region'],\n",
    "               title=\"Mountain Natural Gas Storage\",\n",
    "               facet_row_spacing=0.0, facet_col_spacing=0.0)\n",
    "\n",
    "# Update annotations to remove unwanted text\n",
    "fig5.for_each_annotation(lambda a: a.update(text=a.text.split(\"=\")[-1]))\n",
    "\n",
    "# Update y-axes to not have any shared scales\n",
    "fig5.update_yaxes(matches=None)\n",
    "\n",
    "# Update the layout with the dark template and center-aligned title\n",
    "fig5.update_layout(\n",
    "    template=\"plotly_dark\",\n",
    "    title_x=0.5,\n",
    "    height=600,\n",
    "    width=600,\n",
    "    legend_title_text=\"Legend\"\n",
    ")\n",
    "\n",
    "# Customize hovertemplate to show only the 'value'\n",
    "fig5.update_traces(hovertemplate='<b>Date</b>: %{x}<br>'\n",
    "                                '<b>Value (BCF)</b>: %{y}<br>')\n",
    "\n",
    "# Update trace names with custom legend names\n",
    "for trace in fig5.data:\n",
    "    trace.name = legend_names.get(trace.name, '')\n",
    "\n",
    "# Update x-axis and y-axis titles\n",
    "fig5.update_xaxes(title_text=\"Date\")\n",
    "fig5.update_yaxes(title_text=\"BCF\")\n",
    "\n",
    "# Move the legend to the bottom\n",
    "fig5.update_layout(legend=dict(x=0, y=-0.2, orientation=\"h\"))\n",
    "\n",
    "# Change the color of the lines\n",
    "fig5.update_traces(selector=dict(name='5 Year Average'), line=dict(color='navy'))\n",
    "fig5.update_traces(selector=dict(name='5 Year Minimum'), line=dict(color='red'))\n",
    "fig5.update_traces(selector=dict(name='Current Period'), line=dict(color='blue'))\n",
    "fig5.update_traces(selector=dict(name='5 Year Maximum'), line=dict(color='green'))\n",
    "\n",
    "# # Show the plot\n",
    "fig5.show()\n"
   ]
  },
  {
   "cell_type": "code",
   "execution_count": null,
   "metadata": {},
   "outputs": [],
   "source": [
    "import plotly.express as px\n",
    "import plotly.graph_objects as go\n",
    "\n",
    "# Create custom legend names\n",
    "legend_names = {\n",
    "    'Pacific 5 Year Average': '5 Year Average',\n",
    "    'Pacific 5 Year Max': '5 Year Maximum',\n",
    "    'Pacific 5 Year Min': '5 Year Minimum',\n",
    "    'Pacific Region': 'Current Period'\n",
    "}\n",
    "\n",
    "# Create the figure\n",
    "fig6 = px.line(pacific_df, x='date', y=['Pacific 5 Year Average', 'Pacific 5 Year Max', 'Pacific 5 Year Min', 'Pacific Region'],\n",
    "               title=\"Pacific Natural Gas Storage\",\n",
    "               facet_row_spacing=0.0, facet_col_spacing=0.0)\n",
    "\n",
    "# Update annotations to remove unwanted text\n",
    "fig6.for_each_annotation(lambda a: a.update(text=a.text.split(\"=\")[-1]))\n",
    "\n",
    "# Update y-axes to not have any shared scales\n",
    "fig6.update_yaxes(matches=None)\n",
    "\n",
    "# Update the layout with the dark template and center-aligned title\n",
    "fig6.update_layout(\n",
    "    template=\"plotly_dark\",\n",
    "    title_x=0.5,\n",
    "    height=600,\n",
    "    width=600,\n",
    "    legend_title_text=\"Legend\"\n",
    ")\n",
    "\n",
    "# Customize hovertemplate to show only the 'value'\n",
    "fig6.update_traces(hovertemplate='<b>Date</b>: %{x}<br>'\n",
    "                                '<b>Value (BCF)</b>: %{y}<br>')\n",
    "\n",
    "# Update trace names with custom legend names\n",
    "for trace in fig6.data:\n",
    "    trace.name = legend_names.get(trace.name, '')\n",
    "\n",
    "# Update x-axis and y-axis titles\n",
    "fig6.update_xaxes(title_text=\"Date\")\n",
    "fig6.update_yaxes(title_text=\"BCF\")\n",
    "\n",
    "# Move the legend to the bottom\n",
    "fig6.update_layout(legend=dict(x=0, y=-0.2, orientation=\"h\"))\n",
    "\n",
    "# Change the color of the lines\n",
    "fig6.update_traces(selector=dict(name='5 Year Average'), line=dict(color='navy'))\n",
    "fig6.update_traces(selector=dict(name='5 Year Minimum'), line=dict(color='red'))\n",
    "fig6.update_traces(selector=dict(name='Current Period'), line=dict(color='blue'))\n",
    "fig6.update_traces(selector=dict(name='5 Year Maximum'), line=dict(color='green'))\n",
    "\n",
    "# # Show the plot\n",
    "fig6.show()\n"
   ]
  },
  {
   "cell_type": "code",
   "execution_count": null,
   "metadata": {},
   "outputs": [],
   "source": [
    "import dash\n",
    "import dash_core_components as dcc\n",
    "import dash_html_components as html\n",
    "import dash_bootstrap_components as dbc\n",
    "from dash.dependencies import Input, Output\n",
    "from datetime import date\n",
    "\n",
    "\n",
    "# Define your Dash app\n",
    "app = dash.Dash(__name__, external_stylesheets=[dbc.themes.CYBORG])\n",
    "\n",
    "# Define your layout\n",
    "app.layout = dbc.Container([\n",
    "    dbc.Row([\n",
    "        dbc.Col([html.H1(\"Natural Gas Fundamental Dashboard\", style={'textAlign': 'center'})], width=12)]),\n",
    "    \n",
    "    dbc.Row([\n",
    "        dbc.Col([dcc.Graph(id=\"map\", figure=fig1)], width=12),\n",
    "        dbc.Col([\n",
    "            dcc.RadioItems(\n",
    "                id=\"figure-selector\",\n",
    "                options=[\n",
    "                    {'label': 'Western Canada Storage', 'value': 'fig4'},\n",
    "                    {'label': 'Alberta Storage', 'value': 'fig2'},\n",
    "                    {'label': 'BC Storage', 'value': 'fig3'},\n",
    "                    {'label': 'Pacific Storage', 'value': 'fig5'},\n",
    "                    {'label': 'Mountain Storage', 'value': 'fig6'},\n",
    "                    \n",
    "                    \n",
    "                ],\n",
    "                value='fig4'  # Default value when the app starts\n",
    "            ),\n",
    "            dcc.Graph(id=\"selected_figure\")\n",
    "        ], width=6)\n",
    "    ],\n",
    "            ),\n",
    "], \n",
    "                           style={'backgroundColor': 'black'})  # Set the background color to black\n",
    "\n",
    "# Define the callback to update the selected figure\n",
    "@app.callback(\n",
    "    Output(\"selected_figure\", \"figure\"),\n",
    "    Input(\"figure-selector\", \"value\")\n",
    ")\n",
    "def update_selected_figure(selected_value):\n",
    "    # You should define fig2, fig3, and fig4 here or import them from elsewhere\n",
    "    # For demonstration purposes, let's assume you have predefined these figures.\n",
    "    if selected_value == 'fig2':\n",
    "        return fig2\n",
    "    elif selected_value == 'fig3':\n",
    "        return fig3\n",
    "    elif selected_value == 'fig4':\n",
    "        return fig4\n",
    "    elif selected_value == 'fig5':\n",
    "        return fig5\n",
    "    elif selected_value == 'fig6':\n",
    "        return fig6\n",
    "    \n",
    "    else:\n",
    "        # Return a default figure or an empty one if none of the options match\n",
    "        return {}\n",
    "\n",
    "if __name__ == '__main__':\n",
    "    app.run_server(debug=True)\n"
   ]
  },
  {
   "cell_type": "code",
   "execution_count": null,
   "metadata": {},
   "outputs": [],
   "source": []
  }
 ],
 "metadata": {
  "kernelspec": {
   "display_name": "base",
   "language": "python",
   "name": "python3"
  },
  "language_info": {
   "codemirror_mode": {
    "name": "ipython",
    "version": 3
   },
   "file_extension": ".py",
   "mimetype": "text/x-python",
   "name": "python",
   "nbconvert_exporter": "python",
   "pygments_lexer": "ipython3",
   "version": "3.11.5"
  }
 },
 "nbformat": 4,
 "nbformat_minor": 2
}
